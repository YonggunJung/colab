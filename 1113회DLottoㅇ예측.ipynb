{
  "cells": [
    {
      "cell_type": "markdown",
      "metadata": {
        "id": "view-in-github",
        "colab_type": "text"
      },
      "source": [
        "<a href=\"https://colab.research.google.com/github/YonggunJung/colab/blob/main/1113%ED%9A%8CDLotto%E3%85%87%EC%98%88%EC%B8%A1.ipynb\" target=\"_parent\"><img src=\"https://colab.research.google.com/assets/colab-badge.svg\" alt=\"Open In Colab\"/></a>"
      ]
    },
    {
      "cell_type": "code",
      "execution_count": 1,
      "metadata": {
        "colab": {
          "base_uri": "https://localhost:8080/"
        },
        "id": "EV0N-8-1wfGo",
        "outputId": "7c673677-0ca0-40a3-c373-86f714f0f7f2"
      },
      "outputs": [
        {
          "output_type": "stream",
          "name": "stdout",
          "text": [
            "Mounted at /content/drive\n"
          ]
        }
      ],
      "source": [
        "from google.colab import drive\n",
        "drive.mount('/content/drive')"
      ]
    },
    {
      "cell_type": "code",
      "execution_count": 2,
      "metadata": {
        "id": "6OK4eW92wov0"
      },
      "outputs": [],
      "source": [
        "import pandas as pd\n",
        "import numpy as np\n",
        "import warnings\n",
        "warnings.filterwarnings('ignore')"
      ]
    },
    {
      "cell_type": "code",
      "execution_count": 3,
      "metadata": {
        "colab": {
          "base_uri": "https://localhost:8080/"
        },
        "id": "227wJo0xYVaV",
        "outputId": "9655272a-6490-4f42-87d7-1471be6856e4"
      },
      "outputs": [
        {
          "output_type": "execute_result",
          "data": {
            "text/plain": [
              "array([[ 4.,  7., 17., 18., 38., 44.],\n",
              "       [ 8., 12., 13., 29., 33., 42.],\n",
              "       [ 3.,  7., 14., 15., 22., 38.],\n",
              "       ...,\n",
              "       [ 3.,  7., 11., 20., 22., 41.],\n",
              "       [ 3., 13.,  3., 33., 43., 45.],\n",
              "       [16., 20., 26., 36., 42., 44.]])"
            ]
          },
          "metadata": {},
          "execution_count": 3
        }
      ],
      "source": [
        "win = np.loadtxt('/content/drive/MyDrive/Colab Notebooks/로또/data/jlotto.csv', delimiter = ',')\n",
        "win"
      ]
    },
    {
      "cell_type": "code",
      "execution_count": 4,
      "metadata": {
        "id": "GS0NAmQGw74-"
      },
      "outputs": [],
      "source": [
        "xn = len(win)"
      ]
    },
    {
      "cell_type": "code",
      "execution_count": 5,
      "metadata": {
        "id": "gG4RnEQzhKPx"
      },
      "outputs": [],
      "source": [
        "# 숫자를 원핫 인코딩으로 변환\n",
        "def n2o(numbers):\n",
        "\n",
        "  oh = np.zeros(45)  # 45개의 빈 칸 만들기\n",
        "\n",
        "  for i in range(6):            # 6개의 당첨번호를 반복\n",
        "      oh[int(numbers[i])-1] = 1   # 번호는 1부터 시작하고 인덱스는 0부터 시작하니 1을 빼줌\n",
        "\n",
        "  return oh\n",
        "\n",
        "# 원핫 인코딩을 숫자로 변환\n",
        "def o2n(oh):\n",
        "\n",
        "  numbers = []\n",
        "\n",
        "  for i in range(len(oh)):\n",
        "    if oh[i] == 1:           # oh[i]이 1 이면 해당 번호를 출력\n",
        "      numbers.append(i+1)    # 인덱스 보다 숫자가 1크니까 1더해줌 출력\n",
        "\n",
        "  return numbers"
      ]
    },
    {
      "cell_type": "code",
      "execution_count": 6,
      "metadata": {
        "colab": {
          "base_uri": "https://localhost:8080/"
        },
        "id": "XCSHMDUUvRZf",
        "outputId": "3442925d-e13a-4f87-b557-52793902067d"
      },
      "outputs": [
        {
          "output_type": "stream",
          "name": "stdout",
          "text": [
            "ohs\n",
            "x[0] :[0. 0. 0. 1. 0. 0. 1. 0. 0. 0. 0. 0. 0. 0. 0. 0. 1. 1. 0. 0. 0. 0. 0. 0.\n",
            " 0. 0. 0. 0. 0. 0. 0. 0. 0. 0. 0. 0. 0. 1. 0. 0. 0. 0. 0. 1. 0.]\n",
            "y[0] :[0. 0. 0. 0. 0. 0. 0. 1. 0. 0. 0. 1. 1. 0. 0. 0. 0. 0. 0. 0. 0. 0. 0. 0.\n",
            " 0. 0. 0. 0. 1. 0. 0. 0. 1. 0. 0. 0. 0. 0. 0. 0. 0. 1. 0. 0. 0.]\n",
            "numbers\n",
            "x[0] :[4, 7, 17, 18, 38, 44]\n",
            "y[0] :[8, 12, 13, 29, 33, 42]\n"
          ]
        }
      ],
      "source": [
        "numbers = win[: , :]  # 이게 문제라서 못 하겠음ㅠ 데이터 프레임이 문제인가?\n",
        "                      # 데이터 프레임으로 안열고 넘파이 텍스트 파일로 가져오니 됨\n",
        "ohs = list(map(n2o, numbers))\n",
        "\n",
        "xs = ohs[0:xn -1]\n",
        "ys = ohs[1:xn]\n",
        "\n",
        "# 원핫 인코딩 확인\n",
        "print('ohs')\n",
        "print('x[0] :' + str(xs[0]))\n",
        "print('y[0] :' + str(ys[0]))\n",
        "\n",
        "# 번호 확인\n",
        "print('numbers')\n",
        "print('x[0] :' + str(o2n(xs[0])))\n",
        "print('y[0] :' + str(o2n(ys[0])))"
      ]
    },
    {
      "cell_type": "code",
      "execution_count": 7,
      "metadata": {
        "colab": {
          "base_uri": "https://localhost:8080/"
        },
        "id": "8WuoR8jggg2_",
        "outputId": "e053f1ca-44e1-4102-d40c-0f1c695c297f"
      },
      "outputs": [
        {
          "output_type": "stream",
          "name": "stdout",
          "text": [
            "train : (0, 667), val : (667, 889), test : (889, 1112)\n"
          ]
        }
      ],
      "source": [
        "train = (0, int(len(win)*0.6))\n",
        "val = (int(len(win)*0.6), int(len(win)*0.8))\n",
        "test = (int(len(win)*0.8), len(win))\n",
        "\n",
        "print('train : {0}, val : {1}, test : {2}'.format(train, val, test))"
      ]
    },
    {
      "cell_type": "code",
      "execution_count": 8,
      "metadata": {
        "id": "VNx80jYjgg0y"
      },
      "outputs": [],
      "source": [
        "import tensorflow as tf\n",
        "from tensorflow import keras\n",
        "from tensorflow.keras import layers\n",
        "from tensorflow.keras import models\n",
        "\n",
        "# 모델 정의\n",
        "model = keras.Sequential([\n",
        "    keras.layers.LSTM(128, batch_input_shape = (1, 1, 45),\n",
        "                      return_sequences = False,\n",
        "                      stateful = True),\n",
        "    keras.layers.Dense(45, activation = 'sigmoid')\n",
        "])\n",
        "\n",
        "# 모델 컴파일\n",
        "model.compile(loss = 'binary_crossentropy', optimizer = 'adam', metrics = ['accuracy'])"
      ]
    },
    {
      "cell_type": "code",
      "execution_count": 9,
      "metadata": {
        "colab": {
          "base_uri": "https://localhost:8080/"
        },
        "id": "psqZd4_Nggyf",
        "outputId": "6648fa2c-5af8-42c9-884c-68815f8aed48"
      },
      "outputs": [
        {
          "output_type": "stream",
          "name": "stdout",
          "text": [
            "epoch   0, acc 0.016, loss  0.410, val_acc 0.000, val_loss 0.400\n",
            "epoch   1, acc 0.022, loss  0.396, val_acc 0.000, val_loss 0.400\n",
            "epoch   2, acc 0.028, loss  0.394, val_acc 0.000, val_loss 0.400\n",
            "epoch   3, acc 0.028, loss  0.391, val_acc 0.009, val_loss 0.400\n",
            "epoch   4, acc 0.036, loss  0.387, val_acc 0.018, val_loss 0.402\n",
            "epoch   5, acc 0.045, loss  0.382, val_acc 0.023, val_loss 0.405\n",
            "epoch   6, acc 0.051, loss  0.376, val_acc 0.027, val_loss 0.409\n",
            "epoch   7, acc 0.054, loss  0.369, val_acc 0.023, val_loss 0.414\n",
            "epoch   8, acc 0.063, loss  0.362, val_acc 0.027, val_loss 0.419\n",
            "epoch   9, acc 0.070, loss  0.355, val_acc 0.027, val_loss 0.424\n",
            "epoch  10, acc 0.078, loss  0.347, val_acc 0.023, val_loss 0.428\n",
            "epoch  11, acc 0.088, loss  0.340, val_acc 0.023, val_loss 0.433\n",
            "epoch  12, acc 0.099, loss  0.331, val_acc 0.027, val_loss 0.437\n",
            "epoch  13, acc 0.109, loss  0.322, val_acc 0.014, val_loss 0.442\n",
            "epoch  14, acc 0.115, loss  0.312, val_acc 0.014, val_loss 0.447\n",
            "epoch  15, acc 0.130, loss  0.302, val_acc 0.014, val_loss 0.453\n",
            "epoch  16, acc 0.147, loss  0.291, val_acc 0.023, val_loss 0.460\n",
            "epoch  17, acc 0.157, loss  0.280, val_acc 0.023, val_loss 0.466\n",
            "epoch  18, acc 0.162, loss  0.269, val_acc 0.027, val_loss 0.473\n",
            "epoch  19, acc 0.160, loss  0.259, val_acc 0.018, val_loss 0.482\n",
            "epoch  20, acc 0.168, loss  0.247, val_acc 0.032, val_loss 0.490\n",
            "epoch  21, acc 0.148, loss  0.235, val_acc 0.023, val_loss 0.500\n",
            "epoch  22, acc 0.153, loss  0.224, val_acc 0.018, val_loss 0.511\n",
            "epoch  23, acc 0.172, loss  0.212, val_acc 0.018, val_loss 0.522\n",
            "epoch  24, acc 0.169, loss  0.201, val_acc 0.018, val_loss 0.534\n",
            "epoch  25, acc 0.174, loss  0.190, val_acc 0.014, val_loss 0.546\n",
            "epoch  26, acc 0.183, loss  0.180, val_acc 0.018, val_loss 0.557\n",
            "epoch  27, acc 0.189, loss  0.170, val_acc 0.023, val_loss 0.568\n",
            "epoch  28, acc 0.177, loss  0.163, val_acc 0.009, val_loss 0.577\n",
            "epoch  29, acc 0.180, loss  0.155, val_acc 0.014, val_loss 0.589\n",
            "epoch  30, acc 0.175, loss  0.147, val_acc 0.018, val_loss 0.604\n",
            "epoch  31, acc 0.168, loss  0.140, val_acc 0.018, val_loss 0.616\n",
            "epoch  32, acc 0.168, loss  0.131, val_acc 0.027, val_loss 0.626\n",
            "epoch  33, acc 0.174, loss  0.125, val_acc 0.009, val_loss 0.637\n",
            "epoch  34, acc 0.171, loss  0.120, val_acc 0.023, val_loss 0.647\n",
            "epoch  35, acc 0.163, loss  0.111, val_acc 0.023, val_loss 0.659\n",
            "epoch  36, acc 0.180, loss  0.103, val_acc 0.023, val_loss 0.667\n",
            "epoch  37, acc 0.174, loss  0.101, val_acc 0.023, val_loss 0.677\n",
            "epoch  38, acc 0.160, loss  0.095, val_acc 0.027, val_loss 0.690\n",
            "epoch  39, acc 0.156, loss  0.089, val_acc 0.014, val_loss 0.703\n",
            "epoch  40, acc 0.186, loss  0.086, val_acc 0.032, val_loss 0.708\n",
            "epoch  41, acc 0.174, loss  0.077, val_acc 0.027, val_loss 0.724\n",
            "epoch  42, acc 0.166, loss  0.078, val_acc 0.023, val_loss 0.736\n",
            "epoch  43, acc 0.157, loss  0.072, val_acc 0.018, val_loss 0.752\n",
            "epoch  44, acc 0.177, loss  0.070, val_acc 0.023, val_loss 0.756\n",
            "epoch  45, acc 0.177, loss  0.069, val_acc 0.032, val_loss 0.759\n",
            "epoch  46, acc 0.165, loss  0.059, val_acc 0.023, val_loss 0.777\n",
            "epoch  47, acc 0.156, loss  0.057, val_acc 0.032, val_loss 0.794\n",
            "epoch  48, acc 0.148, loss  0.052, val_acc 0.032, val_loss 0.809\n",
            "epoch  49, acc 0.165, loss  0.051, val_acc 0.036, val_loss 0.822\n",
            "epoch  50, acc 0.147, loss  0.053, val_acc 0.018, val_loss 0.819\n"
          ]
        }
      ],
      "source": [
        "# 매 에포크마다 훈련과 검증의 손실 및 정확도를 기록하기 위한 변수\n",
        "train_loss = []\n",
        "train_acc = []\n",
        "val_loss = []\n",
        "val_acc = []\n",
        "\n",
        "# 최대 100번 에포크까지 수행\n",
        "for epoch in range(51):\n",
        "    model.reset_states()  # 중요! 매 에포크마다 1회부터 다시 훈련하므로 상태 초기화 필요\n",
        "\n",
        "    batch_train_loss = []\n",
        "    batch_train_acc = []\n",
        "\n",
        "    for i in range(train[0], train[1]):\n",
        "\n",
        "        xss = xs[i].reshape(1, 1, 45)\n",
        "        yss = ys[i].reshape(1, 45)\n",
        "\n",
        "        loss, acc = model.train_on_batch(xss, yss) # 배치만큼 모델에 학습\n",
        "\n",
        "        batch_train_loss.append(loss)\n",
        "        batch_train_acc.append(acc)\n",
        "\n",
        "    train_loss.append(np.mean(batch_train_loss))\n",
        "    train_acc.append(np.mean(batch_train_acc))\n",
        "\n",
        "    batch_val_loss = []\n",
        "    batch_val_acc = []\n",
        "\n",
        "    for i in range(val[0], val[1]):\n",
        "\n",
        "        xss = xs[i].reshape(1, 1, 45)\n",
        "        yss = ys[i].reshape(1, 45)\n",
        "\n",
        "        loss, acc = model.test_on_batch(xss, yss) # 배치만큼 모델에 입력하여 나온 결과를 정답과 비교함\n",
        "\n",
        "        batch_val_loss.append(loss)\n",
        "        batch_val_acc.append(acc)\n",
        "\n",
        "    val_loss.append(np.mean(batch_val_loss))\n",
        "    val_acc.append(np.mean(batch_val_acc))\n",
        "\n",
        "    print('epoch{0:4d}, acc {1:0.3f}, loss {2: 0.3f}, val_acc {3:0.3f}, val_loss {4:0.3f}'.format(epoch,\n",
        "                                                                                                  np.mean(batch_train_acc),\n",
        "                                                                                                  np.mean(batch_train_loss),\n",
        "                                                                                                  np.mean(batch_val_acc),\n",
        "                                                                                                  np.mean(batch_val_loss)))"
      ]
    },
    {
      "cell_type": "code",
      "execution_count": 10,
      "metadata": {
        "id": "bshpyH52ggwS",
        "colab": {
          "base_uri": "https://localhost:8080/",
          "height": 449
        },
        "outputId": "e227f7a2-2256-4f33-c2b2-2acd126df8bd"
      },
      "outputs": [
        {
          "output_type": "display_data",
          "data": {
            "text/plain": [
              "<Figure size 640x480 with 2 Axes>"
            ],
            "image/png": "[encoded data removed]"
          },
          "metadata": {}
        }
      ],
      "source": [
        "%matplotlib inline\n",
        "import matplotlib.pyplot as plt\n",
        "\n",
        "fig, loss_ax = plt.subplots()\n",
        "\n",
        "acc_ax = loss_ax.twinx()\n",
        "\n",
        "loss_ax.plot(train_loss, 'y', label = 'train loss')\n",
        "loss_ax.plot(val_loss, 'r', label = 'val loss')\n",
        "\n",
        "acc_ax.plot(train_acc, 'b', label = 'train acc')\n",
        "acc_ax.plot(val_acc, 'g', label = 'val acc')\n",
        "\n",
        "loss_ax.set_xlabel('epoch')\n",
        "loss_ax.set_ylabel('epoch')\n",
        "acc_ax.set_ylabel('accracy')\n",
        "\n",
        "loss_ax.legend(loc = 'upper left')\n",
        "acc_ax.legend(loc = 'lower left')\n",
        "\n",
        "plt.show()\n",
        "# 이미 학습은 의미가 없다는 결론이 나옴"
      ]
    },
    {
      "cell_type": "code",
      "execution_count": 11,
      "metadata": {
        "colab": {
          "base_uri": "https://localhost:8080/"
        },
        "id": "mTiXpDcjx_As",
        "outputId": "b859d64f-dc63-4db5-ad07-2b2523364fa3"
      },
      "outputs": [
        {
          "output_type": "stream",
          "name": "stdout",
          "text": [
            "epoch   0, acc 0.080, loss  0.031\n",
            "epoch   1, acc 0.070, loss  0.019\n",
            "epoch   2, acc 0.067, loss  0.014\n",
            "epoch   3, acc 0.066, loss  0.011\n",
            "epoch   4, acc 0.065, loss  0.009\n",
            "epoch   5, acc 0.064, loss  0.008\n",
            "epoch   6, acc 0.062, loss  0.007\n",
            "epoch   7, acc 0.061, loss  0.006\n",
            "epoch   8, acc 0.059, loss  0.005\n",
            "epoch   9, acc 0.057, loss  0.005\n",
            "epoch  10, acc 0.056, loss  0.004\n",
            "epoch  11, acc 0.054, loss  0.004\n",
            "epoch  12, acc 0.052, loss  0.004\n",
            "epoch  13, acc 0.050, loss  0.003\n",
            "epoch  14, acc 0.049, loss  0.003\n",
            "epoch  15, acc 0.048, loss  0.003\n",
            "epoch  16, acc 0.047, loss  0.003\n",
            "epoch  17, acc 0.046, loss  0.003\n",
            "epoch  18, acc 0.045, loss  0.003\n",
            "epoch  19, acc 0.044, loss  0.002\n",
            "epoch  20, acc 0.043, loss  0.002\n",
            "epoch  21, acc 0.042, loss  0.002\n",
            "epoch  22, acc 0.041, loss  0.002\n",
            "epoch  23, acc 0.040, loss  0.002\n",
            "epoch  24, acc 0.039, loss  0.002\n",
            "epoch  25, acc 0.039, loss  0.002\n",
            "epoch  26, acc 0.038, loss  0.002\n",
            "epoch  27, acc 0.037, loss  0.002\n",
            "epoch  28, acc 0.037, loss  0.002\n",
            "epoch  29, acc 0.036, loss  0.002\n",
            "epoch  30, acc 0.036, loss  0.002\n",
            "epoch  31, acc 0.035, loss  0.002\n",
            "epoch  32, acc 0.035, loss  0.001\n",
            "epoch  33, acc 0.034, loss  0.001\n",
            "epoch  34, acc 0.034, loss  0.001\n",
            "epoch  35, acc 0.033, loss  0.001\n",
            "epoch  36, acc 0.033, loss  0.001\n",
            "epoch  37, acc 0.033, loss  0.001\n",
            "epoch  38, acc 0.032, loss  0.001\n",
            "epoch  39, acc 0.032, loss  0.001\n",
            "epoch  40, acc 0.032, loss  0.001\n",
            "epoch  41, acc 0.031, loss  0.001\n",
            "epoch  42, acc 0.031, loss  0.001\n",
            "epoch  43, acc 0.031, loss  0.001\n",
            "epoch  44, acc 0.031, loss  0.001\n",
            "epoch  45, acc 0.030, loss  0.001\n",
            "epoch  46, acc 0.030, loss  0.001\n",
            "epoch  47, acc 0.030, loss  0.001\n",
            "epoch  48, acc 0.030, loss  0.001\n",
            "epoch  49, acc 0.029, loss  0.001\n",
            "epoch  50, acc 0.029, loss  0.001\n"
          ]
        }
      ],
      "source": [
        "# 모든 데이터를 학습용으로 사용\n",
        "for epoch in range(51):\n",
        "\n",
        "    model.reset_states()  # 중요! 매 에포크마다 1회부터 다시 훈련하므로 상태 초기화 필요\n",
        "\n",
        "    for i in range(len(xs)):\n",
        "\n",
        "      xss = xs[i].reshape(1, 1, 45)\n",
        "      yss - ys[i].reshape(1, 45)\n",
        "\n",
        "      loss, acc = model.train_on_batch(xss, yss) # 배치만큼 모델에 학습\n",
        "\n",
        "      batch_train_loss.append(loss)\n",
        "      batch_train_acc.append(acc)\n",
        "\n",
        "    train_loss.append(np.mean(batch_train_loss))\n",
        "    train_acc.append(np.mean(batch_train_acc))\n",
        "\n",
        "    print('epoch{0:4d}, acc {1:0.3f}, loss {2: 0.3f}'.format(epoch,\n",
        "                                                            np.mean(batch_train_acc),\n",
        "                                                            np.mean(batch_train_loss)\n",
        "                                                            ))\n",
        "\n"
      ]
    },
    {
      "cell_type": "code",
      "execution_count": 12,
      "metadata": {
        "colab": {
          "base_uri": "https://localhost:8080/"
        },
        "id": "ekjo8MBdx--s",
        "outputId": "042d21b0-79c1-49f6-faea-bcf9dc566550"
      },
      "outputs": [
        {
          "output_type": "stream",
          "name": "stdout",
          "text": [
            "receive numbers\n"
          ]
        },
        {
          "output_type": "execute_result",
          "data": {
            "text/plain": [
              "[[35, 36, 37, 41, 44, 45]]"
            ]
          },
          "metadata": {},
          "execution_count": 12
        }
      ],
      "source": [
        "# 다음회 예측\n",
        "\n",
        "print('receive numbers')\n",
        "\n",
        "xss = xs[-1].reshape(1, 1, 45)\n",
        "\n",
        "pred = model.predict_on_batch(xss)\n",
        "pred\n",
        "\n",
        "luck = list(map(o2n, pred))\n",
        "luck\n",
        "\n",
        "# list_number = []\n",
        "\n",
        "# for n in range(6):\n",
        "#   numbers =pred\n",
        "  # numbers.sort()\n",
        "  # print('{0} : {1}'.format(n, numbers))\n",
        "  # list_numbers.append(numbers)"
      ]
    },
    {
      "cell_type": "code",
      "execution_count": 12,
      "metadata": {
        "id": "67xyP3Kf3WvN"
      },
      "outputs": [],
      "source": []
    }
  ],
  "metadata": {
    "accelerator": "GPU",
    "colab": {
      "gpuType": "T4",
      "provenance": [],
      "authorship_tag": "ABX9TyO2HDSf7B4UHto2hmDPiNrU",
      "include_colab_link": true
    },
    "kernelspec": {
      "display_name": "Python 3",
      "name": "python3"
    },
    "language_info": {
      "name": "python"
    }
  },
  "nbformat": 4,
  "nbformat_minor": 0
}