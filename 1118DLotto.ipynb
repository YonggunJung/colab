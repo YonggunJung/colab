{
  "cells": [
    {
      "cell_type": "markdown",
      "metadata": {
        "id": "view-in-github",
        "colab_type": "text"
      },
      "source": [
        "<a href=\"https://colab.research.google.com/github/YonggunJung/colab/blob/main/1118DLotto.ipynb\" target=\"_parent\"><img src=\"https://colab.research.google.com/assets/colab-badge.svg\" alt=\"Open In Colab\"/></a>"
      ]
    },
    {
      "cell_type": "code",
      "execution_count": null,
      "metadata": {
        "colab": {
          "base_uri": "https://localhost:8080/"
        },
        "id": "EV0N-8-1wfGo",
        "outputId": "107f8fab-6031-4c38-f35b-be0e66a2cfca"
      },
      "outputs": [
        {
          "output_type": "stream",
          "name": "stdout",
          "text": [
            "Mounted at /content/drive\n"
          ]
        }
      ],
      "source": [
        "from google.colab import drive\n",
        "drive.mount('/content/drive')"
      ]
    },
    {
      "cell_type": "code",
      "execution_count": null,
      "metadata": {
        "id": "6OK4eW92wov0"
      },
      "outputs": [],
      "source": [
        "import pandas as pd\n",
        "import numpy as np\n",
        "import warnings\n",
        "warnings.filterwarnings('ignore')"
      ]
    },
    {
      "cell_type": "code",
      "execution_count": null,
      "metadata": {
        "colab": {
          "base_uri": "https://localhost:8080/"
        },
        "id": "227wJo0xYVaV",
        "outputId": "8daf59b5-519a-49b7-d50b-a6b8a7f53090"
      },
      "outputs": [
        {
          "output_type": "execute_result",
          "data": {
            "text/plain": [
              "array([[ 4.,  7., 17., 18., 38., 44.],\n",
              "       [ 8., 12., 13., 29., 33., 42.],\n",
              "       [ 3.,  7., 14., 15., 22., 38.],\n",
              "       ...,\n",
              "       [ 7., 12., 23., 32., 34., 36.],\n",
              "       [15., 16., 17., 25., 30., 31.],\n",
              "       [ 3.,  4.,  9., 30., 33., 36.]])"
            ]
          },
          "metadata": {},
          "execution_count": 3
        }
      ],
      "source": [
        "win = np.loadtxt('/content/drive/MyDrive/Colab Notebooks/로또/data/jlotto.csv', delimiter = ',')\n",
        "win"
      ]
    },
    {
      "cell_type": "code",
      "execution_count": null,
      "metadata": {
        "id": "GS0NAmQGw74-"
      },
      "outputs": [],
      "source": [
        "xn = len(win)"
      ]
    },
    {
      "cell_type": "code",
      "execution_count": null,
      "metadata": {
        "id": "gG4RnEQzhKPx"
      },
      "outputs": [],
      "source": [
        "# 숫자를 원핫 인코딩으로 변환\n",
        "def n2o(numbers):\n",
        "\n",
        "  oh = np.zeros(45)  # 45개의 빈 칸 만들기\n",
        "\n",
        "  for i in range(6):            # 6개의 당첨번호를 반복\n",
        "      oh[int(numbers[i])-1] = 1   # 번호는 1부터 시작하고 인덱스는 0부터 시작하니 1을 빼줌\n",
        "\n",
        "  return oh\n",
        "\n",
        "# 원핫 인코딩을 숫자로 변환\n",
        "def o2n(oh):\n",
        "\n",
        "  numbers = []\n",
        "\n",
        "  for i in range(len(oh)):\n",
        "    if oh[i] == 1:           # oh[i]이 1 이면 해당 번호를 출력\n",
        "      numbers.append(i+1)    # 인덱스 보다 숫자가 1크니까 1더해줌 출력\n",
        "\n",
        "  return numbers"
      ]
    },
    {
      "cell_type": "code",
      "execution_count": null,
      "metadata": {
        "colab": {
          "base_uri": "https://localhost:8080/"
        },
        "id": "XCSHMDUUvRZf",
        "outputId": "4242e8ba-8b8c-4a81-c4e9-ceb761e22eb6"
      },
      "outputs": [
        {
          "output_type": "stream",
          "name": "stdout",
          "text": [
            "ohs\n",
            "x[0] :[0. 0. 0. 1. 0. 0. 1. 0. 0. 0. 0. 0. 0. 0. 0. 0. 1. 1. 0. 0. 0. 0. 0. 0.\n",
            " 0. 0. 0. 0. 0. 0. 0. 0. 0. 0. 0. 0. 0. 1. 0. 0. 0. 0. 0. 1. 0.]\n",
            "y[0] :[0. 0. 0. 0. 0. 0. 0. 1. 0. 0. 0. 1. 1. 0. 0. 0. 0. 0. 0. 0. 0. 0. 0. 0.\n",
            " 0. 0. 0. 0. 1. 0. 0. 0. 1. 0. 0. 0. 0. 0. 0. 0. 0. 1. 0. 0. 0.]\n",
            "numbers\n",
            "x[0] :[4, 7, 17, 18, 38, 44]\n",
            "y[0] :[8, 12, 13, 29, 33, 42]\n"
          ]
        }
      ],
      "source": [
        "numbers = win[: , :]  # 이게 문제라서 못 하겠음ㅠ 데이터 프레임이 문제인가?\n",
        "                      # 데이터 프레임으로 안열고 넘파이 텍스트 파일로 가져오니 됨\n",
        "ohs = list(map(n2o, numbers))\n",
        "\n",
        "xs = ohs[0:xn -1]\n",
        "ys = ohs[1:xn]\n",
        "\n",
        "# 원핫 인코딩 확인\n",
        "print('ohs')\n",
        "print('x[0] :' + str(xs[0]))\n",
        "print('y[0] :' + str(ys[0]))\n",
        "\n",
        "# 번호 확인\n",
        "print('numbers')\n",
        "print('x[0] :' + str(o2n(xs[0])))\n",
        "print('y[0] :' + str(o2n(ys[0])))"
      ]
    },
    {
      "cell_type": "code",
      "execution_count": null,
      "metadata": {
        "colab": {
          "base_uri": "https://localhost:8080/"
        },
        "id": "8WuoR8jggg2_",
        "outputId": "97d9c14c-12b8-422d-80cb-02beeed5ef34"
      },
      "outputs": [
        {
          "output_type": "stream",
          "name": "stdout",
          "text": [
            "train : (0, 670), val : (670, 893), test : (893, 1117)\n"
          ]
        }
      ],
      "source": [
        "train = (0, int(len(win)*0.6))\n",
        "val = (int(len(win)*0.6), int(len(win)*0.8))\n",
        "test = (int(len(win)*0.8), len(win))\n",
        "\n",
        "print('train : {0}, val : {1}, test : {2}'.format(train, val, test))"
      ]
    },
    {
      "cell_type": "code",
      "execution_count": null,
      "metadata": {
        "id": "VNx80jYjgg0y"
      },
      "outputs": [],
      "source": [
        "import tensorflow as tf\n",
        "from tensorflow import keras\n",
        "from tensorflow.keras import layers\n",
        "from tensorflow.keras import models\n",
        "\n",
        "# 모델 정의\n",
        "model = keras.Sequential([\n",
        "    keras.layers.LSTM(128, batch_input_shape = (1, 1, 45),\n",
        "                      return_sequences = False,\n",
        "                      stateful = True),\n",
        "    keras.layers.Dense(45, activation = 'sigmoid')\n",
        "])\n",
        "\n",
        "# 모델 컴파일\n",
        "model.compile(loss = 'binary_crossentropy', optimizer = 'adam', metrics = ['accuracy'])"
      ]
    },
    {
      "cell_type": "code",
      "execution_count": null,
      "metadata": {
        "colab": {
          "base_uri": "https://localhost:8080/"
        },
        "id": "psqZd4_Nggyf",
        "outputId": "6d7988f2-7e70-43ee-b344-bba4392b5c13"
      },
      "outputs": [
        {
          "output_type": "stream",
          "name": "stdout",
          "text": [
            "epoch   0, acc 0.022, loss  0.409, val_acc 0.000, val_loss 0.401\n",
            "epoch   1, acc 0.024, loss  0.396, val_acc 0.000, val_loss 0.400\n",
            "epoch   2, acc 0.024, loss  0.393, val_acc 0.000, val_loss 0.399\n",
            "epoch   3, acc 0.024, loss  0.391, val_acc 0.004, val_loss 0.400\n",
            "epoch   4, acc 0.028, loss  0.387, val_acc 0.013, val_loss 0.401\n",
            "epoch   5, acc 0.034, loss  0.383, val_acc 0.027, val_loss 0.405\n",
            "epoch   6, acc 0.042, loss  0.377, val_acc 0.027, val_loss 0.409\n",
            "epoch   7, acc 0.055, loss  0.371, val_acc 0.018, val_loss 0.414\n",
            "epoch   8, acc 0.064, loss  0.365, val_acc 0.013, val_loss 0.418\n",
            "epoch   9, acc 0.076, loss  0.358, val_acc 0.013, val_loss 0.423\n",
            "epoch  10, acc 0.081, loss  0.351, val_acc 0.018, val_loss 0.427\n",
            "epoch  11, acc 0.084, loss  0.344, val_acc 0.018, val_loss 0.431\n",
            "epoch  12, acc 0.091, loss  0.336, val_acc 0.027, val_loss 0.436\n",
            "epoch  13, acc 0.100, loss  0.328, val_acc 0.031, val_loss 0.440\n",
            "epoch  14, acc 0.094, loss  0.319, val_acc 0.031, val_loss 0.445\n",
            "epoch  15, acc 0.104, loss  0.310, val_acc 0.027, val_loss 0.451\n",
            "epoch  16, acc 0.109, loss  0.300, val_acc 0.027, val_loss 0.458\n",
            "epoch  17, acc 0.124, loss  0.289, val_acc 0.018, val_loss 0.466\n",
            "epoch  18, acc 0.140, loss  0.278, val_acc 0.027, val_loss 0.474\n",
            "epoch  19, acc 0.137, loss  0.267, val_acc 0.031, val_loss 0.482\n",
            "epoch  20, acc 0.148, loss  0.255, val_acc 0.027, val_loss 0.491\n",
            "epoch  21, acc 0.155, loss  0.244, val_acc 0.036, val_loss 0.502\n",
            "epoch  22, acc 0.161, loss  0.233, val_acc 0.036, val_loss 0.512\n",
            "epoch  23, acc 0.173, loss  0.222, val_acc 0.040, val_loss 0.522\n",
            "epoch  24, acc 0.163, loss  0.211, val_acc 0.036, val_loss 0.533\n",
            "epoch  25, acc 0.157, loss  0.200, val_acc 0.022, val_loss 0.544\n",
            "epoch  26, acc 0.164, loss  0.190, val_acc 0.031, val_loss 0.552\n",
            "epoch  27, acc 0.173, loss  0.181, val_acc 0.036, val_loss 0.563\n",
            "epoch  28, acc 0.158, loss  0.171, val_acc 0.036, val_loss 0.574\n",
            "epoch  29, acc 0.164, loss  0.163, val_acc 0.027, val_loss 0.585\n",
            "epoch  30, acc 0.178, loss  0.153, val_acc 0.031, val_loss 0.593\n",
            "epoch  31, acc 0.178, loss  0.144, val_acc 0.031, val_loss 0.607\n",
            "epoch  32, acc 0.167, loss  0.137, val_acc 0.027, val_loss 0.621\n",
            "epoch  33, acc 0.185, loss  0.132, val_acc 0.031, val_loss 0.631\n",
            "epoch  34, acc 0.157, loss  0.129, val_acc 0.027, val_loss 0.639\n",
            "epoch  35, acc 0.193, loss  0.117, val_acc 0.031, val_loss 0.648\n",
            "epoch  36, acc 0.155, loss  0.108, val_acc 0.027, val_loss 0.671\n",
            "epoch  37, acc 0.161, loss  0.103, val_acc 0.031, val_loss 0.680\n",
            "epoch  38, acc 0.179, loss  0.096, val_acc 0.027, val_loss 0.693\n",
            "epoch  39, acc 0.169, loss  0.094, val_acc 0.027, val_loss 0.703\n",
            "epoch  40, acc 0.158, loss  0.089, val_acc 0.031, val_loss 0.705\n",
            "epoch  41, acc 0.166, loss  0.080, val_acc 0.036, val_loss 0.722\n",
            "epoch  42, acc 0.173, loss  0.081, val_acc 0.045, val_loss 0.740\n",
            "epoch  43, acc 0.161, loss  0.076, val_acc 0.040, val_loss 0.740\n",
            "epoch  44, acc 0.137, loss  0.069, val_acc 0.040, val_loss 0.758\n",
            "epoch  45, acc 0.125, loss  0.066, val_acc 0.036, val_loss 0.781\n",
            "epoch  46, acc 0.145, loss  0.066, val_acc 0.036, val_loss 0.793\n",
            "epoch  47, acc 0.134, loss  0.061, val_acc 0.027, val_loss 0.789\n",
            "epoch  48, acc 0.155, loss  0.062, val_acc 0.027, val_loss 0.816\n",
            "epoch  49, acc 0.139, loss  0.054, val_acc 0.045, val_loss 0.829\n",
            "epoch  50, acc 0.158, loss  0.053, val_acc 0.036, val_loss 0.833\n"
          ]
        }
      ],
      "source": [
        "# 매 에포크마다 훈련과 검증의 손실 및 정확도를 기록하기 위한 변수\n",
        "train_loss = []\n",
        "train_acc = []\n",
        "val_loss = []\n",
        "val_acc = []\n",
        "\n",
        "# 최대 100번 에포크까지 수행\n",
        "for epoch in range(51):\n",
        "    model.reset_states()  # 중요! 매 에포크마다 1회부터 다시 훈련하므로 상태 초기화 필요\n",
        "\n",
        "    batch_train_loss = []\n",
        "    batch_train_acc = []\n",
        "\n",
        "    for i in range(train[0], train[1]):\n",
        "\n",
        "        xss = xs[i].reshape(1, 1, 45)\n",
        "        yss = ys[i].reshape(1, 45)\n",
        "\n",
        "        loss, acc = model.train_on_batch(xss, yss) # 배치만큼 모델에 학습\n",
        "\n",
        "        batch_train_loss.append(loss)\n",
        "        batch_train_acc.append(acc)\n",
        "\n",
        "    train_loss.append(np.mean(batch_train_loss))\n",
        "    train_acc.append(np.mean(batch_train_acc))\n",
        "\n",
        "    batch_val_loss = []\n",
        "    batch_val_acc = []\n",
        "\n",
        "    for i in range(val[0], val[1]):\n",
        "\n",
        "        xss = xs[i].reshape(1, 1, 45)\n",
        "        yss = ys[i].reshape(1, 45)\n",
        "\n",
        "        loss, acc = model.test_on_batch(xss, yss) # 배치만큼 모델에 입력하여 나온 결과를 정답과 비교함\n",
        "\n",
        "        batch_val_loss.append(loss)\n",
        "        batch_val_acc.append(acc)\n",
        "\n",
        "    val_loss.append(np.mean(batch_val_loss))\n",
        "    val_acc.append(np.mean(batch_val_acc))\n",
        "\n",
        "    print('epoch{0:4d}, acc {1:0.3f}, loss {2: 0.3f}, val_acc {3:0.3f}, val_loss {4:0.3f}'.format(epoch,\n",
        "                                                                                                  np.mean(batch_train_acc),\n",
        "                                                                                                  np.mean(batch_train_loss),\n",
        "                                                                                                  np.mean(batch_val_acc),\n",
        "                                                                                                  np.mean(batch_val_loss)))"
      ]
    },
    {
      "cell_type": "code",
      "execution_count": null,
      "metadata": {
        "id": "bshpyH52ggwS",
        "colab": {
          "base_uri": "https://localhost:8080/"
        },
        "outputId": "ad003518-d22f-4b44-be0f-097949531ddd"
      },
      "outputs": [
        {
          "output_type": "display_data",
          "data": {
            "text/plain": [
              "<Figure size 640x480 with 2 Axes>"
            ],
            "image/png": "[encoded data removed]"
          },
          "metadata": {}
        }
      ],
      "source": [
        "%matplotlib inline\n",
        "import matplotlib.pyplot as plt\n",
        "\n",
        "fig, loss_ax = plt.subplots()\n",
        "\n",
        "acc_ax = loss_ax.twinx()\n",
        "\n",
        "loss_ax.plot(train_loss, 'y', label = 'train loss')\n",
        "loss_ax.plot(val_loss, 'r', label = 'val loss')\n",
        "\n",
        "acc_ax.plot(train_acc, 'b', label = 'train acc')\n",
        "acc_ax.plot(val_acc, 'g', label = 'val acc')\n",
        "\n",
        "loss_ax.set_xlabel('epoch')\n",
        "loss_ax.set_ylabel('epoch')\n",
        "acc_ax.set_ylabel('accracy')\n",
        "\n",
        "loss_ax.legend(loc = 'upper left')\n",
        "acc_ax.legend(loc = 'lower left')\n",
        "\n",
        "plt.show()\n",
        "# 이미 학습은 의미가 없다는 결론이 나옴"
      ]
    },
    {
      "cell_type": "code",
      "execution_count": null,
      "metadata": {
        "colab": {
          "base_uri": "https://localhost:8080/"
        },
        "id": "mTiXpDcjx_As",
        "outputId": "15b41f92-f053-4165-a9f3-ef7810e9b7b2"
      },
      "outputs": [
        {
          "output_type": "stream",
          "name": "stdout",
          "text": [
            "epoch   0, acc 0.119, loss  0.031\n",
            "epoch   1, acc 0.101, loss  0.019\n",
            "epoch   2, acc 0.090, loss  0.014\n",
            "epoch   3, acc 0.085, loss  0.011\n",
            "epoch   4, acc 0.083, loss  0.009\n",
            "epoch   5, acc 0.082, loss  0.008\n",
            "epoch   6, acc 0.081, loss  0.007\n",
            "epoch   7, acc 0.081, loss  0.006\n",
            "epoch   8, acc 0.081, loss  0.005\n",
            "epoch   9, acc 0.081, loss  0.005\n",
            "epoch  10, acc 0.081, loss  0.004\n",
            "epoch  11, acc 0.082, loss  0.004\n",
            "epoch  12, acc 0.083, loss  0.004\n",
            "epoch  13, acc 0.084, loss  0.003\n",
            "epoch  14, acc 0.086, loss  0.003\n",
            "epoch  15, acc 0.087, loss  0.003\n",
            "epoch  16, acc 0.089, loss  0.003\n",
            "epoch  17, acc 0.090, loss  0.003\n",
            "epoch  18, acc 0.091, loss  0.003\n",
            "epoch  19, acc 0.092, loss  0.002\n",
            "epoch  20, acc 0.093, loss  0.002\n",
            "epoch  21, acc 0.094, loss  0.002\n",
            "epoch  22, acc 0.095, loss  0.002\n",
            "epoch  23, acc 0.096, loss  0.002\n",
            "epoch  24, acc 0.097, loss  0.002\n",
            "epoch  25, acc 0.097, loss  0.002\n",
            "epoch  26, acc 0.098, loss  0.002\n",
            "epoch  27, acc 0.098, loss  0.002\n",
            "epoch  28, acc 0.098, loss  0.002\n",
            "epoch  29, acc 0.099, loss  0.002\n",
            "epoch  30, acc 0.099, loss  0.002\n",
            "epoch  31, acc 0.100, loss  0.002\n",
            "epoch  32, acc 0.100, loss  0.001\n",
            "epoch  33, acc 0.100, loss  0.001\n",
            "epoch  34, acc 0.101, loss  0.001\n",
            "epoch  35, acc 0.101, loss  0.001\n",
            "epoch  36, acc 0.101, loss  0.001\n",
            "epoch  37, acc 0.102, loss  0.001\n",
            "epoch  38, acc 0.102, loss  0.001\n",
            "epoch  39, acc 0.102, loss  0.001\n",
            "epoch  40, acc 0.103, loss  0.001\n",
            "epoch  41, acc 0.103, loss  0.001\n",
            "epoch  42, acc 0.103, loss  0.001\n",
            "epoch  43, acc 0.104, loss  0.001\n",
            "epoch  44, acc 0.104, loss  0.001\n"
          ]
        }
      ],
      "source": [
        "# 모든 데이터를 학습용으로 사용\n",
        "for epoch in range(45):\n",
        "\n",
        "    model.reset_states()  # 중요! 매 에포크마다 1회부터 다시 훈련하므로 상태 초기화 필요\n",
        "\n",
        "    for i in range(len(xs)):\n",
        "\n",
        "      xss = xs[i].reshape(1, 1, 45)\n",
        "      yss - ys[i].reshape(1, 45)\n",
        "\n",
        "      loss, acc = model.train_on_batch(xss, yss) # 배치만큼 모델에 학습\n",
        "\n",
        "      batch_train_loss.append(loss)\n",
        "      batch_train_acc.append(acc)\n",
        "\n",
        "    train_loss.append(np.mean(batch_train_loss))\n",
        "    train_acc.append(np.mean(batch_train_acc))\n",
        "\n",
        "    print('epoch{0:4d}, acc {1:0.3f}, loss {2: 0.3f}'.format(epoch,\n",
        "                                                            np.mean(batch_train_acc),\n",
        "                                                            np.mean(batch_train_loss)\n",
        "                                                            ))\n",
        "\n"
      ]
    },
    {
      "cell_type": "code",
      "execution_count": null,
      "metadata": {
        "colab": {
          "base_uri": "https://localhost:8080/"
        },
        "id": "ekjo8MBdx--s",
        "outputId": "e7fdcf4d-ace5-451e-eadf-cba6fa9b486b"
      },
      "outputs": [
        {
          "output_type": "stream",
          "name": "stdout",
          "text": [
            "receive numbers\n"
          ]
        },
        {
          "output_type": "execute_result",
          "data": {
            "text/plain": [
              "[[4, 8, 11, 18, 37, 45]]"
            ]
          },
          "metadata": {},
          "execution_count": 12
        }
      ],
      "source": [
        "# 다음회 예측\n",
        "\n",
        "print('receive numbers')\n",
        "\n",
        "xss = xs[-1].reshape(1, 1, 45)\n",
        "\n",
        "pred = model.predict_on_batch(xss)\n",
        "pred\n",
        "\n",
        "luck = list(map(o2n, pred))\n",
        "luck\n",
        "\n",
        "# list_number = []\n",
        "\n",
        "# for n in range(6):\n",
        "#   numbers =pred\n",
        "  # numbers.sort()\n",
        "  # print('{0} : {1}'.format(n, numbers))\n",
        "  # list_numbers.append(numbers)"
      ]
    },
    {
      "cell_type": "code",
      "execution_count": null,
      "metadata": {
        "id": "67xyP3Kf3WvN"
      },
      "outputs": [],
      "source": []
    }
  ],
  "metadata": {
    "accelerator": "GPU",
    "colab": {
      "gpuType": "T4",
      "provenance": [],
      "authorship_tag": "ABX9TyPG3pYp+3LV1Igul0hw7UPt",
      "include_colab_link": true
    },
    "kernelspec": {
      "display_name": "Python 3",
      "name": "python3"
    },
    "language_info": {
      "name": "python"
    }
  },
  "nbformat": 4,
  "nbformat_minor": 0
}