{
  "cells": [
    {
      "cell_type": "markdown",
      "metadata": {
        "id": "view-in-github",
        "colab_type": "text"
      },
      "source": [
        "<a href=\"https://colab.research.google.com/github/YonggunJung/colab/blob/main/1175DLotto.ipynb\" target=\"_parent\"><img src=\"https://colab.research.google.com/assets/colab-badge.svg\" alt=\"Open In Colab\"/></a>"
      ]
    },
    {
      "cell_type": "code",
      "execution_count": 1,
      "metadata": {
        "colab": {
          "base_uri": "https://localhost:8080/"
        },
        "id": "EV0N-8-1wfGo",
        "outputId": "25147f99-81b1-42de-d269-ad4dd2e5d695"
      },
      "outputs": [
        {
          "output_type": "stream",
          "name": "stdout",
          "text": [
            "Drive already mounted at /content/drive; to attempt to forcibly remount, call drive.mount(\"/content/drive\", force_remount=True).\n"
          ]
        }
      ],
      "source": [
        "from google.colab import drive\n",
        "drive.mount('/content/drive')"
      ]
    },
    {
      "cell_type": "code",
      "execution_count": 2,
      "metadata": {
        "id": "6OK4eW92wov0"
      },
      "outputs": [],
      "source": [
        "import pandas as pd\n",
        "import numpy as np\n",
        "import warnings\n",
        "warnings.filterwarnings('ignore')"
      ]
    },
    {
      "cell_type": "code",
      "execution_count": 3,
      "metadata": {
        "colab": {
          "base_uri": "https://localhost:8080/"
        },
        "id": "227wJo0xYVaV",
        "outputId": "78bc20ef-9564-4e1b-8af3-eb1a385c62dd"
      },
      "outputs": [
        {
          "output_type": "execute_result",
          "data": {
            "text/plain": [
              "array([[ 4.,  7., 17., 18., 38., 44.],\n",
              "       [ 8., 12., 13., 29., 33., 42.],\n",
              "       [ 3.,  7., 14., 15., 22., 38.],\n",
              "       ...,\n",
              "       [ 7.,  9., 24., 40., 42., 44.],\n",
              "       [ 1.,  5., 18., 20., 30., 35.],\n",
              "       [ 8., 11., 14., 17., 36., 39.]])"
            ]
          },
          "metadata": {},
          "execution_count": 3
        }
      ],
      "source": [
        "win = np.loadtxt('/content/drive/MyDrive/Colab Notebooks/로또/data/jlotto.csv', delimiter = ',')\n",
        "win"
      ]
    },
    {
      "cell_type": "code",
      "execution_count": 4,
      "metadata": {
        "id": "GS0NAmQGw74-"
      },
      "outputs": [],
      "source": [
        "xn = len(win)"
      ]
    },
    {
      "cell_type": "code",
      "execution_count": 5,
      "metadata": {
        "id": "gG4RnEQzhKPx"
      },
      "outputs": [],
      "source": [
        "# 숫자를 원핫 인코딩으로 변환\n",
        "def n2o(numbers):\n",
        "\n",
        "  oh = np.zeros(45)  # 45개의 빈 칸 만들기\n",
        "\n",
        "  for i in range(6):            # 6개의 당첨번호를 반복\n",
        "      oh[int(numbers[i])-1] = 1   # 번호는 1부터 시작하고 인덱스는 0부터 시작하니 1을 빼줌\n",
        "\n",
        "  return oh\n",
        "\n",
        "# 원핫 인코딩을 숫자로 변환\n",
        "def o2n(oh):\n",
        "\n",
        "  numbers = []\n",
        "\n",
        "  for i in range(len(oh)):\n",
        "    if oh[i] == 1:           # oh[i]이 1 이면 해당 번호를 출력\n",
        "      numbers.append(i+1)    # 인덱스 보다 숫자가 1크니까 1더해줌 출력\n",
        "\n",
        "  return numbers"
      ]
    },
    {
      "cell_type": "code",
      "execution_count": 6,
      "metadata": {
        "colab": {
          "base_uri": "https://localhost:8080/"
        },
        "id": "XCSHMDUUvRZf",
        "outputId": "29ff2f03-74ac-4d0a-e584-e22b39c647aa"
      },
      "outputs": [
        {
          "output_type": "stream",
          "name": "stdout",
          "text": [
            "ohs\n",
            "x[0] :[0. 0. 0. 1. 0. 0. 1. 0. 0. 0. 0. 0. 0. 0. 0. 0. 1. 1. 0. 0. 0. 0. 0. 0.\n",
            " 0. 0. 0. 0. 0. 0. 0. 0. 0. 0. 0. 0. 0. 1. 0. 0. 0. 0. 0. 1. 0.]\n",
            "y[0] :[0. 0. 0. 0. 0. 0. 0. 1. 0. 0. 0. 1. 1. 0. 0. 0. 0. 0. 0. 0. 0. 0. 0. 0.\n",
            " 0. 0. 0. 0. 1. 0. 0. 0. 1. 0. 0. 0. 0. 0. 0. 0. 0. 1. 0. 0. 0.]\n",
            "x[마지막] :[1. 0. 0. 0. 1. 0. 0. 0. 0. 0. 0. 0. 0. 0. 0. 0. 0. 1. 0. 1. 0. 0. 0. 0.\n",
            " 0. 0. 0. 0. 0. 1. 0. 0. 0. 0. 1. 0. 0. 0. 0. 0. 0. 0. 0. 0. 0.]\n",
            "y[마지막] :[0. 0. 0. 0. 0. 0. 0. 1. 0. 0. 1. 0. 0. 1. 0. 0. 1. 0. 0. 0. 0. 0. 0. 0.\n",
            " 0. 0. 0. 0. 0. 0. 0. 0. 0. 0. 0. 1. 0. 0. 1. 0. 0. 0. 0. 0. 0.]\n",
            "numbers\n",
            "x[0] :[4, 7, 17, 18, 38, 44]\n",
            "y[0] :[8, 12, 13, 29, 33, 42]\n",
            "x[마지막] :[1, 5, 18, 20, 30, 35]\n",
            "y[마지막] :[8, 11, 14, 17, 36, 39]\n"
          ]
        }
      ],
      "source": [
        "numbers = win[: , :]  # 이게 문제라서 못 하겠음ㅠ 데이터 프레임이 문제인가?\n",
        "                      # 데이터 프레임으로 안열고 넘파이 텍스트 파일로 가져오니 됨\n",
        "ohs = list(map(n2o, numbers))\n",
        "\n",
        "xs = ohs[0:xn -1]\n",
        "ys = ohs[1:xn]\n",
        "\n",
        "# 원핫 인코딩 확인\n",
        "print('ohs')\n",
        "print('x[0] :' + str(xs[0]))\n",
        "print('y[0] :' + str(ys[0]))\n",
        "print('x[마지막] :' + str(xs[-1]))\n",
        "print('y[마지막] :' + str(ys[-1]))\n",
        "\n",
        "# 번호 확인\n",
        "print('numbers')\n",
        "print('x[0] :' + str(o2n(xs[0])))\n",
        "print('y[0] :' + str(o2n(ys[0])))\n",
        "print('x[마지막] :' + str(o2n(xs[-1])))\n",
        "print('y[마지막] :' + str(o2n(ys[-1])))"
      ]
    },
    {
      "cell_type": "code",
      "execution_count": 7,
      "metadata": {
        "colab": {
          "base_uri": "https://localhost:8080/"
        },
        "id": "8WuoR8jggg2_",
        "outputId": "eb3085a2-1707-4310-af1c-6e4ab4ae3a02"
      },
      "outputs": [
        {
          "output_type": "stream",
          "name": "stdout",
          "text": [
            "train : (0, 704), val : (704, 939), test : (939, 1174)\n"
          ]
        }
      ],
      "source": [
        "train = (0, int(len(win)*0.6))\n",
        "val = (int(len(win)*0.6), int(len(win)*0.8))\n",
        "test = (int(len(win)*0.8), len(win))\n",
        "\n",
        "print('train : {0}, val : {1}, test : {2}'.format(train, val, test))"
      ]
    },
    {
      "cell_type": "code",
      "execution_count": 8,
      "metadata": {
        "id": "IFNFpjJvc2J7"
      },
      "outputs": [],
      "source": [
        "# !pip install tensorflow==2.8.0"
      ]
    },
    {
      "cell_type": "code",
      "execution_count": 9,
      "metadata": {
        "colab": {
          "base_uri": "https://localhost:8080/",
          "height": 1000
        },
        "id": "NgIwoPar2cjV",
        "outputId": "f6ef57d1-19b9-4709-9596-78bfeacbc498"
      },
      "outputs": [
        {
          "output_type": "stream",
          "name": "stdout",
          "text": [
            "Found existing installation: tensorflow 2.12.0\n",
            "Uninstalling tensorflow-2.12.0:\n",
            "  Successfully uninstalled tensorflow-2.12.0\n",
            "Found existing installation: protobuf 3.20.3\n",
            "Uninstalling protobuf-3.20.3:\n",
            "  Successfully uninstalled protobuf-3.20.3\n",
            "Collecting tensorflow==2.12.0\n",
            "  Using cached tensorflow-2.12.0-cp311-cp311-manylinux_2_17_x86_64.manylinux2014_x86_64.whl.metadata (3.4 kB)\n",
            "Collecting protobuf==3.20.3\n",
            "  Using cached protobuf-3.20.3-py2.py3-none-any.whl.metadata (720 bytes)\n",
            "Requirement already satisfied: absl-py>=1.0.0 in /usr/local/lib/python3.11/dist-packages (from tensorflow==2.12.0) (1.4.0)\n",
            "Requirement already satisfied: astunparse>=1.6.0 in /usr/local/lib/python3.11/dist-packages (from tensorflow==2.12.0) (1.6.3)\n",
            "Requirement already satisfied: flatbuffers>=2.0 in /usr/local/lib/python3.11/dist-packages (from tensorflow==2.12.0) (25.2.10)\n",
            "Requirement already satisfied: gast<=0.4.0,>=0.2.1 in /usr/local/lib/python3.11/dist-packages (from tensorflow==2.12.0) (0.4.0)\n",
            "Requirement already satisfied: google-pasta>=0.1.1 in /usr/local/lib/python3.11/dist-packages (from tensorflow==2.12.0) (0.2.0)\n",
            "Requirement already satisfied: grpcio<2.0,>=1.24.3 in /usr/local/lib/python3.11/dist-packages (from tensorflow==2.12.0) (1.71.0)\n",
            "Requirement already satisfied: h5py>=2.9.0 in /usr/local/lib/python3.11/dist-packages (from tensorflow==2.12.0) (3.13.0)\n",
            "Requirement already satisfied: jax>=0.3.15 in /usr/local/lib/python3.11/dist-packages (from tensorflow==2.12.0) (0.4.30)\n",
            "Requirement already satisfied: keras<2.13,>=2.12.0 in /usr/local/lib/python3.11/dist-packages (from tensorflow==2.12.0) (2.12.0)\n",
            "Requirement already satisfied: libclang>=13.0.0 in /usr/local/lib/python3.11/dist-packages (from tensorflow==2.12.0) (18.1.1)\n",
            "Requirement already satisfied: numpy<1.24,>=1.22 in /usr/local/lib/python3.11/dist-packages (from tensorflow==2.12.0) (1.23.5)\n",
            "Requirement already satisfied: opt-einsum>=2.3.2 in /usr/local/lib/python3.11/dist-packages (from tensorflow==2.12.0) (3.4.0)\n",
            "Requirement already satisfied: packaging in /usr/local/lib/python3.11/dist-packages (from tensorflow==2.12.0) (24.2)\n",
            "Requirement already satisfied: setuptools in /usr/local/lib/python3.11/dist-packages (from tensorflow==2.12.0) (75.2.0)\n",
            "Requirement already satisfied: six>=1.12.0 in /usr/local/lib/python3.11/dist-packages (from tensorflow==2.12.0) (1.17.0)\n",
            "Requirement already satisfied: tensorboard<2.13,>=2.12 in /usr/local/lib/python3.11/dist-packages (from tensorflow==2.12.0) (2.12.3)\n",
            "Requirement already satisfied: tensorflow-estimator<2.13,>=2.12.0 in /usr/local/lib/python3.11/dist-packages (from tensorflow==2.12.0) (2.12.0)\n",
            "Requirement already satisfied: termcolor>=1.1.0 in /usr/local/lib/python3.11/dist-packages (from tensorflow==2.12.0) (3.1.0)\n",
            "Requirement already satisfied: typing-extensions>=3.6.6 in /usr/local/lib/python3.11/dist-packages (from tensorflow==2.12.0) (4.13.2)\n",
            "Requirement already satisfied: wrapt<1.15,>=1.11.0 in /usr/local/lib/python3.11/dist-packages (from tensorflow==2.12.0) (1.14.1)\n",
            "Requirement already satisfied: tensorflow-io-gcs-filesystem>=0.23.1 in /usr/local/lib/python3.11/dist-packages (from tensorflow==2.12.0) (0.37.1)\n",
            "Requirement already satisfied: wheel<1.0,>=0.23.0 in /usr/local/lib/python3.11/dist-packages (from astunparse>=1.6.0->tensorflow==2.12.0) (0.45.1)\n",
            "Requirement already satisfied: jaxlib<=0.4.30,>=0.4.27 in /usr/local/lib/python3.11/dist-packages (from jax>=0.3.15->tensorflow==2.12.0) (0.4.30)\n",
            "Requirement already satisfied: ml-dtypes>=0.2.0 in /usr/local/lib/python3.11/dist-packages (from jax>=0.3.15->tensorflow==2.12.0) (0.4.1)\n",
            "Requirement already satisfied: scipy>=1.9 in /usr/local/lib/python3.11/dist-packages (from jax>=0.3.15->tensorflow==2.12.0) (1.15.3)\n",
            "Requirement already satisfied: google-auth<3,>=1.6.3 in /usr/local/lib/python3.11/dist-packages (from tensorboard<2.13,>=2.12->tensorflow==2.12.0) (2.38.0)\n",
            "Requirement already satisfied: google-auth-oauthlib<1.1,>=0.5 in /usr/local/lib/python3.11/dist-packages (from tensorboard<2.13,>=2.12->tensorflow==2.12.0) (1.0.0)\n",
            "Requirement already satisfied: markdown>=2.6.8 in /usr/local/lib/python3.11/dist-packages (from tensorboard<2.13,>=2.12->tensorflow==2.12.0) (3.8)\n",
            "Requirement already satisfied: requests<3,>=2.21.0 in /usr/local/lib/python3.11/dist-packages (from tensorboard<2.13,>=2.12->tensorflow==2.12.0) (2.32.3)\n",
            "Requirement already satisfied: tensorboard-data-server<0.8.0,>=0.7.0 in /usr/local/lib/python3.11/dist-packages (from tensorboard<2.13,>=2.12->tensorflow==2.12.0) (0.7.2)\n",
            "Requirement already satisfied: werkzeug>=1.0.1 in /usr/local/lib/python3.11/dist-packages (from tensorboard<2.13,>=2.12->tensorflow==2.12.0) (3.1.3)\n",
            "Requirement already satisfied: cachetools<6.0,>=2.0.0 in /usr/local/lib/python3.11/dist-packages (from google-auth<3,>=1.6.3->tensorboard<2.13,>=2.12->tensorflow==2.12.0) (5.5.2)\n",
            "Requirement already satisfied: pyasn1-modules>=0.2.1 in /usr/local/lib/python3.11/dist-packages (from google-auth<3,>=1.6.3->tensorboard<2.13,>=2.12->tensorflow==2.12.0) (0.4.2)\n",
            "Requirement already satisfied: rsa<5,>=3.1.4 in /usr/local/lib/python3.11/dist-packages (from google-auth<3,>=1.6.3->tensorboard<2.13,>=2.12->tensorflow==2.12.0) (4.9.1)\n",
            "Requirement already satisfied: requests-oauthlib>=0.7.0 in /usr/local/lib/python3.11/dist-packages (from google-auth-oauthlib<1.1,>=0.5->tensorboard<2.13,>=2.12->tensorflow==2.12.0) (2.0.0)\n",
            "Requirement already satisfied: charset-normalizer<4,>=2 in /usr/local/lib/python3.11/dist-packages (from requests<3,>=2.21.0->tensorboard<2.13,>=2.12->tensorflow==2.12.0) (3.4.2)\n",
            "Requirement already satisfied: idna<4,>=2.5 in /usr/local/lib/python3.11/dist-packages (from requests<3,>=2.21.0->tensorboard<2.13,>=2.12->tensorflow==2.12.0) (3.10)\n",
            "Requirement already satisfied: urllib3<3,>=1.21.1 in /usr/local/lib/python3.11/dist-packages (from requests<3,>=2.21.0->tensorboard<2.13,>=2.12->tensorflow==2.12.0) (2.4.0)\n",
            "Requirement already satisfied: certifi>=2017.4.17 in /usr/local/lib/python3.11/dist-packages (from requests<3,>=2.21.0->tensorboard<2.13,>=2.12->tensorflow==2.12.0) (2025.4.26)\n",
            "Requirement already satisfied: MarkupSafe>=2.1.1 in /usr/local/lib/python3.11/dist-packages (from werkzeug>=1.0.1->tensorboard<2.13,>=2.12->tensorflow==2.12.0) (3.0.2)\n",
            "Requirement already satisfied: pyasn1<0.7.0,>=0.6.1 in /usr/local/lib/python3.11/dist-packages (from pyasn1-modules>=0.2.1->google-auth<3,>=1.6.3->tensorboard<2.13,>=2.12->tensorflow==2.12.0) (0.6.1)\n",
            "Requirement already satisfied: oauthlib>=3.0.0 in /usr/local/lib/python3.11/dist-packages (from requests-oauthlib>=0.7.0->google-auth-oauthlib<1.1,>=0.5->tensorboard<2.13,>=2.12->tensorflow==2.12.0) (3.2.2)\n",
            "Using cached tensorflow-2.12.0-cp311-cp311-manylinux_2_17_x86_64.manylinux2014_x86_64.whl (586.0 MB)\n",
            "Using cached protobuf-3.20.3-py2.py3-none-any.whl (162 kB)\n",
            "Installing collected packages: protobuf, tensorflow\n",
            "\u001b[31mERROR: pip's dependency resolver does not currently take into account all the packages that are installed. This behaviour is the source of the following dependency conflicts.\n",
            "tensorflow-metadata 1.17.1 requires protobuf<6.0.0,>=4.25.2; python_version >= \"3.11\", but you have protobuf 3.20.3 which is incompatible.\n",
            "tensorflow-decision-forests 1.11.0 requires tensorflow==2.18.0, but you have tensorflow 2.12.0 which is incompatible.\n",
            "ydf 0.12.0 requires protobuf<6.0.0,>=5.29.1, but you have protobuf 3.20.3 which is incompatible.\n",
            "bigframes 2.4.0 requires numpy>=1.24.0, but you have numpy 1.23.5 which is incompatible.\n",
            "grpcio-status 1.71.0 requires protobuf<6.0dev,>=5.26.1, but you have protobuf 3.20.3 which is incompatible.\n",
            "orbax-checkpoint 0.11.13 requires jax>=0.5.0, but you have jax 0.4.30 which is incompatible.\n",
            "tensorflow-text 2.18.1 requires tensorflow<2.19,>=2.18.0, but you have tensorflow 2.12.0 which is incompatible.\n",
            "tf-keras 2.18.0 requires tensorflow<2.19,>=2.18, but you have tensorflow 2.12.0 which is incompatible.\u001b[0m\u001b[31m\n",
            "\u001b[0mSuccessfully installed protobuf-3.20.3 tensorflow-2.12.0\n"
          ]
        },
        {
          "output_type": "display_data",
          "data": {
            "application/vnd.colab-display-data+json": {
              "pip_warning": {
                "packages": [
                  "google"
                ]
              },
              "id": "5481f51222a0404ab5e812ccdaccbe51"
            }
          },
          "metadata": {}
        }
      ],
      "source": [
        "!pip uninstall tensorflow protobuf -y\n",
        "!pip install tensorflow==2.12.0 protobuf==3.20.3"
      ]
    },
    {
      "cell_type": "code",
      "execution_count": 10,
      "metadata": {
        "id": "VNx80jYjgg0y"
      },
      "outputs": [],
      "source": [
        "import tensorflow as tf\n",
        "from tensorflow import keras\n",
        "from tensorflow.keras import layers\n",
        "from tensorflow.keras import models\n",
        "\n",
        "# 모델 정의\n",
        "model = keras.Sequential([\n",
        "    keras.layers.LSTM(128,\n",
        "                      batch_input_shape = (1, 1, 45),\n",
        "                      return_sequences = False,\n",
        "                      stateful = True),\n",
        "    keras.layers.Dense(45, activation = 'sigmoid')\n",
        "])\n",
        "\n",
        "# 모델 컴파일\n",
        "model.compile(loss = 'binary_crossentropy', optimizer = 'adam', metrics = ['accuracy'])"
      ]
    },
    {
      "cell_type": "code",
      "execution_count": 11,
      "metadata": {
        "colab": {
          "base_uri": "https://localhost:8080/"
        },
        "id": "psqZd4_Nggyf",
        "outputId": "289d3f0a-98fd-480f-d252-f65a046d94bb"
      },
      "outputs": [
        {
          "output_type": "stream",
          "name": "stdout",
          "text": [
            "epoch   0, acc 0.021, loss  0.410, val_acc 0.004, val_loss 0.401\n",
            "epoch   1, acc 0.020, loss  0.396, val_acc 0.004, val_loss 0.400\n",
            "epoch   2, acc 0.023, loss  0.394, val_acc 0.000, val_loss 0.399\n",
            "epoch   3, acc 0.027, loss  0.391, val_acc 0.000, val_loss 0.399\n",
            "epoch   4, acc 0.034, loss  0.388, val_acc 0.000, val_loss 0.400\n",
            "epoch   5, acc 0.037, loss  0.383, val_acc 0.004, val_loss 0.404\n",
            "epoch   6, acc 0.047, loss  0.378, val_acc 0.004, val_loss 0.408\n",
            "epoch   7, acc 0.055, loss  0.372, val_acc 0.017, val_loss 0.412\n",
            "epoch   8, acc 0.065, loss  0.365, val_acc 0.017, val_loss 0.417\n",
            "epoch   9, acc 0.068, loss  0.359, val_acc 0.013, val_loss 0.421\n",
            "epoch  10, acc 0.074, loss  0.352, val_acc 0.013, val_loss 0.426\n",
            "epoch  11, acc 0.081, loss  0.345, val_acc 0.026, val_loss 0.431\n",
            "epoch  12, acc 0.080, loss  0.338, val_acc 0.030, val_loss 0.437\n",
            "epoch  13, acc 0.094, loss  0.330, val_acc 0.030, val_loss 0.442\n",
            "epoch  14, acc 0.094, loss  0.321, val_acc 0.026, val_loss 0.448\n",
            "epoch  15, acc 0.108, loss  0.312, val_acc 0.030, val_loss 0.454\n",
            "epoch  16, acc 0.116, loss  0.302, val_acc 0.030, val_loss 0.461\n",
            "epoch  17, acc 0.116, loss  0.292, val_acc 0.030, val_loss 0.468\n",
            "epoch  18, acc 0.129, loss  0.281, val_acc 0.021, val_loss 0.477\n",
            "epoch  19, acc 0.131, loss  0.270, val_acc 0.030, val_loss 0.487\n",
            "epoch  20, acc 0.134, loss  0.258, val_acc 0.030, val_loss 0.497\n",
            "epoch  21, acc 0.143, loss  0.247, val_acc 0.026, val_loss 0.506\n",
            "epoch  22, acc 0.145, loss  0.236, val_acc 0.026, val_loss 0.514\n",
            "epoch  23, acc 0.152, loss  0.224, val_acc 0.030, val_loss 0.523\n",
            "epoch  24, acc 0.158, loss  0.213, val_acc 0.013, val_loss 0.534\n",
            "epoch  25, acc 0.165, loss  0.201, val_acc 0.021, val_loss 0.546\n",
            "epoch  26, acc 0.155, loss  0.191, val_acc 0.030, val_loss 0.558\n",
            "epoch  27, acc 0.152, loss  0.181, val_acc 0.021, val_loss 0.570\n",
            "epoch  28, acc 0.162, loss  0.173, val_acc 0.026, val_loss 0.584\n",
            "epoch  29, acc 0.173, loss  0.164, val_acc 0.013, val_loss 0.598\n",
            "epoch  30, acc 0.163, loss  0.157, val_acc 0.026, val_loss 0.610\n",
            "epoch  31, acc 0.159, loss  0.146, val_acc 0.009, val_loss 0.621\n",
            "epoch  32, acc 0.159, loss  0.140, val_acc 0.013, val_loss 0.639\n",
            "epoch  33, acc 0.166, loss  0.130, val_acc 0.013, val_loss 0.651\n",
            "epoch  34, acc 0.175, loss  0.126, val_acc 0.017, val_loss 0.663\n",
            "epoch  35, acc 0.168, loss  0.116, val_acc 0.017, val_loss 0.676\n",
            "epoch  36, acc 0.163, loss  0.112, val_acc 0.021, val_loss 0.684\n",
            "epoch  37, acc 0.149, loss  0.110, val_acc 0.026, val_loss 0.691\n",
            "epoch  38, acc 0.152, loss  0.104, val_acc 0.017, val_loss 0.700\n",
            "epoch  39, acc 0.166, loss  0.097, val_acc 0.017, val_loss 0.720\n",
            "epoch  40, acc 0.175, loss  0.090, val_acc 0.021, val_loss 0.731\n",
            "epoch  41, acc 0.173, loss  0.088, val_acc 0.021, val_loss 0.744\n",
            "epoch  42, acc 0.176, loss  0.079, val_acc 0.013, val_loss 0.760\n",
            "epoch  43, acc 0.141, loss  0.079, val_acc 0.021, val_loss 0.765\n",
            "epoch  44, acc 0.170, loss  0.080, val_acc 0.034, val_loss 0.766\n"
          ]
        }
      ],
      "source": [
        "# 매 에포크마다 훈련과 검증의 손실 및 정확도를 기록하기 위한 변수\n",
        "train_loss = []\n",
        "train_acc = []\n",
        "val_loss = []\n",
        "val_acc = []\n",
        "\n",
        "# 최대 100번 에포크까지 수행\n",
        "for epoch in range(45):\n",
        "    model.reset_states()  # 중요! 매 에포크마다 1회부터 다시 훈련하므로 상태 초기화 필요\n",
        "\n",
        "    batch_train_loss = []\n",
        "    batch_train_acc = []\n",
        "\n",
        "    for i in range(train[0], train[1]):\n",
        "\n",
        "        xss = xs[i].reshape(1, 1, 45)\n",
        "        yss = ys[i].reshape(1, 45)\n",
        "\n",
        "        loss, acc = model.train_on_batch(xss, yss) # 배치만큼 모델에 학습\n",
        "\n",
        "        batch_train_loss.append(loss)\n",
        "        batch_train_acc.append(acc)\n",
        "\n",
        "    train_loss.append(np.mean(batch_train_loss))\n",
        "    train_acc.append(np.mean(batch_train_acc))\n",
        "\n",
        "    batch_val_loss = []\n",
        "    batch_val_acc = []\n",
        "\n",
        "    for i in range(val[0], val[1]):\n",
        "\n",
        "        xss = xs[i].reshape(1, 1, 45)\n",
        "        yss = ys[i].reshape(1, 45)\n",
        "\n",
        "        loss, acc = model.test_on_batch(xss, yss) # 배치만큼 모델에 입력하여 나온 결과를 정답과 비교함\n",
        "\n",
        "        batch_val_loss.append(loss)\n",
        "        batch_val_acc.append(acc)\n",
        "\n",
        "    val_loss.append(np.mean(batch_val_loss))\n",
        "    val_acc.append(np.mean(batch_val_acc))\n",
        "\n",
        "    print('epoch{0:4d}, acc {1:0.3f}, loss {2: 0.3f}, val_acc {3:0.3f}, val_loss {4:0.3f}'.format(epoch,\n",
        "                                                                                                  np.mean(batch_train_acc),\n",
        "                                                                                                  np.mean(batch_train_loss),\n",
        "                                                                                                  np.mean(batch_val_acc),\n",
        "                                                                                                  np.mean(batch_val_loss)))"
      ]
    },
    {
      "cell_type": "code",
      "execution_count": 12,
      "metadata": {
        "colab": {
          "base_uri": "https://localhost:8080/",
          "height": 455
        },
        "id": "bshpyH52ggwS",
        "outputId": "6409712d-4e31-480a-b51d-5db63e594b2c"
      },
      "outputs": [
        {
          "output_type": "display_data",
          "data": {
            "text/plain": [
              "<Figure size 640x480 with 2 Axes>"
            ],
            "image/png": "[encoded data removed]"
          },
          "metadata": {}
        }
      ],
      "source": [
        "%matplotlib inline\n",
        "import matplotlib.pyplot as plt\n",
        "\n",
        "fig, loss_ax = plt.subplots()\n",
        "\n",
        "acc_ax = loss_ax.twinx()\n",
        "\n",
        "loss_ax.plot(train_loss, 'y', label = 'train loss')\n",
        "loss_ax.plot(val_loss, 'r', label = 'val loss')\n",
        "\n",
        "acc_ax.plot(train_acc, 'b', label = 'train acc')\n",
        "acc_ax.plot(val_acc, 'g', label = 'val acc')\n",
        "\n",
        "loss_ax.set_xlabel('epoch')\n",
        "loss_ax.set_ylabel('epoch')\n",
        "acc_ax.set_ylabel('accracy')\n",
        "\n",
        "loss_ax.legend(loc = 'upper left')\n",
        "acc_ax.legend(loc = 'lower left')\n",
        "\n",
        "plt.show()\n",
        "# 이미 학습은 의미가 없다는 결론이 나옴"
      ]
    },
    {
      "cell_type": "code",
      "execution_count": 13,
      "metadata": {
        "colab": {
          "base_uri": "https://localhost:8080/"
        },
        "id": "mTiXpDcjx_As",
        "outputId": "0eb6c30e-403f-4dec-b1ea-53657bbdc6df"
      },
      "outputs": [
        {
          "output_type": "stream",
          "name": "stdout",
          "text": [
            "epoch   0, acc 0.142, loss  0.041\n",
            "epoch   1, acc 0.136, loss  0.026\n",
            "epoch   2, acc 0.135, loss  0.019\n",
            "epoch   3, acc 0.136, loss  0.015\n",
            "epoch   4, acc 0.135, loss  0.012\n",
            "epoch   5, acc 0.137, loss  0.010\n",
            "epoch   6, acc 0.137, loss  0.009\n",
            "epoch   7, acc 0.136, loss  0.008\n",
            "epoch   8, acc 0.135, loss  0.007\n",
            "epoch   9, acc 0.132, loss  0.006\n",
            "epoch  10, acc 0.129, loss  0.006\n",
            "epoch  11, acc 0.125, loss  0.005\n",
            "epoch  12, acc 0.121, loss  0.005\n",
            "epoch  13, acc 0.118, loss  0.005\n",
            "epoch  14, acc 0.114, loss  0.004\n",
            "epoch  15, acc 0.111, loss  0.004\n",
            "epoch  16, acc 0.109, loss  0.004\n",
            "epoch  17, acc 0.105, loss  0.004\n",
            "epoch  18, acc 0.102, loss  0.003\n",
            "epoch  19, acc 0.099, loss  0.003\n",
            "epoch  20, acc 0.096, loss  0.003\n",
            "epoch  21, acc 0.093, loss  0.003\n",
            "epoch  22, acc 0.090, loss  0.003\n",
            "epoch  23, acc 0.088, loss  0.003\n",
            "epoch  24, acc 0.085, loss  0.003\n",
            "epoch  25, acc 0.082, loss  0.003\n",
            "epoch  26, acc 0.080, loss  0.002\n",
            "epoch  27, acc 0.078, loss  0.002\n",
            "epoch  28, acc 0.076, loss  0.002\n",
            "epoch  29, acc 0.074, loss  0.002\n",
            "epoch  30, acc 0.072, loss  0.002\n",
            "epoch  31, acc 0.070, loss  0.002\n",
            "epoch  32, acc 0.068, loss  0.002\n",
            "epoch  33, acc 0.066, loss  0.002\n",
            "epoch  34, acc 0.065, loss  0.002\n",
            "epoch  35, acc 0.063, loss  0.002\n",
            "epoch  36, acc 0.062, loss  0.002\n",
            "epoch  37, acc 0.060, loss  0.002\n",
            "epoch  38, acc 0.059, loss  0.002\n",
            "epoch  39, acc 0.058, loss  0.002\n",
            "epoch  40, acc 0.057, loss  0.002\n",
            "epoch  41, acc 0.056, loss  0.002\n",
            "epoch  42, acc 0.054, loss  0.002\n",
            "epoch  43, acc 0.053, loss  0.002\n",
            "epoch  44, acc 0.052, loss  0.001\n"
          ]
        }
      ],
      "source": [
        "# 모든 데이터를 학습용으로 사용\n",
        "for epoch in range(45):\n",
        "\n",
        "    model.reset_states()  # 중요! 매 에포크마다 1회부터 다시 훈련하므로 상태 초기화 필요\n",
        "\n",
        "    for i in range(len(xs)):\n",
        "\n",
        "      xss = xs[i].reshape(1, 1, 45)\n",
        "      yss - ys[i].reshape(1, 45)\n",
        "\n",
        "      loss, acc = model.train_on_batch(xss, yss) # 배치만큼 모델에 학습\n",
        "\n",
        "      batch_train_loss.append(loss)\n",
        "      batch_train_acc.append(acc)\n",
        "\n",
        "    train_loss.append(np.mean(batch_train_loss))\n",
        "    train_acc.append(np.mean(batch_train_acc))\n",
        "\n",
        "    print('epoch{0:4d}, acc {1:0.3f}, loss {2: 0.3f}'.format(epoch,\n",
        "                                                            np.mean(batch_train_acc),\n",
        "                                                            np.mean(batch_train_loss)\n",
        "                                                            ))\n",
        "\n"
      ]
    },
    {
      "cell_type": "code",
      "execution_count": 14,
      "metadata": {
        "colab": {
          "base_uri": "https://localhost:8080/"
        },
        "id": "ekjo8MBdx--s",
        "outputId": "0f4f60d0-2127-4ece-da68-53912ea67852"
      },
      "outputs": [
        {
          "output_type": "stream",
          "name": "stdout",
          "text": [
            "receive numbers\n"
          ]
        },
        {
          "output_type": "execute_result",
          "data": {
            "text/plain": [
              "[[2, 19, 27, 35, 41, 42]]"
            ]
          },
          "metadata": {},
          "execution_count": 14
        }
      ],
      "source": [
        "# 다음회 예측\n",
        "\n",
        "print('receive numbers')\n",
        "\n",
        "xss = xs[-1].reshape(1, 1, 45)\n",
        "\n",
        "pred = model.predict_on_batch(xss)\n",
        "pred\n",
        "\n",
        "len(ohs)\n",
        "luck = list(map(o2n, pred))\n",
        "luck\n",
        "\n",
        "# list_number = []\n",
        "\n",
        "# for n in range(6):\n",
        "#   numbers =pred\n",
        "  # numbers.sort()\n",
        "  # print('{0} : {1}'.format(n, numbers))\n",
        "  # list_numbers.append(numbers)"
      ]
    },
    {
      "cell_type": "code",
      "execution_count": 15,
      "metadata": {
        "id": "67xyP3Kf3WvN"
      },
      "outputs": [],
      "source": [
        "# 100번 돌리나 35번 돌리나 결과는 똑같다."
      ]
    }
  ],
  "metadata": {
    "accelerator": "GPU",
    "colab": {
      "gpuType": "T4",
      "provenance": [],
      "authorship_tag": "ABX9TyPwYyAklxX7EnQh/RCW9+1L",
      "include_colab_link": true
    },
    "kernelspec": {
      "display_name": "Python 3",
      "name": "python3"
    },
    "language_info": {
      "name": "python"
    }
  },
  "nbformat": 4,
  "nbformat_minor": 0
}