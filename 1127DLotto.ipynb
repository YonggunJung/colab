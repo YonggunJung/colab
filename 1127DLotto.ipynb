{
  "cells": [
    {
      "cell_type": "markdown",
      "metadata": {
        "id": "view-in-github",
        "colab_type": "text"
      },
      "source": [
        "<a href=\"https://colab.research.google.com/github/YonggunJung/colab/blob/main/1127DLotto.ipynb\" target=\"_parent\"><img src=\"https://colab.research.google.com/assets/colab-badge.svg\" alt=\"Open In Colab\"/></a>"
      ]
    },
    {
      "cell_type": "code",
      "execution_count": 2,
      "metadata": {
        "colab": {
          "base_uri": "https://localhost:8080/"
        },
        "id": "EV0N-8-1wfGo",
        "outputId": "5ea80e9a-0803-4d5d-c3c9-3e36eea2b7cf"
      },
      "outputs": [
        {
          "output_type": "stream",
          "name": "stdout",
          "text": [
            "Mounted at /content/drive\n"
          ]
        }
      ],
      "source": [
        "from google.colab import drive\n",
        "drive.mount('/content/drive')"
      ]
    },
    {
      "cell_type": "code",
      "execution_count": 3,
      "metadata": {
        "id": "6OK4eW92wov0"
      },
      "outputs": [],
      "source": [
        "import pandas as pd\n",
        "import numpy as np\n",
        "import warnings\n",
        "warnings.filterwarnings('ignore')"
      ]
    },
    {
      "cell_type": "code",
      "execution_count": 4,
      "metadata": {
        "colab": {
          "base_uri": "https://localhost:8080/"
        },
        "id": "227wJo0xYVaV",
        "outputId": "c681b62b-50dc-46d0-f089-18db73d2f5aa"
      },
      "outputs": [
        {
          "output_type": "execute_result",
          "data": {
            "text/plain": [
              "array([[ 4.,  7., 17., 18., 38., 44.],\n",
              "       [ 8., 12., 13., 29., 33., 42.],\n",
              "       [ 3.,  7., 14., 15., 22., 38.],\n",
              "       ...,\n",
              "       [ 3.,  8., 17., 30., 33., 34.],\n",
              "       [ 6., 14., 25., 33., 40., 44.],\n",
              "       [ 4.,  5.,  9., 11., 37., 40.]])"
            ]
          },
          "metadata": {},
          "execution_count": 4
        }
      ],
      "source": [
        "win = np.loadtxt('/content/drive/MyDrive/Colab Notebooks/로또/data/jlotto.csv', delimiter = ',')\n",
        "win"
      ]
    },
    {
      "cell_type": "code",
      "execution_count": 5,
      "metadata": {
        "id": "GS0NAmQGw74-"
      },
      "outputs": [],
      "source": [
        "xn = len(win)"
      ]
    },
    {
      "cell_type": "code",
      "execution_count": 6,
      "metadata": {
        "id": "gG4RnEQzhKPx"
      },
      "outputs": [],
      "source": [
        "# 숫자를 원핫 인코딩으로 변환\n",
        "def n2o(numbers):\n",
        "\n",
        "  oh = np.zeros(45)  # 45개의 빈 칸 만들기\n",
        "\n",
        "  for i in range(6):            # 6개의 당첨번호를 반복\n",
        "      oh[int(numbers[i])-1] = 1   # 번호는 1부터 시작하고 인덱스는 0부터 시작하니 1을 빼줌\n",
        "\n",
        "  return oh\n",
        "\n",
        "# 원핫 인코딩을 숫자로 변환\n",
        "def o2n(oh):\n",
        "\n",
        "  numbers = []\n",
        "\n",
        "  for i in range(len(oh)):\n",
        "    if oh[i] == 1:           # oh[i]이 1 이면 해당 번호를 출력\n",
        "      numbers.append(i+1)    # 인덱스 보다 숫자가 1크니까 1더해줌 출력\n",
        "\n",
        "  return numbers"
      ]
    },
    {
      "cell_type": "code",
      "execution_count": 7,
      "metadata": {
        "colab": {
          "base_uri": "https://localhost:8080/"
        },
        "id": "XCSHMDUUvRZf",
        "outputId": "eebbd160-7d31-4f9f-f3f9-a757c35414e7"
      },
      "outputs": [
        {
          "output_type": "stream",
          "name": "stdout",
          "text": [
            "ohs\n",
            "x[0] :[0. 0. 0. 1. 0. 0. 1. 0. 0. 0. 0. 0. 0. 0. 0. 0. 1. 1. 0. 0. 0. 0. 0. 0.\n",
            " 0. 0. 0. 0. 0. 0. 0. 0. 0. 0. 0. 0. 0. 1. 0. 0. 0. 0. 0. 1. 0.]\n",
            "y[0] :[0. 0. 0. 0. 0. 0. 0. 1. 0. 0. 0. 1. 1. 0. 0. 0. 0. 0. 0. 0. 0. 0. 0. 0.\n",
            " 0. 0. 0. 0. 1. 0. 0. 0. 1. 0. 0. 0. 0. 0. 0. 0. 0. 1. 0. 0. 0.]\n",
            "numbers\n",
            "x[0] :[4, 7, 17, 18, 38, 44]\n",
            "y[0] :[8, 12, 13, 29, 33, 42]\n"
          ]
        }
      ],
      "source": [
        "numbers = win[: , :]  # 이게 문제라서 못 하겠음ㅠ 데이터 프레임이 문제인가?\n",
        "                      # 데이터 프레임으로 안열고 넘파이 텍스트 파일로 가져오니 됨\n",
        "ohs = list(map(n2o, numbers))\n",
        "\n",
        "xs = ohs[0:xn -1]\n",
        "ys = ohs[1:xn]\n",
        "\n",
        "# 원핫 인코딩 확인\n",
        "print('ohs')\n",
        "print('x[0] :' + str(xs[0]))\n",
        "print('y[0] :' + str(ys[0]))\n",
        "\n",
        "# 번호 확인\n",
        "print('numbers')\n",
        "print('x[0] :' + str(o2n(xs[0])))\n",
        "print('y[0] :' + str(o2n(ys[0])))"
      ]
    },
    {
      "cell_type": "code",
      "execution_count": 8,
      "metadata": {
        "colab": {
          "base_uri": "https://localhost:8080/"
        },
        "id": "8WuoR8jggg2_",
        "outputId": "dea679c5-ef40-47fc-e33f-7676e4c13efd"
      },
      "outputs": [
        {
          "output_type": "stream",
          "name": "stdout",
          "text": [
            "train : (0, 675), val : (675, 900), test : (900, 1126)\n"
          ]
        }
      ],
      "source": [
        "train = (0, int(len(win)*0.6))\n",
        "val = (int(len(win)*0.6), int(len(win)*0.8))\n",
        "test = (int(len(win)*0.8), len(win))\n",
        "\n",
        "print('train : {0}, val : {1}, test : {2}'.format(train, val, test))"
      ]
    },
    {
      "cell_type": "code",
      "execution_count": 9,
      "metadata": {
        "id": "VNx80jYjgg0y"
      },
      "outputs": [],
      "source": [
        "import tensorflow as tf\n",
        "from tensorflow import keras\n",
        "from tensorflow.keras import layers\n",
        "from tensorflow.keras import models\n",
        "\n",
        "# 모델 정의\n",
        "model = keras.Sequential([\n",
        "    keras.layers.LSTM(128, batch_input_shape = (1, 1, 45),\n",
        "                      return_sequences = False,\n",
        "                      stateful = True),\n",
        "    keras.layers.Dense(45, activation = 'sigmoid')\n",
        "])\n",
        "\n",
        "# 모델 컴파일\n",
        "model.compile(loss = 'binary_crossentropy', optimizer = 'adam', metrics = ['accuracy'])"
      ]
    },
    {
      "cell_type": "code",
      "execution_count": 10,
      "metadata": {
        "colab": {
          "base_uri": "https://localhost:8080/"
        },
        "id": "psqZd4_Nggyf",
        "outputId": "89a63dee-08ba-4dc2-e382-56e4968ff8d9"
      },
      "outputs": [
        {
          "output_type": "stream",
          "name": "stdout",
          "text": [
            "epoch   0, acc 0.021, loss  0.409, val_acc 0.000, val_loss 0.401\n",
            "epoch   1, acc 0.022, loss  0.397, val_acc 0.000, val_loss 0.400\n",
            "epoch   2, acc 0.021, loss  0.394, val_acc 0.000, val_loss 0.399\n",
            "epoch   3, acc 0.025, loss  0.391, val_acc 0.004, val_loss 0.399\n",
            "epoch   4, acc 0.036, loss  0.388, val_acc 0.013, val_loss 0.401\n",
            "epoch   5, acc 0.041, loss  0.383, val_acc 0.022, val_loss 0.403\n",
            "epoch   6, acc 0.046, loss  0.379, val_acc 0.027, val_loss 0.406\n",
            "epoch   7, acc 0.052, loss  0.374, val_acc 0.027, val_loss 0.409\n",
            "epoch   8, acc 0.058, loss  0.369, val_acc 0.027, val_loss 0.413\n",
            "epoch   9, acc 0.053, loss  0.363, val_acc 0.040, val_loss 0.417\n",
            "epoch  10, acc 0.068, loss  0.357, val_acc 0.036, val_loss 0.422\n",
            "epoch  11, acc 0.071, loss  0.350, val_acc 0.040, val_loss 0.426\n",
            "epoch  12, acc 0.079, loss  0.343, val_acc 0.036, val_loss 0.431\n",
            "epoch  13, acc 0.080, loss  0.336, val_acc 0.027, val_loss 0.435\n",
            "epoch  14, acc 0.089, loss  0.327, val_acc 0.036, val_loss 0.440\n",
            "epoch  15, acc 0.092, loss  0.319, val_acc 0.036, val_loss 0.446\n",
            "epoch  16, acc 0.104, loss  0.309, val_acc 0.036, val_loss 0.451\n",
            "epoch  17, acc 0.113, loss  0.299, val_acc 0.031, val_loss 0.458\n",
            "epoch  18, acc 0.119, loss  0.289, val_acc 0.031, val_loss 0.465\n",
            "epoch  19, acc 0.129, loss  0.278, val_acc 0.031, val_loss 0.472\n",
            "epoch  20, acc 0.139, loss  0.268, val_acc 0.044, val_loss 0.481\n",
            "epoch  21, acc 0.130, loss  0.257, val_acc 0.031, val_loss 0.489\n",
            "epoch  22, acc 0.144, loss  0.246, val_acc 0.036, val_loss 0.498\n",
            "epoch  23, acc 0.151, loss  0.234, val_acc 0.031, val_loss 0.508\n",
            "epoch  24, acc 0.153, loss  0.222, val_acc 0.027, val_loss 0.518\n",
            "epoch  25, acc 0.153, loss  0.211, val_acc 0.036, val_loss 0.527\n",
            "epoch  26, acc 0.153, loss  0.200, val_acc 0.031, val_loss 0.538\n",
            "epoch  27, acc 0.145, loss  0.192, val_acc 0.031, val_loss 0.547\n",
            "epoch  28, acc 0.148, loss  0.181, val_acc 0.031, val_loss 0.556\n",
            "epoch  29, acc 0.132, loss  0.172, val_acc 0.018, val_loss 0.568\n",
            "epoch  30, acc 0.150, loss  0.161, val_acc 0.027, val_loss 0.576\n",
            "epoch  31, acc 0.150, loss  0.155, val_acc 0.022, val_loss 0.592\n",
            "epoch  32, acc 0.157, loss  0.149, val_acc 0.022, val_loss 0.600\n",
            "epoch  33, acc 0.160, loss  0.136, val_acc 0.009, val_loss 0.613\n",
            "epoch  34, acc 0.176, loss  0.130, val_acc 0.022, val_loss 0.630\n",
            "epoch  35, acc 0.163, loss  0.126, val_acc 0.013, val_loss 0.639\n",
            "epoch  36, acc 0.151, loss  0.121, val_acc 0.022, val_loss 0.658\n",
            "epoch  37, acc 0.147, loss  0.110, val_acc 0.013, val_loss 0.664\n",
            "epoch  38, acc 0.157, loss  0.102, val_acc 0.018, val_loss 0.684\n",
            "epoch  39, acc 0.142, loss  0.101, val_acc 0.013, val_loss 0.695\n",
            "epoch  40, acc 0.163, loss  0.099, val_acc 0.022, val_loss 0.702\n",
            "epoch  41, acc 0.153, loss  0.094, val_acc 0.018, val_loss 0.711\n",
            "epoch  42, acc 0.150, loss  0.084, val_acc 0.018, val_loss 0.725\n",
            "epoch  43, acc 0.153, loss  0.079, val_acc 0.022, val_loss 0.737\n",
            "epoch  44, acc 0.159, loss  0.079, val_acc 0.022, val_loss 0.749\n",
            "epoch  45, acc 0.144, loss  0.070, val_acc 0.031, val_loss 0.763\n",
            "epoch  46, acc 0.166, loss  0.064, val_acc 0.027, val_loss 0.779\n",
            "epoch  47, acc 0.142, loss  0.062, val_acc 0.027, val_loss 0.784\n",
            "epoch  48, acc 0.157, loss  0.060, val_acc 0.027, val_loss 0.806\n",
            "epoch  49, acc 0.148, loss  0.061, val_acc 0.044, val_loss 0.808\n",
            "epoch  50, acc 0.164, loss  0.059, val_acc 0.027, val_loss 0.826\n",
            "epoch  51, acc 0.160, loss  0.050, val_acc 0.031, val_loss 0.827\n",
            "epoch  52, acc 0.161, loss  0.049, val_acc 0.027, val_loss 0.848\n",
            "epoch  53, acc 0.169, loss  0.053, val_acc 0.031, val_loss 0.858\n",
            "epoch  54, acc 0.148, loss  0.043, val_acc 0.013, val_loss 0.869\n",
            "epoch  55, acc 0.153, loss  0.041, val_acc 0.018, val_loss 0.892\n",
            "epoch  56, acc 0.172, loss  0.044, val_acc 0.022, val_loss 0.894\n",
            "epoch  57, acc 0.160, loss  0.038, val_acc 0.027, val_loss 0.896\n",
            "epoch  58, acc 0.156, loss  0.039, val_acc 0.022, val_loss 0.903\n",
            "epoch  59, acc 0.161, loss  0.036, val_acc 0.027, val_loss 0.928\n"
          ]
        }
      ],
      "source": [
        "# 매 에포크마다 훈련과 검증의 손실 및 정확도를 기록하기 위한 변수\n",
        "train_loss = []\n",
        "train_acc = []\n",
        "val_loss = []\n",
        "val_acc = []\n",
        "\n",
        "# 최대 100번 에포크까지 수행\n",
        "for epoch in range(60):\n",
        "    model.reset_states()  # 중요! 매 에포크마다 1회부터 다시 훈련하므로 상태 초기화 필요\n",
        "\n",
        "    batch_train_loss = []\n",
        "    batch_train_acc = []\n",
        "\n",
        "    for i in range(train[0], train[1]):\n",
        "\n",
        "        xss = xs[i].reshape(1, 1, 45)\n",
        "        yss = ys[i].reshape(1, 45)\n",
        "\n",
        "        loss, acc = model.train_on_batch(xss, yss) # 배치만큼 모델에 학습\n",
        "\n",
        "        batch_train_loss.append(loss)\n",
        "        batch_train_acc.append(acc)\n",
        "\n",
        "    train_loss.append(np.mean(batch_train_loss))\n",
        "    train_acc.append(np.mean(batch_train_acc))\n",
        "\n",
        "    batch_val_loss = []\n",
        "    batch_val_acc = []\n",
        "\n",
        "    for i in range(val[0], val[1]):\n",
        "\n",
        "        xss = xs[i].reshape(1, 1, 45)\n",
        "        yss = ys[i].reshape(1, 45)\n",
        "\n",
        "        loss, acc = model.test_on_batch(xss, yss) # 배치만큼 모델에 입력하여 나온 결과를 정답과 비교함\n",
        "\n",
        "        batch_val_loss.append(loss)\n",
        "        batch_val_acc.append(acc)\n",
        "\n",
        "    val_loss.append(np.mean(batch_val_loss))\n",
        "    val_acc.append(np.mean(batch_val_acc))\n",
        "\n",
        "    print('epoch{0:4d}, acc {1:0.3f}, loss {2: 0.3f}, val_acc {3:0.3f}, val_loss {4:0.3f}'.format(epoch,\n",
        "                                                                                                  np.mean(batch_train_acc),\n",
        "                                                                                                  np.mean(batch_train_loss),\n",
        "                                                                                                  np.mean(batch_val_acc),\n",
        "                                                                                                  np.mean(batch_val_loss)))"
      ]
    },
    {
      "cell_type": "code",
      "execution_count": 11,
      "metadata": {
        "id": "bshpyH52ggwS",
        "colab": {
          "base_uri": "https://localhost:8080/",
          "height": 449
        },
        "outputId": "8bbaa247-7fcf-4711-dd39-3713a61427cb"
      },
      "outputs": [
        {
          "output_type": "display_data",
          "data": {
            "text/plain": [
              "<Figure size 640x480 with 2 Axes>"
            ],
            "image/png": "[encoded data removed]"
          },
          "metadata": {}
        }
      ],
      "source": [
        "%matplotlib inline\n",
        "import matplotlib.pyplot as plt\n",
        "\n",
        "fig, loss_ax = plt.subplots()\n",
        "\n",
        "acc_ax = loss_ax.twinx()\n",
        "\n",
        "loss_ax.plot(train_loss, 'y', label = 'train loss')\n",
        "loss_ax.plot(val_loss, 'r', label = 'val loss')\n",
        "\n",
        "acc_ax.plot(train_acc, 'b', label = 'train acc')\n",
        "acc_ax.plot(val_acc, 'g', label = 'val acc')\n",
        "\n",
        "loss_ax.set_xlabel('epoch')\n",
        "loss_ax.set_ylabel('epoch')\n",
        "acc_ax.set_ylabel('accracy')\n",
        "\n",
        "loss_ax.legend(loc = 'upper left')\n",
        "acc_ax.legend(loc = 'lower left')\n",
        "\n",
        "plt.show()\n",
        "# 이미 학습은 의미가 없다는 결론이 나옴"
      ]
    },
    {
      "cell_type": "code",
      "execution_count": 12,
      "metadata": {
        "colab": {
          "base_uri": "https://localhost:8080/"
        },
        "id": "mTiXpDcjx_As",
        "outputId": "c7aa0126-d410-4e38-9374-edfe93bcda84"
      },
      "outputs": [
        {
          "output_type": "stream",
          "name": "stdout",
          "text": [
            "epoch   0, acc 0.111, loss  0.026\n",
            "epoch   1, acc 0.096, loss  0.016\n",
            "epoch   2, acc 0.089, loss  0.012\n",
            "epoch   3, acc 0.084, loss  0.009\n",
            "epoch   4, acc 0.080, loss  0.008\n",
            "epoch   5, acc 0.077, loss  0.006\n",
            "epoch   6, acc 0.074, loss  0.006\n",
            "epoch   7, acc 0.073, loss  0.005\n",
            "epoch   8, acc 0.073, loss  0.004\n",
            "epoch   9, acc 0.074, loss  0.004\n",
            "epoch  10, acc 0.076, loss  0.004\n",
            "epoch  11, acc 0.080, loss  0.003\n",
            "epoch  12, acc 0.085, loss  0.003\n",
            "epoch  13, acc 0.090, loss  0.003\n",
            "epoch  14, acc 0.095, loss  0.003\n",
            "epoch  15, acc 0.100, loss  0.003\n",
            "epoch  16, acc 0.104, loss  0.002\n",
            "epoch  17, acc 0.107, loss  0.002\n",
            "epoch  18, acc 0.109, loss  0.002\n",
            "epoch  19, acc 0.111, loss  0.002\n",
            "epoch  20, acc 0.112, loss  0.002\n",
            "epoch  21, acc 0.113, loss  0.002\n",
            "epoch  22, acc 0.113, loss  0.002\n",
            "epoch  23, acc 0.113, loss  0.002\n",
            "epoch  24, acc 0.112, loss  0.002\n",
            "epoch  25, acc 0.112, loss  0.002\n",
            "epoch  26, acc 0.111, loss  0.002\n",
            "epoch  27, acc 0.111, loss  0.001\n",
            "epoch  28, acc 0.110, loss  0.001\n",
            "epoch  29, acc 0.109, loss  0.001\n",
            "epoch  30, acc 0.108, loss  0.001\n",
            "epoch  31, acc 0.108, loss  0.001\n",
            "epoch  32, acc 0.107, loss  0.001\n",
            "epoch  33, acc 0.106, loss  0.001\n",
            "epoch  34, acc 0.105, loss  0.001\n",
            "epoch  35, acc 0.105, loss  0.001\n",
            "epoch  36, acc 0.104, loss  0.001\n",
            "epoch  37, acc 0.103, loss  0.001\n",
            "epoch  38, acc 0.102, loss  0.001\n",
            "epoch  39, acc 0.102, loss  0.001\n",
            "epoch  40, acc 0.101, loss  0.001\n",
            "epoch  41, acc 0.100, loss  0.001\n",
            "epoch  42, acc 0.099, loss  0.001\n",
            "epoch  43, acc 0.099, loss  0.001\n",
            "epoch  44, acc 0.098, loss  0.001\n"
          ]
        }
      ],
      "source": [
        "# 모든 데이터를 학습용으로 사용\n",
        "for epoch in range(45):\n",
        "\n",
        "    model.reset_states()  # 중요! 매 에포크마다 1회부터 다시 훈련하므로 상태 초기화 필요\n",
        "\n",
        "    for i in range(len(xs)):\n",
        "\n",
        "      xss = xs[i].reshape(1, 1, 45)\n",
        "      yss - ys[i].reshape(1, 45)\n",
        "\n",
        "      loss, acc = model.train_on_batch(xss, yss) # 배치만큼 모델에 학습\n",
        "\n",
        "      batch_train_loss.append(loss)\n",
        "      batch_train_acc.append(acc)\n",
        "\n",
        "    train_loss.append(np.mean(batch_train_loss))\n",
        "    train_acc.append(np.mean(batch_train_acc))\n",
        "\n",
        "    print('epoch{0:4d}, acc {1:0.3f}, loss {2: 0.3f}'.format(epoch,\n",
        "                                                            np.mean(batch_train_acc),\n",
        "                                                            np.mean(batch_train_loss)\n",
        "                                                            ))\n",
        "\n"
      ]
    },
    {
      "cell_type": "code",
      "execution_count": 13,
      "metadata": {
        "colab": {
          "base_uri": "https://localhost:8080/"
        },
        "id": "ekjo8MBdx--s",
        "outputId": "0520fb26-d30b-4a86-ac94-63996129fca0"
      },
      "outputs": [
        {
          "output_type": "stream",
          "name": "stdout",
          "text": [
            "receive numbers\n"
          ]
        },
        {
          "output_type": "execute_result",
          "data": {
            "text/plain": [
              "[[1, 2, 4, 8, 19, 38]]"
            ]
          },
          "metadata": {},
          "execution_count": 13
        }
      ],
      "source": [
        "# 다음회 예측\n",
        "\n",
        "print('receive numbers')\n",
        "\n",
        "xss = xs[-1].reshape(1, 1, 45)\n",
        "\n",
        "pred = model.predict_on_batch(xss)\n",
        "pred\n",
        "\n",
        "luck = list(map(o2n, pred))\n",
        "luck\n",
        "\n",
        "# list_number = []\n",
        "\n",
        "# for n in range(6):\n",
        "#   numbers =pred\n",
        "  # numbers.sort()\n",
        "  # print('{0} : {1}'.format(n, numbers))\n",
        "  # list_numbers.append(numbers)"
      ]
    },
    {
      "cell_type": "code",
      "execution_count": 13,
      "metadata": {
        "id": "67xyP3Kf3WvN"
      },
      "outputs": [],
      "source": []
    }
  ],
  "metadata": {
    "accelerator": "GPU",
    "colab": {
      "gpuType": "T4",
      "provenance": [],
      "authorship_tag": "ABX9TyNl61053zvek3GWs9HQK2ix",
      "include_colab_link": true
    },
    "kernelspec": {
      "display_name": "Python 3",
      "name": "python3"
    },
    "language_info": {
      "name": "python"
    }
  },
  "nbformat": 4,
  "nbformat_minor": 0
}