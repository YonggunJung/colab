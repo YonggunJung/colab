{
  "cells": [
    {
      "cell_type": "markdown",
      "metadata": {
        "id": "view-in-github",
        "colab_type": "text"
      },
      "source": [
        "<a href=\"https://colab.research.google.com/github/YonggunJung/colab/blob/main/1133DLotto.ipynb\" target=\"_parent\"><img src=\"https://colab.research.google.com/assets/colab-badge.svg\" alt=\"Open In Colab\"/></a>"
      ]
    },
    {
      "cell_type": "code",
      "execution_count": 1,
      "metadata": {
        "colab": {
          "base_uri": "https://localhost:8080/"
        },
        "id": "EV0N-8-1wfGo",
        "outputId": "66836ad6-0dd7-4594-a21c-dfa767163866"
      },
      "outputs": [
        {
          "output_type": "stream",
          "name": "stdout",
          "text": [
            "Drive already mounted at /content/drive; to attempt to forcibly remount, call drive.mount(\"/content/drive\", force_remount=True).\n"
          ]
        }
      ],
      "source": [
        "from google.colab import drive\n",
        "drive.mount('/content/drive')"
      ]
    },
    {
      "cell_type": "code",
      "execution_count": 2,
      "metadata": {
        "id": "6OK4eW92wov0"
      },
      "outputs": [],
      "source": [
        "import pandas as pd\n",
        "import numpy as np\n",
        "import warnings\n",
        "warnings.filterwarnings('ignore')"
      ]
    },
    {
      "cell_type": "code",
      "execution_count": 3,
      "metadata": {
        "colab": {
          "base_uri": "https://localhost:8080/"
        },
        "id": "227wJo0xYVaV",
        "outputId": "720d2709-d95e-4466-c201-da62c69c29a7"
      },
      "outputs": [
        {
          "output_type": "execute_result",
          "data": {
            "text/plain": [
              "array([[ 4.,  7., 17., 18., 38., 44.],\n",
              "       [ 8., 12., 13., 29., 33., 42.],\n",
              "       [ 3.,  7., 14., 15., 22., 38.],\n",
              "       ...,\n",
              "       [15., 19., 21., 25., 27., 28.],\n",
              "       [ 1.,  2.,  6., 14., 27., 38.],\n",
              "       [ 6.,  7., 19., 28., 34., 41.]])"
            ]
          },
          "metadata": {},
          "execution_count": 3
        }
      ],
      "source": [
        "win = np.loadtxt('/content/drive/MyDrive/Colab Notebooks/로또/data/jlotto.csv', delimiter = ',')\n",
        "win"
      ]
    },
    {
      "cell_type": "code",
      "execution_count": 4,
      "metadata": {
        "id": "GS0NAmQGw74-"
      },
      "outputs": [],
      "source": [
        "xn = len(win)"
      ]
    },
    {
      "cell_type": "code",
      "execution_count": 5,
      "metadata": {
        "id": "gG4RnEQzhKPx"
      },
      "outputs": [],
      "source": [
        "# 숫자를 원핫 인코딩으로 변환\n",
        "def n2o(numbers):\n",
        "\n",
        "  oh = np.zeros(45)  # 45개의 빈 칸 만들기\n",
        "\n",
        "  for i in range(6):            # 6개의 당첨번호를 반복\n",
        "      oh[int(numbers[i])-1] = 1   # 번호는 1부터 시작하고 인덱스는 0부터 시작하니 1을 빼줌\n",
        "\n",
        "  return oh\n",
        "\n",
        "# 원핫 인코딩을 숫자로 변환\n",
        "def o2n(oh):\n",
        "\n",
        "  numbers = []\n",
        "\n",
        "  for i in range(len(oh)):\n",
        "    if oh[i] == 1:           # oh[i]이 1 이면 해당 번호를 출력\n",
        "      numbers.append(i+1)    # 인덱스 보다 숫자가 1크니까 1더해줌 출력\n",
        "\n",
        "  return numbers"
      ]
    },
    {
      "cell_type": "code",
      "execution_count": 6,
      "metadata": {
        "colab": {
          "base_uri": "https://localhost:8080/"
        },
        "id": "XCSHMDUUvRZf",
        "outputId": "463b0597-9151-462b-bc4a-2a824178f879"
      },
      "outputs": [
        {
          "output_type": "stream",
          "name": "stdout",
          "text": [
            "ohs\n",
            "x[0] :[0. 0. 0. 1. 0. 0. 1. 0. 0. 0. 0. 0. 0. 0. 0. 0. 1. 1. 0. 0. 0. 0. 0. 0.\n",
            " 0. 0. 0. 0. 0. 0. 0. 0. 0. 0. 0. 0. 0. 1. 0. 0. 0. 0. 0. 1. 0.]\n",
            "y[0] :[0. 0. 0. 0. 0. 0. 0. 1. 0. 0. 0. 1. 1. 0. 0. 0. 0. 0. 0. 0. 0. 0. 0. 0.\n",
            " 0. 0. 0. 0. 1. 0. 0. 0. 1. 0. 0. 0. 0. 0. 0. 0. 0. 1. 0. 0. 0.]\n",
            "numbers\n",
            "x[0] :[4, 7, 17, 18, 38, 44]\n",
            "y[0] :[8, 12, 13, 29, 33, 42]\n"
          ]
        }
      ],
      "source": [
        "numbers = win[: , :]  # 이게 문제라서 못 하겠음ㅠ 데이터 프레임이 문제인가?\n",
        "                      # 데이터 프레임으로 안열고 넘파이 텍스트 파일로 가져오니 됨\n",
        "ohs = list(map(n2o, numbers))\n",
        "\n",
        "xs = ohs[0:xn -1]\n",
        "ys = ohs[1:xn]\n",
        "\n",
        "# 원핫 인코딩 확인\n",
        "print('ohs')\n",
        "print('x[0] :' + str(xs[0]))\n",
        "print('y[0] :' + str(ys[0]))\n",
        "\n",
        "# 번호 확인\n",
        "print('numbers')\n",
        "print('x[0] :' + str(o2n(xs[0])))\n",
        "print('y[0] :' + str(o2n(ys[0])))"
      ]
    },
    {
      "cell_type": "code",
      "execution_count": 7,
      "metadata": {
        "colab": {
          "base_uri": "https://localhost:8080/"
        },
        "id": "8WuoR8jggg2_",
        "outputId": "bc0e03b3-d5be-4a97-b6dd-114f56c93c57"
      },
      "outputs": [
        {
          "output_type": "stream",
          "name": "stdout",
          "text": [
            "train : (0, 679), val : (679, 905), test : (905, 1132)\n"
          ]
        }
      ],
      "source": [
        "train = (0, int(len(win)*0.6))\n",
        "val = (int(len(win)*0.6), int(len(win)*0.8))\n",
        "test = (int(len(win)*0.8), len(win))\n",
        "\n",
        "print('train : {0}, val : {1}, test : {2}'.format(train, val, test))"
      ]
    },
    {
      "cell_type": "code",
      "source": [
        "pip install tensorflow==2.8.0"
      ],
      "metadata": {
        "colab": {
          "base_uri": "https://localhost:8080/"
        },
        "id": "IFNFpjJvc2J7",
        "outputId": "d14a99f0-739c-4fbe-cd6c-40319fec0ff4"
      },
      "execution_count": 8,
      "outputs": [
        {
          "output_type": "stream",
          "name": "stdout",
          "text": [
            "Requirement already satisfied: tensorflow==2.8.0 in /usr/local/lib/python3.10/dist-packages (2.8.0)\n",
            "Requirement already satisfied: absl-py>=0.4.0 in /usr/local/lib/python3.10/dist-packages (from tensorflow==2.8.0) (1.4.0)\n",
            "Requirement already satisfied: astunparse>=1.6.0 in /usr/local/lib/python3.10/dist-packages (from tensorflow==2.8.0) (1.6.3)\n",
            "Requirement already satisfied: flatbuffers>=1.12 in /usr/local/lib/python3.10/dist-packages (from tensorflow==2.8.0) (24.3.25)\n",
            "Requirement already satisfied: gast>=0.2.1 in /usr/local/lib/python3.10/dist-packages (from tensorflow==2.8.0) (0.6.0)\n",
            "Requirement already satisfied: google-pasta>=0.1.1 in /usr/local/lib/python3.10/dist-packages (from tensorflow==2.8.0) (0.2.0)\n",
            "Requirement already satisfied: h5py>=2.9.0 in /usr/local/lib/python3.10/dist-packages (from tensorflow==2.8.0) (3.11.0)\n",
            "Requirement already satisfied: keras-preprocessing>=1.1.1 in /usr/local/lib/python3.10/dist-packages (from tensorflow==2.8.0) (1.1.2)\n",
            "Requirement already satisfied: libclang>=9.0.1 in /usr/local/lib/python3.10/dist-packages (from tensorflow==2.8.0) (18.1.1)\n",
            "Requirement already satisfied: numpy>=1.20 in /usr/local/lib/python3.10/dist-packages (from tensorflow==2.8.0) (1.26.4)\n",
            "Requirement already satisfied: opt-einsum>=2.3.2 in /usr/local/lib/python3.10/dist-packages (from tensorflow==2.8.0) (3.3.0)\n",
            "Requirement already satisfied: protobuf>=3.9.2 in /usr/local/lib/python3.10/dist-packages (from tensorflow==2.8.0) (3.20.3)\n",
            "Requirement already satisfied: setuptools in /usr/local/lib/python3.10/dist-packages (from tensorflow==2.8.0) (71.0.4)\n",
            "Requirement already satisfied: six>=1.12.0 in /usr/local/lib/python3.10/dist-packages (from tensorflow==2.8.0) (1.16.0)\n",
            "Requirement already satisfied: termcolor>=1.1.0 in /usr/local/lib/python3.10/dist-packages (from tensorflow==2.8.0) (2.4.0)\n",
            "Requirement already satisfied: typing-extensions>=3.6.6 in /usr/local/lib/python3.10/dist-packages (from tensorflow==2.8.0) (4.12.2)\n",
            "Requirement already satisfied: wrapt>=1.11.0 in /usr/local/lib/python3.10/dist-packages (from tensorflow==2.8.0) (1.16.0)\n",
            "Requirement already satisfied: tensorboard<2.9,>=2.8 in /usr/local/lib/python3.10/dist-packages (from tensorflow==2.8.0) (2.8.0)\n",
            "Requirement already satisfied: tf-estimator-nightly==2.8.0.dev2021122109 in /usr/local/lib/python3.10/dist-packages (from tensorflow==2.8.0) (2.8.0.dev2021122109)\n",
            "Requirement already satisfied: keras<2.9,>=2.8.0rc0 in /usr/local/lib/python3.10/dist-packages (from tensorflow==2.8.0) (2.8.0)\n",
            "Requirement already satisfied: tensorflow-io-gcs-filesystem>=0.23.1 in /usr/local/lib/python3.10/dist-packages (from tensorflow==2.8.0) (0.37.1)\n",
            "Requirement already satisfied: grpcio<2.0,>=1.24.3 in /usr/local/lib/python3.10/dist-packages (from tensorflow==2.8.0) (1.64.1)\n",
            "Requirement already satisfied: wheel<1.0,>=0.23.0 in /usr/local/lib/python3.10/dist-packages (from astunparse>=1.6.0->tensorflow==2.8.0) (0.44.0)\n",
            "Requirement already satisfied: google-auth<3,>=1.6.3 in /usr/local/lib/python3.10/dist-packages (from tensorboard<2.9,>=2.8->tensorflow==2.8.0) (2.27.0)\n",
            "Requirement already satisfied: google-auth-oauthlib<0.5,>=0.4.1 in /usr/local/lib/python3.10/dist-packages (from tensorboard<2.9,>=2.8->tensorflow==2.8.0) (0.4.6)\n",
            "Requirement already satisfied: markdown>=2.6.8 in /usr/local/lib/python3.10/dist-packages (from tensorboard<2.9,>=2.8->tensorflow==2.8.0) (3.6)\n",
            "Requirement already satisfied: requests<3,>=2.21.0 in /usr/local/lib/python3.10/dist-packages (from tensorboard<2.9,>=2.8->tensorflow==2.8.0) (2.32.3)\n",
            "Requirement already satisfied: tensorboard-data-server<0.7.0,>=0.6.0 in /usr/local/lib/python3.10/dist-packages (from tensorboard<2.9,>=2.8->tensorflow==2.8.0) (0.6.1)\n",
            "Requirement already satisfied: tensorboard-plugin-wit>=1.6.0 in /usr/local/lib/python3.10/dist-packages (from tensorboard<2.9,>=2.8->tensorflow==2.8.0) (1.8.1)\n",
            "Requirement already satisfied: werkzeug>=0.11.15 in /usr/local/lib/python3.10/dist-packages (from tensorboard<2.9,>=2.8->tensorflow==2.8.0) (3.0.3)\n",
            "Requirement already satisfied: cachetools<6.0,>=2.0.0 in /usr/local/lib/python3.10/dist-packages (from google-auth<3,>=1.6.3->tensorboard<2.9,>=2.8->tensorflow==2.8.0) (5.4.0)\n",
            "Requirement already satisfied: pyasn1-modules>=0.2.1 in /usr/local/lib/python3.10/dist-packages (from google-auth<3,>=1.6.3->tensorboard<2.9,>=2.8->tensorflow==2.8.0) (0.4.0)\n",
            "Requirement already satisfied: rsa<5,>=3.1.4 in /usr/local/lib/python3.10/dist-packages (from google-auth<3,>=1.6.3->tensorboard<2.9,>=2.8->tensorflow==2.8.0) (4.9)\n",
            "Requirement already satisfied: requests-oauthlib>=0.7.0 in /usr/local/lib/python3.10/dist-packages (from google-auth-oauthlib<0.5,>=0.4.1->tensorboard<2.9,>=2.8->tensorflow==2.8.0) (1.3.1)\n",
            "Requirement already satisfied: charset-normalizer<4,>=2 in /usr/local/lib/python3.10/dist-packages (from requests<3,>=2.21.0->tensorboard<2.9,>=2.8->tensorflow==2.8.0) (3.3.2)\n",
            "Requirement already satisfied: idna<4,>=2.5 in /usr/local/lib/python3.10/dist-packages (from requests<3,>=2.21.0->tensorboard<2.9,>=2.8->tensorflow==2.8.0) (3.7)\n",
            "Requirement already satisfied: urllib3<3,>=1.21.1 in /usr/local/lib/python3.10/dist-packages (from requests<3,>=2.21.0->tensorboard<2.9,>=2.8->tensorflow==2.8.0) (2.0.7)\n",
            "Requirement already satisfied: certifi>=2017.4.17 in /usr/local/lib/python3.10/dist-packages (from requests<3,>=2.21.0->tensorboard<2.9,>=2.8->tensorflow==2.8.0) (2024.7.4)\n",
            "Requirement already satisfied: MarkupSafe>=2.1.1 in /usr/local/lib/python3.10/dist-packages (from werkzeug>=0.11.15->tensorboard<2.9,>=2.8->tensorflow==2.8.0) (2.1.5)\n",
            "Requirement already satisfied: pyasn1<0.7.0,>=0.4.6 in /usr/local/lib/python3.10/dist-packages (from pyasn1-modules>=0.2.1->google-auth<3,>=1.6.3->tensorboard<2.9,>=2.8->tensorflow==2.8.0) (0.6.0)\n",
            "Requirement already satisfied: oauthlib>=3.0.0 in /usr/local/lib/python3.10/dist-packages (from requests-oauthlib>=0.7.0->google-auth-oauthlib<0.5,>=0.4.1->tensorboard<2.9,>=2.8->tensorflow==2.8.0) (3.2.2)\n"
          ]
        }
      ]
    },
    {
      "cell_type": "code",
      "execution_count": 9,
      "metadata": {
        "id": "VNx80jYjgg0y"
      },
      "outputs": [],
      "source": [
        "import tensorflow as tf\n",
        "from tensorflow import keras\n",
        "from tensorflow.keras import layers\n",
        "from tensorflow.keras import models\n",
        "\n",
        "# 모델 정의\n",
        "model = keras.Sequential([\n",
        "    keras.layers.LSTM(128,\n",
        "                      batch_input_shape = (1, 1, 45),\n",
        "                      return_sequences = False,\n",
        "                      stateful = True),\n",
        "    keras.layers.Dense(45, activation = 'sigmoid')\n",
        "])\n",
        "\n",
        "# 모델 컴파일\n",
        "model.compile(loss = 'binary_crossentropy', optimizer = 'adam', metrics = ['accuracy'])"
      ]
    },
    {
      "cell_type": "code",
      "execution_count": 10,
      "metadata": {
        "colab": {
          "base_uri": "https://localhost:8080/"
        },
        "id": "psqZd4_Nggyf",
        "outputId": "b3ec5432-1443-4d52-e6c5-75c13aa92fcd"
      },
      "outputs": [
        {
          "output_type": "stream",
          "name": "stdout",
          "text": [
            "epoch   0, acc 0.024, loss  0.411, val_acc 0.000, val_loss 0.400\n",
            "epoch   1, acc 0.029, loss  0.397, val_acc 0.000, val_loss 0.399\n",
            "epoch   2, acc 0.031, loss  0.394, val_acc 0.000, val_loss 0.399\n",
            "epoch   3, acc 0.035, loss  0.391, val_acc 0.004, val_loss 0.399\n",
            "epoch   4, acc 0.038, loss  0.388, val_acc 0.018, val_loss 0.401\n",
            "epoch   5, acc 0.038, loss  0.383, val_acc 0.018, val_loss 0.404\n",
            "epoch   6, acc 0.044, loss  0.378, val_acc 0.022, val_loss 0.409\n",
            "epoch   7, acc 0.053, loss  0.372, val_acc 0.022, val_loss 0.413\n",
            "epoch   8, acc 0.059, loss  0.366, val_acc 0.027, val_loss 0.418\n",
            "epoch   9, acc 0.069, loss  0.360, val_acc 0.035, val_loss 0.422\n",
            "epoch  10, acc 0.077, loss  0.354, val_acc 0.040, val_loss 0.426\n",
            "epoch  11, acc 0.074, loss  0.347, val_acc 0.035, val_loss 0.429\n",
            "epoch  12, acc 0.093, loss  0.340, val_acc 0.035, val_loss 0.432\n",
            "epoch  13, acc 0.116, loss  0.332, val_acc 0.040, val_loss 0.435\n",
            "epoch  14, acc 0.125, loss  0.324, val_acc 0.035, val_loss 0.440\n",
            "epoch  15, acc 0.119, loss  0.315, val_acc 0.040, val_loss 0.445\n",
            "epoch  16, acc 0.125, loss  0.306, val_acc 0.040, val_loss 0.450\n",
            "epoch  17, acc 0.125, loss  0.297, val_acc 0.031, val_loss 0.456\n",
            "epoch  18, acc 0.130, loss  0.287, val_acc 0.027, val_loss 0.462\n",
            "epoch  19, acc 0.124, loss  0.276, val_acc 0.031, val_loss 0.469\n",
            "epoch  20, acc 0.127, loss  0.265, val_acc 0.027, val_loss 0.477\n",
            "epoch  21, acc 0.131, loss  0.253, val_acc 0.018, val_loss 0.486\n",
            "epoch  22, acc 0.147, loss  0.242, val_acc 0.018, val_loss 0.497\n",
            "epoch  23, acc 0.158, loss  0.231, val_acc 0.031, val_loss 0.508\n",
            "epoch  24, acc 0.152, loss  0.220, val_acc 0.031, val_loss 0.518\n",
            "epoch  25, acc 0.152, loss  0.209, val_acc 0.027, val_loss 0.528\n",
            "epoch  26, acc 0.153, loss  0.198, val_acc 0.027, val_loss 0.540\n",
            "epoch  27, acc 0.163, loss  0.188, val_acc 0.031, val_loss 0.552\n",
            "epoch  28, acc 0.147, loss  0.179, val_acc 0.027, val_loss 0.564\n",
            "epoch  29, acc 0.155, loss  0.170, val_acc 0.035, val_loss 0.572\n",
            "epoch  30, acc 0.161, loss  0.160, val_acc 0.031, val_loss 0.582\n",
            "epoch  31, acc 0.153, loss  0.154, val_acc 0.031, val_loss 0.590\n",
            "epoch  32, acc 0.165, loss  0.144, val_acc 0.022, val_loss 0.607\n",
            "epoch  33, acc 0.169, loss  0.138, val_acc 0.018, val_loss 0.614\n",
            "epoch  34, acc 0.168, loss  0.130, val_acc 0.027, val_loss 0.628\n",
            "epoch  35, acc 0.169, loss  0.125, val_acc 0.027, val_loss 0.643\n",
            "epoch  36, acc 0.144, loss  0.117, val_acc 0.022, val_loss 0.648\n",
            "epoch  37, acc 0.150, loss  0.112, val_acc 0.027, val_loss 0.669\n",
            "epoch  38, acc 0.166, loss  0.104, val_acc 0.035, val_loss 0.681\n",
            "epoch  39, acc 0.153, loss  0.098, val_acc 0.035, val_loss 0.691\n",
            "epoch  40, acc 0.159, loss  0.094, val_acc 0.018, val_loss 0.702\n",
            "epoch  41, acc 0.153, loss  0.089, val_acc 0.027, val_loss 0.715\n",
            "epoch  42, acc 0.152, loss  0.084, val_acc 0.013, val_loss 0.721\n",
            "epoch  43, acc 0.155, loss  0.082, val_acc 0.018, val_loss 0.736\n",
            "epoch  44, acc 0.177, loss  0.078, val_acc 0.022, val_loss 0.744\n",
            "epoch  45, acc 0.153, loss  0.072, val_acc 0.022, val_loss 0.758\n",
            "epoch  46, acc 0.150, loss  0.069, val_acc 0.031, val_loss 0.763\n",
            "epoch  47, acc 0.161, loss  0.062, val_acc 0.013, val_loss 0.779\n",
            "epoch  48, acc 0.165, loss  0.058, val_acc 0.018, val_loss 0.794\n",
            "epoch  49, acc 0.155, loss  0.059, val_acc 0.040, val_loss 0.804\n",
            "epoch  50, acc 0.158, loss  0.055, val_acc 0.035, val_loss 0.811\n",
            "epoch  51, acc 0.137, loss  0.052, val_acc 0.031, val_loss 0.832\n",
            "epoch  52, acc 0.152, loss  0.050, val_acc 0.027, val_loss 0.844\n",
            "epoch  53, acc 0.156, loss  0.046, val_acc 0.035, val_loss 0.865\n",
            "epoch  54, acc 0.175, loss  0.046, val_acc 0.022, val_loss 0.869\n",
            "epoch  55, acc 0.149, loss  0.039, val_acc 0.018, val_loss 0.862\n",
            "epoch  56, acc 0.158, loss  0.038, val_acc 0.022, val_loss 0.889\n",
            "epoch  57, acc 0.152, loss  0.039, val_acc 0.018, val_loss 0.896\n",
            "epoch  58, acc 0.143, loss  0.037, val_acc 0.018, val_loss 0.916\n",
            "epoch  59, acc 0.141, loss  0.034, val_acc 0.013, val_loss 0.923\n"
          ]
        }
      ],
      "source": [
        "# 매 에포크마다 훈련과 검증의 손실 및 정확도를 기록하기 위한 변수\n",
        "train_loss = []\n",
        "train_acc = []\n",
        "val_loss = []\n",
        "val_acc = []\n",
        "\n",
        "# 최대 100번 에포크까지 수행\n",
        "for epoch in range(16):\n",
        "    model.reset_states()  # 중요! 매 에포크마다 1회부터 다시 훈련하므로 상태 초기화 필요\n",
        "\n",
        "    batch_train_loss = []\n",
        "    batch_train_acc = []\n",
        "\n",
        "    for i in range(train[0], train[1]):\n",
        "\n",
        "        xss = xs[i].reshape(1, 1, 45)\n",
        "        yss = ys[i].reshape(1, 45)\n",
        "\n",
        "        loss, acc = model.train_on_batch(xss, yss) # 배치만큼 모델에 학습\n",
        "\n",
        "        batch_train_loss.append(loss)\n",
        "        batch_train_acc.append(acc)\n",
        "\n",
        "    train_loss.append(np.mean(batch_train_loss))\n",
        "    train_acc.append(np.mean(batch_train_acc))\n",
        "\n",
        "    batch_val_loss = []\n",
        "    batch_val_acc = []\n",
        "\n",
        "    for i in range(val[0], val[1]):\n",
        "\n",
        "        xss = xs[i].reshape(1, 1, 45)\n",
        "        yss = ys[i].reshape(1, 45)\n",
        "\n",
        "        loss, acc = model.test_on_batch(xss, yss) # 배치만큼 모델에 입력하여 나온 결과를 정답과 비교함\n",
        "\n",
        "        batch_val_loss.append(loss)\n",
        "        batch_val_acc.append(acc)\n",
        "\n",
        "    val_loss.append(np.mean(batch_val_loss))\n",
        "    val_acc.append(np.mean(batch_val_acc))\n",
        "\n",
        "    print('epoch{0:4d}, acc {1:0.3f}, loss {2: 0.3f}, val_acc {3:0.3f}, val_loss {4:0.3f}'.format(epoch,\n",
        "                                                                                                  np.mean(batch_train_acc),\n",
        "                                                                                                  np.mean(batch_train_loss),\n",
        "                                                                                                  np.mean(batch_val_acc),\n",
        "                                                                                                  np.mean(batch_val_loss)))"
      ]
    },
    {
      "cell_type": "code",
      "execution_count": 11,
      "metadata": {
        "id": "bshpyH52ggwS",
        "colab": {
          "base_uri": "https://localhost:8080/",
          "height": 449
        },
        "outputId": "a1089e00-bada-46ee-c36a-6b4a472c49e4"
      },
      "outputs": [
        {
          "output_type": "display_data",
          "data": {
            "text/plain": [
              "<Figure size 640x480 with 2 Axes>"
            ],
            "image/png": "[encoded data removed]"
          },
          "metadata": {}
        }
      ],
      "source": [
        "%matplotlib inline\n",
        "import matplotlib.pyplot as plt\n",
        "\n",
        "fig, loss_ax = plt.subplots()\n",
        "\n",
        "acc_ax = loss_ax.twinx()\n",
        "\n",
        "loss_ax.plot(train_loss, 'y', label = 'train loss')\n",
        "loss_ax.plot(val_loss, 'r', label = 'val loss')\n",
        "\n",
        "acc_ax.plot(train_acc, 'b', label = 'train acc')\n",
        "acc_ax.plot(val_acc, 'g', label = 'val acc')\n",
        "\n",
        "loss_ax.set_xlabel('epoch')\n",
        "loss_ax.set_ylabel('epoch')\n",
        "acc_ax.set_ylabel('accracy')\n",
        "\n",
        "loss_ax.legend(loc = 'upper left')\n",
        "acc_ax.legend(loc = 'lower left')\n",
        "\n",
        "plt.show()\n",
        "# 이미 학습은 의미가 없다는 결론이 나옴"
      ]
    },
    {
      "cell_type": "code",
      "execution_count": 12,
      "metadata": {
        "colab": {
          "base_uri": "https://localhost:8080/"
        },
        "id": "mTiXpDcjx_As",
        "outputId": "8c2f786a-6764-49f2-f481-dfb39aedce6b"
      },
      "outputs": [
        {
          "output_type": "stream",
          "name": "stdout",
          "text": [
            "epoch   0, acc 0.070, loss  0.026\n",
            "epoch   1, acc 0.057, loss  0.016\n",
            "epoch   2, acc 0.056, loss  0.012\n",
            "epoch   3, acc 0.059, loss  0.009\n",
            "epoch   4, acc 0.063, loss  0.008\n",
            "epoch   5, acc 0.067, loss  0.006\n",
            "epoch   6, acc 0.071, loss  0.006\n",
            "epoch   7, acc 0.074, loss  0.005\n",
            "epoch   8, acc 0.077, loss  0.004\n",
            "epoch   9, acc 0.081, loss  0.004\n",
            "epoch  10, acc 0.085, loss  0.004\n",
            "epoch  11, acc 0.090, loss  0.003\n",
            "epoch  12, acc 0.095, loss  0.003\n",
            "epoch  13, acc 0.101, loss  0.003\n",
            "epoch  14, acc 0.110, loss  0.003\n",
            "epoch  15, acc 0.121, loss  0.003\n",
            "epoch  16, acc 0.133, loss  0.002\n",
            "epoch  17, acc 0.147, loss  0.002\n",
            "epoch  18, acc 0.163, loss  0.002\n",
            "epoch  19, acc 0.179, loss  0.002\n",
            "epoch  20, acc 0.195, loss  0.002\n",
            "epoch  21, acc 0.213, loss  0.002\n",
            "epoch  22, acc 0.230, loss  0.002\n",
            "epoch  23, acc 0.247, loss  0.002\n",
            "epoch  24, acc 0.264, loss  0.002\n",
            "epoch  25, acc 0.281, loss  0.002\n",
            "epoch  26, acc 0.297, loss  0.002\n",
            "epoch  27, acc 0.313, loss  0.001\n",
            "epoch  28, acc 0.328, loss  0.001\n",
            "epoch  29, acc 0.342, loss  0.001\n",
            "epoch  30, acc 0.356, loss  0.001\n",
            "epoch  31, acc 0.369, loss  0.001\n",
            "epoch  32, acc 0.382, loss  0.001\n",
            "epoch  33, acc 0.395, loss  0.001\n",
            "epoch  34, acc 0.406, loss  0.001\n",
            "epoch  35, acc 0.418, loss  0.001\n",
            "epoch  36, acc 0.428, loss  0.001\n",
            "epoch  37, acc 0.438, loss  0.001\n",
            "epoch  38, acc 0.448, loss  0.001\n",
            "epoch  39, acc 0.458, loss  0.001\n",
            "epoch  40, acc 0.467, loss  0.001\n",
            "epoch  41, acc 0.476, loss  0.001\n",
            "epoch  42, acc 0.484, loss  0.001\n",
            "epoch  43, acc 0.492, loss  0.001\n",
            "epoch  44, acc 0.500, loss  0.001\n"
          ]
        }
      ],
      "source": [
        "# 모든 데이터를 학습용으로 사용\n",
        "for epoch in range(45):\n",
        "\n",
        "    model.reset_states()  # 중요! 매 에포크마다 1회부터 다시 훈련하므로 상태 초기화 필요\n",
        "\n",
        "    for i in range(len(xs)):\n",
        "\n",
        "      xss = xs[i].reshape(1, 1, 45)\n",
        "      yss - ys[i].reshape(1, 45)\n",
        "\n",
        "      loss, acc = model.train_on_batch(xss, yss) # 배치만큼 모델에 학습\n",
        "\n",
        "      batch_train_loss.append(loss)\n",
        "      batch_train_acc.append(acc)\n",
        "\n",
        "    train_loss.append(np.mean(batch_train_loss))\n",
        "    train_acc.append(np.mean(batch_train_acc))\n",
        "\n",
        "    print('epoch{0:4d}, acc {1:0.3f}, loss {2: 0.3f}'.format(epoch,\n",
        "                                                            np.mean(batch_train_acc),\n",
        "                                                            np.mean(batch_train_loss)\n",
        "                                                            ))\n",
        "\n"
      ]
    },
    {
      "cell_type": "code",
      "execution_count": 13,
      "metadata": {
        "colab": {
          "base_uri": "https://localhost:8080/"
        },
        "id": "ekjo8MBdx--s",
        "outputId": "5c47447a-3d47-4c0f-90c3-c6baa0c2c53c"
      },
      "outputs": [
        {
          "output_type": "stream",
          "name": "stdout",
          "text": [
            "receive numbers\n"
          ]
        },
        {
          "output_type": "execute_result",
          "data": {
            "text/plain": [
              "[[2, 15, 20, 21, 29, 34]]"
            ]
          },
          "metadata": {},
          "execution_count": 13
        }
      ],
      "source": [
        "# 다음회 예측\n",
        "\n",
        "print('receive numbers')\n",
        "\n",
        "xss = xs[-1].reshape(1, 1, 45)\n",
        "\n",
        "pred = model.predict_on_batch(xss)\n",
        "pred\n",
        "\n",
        "luck = list(map(o2n, pred))\n",
        "luck\n",
        "\n",
        "# list_number = []\n",
        "\n",
        "# for n in range(6):\n",
        "#   numbers =pred\n",
        "  # numbers.sort()\n",
        "  # print('{0} : {1}'.format(n, numbers))\n",
        "  # list_numbers.append(numbers)"
      ]
    },
    {
      "cell_type": "code",
      "execution_count": 13,
      "metadata": {
        "id": "67xyP3Kf3WvN"
      },
      "outputs": [],
      "source": []
    }
  ],
  "metadata": {
    "accelerator": "GPU",
    "colab": {
      "gpuType": "T4",
      "provenance": [],
      "authorship_tag": "ABX9TyNPtv2x8kRPQI4AalCUQeOr",
      "include_colab_link": true
    },
    "kernelspec": {
      "display_name": "Python 3",
      "name": "python3"
    },
    "language_info": {
      "name": "python"
    }
  },
  "nbformat": 4,
  "nbformat_minor": 0
}