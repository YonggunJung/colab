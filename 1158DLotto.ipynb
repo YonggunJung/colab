{
  "cells": [
    {
      "cell_type": "markdown",
      "metadata": {
        "id": "view-in-github",
        "colab_type": "text"
      },
      "source": [
        "<a href=\"https://colab.research.google.com/github/YonggunJung/colab/blob/main/1158DLotto.ipynb\" target=\"_parent\"><img src=\"https://colab.research.google.com/assets/colab-badge.svg\" alt=\"Open In Colab\"/></a>"
      ]
    },
    {
      "cell_type": "code",
      "execution_count": 1,
      "metadata": {
        "colab": {
          "base_uri": "https://localhost:8080/"
        },
        "id": "EV0N-8-1wfGo",
        "outputId": "15552b5b-0a38-460c-acfd-a53ae47e06b5"
      },
      "outputs": [
        {
          "output_type": "stream",
          "name": "stdout",
          "text": [
            "Drive already mounted at /content/drive; to attempt to forcibly remount, call drive.mount(\"/content/drive\", force_remount=True).\n"
          ]
        }
      ],
      "source": [
        "from google.colab import drive\n",
        "drive.mount('/content/drive')"
      ]
    },
    {
      "cell_type": "code",
      "execution_count": 2,
      "metadata": {
        "id": "6OK4eW92wov0"
      },
      "outputs": [],
      "source": [
        "import pandas as pd\n",
        "import numpy as np\n",
        "import warnings\n",
        "warnings.filterwarnings('ignore')"
      ]
    },
    {
      "cell_type": "code",
      "execution_count": 3,
      "metadata": {
        "colab": {
          "base_uri": "https://localhost:8080/"
        },
        "id": "227wJo0xYVaV",
        "outputId": "16739c73-9a0b-4f3a-b8ab-55c97eec0a92"
      },
      "outputs": [
        {
          "output_type": "execute_result",
          "data": {
            "text/plain": [
              "array([[ 4.,  7., 17., 18., 38., 44.],\n",
              "       [ 8., 12., 13., 29., 33., 42.],\n",
              "       [ 3.,  7., 14., 15., 22., 38.],\n",
              "       ...,\n",
              "       [10., 16., 19., 27., 37., 38.],\n",
              "       [30., 31., 34., 39., 41., 45.],\n",
              "       [ 5.,  7., 12., 20., 25., 26.]])"
            ]
          },
          "metadata": {},
          "execution_count": 3
        }
      ],
      "source": [
        "win = np.loadtxt('/content/drive/MyDrive/Colab Notebooks/로또/data/jlotto.csv', delimiter = ',')\n",
        "win"
      ]
    },
    {
      "cell_type": "code",
      "execution_count": 4,
      "metadata": {
        "id": "GS0NAmQGw74-"
      },
      "outputs": [],
      "source": [
        "xn = len(win)"
      ]
    },
    {
      "cell_type": "code",
      "execution_count": 5,
      "metadata": {
        "id": "gG4RnEQzhKPx"
      },
      "outputs": [],
      "source": [
        "# 숫자를 원핫 인코딩으로 변환\n",
        "def n2o(numbers):\n",
        "\n",
        "  oh = np.zeros(45)  # 45개의 빈 칸 만들기\n",
        "\n",
        "  for i in range(6):            # 6개의 당첨번호를 반복\n",
        "      oh[int(numbers[i])-1] = 1   # 번호는 1부터 시작하고 인덱스는 0부터 시작하니 1을 빼줌\n",
        "\n",
        "  return oh\n",
        "\n",
        "# 원핫 인코딩을 숫자로 변환\n",
        "def o2n(oh):\n",
        "\n",
        "  numbers = []\n",
        "\n",
        "  for i in range(len(oh)):\n",
        "    if oh[i] == 1:           # oh[i]이 1 이면 해당 번호를 출력\n",
        "      numbers.append(i+1)    # 인덱스 보다 숫자가 1크니까 1더해줌 출력\n",
        "\n",
        "  return numbers"
      ]
    },
    {
      "cell_type": "code",
      "execution_count": 6,
      "metadata": {
        "colab": {
          "base_uri": "https://localhost:8080/"
        },
        "id": "XCSHMDUUvRZf",
        "outputId": "52c00c13-c514-4ab4-acd9-3616f0c7440e"
      },
      "outputs": [
        {
          "output_type": "stream",
          "name": "stdout",
          "text": [
            "ohs\n",
            "x[0] :[0. 0. 0. 1. 0. 0. 1. 0. 0. 0. 0. 0. 0. 0. 0. 0. 1. 1. 0. 0. 0. 0. 0. 0.\n",
            " 0. 0. 0. 0. 0. 0. 0. 0. 0. 0. 0. 0. 0. 1. 0. 0. 0. 0. 0. 1. 0.]\n",
            "y[0] :[0. 0. 0. 0. 0. 0. 0. 1. 0. 0. 0. 1. 1. 0. 0. 0. 0. 0. 0. 0. 0. 0. 0. 0.\n",
            " 0. 0. 0. 0. 1. 0. 0. 0. 1. 0. 0. 0. 0. 0. 0. 0. 0. 1. 0. 0. 0.]\n",
            "x[마지막] :[0. 0. 0. 0. 0. 0. 0. 0. 0. 0. 0. 0. 0. 0. 0. 0. 0. 0. 0. 0. 0. 0. 0. 0.\n",
            " 0. 0. 0. 0. 0. 1. 1. 0. 0. 1. 0. 0. 0. 0. 1. 0. 1. 0. 0. 0. 1.]\n",
            "y[마지막] :[0. 0. 0. 0. 1. 0. 1. 0. 0. 0. 0. 1. 0. 0. 0. 0. 0. 0. 0. 1. 0. 0. 0. 0.\n",
            " 1. 1. 0. 0. 0. 0. 0. 0. 0. 0. 0. 0. 0. 0. 0. 0. 0. 0. 0. 0. 0.]\n",
            "numbers\n",
            "x[0] :[4, 7, 17, 18, 38, 44]\n",
            "y[0] :[8, 12, 13, 29, 33, 42]\n",
            "x[마지막] :[30, 31, 34, 39, 41, 45]\n",
            "y[마지막] :[5, 7, 12, 20, 25, 26]\n"
          ]
        }
      ],
      "source": [
        "numbers = win[: , :]  # 이게 문제라서 못 하겠음ㅠ 데이터 프레임이 문제인가?\n",
        "                      # 데이터 프레임으로 안열고 넘파이 텍스트 파일로 가져오니 됨\n",
        "ohs = list(map(n2o, numbers))\n",
        "\n",
        "xs = ohs[0:xn -1]\n",
        "ys = ohs[1:xn]\n",
        "\n",
        "# 원핫 인코딩 확인\n",
        "print('ohs')\n",
        "print('x[0] :' + str(xs[0]))\n",
        "print('y[0] :' + str(ys[0]))\n",
        "print('x[마지막] :' + str(xs[-1]))\n",
        "print('y[마지막] :' + str(ys[-1]))\n",
        "\n",
        "# 번호 확인\n",
        "print('numbers')\n",
        "print('x[0] :' + str(o2n(xs[0])))\n",
        "print('y[0] :' + str(o2n(ys[0])))\n",
        "print('x[마지막] :' + str(o2n(xs[-1])))\n",
        "print('y[마지막] :' + str(o2n(ys[-1])))"
      ]
    },
    {
      "cell_type": "code",
      "execution_count": 7,
      "metadata": {
        "colab": {
          "base_uri": "https://localhost:8080/"
        },
        "id": "8WuoR8jggg2_",
        "outputId": "e4f16e57-e1bf-47c5-d2af-0766c998cb24"
      },
      "outputs": [
        {
          "output_type": "stream",
          "name": "stdout",
          "text": [
            "train : (0, 694), val : (694, 925), test : (925, 1157)\n"
          ]
        }
      ],
      "source": [
        "train = (0, int(len(win)*0.6))\n",
        "val = (int(len(win)*0.6), int(len(win)*0.8))\n",
        "test = (int(len(win)*0.8), len(win))\n",
        "\n",
        "print('train : {0}, val : {1}, test : {2}'.format(train, val, test))"
      ]
    },
    {
      "cell_type": "code",
      "execution_count": 8,
      "metadata": {
        "id": "IFNFpjJvc2J7"
      },
      "outputs": [],
      "source": [
        "# !pip install tensorflow==2.8.0"
      ]
    },
    {
      "cell_type": "code",
      "execution_count": 9,
      "metadata": {
        "colab": {
          "base_uri": "https://localhost:8080/",
          "height": 1000
        },
        "id": "NgIwoPar2cjV",
        "outputId": "76925eca-5073-4494-deda-7f904d3912ac"
      },
      "outputs": [
        {
          "output_type": "stream",
          "name": "stdout",
          "text": [
            "Found existing installation: tensorflow 2.12.0\n",
            "Uninstalling tensorflow-2.12.0:\n",
            "  Successfully uninstalled tensorflow-2.12.0\n",
            "Found existing installation: protobuf 3.20.3\n",
            "Uninstalling protobuf-3.20.3:\n",
            "  Successfully uninstalled protobuf-3.20.3\n",
            "Collecting tensorflow==2.12.0\n",
            "  Using cached tensorflow-2.12.0-cp311-cp311-manylinux_2_17_x86_64.manylinux2014_x86_64.whl.metadata (3.4 kB)\n",
            "Collecting protobuf==3.20.3\n",
            "  Using cached protobuf-3.20.3-py2.py3-none-any.whl.metadata (720 bytes)\n",
            "Requirement already satisfied: absl-py>=1.0.0 in /usr/local/lib/python3.11/dist-packages (from tensorflow==2.12.0) (1.4.0)\n",
            "Requirement already satisfied: astunparse>=1.6.0 in /usr/local/lib/python3.11/dist-packages (from tensorflow==2.12.0) (1.6.3)\n",
            "Requirement already satisfied: flatbuffers>=2.0 in /usr/local/lib/python3.11/dist-packages (from tensorflow==2.12.0) (25.1.24)\n",
            "Requirement already satisfied: gast<=0.4.0,>=0.2.1 in /usr/local/lib/python3.11/dist-packages (from tensorflow==2.12.0) (0.4.0)\n",
            "Requirement already satisfied: google-pasta>=0.1.1 in /usr/local/lib/python3.11/dist-packages (from tensorflow==2.12.0) (0.2.0)\n",
            "Requirement already satisfied: grpcio<2.0,>=1.24.3 in /usr/local/lib/python3.11/dist-packages (from tensorflow==2.12.0) (1.70.0)\n",
            "Requirement already satisfied: h5py>=2.9.0 in /usr/local/lib/python3.11/dist-packages (from tensorflow==2.12.0) (3.12.1)\n",
            "Requirement already satisfied: jax>=0.3.15 in /usr/local/lib/python3.11/dist-packages (from tensorflow==2.12.0) (0.4.30)\n",
            "Requirement already satisfied: keras<2.13,>=2.12.0 in /usr/local/lib/python3.11/dist-packages (from tensorflow==2.12.0) (2.12.0)\n",
            "Requirement already satisfied: libclang>=13.0.0 in /usr/local/lib/python3.11/dist-packages (from tensorflow==2.12.0) (18.1.1)\n",
            "Requirement already satisfied: numpy<1.24,>=1.22 in /usr/local/lib/python3.11/dist-packages (from tensorflow==2.12.0) (1.23.5)\n",
            "Requirement already satisfied: opt-einsum>=2.3.2 in /usr/local/lib/python3.11/dist-packages (from tensorflow==2.12.0) (3.4.0)\n",
            "Requirement already satisfied: packaging in /usr/local/lib/python3.11/dist-packages (from tensorflow==2.12.0) (24.2)\n",
            "Requirement already satisfied: setuptools in /usr/local/lib/python3.11/dist-packages (from tensorflow==2.12.0) (75.1.0)\n",
            "Requirement already satisfied: six>=1.12.0 in /usr/local/lib/python3.11/dist-packages (from tensorflow==2.12.0) (1.17.0)\n",
            "Requirement already satisfied: tensorboard<2.13,>=2.12 in /usr/local/lib/python3.11/dist-packages (from tensorflow==2.12.0) (2.12.3)\n",
            "Requirement already satisfied: tensorflow-estimator<2.13,>=2.12.0 in /usr/local/lib/python3.11/dist-packages (from tensorflow==2.12.0) (2.12.0)\n",
            "Requirement already satisfied: termcolor>=1.1.0 in /usr/local/lib/python3.11/dist-packages (from tensorflow==2.12.0) (2.5.0)\n",
            "Requirement already satisfied: typing-extensions>=3.6.6 in /usr/local/lib/python3.11/dist-packages (from tensorflow==2.12.0) (4.12.2)\n",
            "Requirement already satisfied: wrapt<1.15,>=1.11.0 in /usr/local/lib/python3.11/dist-packages (from tensorflow==2.12.0) (1.14.1)\n",
            "Requirement already satisfied: tensorflow-io-gcs-filesystem>=0.23.1 in /usr/local/lib/python3.11/dist-packages (from tensorflow==2.12.0) (0.37.1)\n",
            "Requirement already satisfied: wheel<1.0,>=0.23.0 in /usr/local/lib/python3.11/dist-packages (from astunparse>=1.6.0->tensorflow==2.12.0) (0.45.1)\n",
            "Requirement already satisfied: jaxlib<=0.4.30,>=0.4.27 in /usr/local/lib/python3.11/dist-packages (from jax>=0.3.15->tensorflow==2.12.0) (0.4.30)\n",
            "Requirement already satisfied: ml-dtypes>=0.2.0 in /usr/local/lib/python3.11/dist-packages (from jax>=0.3.15->tensorflow==2.12.0) (0.4.1)\n",
            "Requirement already satisfied: scipy>=1.9 in /usr/local/lib/python3.11/dist-packages (from jax>=0.3.15->tensorflow==2.12.0) (1.13.1)\n",
            "Requirement already satisfied: google-auth<3,>=1.6.3 in /usr/local/lib/python3.11/dist-packages (from tensorboard<2.13,>=2.12->tensorflow==2.12.0) (2.27.0)\n",
            "Requirement already satisfied: google-auth-oauthlib<1.1,>=0.5 in /usr/local/lib/python3.11/dist-packages (from tensorboard<2.13,>=2.12->tensorflow==2.12.0) (1.0.0)\n",
            "Requirement already satisfied: markdown>=2.6.8 in /usr/local/lib/python3.11/dist-packages (from tensorboard<2.13,>=2.12->tensorflow==2.12.0) (3.7)\n",
            "Requirement already satisfied: requests<3,>=2.21.0 in /usr/local/lib/python3.11/dist-packages (from tensorboard<2.13,>=2.12->tensorflow==2.12.0) (2.32.3)\n",
            "Requirement already satisfied: tensorboard-data-server<0.8.0,>=0.7.0 in /usr/local/lib/python3.11/dist-packages (from tensorboard<2.13,>=2.12->tensorflow==2.12.0) (0.7.2)\n",
            "Requirement already satisfied: werkzeug>=1.0.1 in /usr/local/lib/python3.11/dist-packages (from tensorboard<2.13,>=2.12->tensorflow==2.12.0) (3.1.3)\n",
            "Requirement already satisfied: cachetools<6.0,>=2.0.0 in /usr/local/lib/python3.11/dist-packages (from google-auth<3,>=1.6.3->tensorboard<2.13,>=2.12->tensorflow==2.12.0) (5.5.1)\n",
            "Requirement already satisfied: pyasn1-modules>=0.2.1 in /usr/local/lib/python3.11/dist-packages (from google-auth<3,>=1.6.3->tensorboard<2.13,>=2.12->tensorflow==2.12.0) (0.4.1)\n",
            "Requirement already satisfied: rsa<5,>=3.1.4 in /usr/local/lib/python3.11/dist-packages (from google-auth<3,>=1.6.3->tensorboard<2.13,>=2.12->tensorflow==2.12.0) (4.9)\n",
            "Requirement already satisfied: requests-oauthlib>=0.7.0 in /usr/local/lib/python3.11/dist-packages (from google-auth-oauthlib<1.1,>=0.5->tensorboard<2.13,>=2.12->tensorflow==2.12.0) (1.3.1)\n",
            "Requirement already satisfied: charset-normalizer<4,>=2 in /usr/local/lib/python3.11/dist-packages (from requests<3,>=2.21.0->tensorboard<2.13,>=2.12->tensorflow==2.12.0) (3.4.1)\n",
            "Requirement already satisfied: idna<4,>=2.5 in /usr/local/lib/python3.11/dist-packages (from requests<3,>=2.21.0->tensorboard<2.13,>=2.12->tensorflow==2.12.0) (3.10)\n",
            "Requirement already satisfied: urllib3<3,>=1.21.1 in /usr/local/lib/python3.11/dist-packages (from requests<3,>=2.21.0->tensorboard<2.13,>=2.12->tensorflow==2.12.0) (2.3.0)\n",
            "Requirement already satisfied: certifi>=2017.4.17 in /usr/local/lib/python3.11/dist-packages (from requests<3,>=2.21.0->tensorboard<2.13,>=2.12->tensorflow==2.12.0) (2024.12.14)\n",
            "Requirement already satisfied: MarkupSafe>=2.1.1 in /usr/local/lib/python3.11/dist-packages (from werkzeug>=1.0.1->tensorboard<2.13,>=2.12->tensorflow==2.12.0) (3.0.2)\n",
            "Requirement already satisfied: pyasn1<0.7.0,>=0.4.6 in /usr/local/lib/python3.11/dist-packages (from pyasn1-modules>=0.2.1->google-auth<3,>=1.6.3->tensorboard<2.13,>=2.12->tensorflow==2.12.0) (0.6.1)\n",
            "Requirement already satisfied: oauthlib>=3.0.0 in /usr/local/lib/python3.11/dist-packages (from requests-oauthlib>=0.7.0->google-auth-oauthlib<1.1,>=0.5->tensorboard<2.13,>=2.12->tensorflow==2.12.0) (3.2.2)\n",
            "Using cached tensorflow-2.12.0-cp311-cp311-manylinux_2_17_x86_64.manylinux2014_x86_64.whl (586.0 MB)\n",
            "Using cached protobuf-3.20.3-py2.py3-none-any.whl (162 kB)\n",
            "Installing collected packages: protobuf, tensorflow\n",
            "\u001b[31mERROR: pip's dependency resolver does not currently take into account all the packages that are installed. This behaviour is the source of the following dependency conflicts.\n",
            "tensorflow-text 2.18.1 requires tensorflow<2.19,>=2.18.0, but you have tensorflow 2.12.0 which is incompatible.\n",
            "tf-keras 2.18.0 requires tensorflow<2.19,>=2.18, but you have tensorflow 2.12.0 which is incompatible.\n",
            "grpcio-status 1.62.3 requires protobuf>=4.21.6, but you have protobuf 3.20.3 which is incompatible.\n",
            "bigframes 1.34.0 requires numpy>=1.24.0, but you have numpy 1.23.5 which is incompatible.\n",
            "tensorflow-metadata 1.16.1 requires protobuf<6.0.0dev,>=4.25.2; python_version >= \"3.11\", but you have protobuf 3.20.3 which is incompatible.\u001b[0m\u001b[31m\n",
            "\u001b[0mSuccessfully installed protobuf-3.20.3 tensorflow-2.12.0\n"
          ]
        },
        {
          "output_type": "display_data",
          "data": {
            "application/vnd.colab-display-data+json": {
              "pip_warning": {
                "packages": [
                  "google"
                ]
              },
              "id": "0e929eece94f4d47927e2ba136ebbc6c"
            }
          },
          "metadata": {}
        }
      ],
      "source": [
        "!pip uninstall tensorflow protobuf -y\n",
        "!pip install tensorflow==2.12.0 protobuf==3.20.3"
      ]
    },
    {
      "cell_type": "code",
      "execution_count": 10,
      "metadata": {
        "id": "VNx80jYjgg0y"
      },
      "outputs": [],
      "source": [
        "import tensorflow as tf\n",
        "from tensorflow import keras\n",
        "from tensorflow.keras import layers\n",
        "from tensorflow.keras import models\n",
        "\n",
        "# 모델 정의\n",
        "model = keras.Sequential([\n",
        "    keras.layers.LSTM(128,\n",
        "                      batch_input_shape = (1, 1, 45),\n",
        "                      return_sequences = False,\n",
        "                      stateful = True),\n",
        "    keras.layers.Dense(45, activation = 'sigmoid')\n",
        "])\n",
        "\n",
        "# 모델 컴파일\n",
        "model.compile(loss = 'binary_crossentropy', optimizer = 'adam', metrics = ['accuracy'])"
      ]
    },
    {
      "cell_type": "code",
      "execution_count": 11,
      "metadata": {
        "id": "psqZd4_Nggyf",
        "colab": {
          "base_uri": "https://localhost:8080/"
        },
        "outputId": "85f78d4d-90f3-4681-f52f-7807984a1469"
      },
      "outputs": [
        {
          "output_type": "stream",
          "name": "stdout",
          "text": [
            "epoch   0, acc 0.026, loss  0.411, val_acc 0.004, val_loss 0.399\n",
            "epoch   1, acc 0.024, loss  0.396, val_acc 0.000, val_loss 0.398\n",
            "epoch   2, acc 0.029, loss  0.394, val_acc 0.000, val_loss 0.398\n",
            "epoch   3, acc 0.037, loss  0.391, val_acc 0.000, val_loss 0.398\n",
            "epoch   4, acc 0.040, loss  0.387, val_acc 0.000, val_loss 0.400\n",
            "epoch   5, acc 0.053, loss  0.381, val_acc 0.013, val_loss 0.404\n",
            "epoch   6, acc 0.052, loss  0.374, val_acc 0.013, val_loss 0.409\n",
            "epoch   7, acc 0.065, loss  0.368, val_acc 0.022, val_loss 0.414\n",
            "epoch   8, acc 0.069, loss  0.361, val_acc 0.022, val_loss 0.418\n",
            "epoch   9, acc 0.075, loss  0.355, val_acc 0.022, val_loss 0.422\n",
            "epoch  10, acc 0.084, loss  0.348, val_acc 0.026, val_loss 0.426\n",
            "epoch  11, acc 0.095, loss  0.341, val_acc 0.039, val_loss 0.430\n",
            "epoch  12, acc 0.110, loss  0.334, val_acc 0.035, val_loss 0.434\n",
            "epoch  13, acc 0.114, loss  0.325, val_acc 0.039, val_loss 0.439\n",
            "epoch  14, acc 0.130, loss  0.316, val_acc 0.043, val_loss 0.445\n",
            "epoch  15, acc 0.130, loss  0.306, val_acc 0.039, val_loss 0.451\n",
            "epoch  16, acc 0.133, loss  0.296, val_acc 0.043, val_loss 0.458\n",
            "epoch  17, acc 0.128, loss  0.285, val_acc 0.043, val_loss 0.465\n",
            "epoch  18, acc 0.143, loss  0.273, val_acc 0.039, val_loss 0.473\n",
            "epoch  19, acc 0.153, loss  0.262, val_acc 0.043, val_loss 0.482\n",
            "epoch  20, acc 0.161, loss  0.250, val_acc 0.039, val_loss 0.490\n",
            "epoch  21, acc 0.166, loss  0.240, val_acc 0.043, val_loss 0.499\n",
            "epoch  22, acc 0.177, loss  0.229, val_acc 0.030, val_loss 0.508\n",
            "epoch  23, acc 0.174, loss  0.218, val_acc 0.030, val_loss 0.518\n",
            "epoch  24, acc 0.171, loss  0.207, val_acc 0.026, val_loss 0.528\n",
            "epoch  25, acc 0.177, loss  0.196, val_acc 0.026, val_loss 0.539\n",
            "epoch  26, acc 0.183, loss  0.188, val_acc 0.039, val_loss 0.548\n",
            "epoch  27, acc 0.189, loss  0.181, val_acc 0.026, val_loss 0.559\n",
            "epoch  28, acc 0.184, loss  0.171, val_acc 0.035, val_loss 0.573\n",
            "epoch  29, acc 0.184, loss  0.162, val_acc 0.030, val_loss 0.581\n",
            "epoch  30, acc 0.170, loss  0.153, val_acc 0.035, val_loss 0.595\n",
            "epoch  31, acc 0.143, loss  0.149, val_acc 0.026, val_loss 0.601\n",
            "epoch  32, acc 0.177, loss  0.139, val_acc 0.035, val_loss 0.625\n",
            "epoch  33, acc 0.170, loss  0.133, val_acc 0.022, val_loss 0.634\n",
            "epoch  34, acc 0.169, loss  0.129, val_acc 0.035, val_loss 0.645\n",
            "epoch  35, acc 0.187, loss  0.119, val_acc 0.035, val_loss 0.657\n",
            "epoch  36, acc 0.171, loss  0.119, val_acc 0.035, val_loss 0.663\n",
            "epoch  37, acc 0.163, loss  0.105, val_acc 0.030, val_loss 0.679\n",
            "epoch  38, acc 0.167, loss  0.101, val_acc 0.035, val_loss 0.693\n",
            "epoch  39, acc 0.176, loss  0.098, val_acc 0.022, val_loss 0.710\n",
            "epoch  40, acc 0.159, loss  0.092, val_acc 0.030, val_loss 0.723\n",
            "epoch  41, acc 0.157, loss  0.091, val_acc 0.035, val_loss 0.724\n",
            "epoch  42, acc 0.179, loss  0.083, val_acc 0.039, val_loss 0.743\n",
            "epoch  43, acc 0.182, loss  0.075, val_acc 0.039, val_loss 0.745\n",
            "epoch  44, acc 0.180, loss  0.073, val_acc 0.035, val_loss 0.762\n"
          ]
        }
      ],
      "source": [
        "# 매 에포크마다 훈련과 검증의 손실 및 정확도를 기록하기 위한 변수\n",
        "train_loss = []\n",
        "train_acc = []\n",
        "val_loss = []\n",
        "val_acc = []\n",
        "\n",
        "# 최대 100번 에포크까지 수행\n",
        "for epoch in range(45):\n",
        "    model.reset_states()  # 중요! 매 에포크마다 1회부터 다시 훈련하므로 상태 초기화 필요\n",
        "\n",
        "    batch_train_loss = []\n",
        "    batch_train_acc = []\n",
        "\n",
        "    for i in range(train[0], train[1]):\n",
        "\n",
        "        xss = xs[i].reshape(1, 1, 45)\n",
        "        yss = ys[i].reshape(1, 45)\n",
        "\n",
        "        loss, acc = model.train_on_batch(xss, yss) # 배치만큼 모델에 학습\n",
        "\n",
        "        batch_train_loss.append(loss)\n",
        "        batch_train_acc.append(acc)\n",
        "\n",
        "    train_loss.append(np.mean(batch_train_loss))\n",
        "    train_acc.append(np.mean(batch_train_acc))\n",
        "\n",
        "    batch_val_loss = []\n",
        "    batch_val_acc = []\n",
        "\n",
        "    for i in range(val[0], val[1]):\n",
        "\n",
        "        xss = xs[i].reshape(1, 1, 45)\n",
        "        yss = ys[i].reshape(1, 45)\n",
        "\n",
        "        loss, acc = model.test_on_batch(xss, yss) # 배치만큼 모델에 입력하여 나온 결과를 정답과 비교함\n",
        "\n",
        "        batch_val_loss.append(loss)\n",
        "        batch_val_acc.append(acc)\n",
        "\n",
        "    val_loss.append(np.mean(batch_val_loss))\n",
        "    val_acc.append(np.mean(batch_val_acc))\n",
        "\n",
        "    print('epoch{0:4d}, acc {1:0.3f}, loss {2: 0.3f}, val_acc {3:0.3f}, val_loss {4:0.3f}'.format(epoch,\n",
        "                                                                                                  np.mean(batch_train_acc),\n",
        "                                                                                                  np.mean(batch_train_loss),\n",
        "                                                                                                  np.mean(batch_val_acc),\n",
        "                                                                                                  np.mean(batch_val_loss)))"
      ]
    },
    {
      "cell_type": "code",
      "execution_count": 12,
      "metadata": {
        "id": "bshpyH52ggwS",
        "colab": {
          "base_uri": "https://localhost:8080/",
          "height": 449
        },
        "outputId": "deeb8d85-603a-4136-8c9e-b60fbb9af3de"
      },
      "outputs": [
        {
          "output_type": "display_data",
          "data": {
            "text/plain": [
              "<Figure size 640x480 with 2 Axes>"
            ],
            "image/png": "[encoded data removed]"
          },
          "metadata": {}
        }
      ],
      "source": [
        "%matplotlib inline\n",
        "import matplotlib.pyplot as plt\n",
        "\n",
        "fig, loss_ax = plt.subplots()\n",
        "\n",
        "acc_ax = loss_ax.twinx()\n",
        "\n",
        "loss_ax.plot(train_loss, 'y', label = 'train loss')\n",
        "loss_ax.plot(val_loss, 'r', label = 'val loss')\n",
        "\n",
        "acc_ax.plot(train_acc, 'b', label = 'train acc')\n",
        "acc_ax.plot(val_acc, 'g', label = 'val acc')\n",
        "\n",
        "loss_ax.set_xlabel('epoch')\n",
        "loss_ax.set_ylabel('epoch')\n",
        "acc_ax.set_ylabel('accracy')\n",
        "\n",
        "loss_ax.legend(loc = 'upper left')\n",
        "acc_ax.legend(loc = 'lower left')\n",
        "\n",
        "plt.show()\n",
        "# 이미 학습은 의미가 없다는 결론이 나옴"
      ]
    },
    {
      "cell_type": "code",
      "execution_count": 13,
      "metadata": {
        "id": "mTiXpDcjx_As",
        "colab": {
          "base_uri": "https://localhost:8080/"
        },
        "outputId": "41b25060-8607-4f52-9744-adad611511d5"
      },
      "outputs": [
        {
          "output_type": "stream",
          "name": "stdout",
          "text": [
            "epoch   0, acc 0.145, loss  0.038\n",
            "epoch   1, acc 0.168, loss  0.023\n",
            "epoch   2, acc 0.190, loss  0.017\n",
            "epoch   3, acc 0.220, loss  0.013\n",
            "epoch   4, acc 0.252, loss  0.011\n",
            "epoch   5, acc 0.278, loss  0.009\n",
            "epoch   6, acc 0.299, loss  0.008\n",
            "epoch   7, acc 0.316, loss  0.007\n",
            "epoch   8, acc 0.327, loss  0.006\n",
            "epoch   9, acc 0.331, loss  0.006\n",
            "epoch  10, acc 0.330, loss  0.005\n",
            "epoch  11, acc 0.325, loss  0.005\n",
            "epoch  12, acc 0.317, loss  0.005\n",
            "epoch  13, acc 0.309, loss  0.004\n",
            "epoch  14, acc 0.301, loss  0.004\n",
            "epoch  15, acc 0.294, loss  0.004\n",
            "epoch  16, acc 0.288, loss  0.003\n",
            "epoch  17, acc 0.281, loss  0.003\n",
            "epoch  18, acc 0.276, loss  0.003\n",
            "epoch  19, acc 0.271, loss  0.003\n",
            "epoch  20, acc 0.267, loss  0.003\n",
            "epoch  21, acc 0.263, loss  0.003\n",
            "epoch  22, acc 0.260, loss  0.003\n",
            "epoch  23, acc 0.257, loss  0.002\n",
            "epoch  24, acc 0.254, loss  0.002\n",
            "epoch  25, acc 0.251, loss  0.002\n",
            "epoch  26, acc 0.249, loss  0.002\n",
            "epoch  27, acc 0.247, loss  0.002\n",
            "epoch  28, acc 0.244, loss  0.002\n",
            "epoch  29, acc 0.242, loss  0.002\n",
            "epoch  30, acc 0.240, loss  0.002\n",
            "epoch  31, acc 0.238, loss  0.002\n",
            "epoch  32, acc 0.236, loss  0.002\n",
            "epoch  33, acc 0.234, loss  0.002\n",
            "epoch  34, acc 0.233, loss  0.002\n",
            "epoch  35, acc 0.231, loss  0.002\n",
            "epoch  36, acc 0.229, loss  0.002\n",
            "epoch  37, acc 0.228, loss  0.002\n",
            "epoch  38, acc 0.226, loss  0.002\n",
            "epoch  39, acc 0.225, loss  0.002\n",
            "epoch  40, acc 0.223, loss  0.001\n",
            "epoch  41, acc 0.222, loss  0.001\n",
            "epoch  42, acc 0.220, loss  0.001\n",
            "epoch  43, acc 0.219, loss  0.001\n",
            "epoch  44, acc 0.218, loss  0.001\n"
          ]
        }
      ],
      "source": [
        "# 모든 데이터를 학습용으로 사용\n",
        "for epoch in range(45):\n",
        "\n",
        "    model.reset_states()  # 중요! 매 에포크마다 1회부터 다시 훈련하므로 상태 초기화 필요\n",
        "\n",
        "    for i in range(len(xs)):\n",
        "\n",
        "      xss = xs[i].reshape(1, 1, 45)\n",
        "      yss - ys[i].reshape(1, 45)\n",
        "\n",
        "      loss, acc = model.train_on_batch(xss, yss) # 배치만큼 모델에 학습\n",
        "\n",
        "      batch_train_loss.append(loss)\n",
        "      batch_train_acc.append(acc)\n",
        "\n",
        "    train_loss.append(np.mean(batch_train_loss))\n",
        "    train_acc.append(np.mean(batch_train_acc))\n",
        "\n",
        "    print('epoch{0:4d}, acc {1:0.3f}, loss {2: 0.3f}'.format(epoch,\n",
        "                                                            np.mean(batch_train_acc),\n",
        "                                                            np.mean(batch_train_loss)\n",
        "                                                            ))\n",
        "\n"
      ]
    },
    {
      "cell_type": "code",
      "execution_count": 14,
      "metadata": {
        "id": "ekjo8MBdx--s",
        "colab": {
          "base_uri": "https://localhost:8080/"
        },
        "outputId": "cb6b70af-240d-46ab-d8d3-5efc515f7b4f"
      },
      "outputs": [
        {
          "output_type": "stream",
          "name": "stdout",
          "text": [
            "receive numbers\n"
          ]
        },
        {
          "output_type": "execute_result",
          "data": {
            "text/plain": [
              "[[3, 7, 8, 34, 39, 41]]"
            ]
          },
          "metadata": {},
          "execution_count": 14
        }
      ],
      "source": [
        "# 다음회 예측\n",
        "\n",
        "print('receive numbers')\n",
        "\n",
        "xss = xs[-1].reshape(1, 1, 45)\n",
        "\n",
        "pred = model.predict_on_batch(xss)\n",
        "pred\n",
        "\n",
        "len(ohs)\n",
        "luck = list(map(o2n, pred))\n",
        "luck\n",
        "\n",
        "# list_number = []\n",
        "\n",
        "# for n in range(6):\n",
        "#   numbers =pred\n",
        "  # numbers.sort()\n",
        "  # print('{0} : {1}'.format(n, numbers))\n",
        "  # list_numbers.append(numbers)"
      ]
    },
    {
      "cell_type": "code",
      "execution_count": 15,
      "metadata": {
        "id": "67xyP3Kf3WvN"
      },
      "outputs": [],
      "source": [
        "# 100번 돌리나 35번 돌리나 결과는 똑같다."
      ]
    }
  ],
  "metadata": {
    "accelerator": "GPU",
    "colab": {
      "gpuType": "T4",
      "provenance": [],
      "authorship_tag": "ABX9TyPwYyAklxX7EnQh/RCW9+1L",
      "include_colab_link": true
    },
    "kernelspec": {
      "display_name": "Python 3",
      "name": "python3"
    },
    "language_info": {
      "name": "python"
    }
  },
  "nbformat": 4,
  "nbformat_minor": 0
}