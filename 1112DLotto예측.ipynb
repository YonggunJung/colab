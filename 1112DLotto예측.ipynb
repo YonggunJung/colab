{
  "cells": [
    {
      "cell_type": "markdown",
      "metadata": {
        "id": "view-in-github",
        "colab_type": "text"
      },
      "source": [
        "<a href=\"https://colab.research.google.com/github/YonggunJung/colab/blob/main/1112DLotto%EC%98%88%EC%B8%A1.ipynb\" target=\"_parent\"><img src=\"https://colab.research.google.com/assets/colab-badge.svg\" alt=\"Open In Colab\"/></a>"
      ]
    },
    {
      "cell_type": "code",
      "execution_count": 1,
      "metadata": {
        "colab": {
          "base_uri": "https://localhost:8080/"
        },
        "id": "EV0N-8-1wfGo",
        "outputId": "8e731c13-e32b-44b7-e5dd-21a3d95f8343"
      },
      "outputs": [
        {
          "output_type": "stream",
          "name": "stdout",
          "text": [
            "Mounted at /content/drive\n"
          ]
        }
      ],
      "source": [
        "from google.colab import drive\n",
        "drive.mount('/content/drive')"
      ]
    },
    {
      "cell_type": "code",
      "execution_count": 2,
      "metadata": {
        "id": "6OK4eW92wov0"
      },
      "outputs": [],
      "source": [
        "import pandas as pd\n",
        "import numpy as np\n",
        "import warnings\n",
        "warnings.filterwarnings('ignore')"
      ]
    },
    {
      "cell_type": "code",
      "execution_count": 3,
      "metadata": {
        "colab": {
          "base_uri": "https://localhost:8080/"
        },
        "id": "227wJo0xYVaV",
        "outputId": "5a722cbc-0044-45fd-d24f-c2b1729eb73e"
      },
      "outputs": [
        {
          "output_type": "execute_result",
          "data": {
            "text/plain": [
              "array([[ 4.,  7., 17., 18., 38., 44.],\n",
              "       [ 8., 12., 13., 29., 33., 42.],\n",
              "       [ 3.,  7., 14., 15., 22., 38.],\n",
              "       ...,\n",
              "       [10., 12., 13., 19., 33., 40.],\n",
              "       [ 3.,  7., 11., 20., 22., 41.],\n",
              "       [ 3., 13.,  3., 33., 43., 45.]])"
            ]
          },
          "metadata": {},
          "execution_count": 3
        }
      ],
      "source": [
        "win = np.loadtxt('/content/drive/MyDrive/Colab Notebooks/로또/data/jlotto.csv', delimiter = ',')\n",
        "win"
      ]
    },
    {
      "cell_type": "code",
      "execution_count": 4,
      "metadata": {
        "id": "GS0NAmQGw74-"
      },
      "outputs": [],
      "source": [
        "xn = len(win)"
      ]
    },
    {
      "cell_type": "code",
      "execution_count": 5,
      "metadata": {
        "id": "gG4RnEQzhKPx"
      },
      "outputs": [],
      "source": [
        "# 숫자를 원핫 인코딩으로 변환\n",
        "def n2o(numbers):\n",
        "\n",
        "  oh = np.zeros(45)  # 45개의 빈 칸 만들기\n",
        "\n",
        "  for i in range(6):            # 6개의 당첨번호를 반복\n",
        "      oh[int(numbers[i])-1] = 1   # 번호는 1부터 시작하고 인덱스는 0부터 시작하니 1을 빼줌\n",
        "\n",
        "  return oh\n",
        "\n",
        "# 원핫 인코딩을 숫자로 변환\n",
        "def o2n(oh):\n",
        "\n",
        "  numbers = []\n",
        "\n",
        "  for i in range(len(oh)):\n",
        "    if oh[i] == 1:           # oh[i]이 1 이면 해당 번호를 출력\n",
        "      numbers.append(i+1)    # 인덱스 보다 숫자가 1크니까 1더해줌 출력\n",
        "\n",
        "  return numbers"
      ]
    },
    {
      "cell_type": "code",
      "execution_count": 6,
      "metadata": {
        "colab": {
          "base_uri": "https://localhost:8080/"
        },
        "id": "XCSHMDUUvRZf",
        "outputId": "be4a18bb-eeda-476c-a822-a0cbd3970630"
      },
      "outputs": [
        {
          "output_type": "stream",
          "name": "stdout",
          "text": [
            "ohs\n",
            "x[0] :[0. 0. 0. 1. 0. 0. 1. 0. 0. 0. 0. 0. 0. 0. 0. 0. 1. 1. 0. 0. 0. 0. 0. 0.\n",
            " 0. 0. 0. 0. 0. 0. 0. 0. 0. 0. 0. 0. 0. 1. 0. 0. 0. 0. 0. 1. 0.]\n",
            "y[0] :[0. 0. 0. 0. 0. 0. 0. 1. 0. 0. 0. 1. 1. 0. 0. 0. 0. 0. 0. 0. 0. 0. 0. 0.\n",
            " 0. 0. 0. 0. 1. 0. 0. 0. 1. 0. 0. 0. 0. 0. 0. 0. 0. 1. 0. 0. 0.]\n",
            "numbers\n",
            "x[0] :[4, 7, 17, 18, 38, 44]\n",
            "y[0] :[8, 12, 13, 29, 33, 42]\n"
          ]
        }
      ],
      "source": [
        "numbers = win[: , :]  # 이게 문제라서 못 하겠음ㅠ 데이터 프레임이 문제인가?\n",
        "                      # 데이터 프레임으로 안열고 넘파이 텍스트 파일로 가져오니 됨\n",
        "ohs = list(map(n2o, numbers))\n",
        "\n",
        "xs = ohs[0:xn -1]\n",
        "ys = ohs[1:xn]\n",
        "\n",
        "# 원핫 인코딩 확인\n",
        "print('ohs')\n",
        "print('x[0] :' + str(xs[0]))\n",
        "print('y[0] :' + str(ys[0]))\n",
        "\n",
        "# 번호 확인\n",
        "print('numbers')\n",
        "print('x[0] :' + str(o2n(xs[0])))\n",
        "print('y[0] :' + str(o2n(ys[0])))"
      ]
    },
    {
      "cell_type": "code",
      "execution_count": 7,
      "metadata": {
        "colab": {
          "base_uri": "https://localhost:8080/"
        },
        "id": "8WuoR8jggg2_",
        "outputId": "acac113e-3150-44b9-8aae-a892c5ad151b"
      },
      "outputs": [
        {
          "output_type": "stream",
          "name": "stdout",
          "text": [
            "train : (0, 666), val : (666, 888), test : (888, 1111)\n"
          ]
        }
      ],
      "source": [
        "train = (0, int(len(win)*0.6))\n",
        "val = (int(len(win)*0.6), int(len(win)*0.8))\n",
        "test = (int(len(win)*0.8), len(win))\n",
        "\n",
        "print('train : {0}, val : {1}, test : {2}'.format(train, val, test))"
      ]
    },
    {
      "cell_type": "code",
      "execution_count": 8,
      "metadata": {
        "id": "VNx80jYjgg0y"
      },
      "outputs": [],
      "source": [
        "import tensorflow as tf\n",
        "from tensorflow import keras\n",
        "from tensorflow.keras import layers\n",
        "from tensorflow.keras import models\n",
        "\n",
        "# 모델 정의\n",
        "model = keras.Sequential([\n",
        "    keras.layers.LSTM(128, batch_input_shape = (1, 1, 45),\n",
        "                      return_sequences = False,\n",
        "                      stateful = True),\n",
        "    keras.layers.Dense(45, activation = 'sigmoid')\n",
        "])\n",
        "\n",
        "# 모델 컴파일\n",
        "model.compile(loss = 'binary_crossentropy', optimizer = 'adam', metrics = ['accuracy'])"
      ]
    },
    {
      "cell_type": "code",
      "execution_count": 9,
      "metadata": {
        "colab": {
          "base_uri": "https://localhost:8080/"
        },
        "id": "psqZd4_Nggyf",
        "outputId": "d49cb20e-463b-419b-a796-3f4d48718c52"
      },
      "outputs": [
        {
          "output_type": "stream",
          "name": "stdout",
          "text": [
            "epoch   0, acc 0.026, loss  0.410, val_acc 0.000, val_loss 0.401\n",
            "epoch   1, acc 0.026, loss  0.396, val_acc 0.000, val_loss 0.399\n",
            "epoch   2, acc 0.027, loss  0.394, val_acc 0.000, val_loss 0.399\n",
            "epoch   3, acc 0.024, loss  0.391, val_acc 0.005, val_loss 0.400\n",
            "epoch   4, acc 0.036, loss  0.387, val_acc 0.009, val_loss 0.402\n",
            "epoch   5, acc 0.038, loss  0.382, val_acc 0.023, val_loss 0.405\n",
            "epoch   6, acc 0.041, loss  0.376, val_acc 0.032, val_loss 0.410\n",
            "epoch   7, acc 0.053, loss  0.371, val_acc 0.032, val_loss 0.413\n",
            "epoch   8, acc 0.060, loss  0.365, val_acc 0.036, val_loss 0.417\n",
            "epoch   9, acc 0.065, loss  0.359, val_acc 0.036, val_loss 0.419\n",
            "epoch  10, acc 0.066, loss  0.353, val_acc 0.045, val_loss 0.422\n",
            "epoch  11, acc 0.081, loss  0.347, val_acc 0.054, val_loss 0.425\n",
            "epoch  12, acc 0.087, loss  0.339, val_acc 0.059, val_loss 0.429\n",
            "epoch  13, acc 0.089, loss  0.332, val_acc 0.050, val_loss 0.434\n",
            "epoch  14, acc 0.099, loss  0.323, val_acc 0.050, val_loss 0.439\n",
            "epoch  15, acc 0.110, loss  0.314, val_acc 0.045, val_loss 0.446\n",
            "epoch  16, acc 0.108, loss  0.304, val_acc 0.032, val_loss 0.452\n",
            "epoch  17, acc 0.111, loss  0.294, val_acc 0.023, val_loss 0.460\n",
            "epoch  18, acc 0.126, loss  0.283, val_acc 0.027, val_loss 0.470\n",
            "epoch  19, acc 0.123, loss  0.272, val_acc 0.027, val_loss 0.478\n",
            "epoch  20, acc 0.129, loss  0.261, val_acc 0.023, val_loss 0.488\n",
            "epoch  21, acc 0.141, loss  0.249, val_acc 0.023, val_loss 0.498\n",
            "epoch  22, acc 0.149, loss  0.238, val_acc 0.018, val_loss 0.509\n",
            "epoch  23, acc 0.158, loss  0.226, val_acc 0.023, val_loss 0.519\n",
            "epoch  24, acc 0.159, loss  0.215, val_acc 0.023, val_loss 0.529\n",
            "epoch  25, acc 0.159, loss  0.205, val_acc 0.027, val_loss 0.538\n",
            "epoch  26, acc 0.143, loss  0.196, val_acc 0.032, val_loss 0.548\n",
            "epoch  27, acc 0.155, loss  0.186, val_acc 0.027, val_loss 0.557\n",
            "epoch  28, acc 0.182, loss  0.177, val_acc 0.027, val_loss 0.568\n",
            "epoch  29, acc 0.176, loss  0.168, val_acc 0.027, val_loss 0.580\n",
            "epoch  30, acc 0.188, loss  0.161, val_acc 0.027, val_loss 0.590\n",
            "epoch  31, acc 0.188, loss  0.155, val_acc 0.023, val_loss 0.601\n",
            "epoch  32, acc 0.182, loss  0.143, val_acc 0.018, val_loss 0.616\n",
            "epoch  33, acc 0.180, loss  0.136, val_acc 0.018, val_loss 0.627\n",
            "epoch  34, acc 0.180, loss  0.130, val_acc 0.023, val_loss 0.641\n",
            "epoch  35, acc 0.176, loss  0.123, val_acc 0.027, val_loss 0.650\n",
            "epoch  36, acc 0.158, loss  0.115, val_acc 0.018, val_loss 0.661\n",
            "epoch  37, acc 0.159, loss  0.107, val_acc 0.032, val_loss 0.675\n",
            "epoch  38, acc 0.191, loss  0.102, val_acc 0.023, val_loss 0.688\n",
            "epoch  39, acc 0.162, loss  0.096, val_acc 0.018, val_loss 0.696\n",
            "epoch  40, acc 0.159, loss  0.093, val_acc 0.018, val_loss 0.714\n",
            "epoch  41, acc 0.176, loss  0.088, val_acc 0.032, val_loss 0.720\n",
            "epoch  42, acc 0.170, loss  0.084, val_acc 0.032, val_loss 0.732\n",
            "epoch  43, acc 0.149, loss  0.076, val_acc 0.023, val_loss 0.750\n",
            "epoch  44, acc 0.170, loss  0.071, val_acc 0.041, val_loss 0.758\n",
            "epoch  45, acc 0.168, loss  0.071, val_acc 0.018, val_loss 0.774\n",
            "epoch  46, acc 0.153, loss  0.070, val_acc 0.018, val_loss 0.776\n",
            "epoch  47, acc 0.173, loss  0.062, val_acc 0.018, val_loss 0.802\n",
            "epoch  48, acc 0.173, loss  0.060, val_acc 0.041, val_loss 0.813\n",
            "epoch  49, acc 0.189, loss  0.053, val_acc 0.032, val_loss 0.821\n",
            "epoch  50, acc 0.183, loss  0.050, val_acc 0.018, val_loss 0.830\n"
          ]
        }
      ],
      "source": [
        "# 매 에포크마다 훈련과 검증의 손실 및 정확도를 기록하기 위한 변수\n",
        "train_loss = []\n",
        "train_acc = []\n",
        "val_loss = []\n",
        "val_acc = []\n",
        "\n",
        "# 최대 100번 에포크까지 수행\n",
        "for epoch in range(51):\n",
        "    model.reset_states()  # 중요! 매 에포크마다 1회부터 다시 훈련하므로 상태 초기화 필요\n",
        "\n",
        "    batch_train_loss = []\n",
        "    batch_train_acc = []\n",
        "\n",
        "    for i in range(train[0], train[1]):\n",
        "\n",
        "        xss = xs[i].reshape(1, 1, 45)\n",
        "        yss = ys[i].reshape(1, 45)\n",
        "\n",
        "        loss, acc = model.train_on_batch(xss, yss) # 배치만큼 모델에 학습\n",
        "\n",
        "        batch_train_loss.append(loss)\n",
        "        batch_train_acc.append(acc)\n",
        "\n",
        "    train_loss.append(np.mean(batch_train_loss))\n",
        "    train_acc.append(np.mean(batch_train_acc))\n",
        "\n",
        "    batch_val_loss = []\n",
        "    batch_val_acc = []\n",
        "\n",
        "    for i in range(val[0], val[1]):\n",
        "\n",
        "        xss = xs[i].reshape(1, 1, 45)\n",
        "        yss = ys[i].reshape(1, 45)\n",
        "\n",
        "        loss, acc = model.test_on_batch(xss, yss) # 배치만큼 모델에 입력하여 나온 결과를 정답과 비교함\n",
        "\n",
        "        batch_val_loss.append(loss)\n",
        "        batch_val_acc.append(acc)\n",
        "\n",
        "    val_loss.append(np.mean(batch_val_loss))\n",
        "    val_acc.append(np.mean(batch_val_acc))\n",
        "\n",
        "    print('epoch{0:4d}, acc {1:0.3f}, loss {2: 0.3f}, val_acc {3:0.3f}, val_loss {4:0.3f}'.format(epoch,\n",
        "                                                                                                  np.mean(batch_train_acc),\n",
        "                                                                                                  np.mean(batch_train_loss),\n",
        "                                                                                                  np.mean(batch_val_acc),\n",
        "                                                                                                  np.mean(batch_val_loss)))"
      ]
    },
    {
      "cell_type": "code",
      "execution_count": 10,
      "metadata": {
        "id": "bshpyH52ggwS",
        "colab": {
          "base_uri": "https://localhost:8080/",
          "height": 454
        },
        "outputId": "1fe9300e-6bd8-4c6d-cf94-d90a16567609"
      },
      "outputs": [
        {
          "output_type": "display_data",
          "data": {
            "text/plain": [
              "<Figure size 640x480 with 2 Axes>"
            ],
            "image/png": "[encoded data removed]"
          },
          "metadata": {}
        }
      ],
      "source": [
        "%matplotlib inline\n",
        "import matplotlib.pyplot as plt\n",
        "\n",
        "fig, loss_ax = plt.subplots()\n",
        "\n",
        "acc_ax = loss_ax.twinx()\n",
        "\n",
        "loss_ax.plot(train_loss, 'y', label = 'train loss')\n",
        "loss_ax.plot(val_loss, 'r', label = 'val loss')\n",
        "\n",
        "acc_ax.plot(train_acc, 'b', label = 'train acc')\n",
        "acc_ax.plot(val_acc, 'g', label = 'val acc')\n",
        "\n",
        "loss_ax.set_xlabel('epoch')\n",
        "loss_ax.set_ylabel('epoch')\n",
        "acc_ax.set_ylabel('accracy')\n",
        "\n",
        "loss_ax.legend(loc = 'upper left')\n",
        "acc_ax.legend(loc = 'lower left')\n",
        "\n",
        "plt.show()\n",
        "# 이미 학습은 의미가 없다는 결론이 나옴"
      ]
    },
    {
      "cell_type": "code",
      "execution_count": 11,
      "metadata": {
        "colab": {
          "base_uri": "https://localhost:8080/"
        },
        "id": "mTiXpDcjx_As",
        "outputId": "11644fbe-5759-4be0-c518-c645f798b115"
      },
      "outputs": [
        {
          "output_type": "stream",
          "name": "stdout",
          "text": [
            "epoch   0, acc 0.182, loss  0.029\n",
            "epoch   1, acc 0.189, loss  0.018\n",
            "epoch   2, acc 0.196, loss  0.013\n",
            "epoch   3, acc 0.202, loss  0.010\n",
            "epoch   4, acc 0.208, loss  0.008\n",
            "epoch   5, acc 0.213, loss  0.007\n",
            "epoch   6, acc 0.218, loss  0.006\n",
            "epoch   7, acc 0.222, loss  0.006\n",
            "epoch   8, acc 0.223, loss  0.005\n",
            "epoch   9, acc 0.221, loss  0.004\n",
            "epoch  10, acc 0.216, loss  0.004\n",
            "epoch  11, acc 0.210, loss  0.004\n",
            "epoch  12, acc 0.203, loss  0.004\n",
            "epoch  13, acc 0.195, loss  0.003\n",
            "epoch  14, acc 0.187, loss  0.003\n",
            "epoch  15, acc 0.179, loss  0.003\n",
            "epoch  16, acc 0.172, loss  0.003\n",
            "epoch  17, acc 0.165, loss  0.003\n",
            "epoch  18, acc 0.158, loss  0.002\n",
            "epoch  19, acc 0.151, loss  0.002\n",
            "epoch  20, acc 0.145, loss  0.002\n",
            "epoch  21, acc 0.139, loss  0.002\n",
            "epoch  22, acc 0.134, loss  0.002\n",
            "epoch  23, acc 0.129, loss  0.002\n",
            "epoch  24, acc 0.124, loss  0.002\n",
            "epoch  25, acc 0.120, loss  0.002\n",
            "epoch  26, acc 0.116, loss  0.002\n",
            "epoch  27, acc 0.112, loss  0.002\n",
            "epoch  28, acc 0.109, loss  0.002\n",
            "epoch  29, acc 0.105, loss  0.002\n",
            "epoch  30, acc 0.102, loss  0.002\n",
            "epoch  31, acc 0.099, loss  0.001\n",
            "epoch  32, acc 0.096, loss  0.001\n",
            "epoch  33, acc 0.094, loss  0.001\n",
            "epoch  34, acc 0.091, loss  0.001\n",
            "epoch  35, acc 0.089, loss  0.001\n",
            "epoch  36, acc 0.087, loss  0.001\n",
            "epoch  37, acc 0.084, loss  0.001\n",
            "epoch  38, acc 0.082, loss  0.001\n",
            "epoch  39, acc 0.081, loss  0.001\n",
            "epoch  40, acc 0.079, loss  0.001\n",
            "epoch  41, acc 0.077, loss  0.001\n",
            "epoch  42, acc 0.075, loss  0.001\n",
            "epoch  43, acc 0.074, loss  0.001\n",
            "epoch  44, acc 0.072, loss  0.001\n",
            "epoch  45, acc 0.071, loss  0.001\n",
            "epoch  46, acc 0.069, loss  0.001\n",
            "epoch  47, acc 0.068, loss  0.001\n",
            "epoch  48, acc 0.067, loss  0.001\n",
            "epoch  49, acc 0.065, loss  0.001\n",
            "epoch  50, acc 0.064, loss  0.001\n"
          ]
        }
      ],
      "source": [
        "# 모든 데이터를 학습용으로 사용\n",
        "for epoch in range(51):\n",
        "\n",
        "    model.reset_states()  # 중요! 매 에포크마다 1회부터 다시 훈련하므로 상태 초기화 필요\n",
        "\n",
        "    for i in range(len(xs)):\n",
        "\n",
        "      xss = xs[i].reshape(1, 1, 45)\n",
        "      yss - ys[i].reshape(1, 45)\n",
        "\n",
        "      loss, acc = model.train_on_batch(xss, yss) # 배치만큼 모델에 학습\n",
        "\n",
        "      batch_train_loss.append(loss)\n",
        "      batch_train_acc.append(acc)\n",
        "\n",
        "    train_loss.append(np.mean(batch_train_loss))\n",
        "    train_acc.append(np.mean(batch_train_acc))\n",
        "\n",
        "    print('epoch{0:4d}, acc {1:0.3f}, loss {2: 0.3f}'.format(epoch,\n",
        "                                                            np.mean(batch_train_acc),\n",
        "                                                            np.mean(batch_train_loss)\n",
        "                                                            ))\n",
        "\n"
      ]
    },
    {
      "cell_type": "code",
      "execution_count": 12,
      "metadata": {
        "colab": {
          "base_uri": "https://localhost:8080/"
        },
        "id": "ekjo8MBdx--s",
        "outputId": "7b3a352e-b842-4cec-c9ec-d30a4cd58699"
      },
      "outputs": [
        {
          "output_type": "stream",
          "name": "stdout",
          "text": [
            "receive numbers\n"
          ]
        },
        {
          "output_type": "execute_result",
          "data": {
            "text/plain": [
              "[[7, 12, 16, 34, 42, 45]]"
            ]
          },
          "metadata": {},
          "execution_count": 12
        }
      ],
      "source": [
        "# 다음회 예측\n",
        "\n",
        "print('receive numbers')\n",
        "\n",
        "xss = xs[-1].reshape(1, 1, 45)\n",
        "\n",
        "pred = model.predict_on_batch(xss)\n",
        "pred\n",
        "\n",
        "luck = list(map(o2n, pred))\n",
        "luck\n",
        "\n",
        "# list_number = []\n",
        "\n",
        "# for n in range(6):\n",
        "#   numbers =pred\n",
        "  # numbers.sort()\n",
        "  # print('{0} : {1}'.format(n, numbers))\n",
        "  # list_numbers.append(numbers)"
      ]
    },
    {
      "cell_type": "code",
      "execution_count": 12,
      "metadata": {
        "id": "67xyP3Kf3WvN"
      },
      "outputs": [],
      "source": []
    }
  ],
  "metadata": {
    "accelerator": "GPU",
    "colab": {
      "gpuType": "T4",
      "provenance": [],
      "authorship_tag": "ABX9TyO2HDSf7B4UHto2hmDPiNrU",
      "include_colab_link": true
    },
    "kernelspec": {
      "display_name": "Python 3",
      "name": "python3"
    },
    "language_info": {
      "name": "python"
    }
  },
  "nbformat": 4,
  "nbformat_minor": 0
}