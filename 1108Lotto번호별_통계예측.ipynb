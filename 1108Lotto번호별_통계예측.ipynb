{
  "nbformat": 4,
  "nbformat_minor": 0,
  "metadata": {
    "colab": {
      "provenance": [],
      "authorship_tag": "ABX9TyOScOCu3QfNQRHwWFDZbahm",
      "include_colab_link": true
    },
    "kernelspec": {
      "name": "python3",
      "display_name": "Python 3"
    },
    "language_info": {
      "name": "python"
    }
  },
  "cells": [
    {
      "cell_type": "markdown",
      "metadata": {
        "id": "view-in-github",
        "colab_type": "text"
      },
      "source": [
        "<a href=\"https://colab.research.google.com/github/YonggunJung/colab/blob/main/1108Lotto%EB%B2%88%ED%98%B8%EB%B3%84_%ED%86%B5%EA%B3%84%EC%98%88%EC%B8%A1.ipynb\" target=\"_parent\"><img src=\"https://colab.research.google.com/assets/colab-badge.svg\" alt=\"Open In Colab\"/></a>"
      ]
    },
    {
      "cell_type": "code",
      "source": [
        "def sol(dc, win, ic, win2):\n",
        "  a = []\n",
        "  for num in win:\n",
        "    a.append(sdc.index(dc[num-1]))\n",
        "    dc[num-1] += 1\n",
        "\n",
        "  b = []\n",
        "  for num in win2:\n",
        "    b.append(sic.index(ic[num-1]))\n",
        "    ic[num-1] += 1\n",
        "\n",
        "  return dc, '----------------', ic, a, b"
      ],
      "metadata": {
        "id": "i1cDTjVQ9FuQ"
      },
      "execution_count": 1,
      "outputs": []
    },
    {
      "cell_type": "code",
      "source": [
        "# def sol2():\n",
        "\n",
        "\n",
        "#   return"
      ],
      "metadata": {
        "id": "ayFl9WQQKAeX"
      },
      "execution_count": 2,
      "outputs": []
    },
    {
      "cell_type": "code",
      "source": [
        "# 미포함\n",
        "dc = [154, 142, 149, 148, 140, 145, 149, 141, 116, 147, 149, 161, 156, 159, 146, 146, 156, 165, 147, 153, 150, 133, 135, 148, 137, 149, 158, 135, 140, 137, 148, 129, 154, 168, 146, 148, 153, 149, 152, 157, 135, 143, 156, 147, 160]\n",
        "sdc = sorted(dc, reverse = True)\n",
        "\n",
        "# 포함\n",
        "ic = [185, 173, 175, 180, 162, 176, 175, 161, 140, 174, 173, 188, 182, 180, 170, 173, 186, 183, 167, 179, 172, 147, 153, 176, 155, 178, 186, 156, 154, 167, 175, 158, 183, 190, 174, 172, 176, 177, 176, 178, 152, 166, 191, 171, 177]\n",
        "sic = sorted(ic, reverse = True)\n",
        "\n",
        "print('미포함 길이 :', len(dc))\n",
        "print('미포함 합 :', sum(dc))\n",
        "print('포함길이 :', len(ic))\n",
        "print('포함 합 :',  sum(ic))"
      ],
      "metadata": {
        "colab": {
          "base_uri": "https://localhost:8080/"
        },
        "id": "_jZBpzfM9Frc",
        "outputId": "be4ee6e8-1ae3-478a-ec8f-9721be207339"
      },
      "execution_count": 3,
      "outputs": [
        {
          "output_type": "stream",
          "name": "stdout",
          "text": [
            "미포함 길이 : 45\n",
            "미포함 합 : 6636\n",
            "포함길이 : 45\n",
            "포함 합 : 7742\n"
          ]
        }
      ]
    },
    {
      "cell_type": "code",
      "source": [
        "win = [6, 14, 30, 31, 40, 41]\n",
        "win2 = [6, 14, 30, 31, 40, 41, 29]"
      ],
      "metadata": {
        "id": "XmqlA53-9FpJ"
      },
      "execution_count": 4,
      "outputs": []
    },
    {
      "cell_type": "code",
      "source": [
        "sol(dc, win, ic, win2)"
      ],
      "metadata": {
        "colab": {
          "base_uri": "https://localhost:8080/"
        },
        "id": "5qMJNgZa9Fm1",
        "outputId": "4f7ff909-a606-429a-fb85-33104ef33ab9"
      },
      "execution_count": 5,
      "outputs": [
        {
          "output_type": "execute_result",
          "data": {
            "text/plain": [
              "([154,\n",
              "  142,\n",
              "  149,\n",
              "  148,\n",
              "  140,\n",
              "  146,\n",
              "  149,\n",
              "  141,\n",
              "  116,\n",
              "  147,\n",
              "  149,\n",
              "  161,\n",
              "  156,\n",
              "  160,\n",
              "  146,\n",
              "  146,\n",
              "  156,\n",
              "  165,\n",
              "  147,\n",
              "  153,\n",
              "  150,\n",
              "  133,\n",
              "  135,\n",
              "  148,\n",
              "  137,\n",
              "  149,\n",
              "  158,\n",
              "  135,\n",
              "  140,\n",
              "  138,\n",
              "  149,\n",
              "  129,\n",
              "  154,\n",
              "  168,\n",
              "  146,\n",
              "  148,\n",
              "  153,\n",
              "  149,\n",
              "  152,\n",
              "  158,\n",
              "  136,\n",
              "  143,\n",
              "  156,\n",
              "  147,\n",
              "  160],\n",
              " '----------------',\n",
              " [185,\n",
              "  173,\n",
              "  175,\n",
              "  180,\n",
              "  162,\n",
              "  177,\n",
              "  175,\n",
              "  161,\n",
              "  140,\n",
              "  174,\n",
              "  173,\n",
              "  188,\n",
              "  182,\n",
              "  181,\n",
              "  170,\n",
              "  173,\n",
              "  186,\n",
              "  183,\n",
              "  167,\n",
              "  179,\n",
              "  172,\n",
              "  147,\n",
              "  153,\n",
              "  176,\n",
              "  155,\n",
              "  178,\n",
              "  186,\n",
              "  156,\n",
              "  155,\n",
              "  168,\n",
              "  176,\n",
              "  158,\n",
              "  183,\n",
              "  190,\n",
              "  174,\n",
              "  172,\n",
              "  176,\n",
              "  177,\n",
              "  176,\n",
              "  179,\n",
              "  153,\n",
              "  166,\n",
              "  191,\n",
              "  171,\n",
              "  177],\n",
              " [31, 4, 37, 21, 6, 39],\n",
              " [16, 9, 32, 20, 12, 42, 40])"
            ]
          },
          "metadata": {},
          "execution_count": 5
        }
      ]
    },
    {
      "cell_type": "code",
      "source": [
        "# 미포함\n",
        "# 인덱스                       # 번호                   # 예측\n",
        "[31, 4, 37, 21, 6, 39]    [6, 14, 30, 31, 40, 41]   [14, 40, 11, 15, 5, 25]"
      ],
      "metadata": {
        "id": "iz5phYrtKc6b"
      },
      "execution_count": null,
      "outputs": []
    },
    {
      "cell_type": "code",
      "source": [
        "# 포함\n",
        "# 인덱스                       # 번호                         #예측\n",
        "[16, 9, 32, 20, 12, 42, 40]   [6, 14, 30, 31, 40, 41, 29]  [38, 13, 15, 37, 40 ,23, 25]\n"
      ],
      "metadata": {
        "id": "kgsCadgE9MIJ"
      },
      "execution_count": null,
      "outputs": []
    },
    {
      "cell_type": "code",
      "source": [
        "# # 이거도 내가 원하는게 아닌데 다시 밑에 껄로 간다\n",
        "# def sol(sdc, win):\n",
        "#   a = []\n",
        "#   for i in win:\n",
        "#     if i in dc:\n",
        "#       a.append(sdc.values(i))\n",
        "\n",
        "#       sdc[i] += 1\n",
        "#   return a\n"
      ],
      "metadata": {
        "id": "ykUA9Z45ry9Y"
      },
      "execution_count": null,
      "outputs": []
    },
    {
      "cell_type": "code",
      "source": [
        "# # 미포함\n",
        "# dc = {1:154, 2:142, 3:149, 4:148, 5:140, 6:145, 7:149, 8:141, 9:116, 10:147, 11:149, 12:161, 13:156, 14:159, 15:146, 16:146, 17:156, 18:165, 19:147, 20:153, 21:150, 22:133, 23:135, 24:148, 25:137, 26:149, 27:158, 28:135, 29:140, 30:137, 31:148, 32:129, 33:154, 34:168, 35:146, 36:148, 37:153, 38:149, 39:152, 40:157, 41:135, 42:143, 43:156, 44:147, 45:160}\n",
        "\n",
        "# # 포함\n",
        "# ic = {1:185, 2:173, 3:175, 4:180, 5:162, 6:176, 7:175, 8:161, 9:140, 10:174, 11:173, 12:188, 13:182, 14:180, 15:170, 16:173, 17:186, 18:183, 19:167, 20:179, 21:172, 22:147, 23:153, 24:176, 25:155, 26:178, 27:186, 28:156, 29:154, 30:167, 31:175, 32:158, 33:183, 34:190, 35:174, 36:172, 37:176, 38:177, 39:176, 40:178, 41:152, 42:166, 43:191, 44:171, 45:177}\n",
        "\n",
        "# print('미포함 길이 :', len(dc))\n",
        "# print('미포함 합 :', sum(dc.values()))\n",
        "# print('포함길이 :', len(ic))\n",
        "# print('포함 합 :',  sum(ic.values()))"
      ],
      "metadata": {
        "id": "YMUioV0ckyvN"
      },
      "execution_count": null,
      "outputs": []
    },
    {
      "cell_type": "code",
      "source": [
        "# win = [6, 14, 30, 31, 40, 41]\n",
        "# win2 = [6, 14, 30, 31, 40, 41, 29]"
      ],
      "metadata": {
        "id": "FN1U3yamr74u"
      },
      "execution_count": null,
      "outputs": []
    },
    {
      "cell_type": "code",
      "source": [
        "# # 값 정렬은 그냥 외워야 할듯\n",
        "# # 딕셔너리 key 정렬을 하려면 sorted key 부분을 빼면됨\n",
        "# # 딕셔너리 키와 솔티드 키는 다른거임\n",
        "# sdc = dict(sorted(dc.items(), key = lambda x: x[1], reverse = True))\n",
        "# sdc"
      ],
      "metadata": {
        "id": "6TtKFLJfkytv"
      },
      "execution_count": null,
      "outputs": []
    },
    {
      "cell_type": "code",
      "source": [],
      "metadata": {
        "id": "Yy_I6br_kykg"
      },
      "execution_count": null,
      "outputs": []
    },
    {
      "cell_type": "code",
      "source": [],
      "metadata": {
        "id": "5GHx5Iy-kyiQ"
      },
      "execution_count": null,
      "outputs": []
    },
    {
      "cell_type": "code",
      "source": [
        "# # 내가 생각했던게 이게 아닌데 ㅠㅠ\n",
        "# # 위에서 다시\n",
        "# def sol(dc, win):\n",
        "#   for num in win:\n",
        "#     dc[num-1] += 1\n",
        "#   return dc"
      ],
      "metadata": {
        "id": "B7sbIsligITw"
      },
      "execution_count": null,
      "outputs": []
    },
    {
      "cell_type": "code",
      "execution_count": null,
      "metadata": {
        "id": "4_0jw2gOeQDQ"
      },
      "outputs": [],
      "source": [
        "# # 미포함\n",
        "# dc = [154, 142, 149, 148, 140, 145, 149, 141, 116, 147, 149, 161, 156, 159, 146, 146, 156, 165, 147, 153, 150, 133, 135, 148, 137, 149, 158, 135, 140, 137, 148, 129, 154, 168, 146, 148, 153, 149, 152, 157, 135, 143, 156, 147, 160]\n",
        "\n",
        "# # 포함\n",
        "# ic = [185, 173, 175, 180, 162, 176, 175, 161, 140, 174, 173, 188, 182, 180, 170, 173, 186, 183, 167, 179, 172, 147, 153, 176, 155, 178, 186, 156, 154, 167, 175, 158, 183, 190, 174, 172, 176, 177, 176, 178, 152, 166, 191, 171, 177]\n",
        "\n",
        "# print('미포함 길이 :', len(dc))\n",
        "# print('미포함 합 :', sum(dc))\n",
        "# print('포함길이 :', len(ic))\n",
        "# print('포함 합 :',  sum(ic))"
      ]
    },
    {
      "cell_type": "code",
      "source": [
        "# win = [6, 14, 30, 31, 40, 41]\n",
        "# win2 = [6, 14, 30, 31, 40, 41, 29]"
      ],
      "metadata": {
        "id": "ba48G2HfhlKw"
      },
      "execution_count": null,
      "outputs": []
    },
    {
      "cell_type": "code",
      "source": [
        "# sol(dc, win)"
      ],
      "metadata": {
        "id": "_vjeCudxjhkh"
      },
      "execution_count": null,
      "outputs": []
    },
    {
      "cell_type": "code",
      "source": [
        "# print('미포함 길이 :', len(dc))\n",
        "# print('미포함 합 :', sum(dc))"
      ],
      "metadata": {
        "id": "1QAjnFqXjl4s"
      },
      "execution_count": null,
      "outputs": []
    }
  ]
}