{
  "nbformat": 4,
  "nbformat_minor": 0,
  "metadata": {
    "colab": {
      "provenance": [],
      "gpuType": "T4",
      "authorship_tag": "ABX9TyO2HDSf7B4UHto2hmDPiNrU",
      "include_colab_link": true
    },
    "kernelspec": {
      "name": "python3",
      "display_name": "Python 3"
    },
    "language_info": {
      "name": "python"
    },
    "accelerator": "GPU"
  },
  "cells": [
    {
      "cell_type": "markdown",
      "metadata": {
        "id": "view-in-github",
        "colab_type": "text"
      },
      "source": [
        "<a href=\"https://colab.research.google.com/github/YonggunJung/colab/blob/main/1105%ED%9A%8CDLotto%EC%98%88%EC%B8%A1.ipynb\" target=\"_parent\"><img src=\"https://colab.research.google.com/assets/colab-badge.svg\" alt=\"Open In Colab\"/></a>"
      ]
    },
    {
      "cell_type": "code",
      "execution_count": 1,
      "metadata": {
        "colab": {
          "base_uri": "https://localhost:8080/"
        },
        "id": "EV0N-8-1wfGo",
        "outputId": "0f929062-4be8-43aa-f95d-648bfa0cf2ed"
      },
      "outputs": [
        {
          "output_type": "stream",
          "name": "stdout",
          "text": [
            "Mounted at /content/drive\n"
          ]
        }
      ],
      "source": [
        "from google.colab import drive\n",
        "drive.mount('/content/drive')"
      ]
    },
    {
      "cell_type": "code",
      "source": [
        "import pandas as pd\n",
        "import numpy as np\n",
        "import warnings\n",
        "warnings.filterwarnings('ignore')"
      ],
      "metadata": {
        "id": "6OK4eW92wov0"
      },
      "execution_count": 2,
      "outputs": []
    },
    {
      "cell_type": "code",
      "source": [
        "win = np.loadtxt('/content/drive/MyDrive/Colab Notebooks/로또/data/jlotto.csv', delimiter = ',')\n",
        "win"
      ],
      "metadata": {
        "colab": {
          "base_uri": "https://localhost:8080/"
        },
        "id": "227wJo0xYVaV",
        "outputId": "e3dabde2-e088-4264-adf3-bf8527ca66d4"
      },
      "execution_count": 3,
      "outputs": [
        {
          "output_type": "execute_result",
          "data": {
            "text/plain": [
              "array([[ 4.,  7., 17., 18., 38., 44.],\n",
              "       [ 8., 12., 13., 29., 33., 42.],\n",
              "       [ 3.,  7., 14., 15., 22., 38.],\n",
              "       ...,\n",
              "       [13., 14., 22., 26., 37., 38.],\n",
              "       [10., 12., 29., 31., 40., 44.],\n",
              "       [ 1.,  7., 21., 30., 35., 38.]])"
            ]
          },
          "metadata": {},
          "execution_count": 3
        }
      ]
    },
    {
      "cell_type": "code",
      "source": [
        "xn = len(win)"
      ],
      "metadata": {
        "id": "GS0NAmQGw74-"
      },
      "execution_count": 4,
      "outputs": []
    },
    {
      "cell_type": "code",
      "source": [
        "# 숫자를 원핫 인코딩으로 변환\n",
        "def n2o(numbers):\n",
        "\n",
        "  oh = np.zeros(45)  # 45개의 빈 칸 만들기\n",
        "\n",
        "  for i in range(6):            # 6개의 당첨번호를 반복\n",
        "      oh[int(numbers[i])-1] = 1   # 번호는 1부터 시작하고 인덱스는 0부터 시작하니 1을 빼줌\n",
        "\n",
        "  return oh\n",
        "\n",
        "# 원핫 인코딩을 숫자로 변환\n",
        "def o2n(oh):\n",
        "\n",
        "  numbers = []\n",
        "\n",
        "  for i in range(len(oh)):\n",
        "    if oh[i] == 1:           # oh[i]이 1 이면 해당 번호를 출력\n",
        "      numbers.append(i+1)    # 인덱스 보다 숫자가 1크니까 1더해줌 출력\n",
        "\n",
        "  return numbers"
      ],
      "metadata": {
        "id": "gG4RnEQzhKPx"
      },
      "execution_count": 5,
      "outputs": []
    },
    {
      "cell_type": "code",
      "source": [
        "numbers = win[: , :]  # 이게 문제라서 못 하겠음ㅠ 데이터 프레임이 문제인가?\n",
        "                      # 데이터 프레임으로 안열고 넘파이 텍스트 파일로 가져오니 됨\n",
        "ohs = list(map(n2o, numbers))\n",
        "\n",
        "xs = ohs[0:xn -1]\n",
        "ys = ohs[1:xn]\n",
        "\n",
        "# 원핫 인코딩 확인\n",
        "print('ohs')\n",
        "print('x[0] :' + str(xs[0]))\n",
        "print('y[0] :' + str(ys[0]))\n",
        "\n",
        "# 번호 확인\n",
        "print('numbers')\n",
        "print('x[0] :' + str(o2n(xs[0])))\n",
        "print('y[0] :' + str(o2n(ys[0])))"
      ],
      "metadata": {
        "colab": {
          "base_uri": "https://localhost:8080/"
        },
        "id": "XCSHMDUUvRZf",
        "outputId": "1a990a64-a54e-44fb-b1d3-56266d81c6cb"
      },
      "execution_count": 6,
      "outputs": [
        {
          "output_type": "stream",
          "name": "stdout",
          "text": [
            "ohs\n",
            "x[0] :[0. 0. 0. 1. 0. 0. 1. 0. 0. 0. 0. 0. 0. 0. 0. 0. 1. 1. 0. 0. 0. 0. 0. 0.\n",
            " 0. 0. 0. 0. 0. 0. 0. 0. 0. 0. 0. 0. 0. 1. 0. 0. 0. 0. 0. 1. 0.]\n",
            "y[0] :[0. 0. 0. 0. 0. 0. 0. 1. 0. 0. 0. 1. 1. 0. 0. 0. 0. 0. 0. 0. 0. 0. 0. 0.\n",
            " 0. 0. 0. 0. 1. 0. 0. 0. 1. 0. 0. 0. 0. 0. 0. 0. 0. 1. 0. 0. 0.]\n",
            "numbers\n",
            "x[0] :[4, 7, 17, 18, 38, 44]\n",
            "y[0] :[8, 12, 13, 29, 33, 42]\n"
          ]
        }
      ]
    },
    {
      "cell_type": "code",
      "source": [
        "train = (0, int(len(win)*0.6))\n",
        "val = (int(len(win)*0.6), int(len(win)*0.8))\n",
        "test = (int(len(win)*0.8), len(win))\n",
        "\n",
        "print('train : {0}, val : {1}, test : {2}'.format(train, val, test))"
      ],
      "metadata": {
        "colab": {
          "base_uri": "https://localhost:8080/"
        },
        "id": "8WuoR8jggg2_",
        "outputId": "2a30f5f5-2aef-4882-92d9-7eb27257402d"
      },
      "execution_count": 7,
      "outputs": [
        {
          "output_type": "stream",
          "name": "stdout",
          "text": [
            "train : (0, 662), val : (662, 883), test : (883, 1104)\n"
          ]
        }
      ]
    },
    {
      "cell_type": "code",
      "source": [
        "import tensorflow as tf\n",
        "from tensorflow import keras\n",
        "from tensorflow.keras import layers\n",
        "from tensorflow.keras import models\n",
        "\n",
        "# 모델 정의\n",
        "model = keras.Sequential([\n",
        "    keras.layers.LSTM(128, batch_input_shape = (1, 1, 45),\n",
        "                      return_sequences = False,\n",
        "                      stateful = True),\n",
        "    keras.layers.Dense(45, activation = 'sigmoid')\n",
        "])\n",
        "\n",
        "# 모델 컴파일\n",
        "model.compile(loss = 'binary_crossentropy', optimizer = 'adam', metrics = ['accuracy'])"
      ],
      "metadata": {
        "id": "VNx80jYjgg0y"
      },
      "execution_count": 8,
      "outputs": []
    },
    {
      "cell_type": "code",
      "source": [
        "# 매 에포크마다 훈련과 검증의 손실 및 정확도를 기록하기 위한 변수\n",
        "train_loss = []\n",
        "train_acc = []\n",
        "val_loss = []\n",
        "val_acc = []\n",
        "\n",
        "# 최대 100번 에포크까지 수행\n",
        "for epoch in range(51):\n",
        "    model.reset_states()  # 중요! 매 에포크마다 1회부터 다시 훈련하므로 상태 초기화 필요\n",
        "\n",
        "    batch_train_loss = []\n",
        "    batch_train_acc = []\n",
        "\n",
        "    for i in range(train[0], train[1]):\n",
        "\n",
        "        xss = xs[i].reshape(1, 1, 45)\n",
        "        yss = ys[i].reshape(1, 45)\n",
        "\n",
        "        loss, acc = model.train_on_batch(xss, yss) # 배치만큼 모델에 학습\n",
        "\n",
        "        batch_train_loss.append(loss)\n",
        "        batch_train_acc.append(acc)\n",
        "\n",
        "    train_loss.append(np.mean(batch_train_loss))\n",
        "    train_acc.append(np.mean(batch_train_acc))\n",
        "\n",
        "    batch_val_loss = []\n",
        "    batch_val_acc = []\n",
        "\n",
        "    for i in range(val[0], val[1]):\n",
        "\n",
        "        xss = xs[i].reshape(1, 1, 45)\n",
        "        yss = ys[i].reshape(1, 45)\n",
        "\n",
        "        loss, acc = model.test_on_batch(xss, yss) # 배치만큼 모델에 입력하여 나온 결과를 정답과 비교함\n",
        "\n",
        "        batch_val_loss.append(loss)\n",
        "        batch_val_acc.append(acc)\n",
        "\n",
        "    val_loss.append(np.mean(batch_val_loss))\n",
        "    val_acc.append(np.mean(batch_val_acc))\n",
        "\n",
        "    print('epoch{0:4d}, acc {1:0.3f}, loss {2: 0.3f}, val_acc {3:0.3f}, val_loss {4:0.3f}'.format(epoch,\n",
        "                                                                                                  np.mean(batch_train_acc),\n",
        "                                                                                                  np.mean(batch_train_loss),\n",
        "                                                                                                  np.mean(batch_val_acc),\n",
        "                                                                                                  np.mean(batch_val_loss)))"
      ],
      "metadata": {
        "colab": {
          "base_uri": "https://localhost:8080/"
        },
        "id": "psqZd4_Nggyf",
        "outputId": "31e523f0-23ed-4048-d41f-090b9586c907"
      },
      "execution_count": 9,
      "outputs": [
        {
          "output_type": "stream",
          "name": "stdout",
          "text": [
            "epoch   0, acc 0.020, loss  0.410, val_acc 0.000, val_loss 0.401\n",
            "epoch   1, acc 0.018, loss  0.396, val_acc 0.000, val_loss 0.400\n",
            "epoch   2, acc 0.027, loss  0.394, val_acc 0.005, val_loss 0.400\n",
            "epoch   3, acc 0.021, loss  0.391, val_acc 0.005, val_loss 0.401\n",
            "epoch   4, acc 0.030, loss  0.387, val_acc 0.005, val_loss 0.402\n",
            "epoch   5, acc 0.036, loss  0.382, val_acc 0.014, val_loss 0.405\n",
            "epoch   6, acc 0.041, loss  0.376, val_acc 0.023, val_loss 0.408\n",
            "epoch   7, acc 0.038, loss  0.370, val_acc 0.027, val_loss 0.412\n",
            "epoch   8, acc 0.045, loss  0.364, val_acc 0.027, val_loss 0.416\n",
            "epoch   9, acc 0.053, loss  0.358, val_acc 0.027, val_loss 0.420\n",
            "epoch  10, acc 0.057, loss  0.352, val_acc 0.036, val_loss 0.424\n",
            "epoch  11, acc 0.062, loss  0.345, val_acc 0.036, val_loss 0.429\n",
            "epoch  12, acc 0.073, loss  0.338, val_acc 0.045, val_loss 0.433\n",
            "epoch  13, acc 0.094, loss  0.330, val_acc 0.041, val_loss 0.438\n",
            "epoch  14, acc 0.098, loss  0.321, val_acc 0.041, val_loss 0.443\n",
            "epoch  15, acc 0.116, loss  0.311, val_acc 0.036, val_loss 0.449\n",
            "epoch  16, acc 0.121, loss  0.301, val_acc 0.036, val_loss 0.455\n",
            "epoch  17, acc 0.119, loss  0.290, val_acc 0.032, val_loss 0.462\n",
            "epoch  18, acc 0.139, loss  0.279, val_acc 0.027, val_loss 0.469\n",
            "epoch  19, acc 0.145, loss  0.267, val_acc 0.027, val_loss 0.477\n",
            "epoch  20, acc 0.144, loss  0.256, val_acc 0.023, val_loss 0.485\n",
            "epoch  21, acc 0.153, loss  0.245, val_acc 0.023, val_loss 0.493\n",
            "epoch  22, acc 0.156, loss  0.234, val_acc 0.023, val_loss 0.501\n",
            "epoch  23, acc 0.147, loss  0.223, val_acc 0.018, val_loss 0.511\n",
            "epoch  24, acc 0.150, loss  0.212, val_acc 0.018, val_loss 0.521\n",
            "epoch  25, acc 0.139, loss  0.200, val_acc 0.018, val_loss 0.531\n",
            "epoch  26, acc 0.148, loss  0.190, val_acc 0.018, val_loss 0.541\n",
            "epoch  27, acc 0.145, loss  0.179, val_acc 0.018, val_loss 0.550\n",
            "epoch  28, acc 0.142, loss  0.170, val_acc 0.023, val_loss 0.560\n",
            "epoch  29, acc 0.145, loss  0.162, val_acc 0.018, val_loss 0.575\n",
            "epoch  30, acc 0.137, loss  0.152, val_acc 0.027, val_loss 0.583\n",
            "epoch  31, acc 0.150, loss  0.143, val_acc 0.014, val_loss 0.600\n",
            "epoch  32, acc 0.157, loss  0.142, val_acc 0.032, val_loss 0.609\n",
            "epoch  33, acc 0.159, loss  0.138, val_acc 0.014, val_loss 0.624\n",
            "epoch  34, acc 0.171, loss  0.126, val_acc 0.018, val_loss 0.633\n",
            "epoch  35, acc 0.165, loss  0.117, val_acc 0.014, val_loss 0.649\n",
            "epoch  36, acc 0.163, loss  0.110, val_acc 0.018, val_loss 0.662\n",
            "epoch  37, acc 0.166, loss  0.104, val_acc 0.014, val_loss 0.673\n",
            "epoch  38, acc 0.150, loss  0.107, val_acc 0.018, val_loss 0.672\n",
            "epoch  39, acc 0.145, loss  0.093, val_acc 0.027, val_loss 0.695\n",
            "epoch  40, acc 0.154, loss  0.092, val_acc 0.014, val_loss 0.701\n",
            "epoch  41, acc 0.148, loss  0.083, val_acc 0.018, val_loss 0.716\n",
            "epoch  42, acc 0.162, loss  0.079, val_acc 0.027, val_loss 0.729\n",
            "epoch  43, acc 0.156, loss  0.075, val_acc 0.018, val_loss 0.738\n",
            "epoch  44, acc 0.148, loss  0.074, val_acc 0.023, val_loss 0.749\n",
            "epoch  45, acc 0.168, loss  0.072, val_acc 0.018, val_loss 0.760\n",
            "epoch  46, acc 0.140, loss  0.065, val_acc 0.023, val_loss 0.764\n",
            "epoch  47, acc 0.157, loss  0.061, val_acc 0.032, val_loss 0.792\n",
            "epoch  48, acc 0.159, loss  0.059, val_acc 0.014, val_loss 0.780\n",
            "epoch  49, acc 0.168, loss  0.057, val_acc 0.014, val_loss 0.804\n",
            "epoch  50, acc 0.159, loss  0.052, val_acc 0.014, val_loss 0.813\n",
            "epoch  51, acc 0.131, loss  0.048, val_acc 0.023, val_loss 0.833\n",
            "epoch  52, acc 0.142, loss  0.048, val_acc 0.014, val_loss 0.843\n",
            "epoch  53, acc 0.151, loss  0.048, val_acc 0.027, val_loss 0.850\n",
            "epoch  54, acc 0.159, loss  0.040, val_acc 0.027, val_loss 0.854\n",
            "epoch  55, acc 0.130, loss  0.041, val_acc 0.018, val_loss 0.867\n",
            "epoch  56, acc 0.139, loss  0.040, val_acc 0.023, val_loss 0.878\n",
            "epoch  57, acc 0.174, loss  0.035, val_acc 0.014, val_loss 0.884\n",
            "epoch  58, acc 0.174, loss  0.037, val_acc 0.014, val_loss 0.894\n",
            "epoch  59, acc 0.171, loss  0.036, val_acc 0.023, val_loss 0.916\n",
            "epoch  60, acc 0.159, loss  0.033, val_acc 0.023, val_loss 0.911\n",
            "epoch  61, acc 0.147, loss  0.028, val_acc 0.027, val_loss 0.944\n",
            "epoch  62, acc 0.148, loss  0.027, val_acc 0.014, val_loss 0.947\n",
            "epoch  63, acc 0.142, loss  0.028, val_acc 0.014, val_loss 0.944\n",
            "epoch  64, acc 0.159, loss  0.031, val_acc 0.032, val_loss 0.949\n",
            "epoch  65, acc 0.147, loss  0.027, val_acc 0.009, val_loss 0.967\n",
            "epoch  66, acc 0.151, loss  0.025, val_acc 0.018, val_loss 0.987\n",
            "epoch  67, acc 0.156, loss  0.023, val_acc 0.027, val_loss 0.997\n",
            "epoch  68, acc 0.160, loss  0.023, val_acc 0.023, val_loss 1.015\n",
            "epoch  69, acc 0.169, loss  0.021, val_acc 0.023, val_loss 1.010\n",
            "epoch  70, acc 0.166, loss  0.020, val_acc 0.036, val_loss 1.025\n",
            "epoch  71, acc 0.175, loss  0.021, val_acc 0.023, val_loss 1.048\n",
            "epoch  72, acc 0.163, loss  0.022, val_acc 0.009, val_loss 1.038\n",
            "epoch  73, acc 0.166, loss  0.023, val_acc 0.027, val_loss 1.029\n",
            "epoch  74, acc 0.159, loss  0.020, val_acc 0.005, val_loss 1.041\n",
            "epoch  75, acc 0.160, loss  0.020, val_acc 0.036, val_loss 1.045\n",
            "epoch  76, acc 0.165, loss  0.018, val_acc 0.032, val_loss 1.074\n",
            "epoch  77, acc 0.163, loss  0.015, val_acc 0.036, val_loss 1.094\n",
            "epoch  78, acc 0.144, loss  0.015, val_acc 0.023, val_loss 1.101\n",
            "epoch  79, acc 0.157, loss  0.015, val_acc 0.023, val_loss 1.111\n",
            "epoch  80, acc 0.174, loss  0.016, val_acc 0.023, val_loss 1.091\n",
            "epoch  81, acc 0.175, loss  0.017, val_acc 0.023, val_loss 1.122\n",
            "epoch  82, acc 0.163, loss  0.013, val_acc 0.009, val_loss 1.124\n",
            "epoch  83, acc 0.168, loss  0.011, val_acc 0.009, val_loss 1.148\n",
            "epoch  84, acc 0.180, loss  0.009, val_acc 0.027, val_loss 1.133\n",
            "epoch  85, acc 0.165, loss  0.011, val_acc 0.027, val_loss 1.132\n",
            "epoch  86, acc 0.156, loss  0.015, val_acc 0.023, val_loss 1.138\n",
            "epoch  87, acc 0.181, loss  0.018, val_acc 0.018, val_loss 1.147\n",
            "epoch  88, acc 0.174, loss  0.017, val_acc 0.027, val_loss 1.172\n",
            "epoch  89, acc 0.154, loss  0.011, val_acc 0.018, val_loss 1.189\n",
            "epoch  90, acc 0.181, loss  0.008, val_acc 0.014, val_loss 1.199\n",
            "epoch  91, acc 0.137, loss  0.007, val_acc 0.018, val_loss 1.201\n",
            "epoch  92, acc 0.163, loss  0.006, val_acc 0.023, val_loss 1.200\n",
            "epoch  93, acc 0.159, loss  0.005, val_acc 0.014, val_loss 1.227\n",
            "epoch  94, acc 0.172, loss  0.009, val_acc 0.023, val_loss 1.240\n",
            "epoch  95, acc 0.169, loss  0.028, val_acc 0.027, val_loss 1.183\n",
            "epoch  96, acc 0.175, loss  0.018, val_acc 0.023, val_loss 1.208\n",
            "epoch  97, acc 0.159, loss  0.009, val_acc 0.023, val_loss 1.224\n",
            "epoch  98, acc 0.187, loss  0.006, val_acc 0.014, val_loss 1.256\n",
            "epoch  99, acc 0.165, loss  0.004, val_acc 0.023, val_loss 1.263\n"
          ]
        }
      ]
    },
    {
      "cell_type": "code",
      "source": [
        "%matplotlib inline\n",
        "import matplotlib.pyplot as plt\n",
        "\n",
        "fig, loss_ax = plt.subplots()\n",
        "\n",
        "acc_ax = loss_ax.twinx()\n",
        "\n",
        "loss_ax.plot(train_loss, 'y', label = 'train loss')\n",
        "loss_ax.plot(val_loss, 'r', label = 'val loss')\n",
        "\n",
        "acc_ax.plot(train_acc, 'b', label = 'train acc')\n",
        "acc_ax.plot(val_acc, 'g', label = 'val acc')\n",
        "\n",
        "loss_ax.set_xlabel('epoch')\n",
        "loss_ax.set_ylabel('epoch')\n",
        "acc_ax.set_ylabel('accracy')\n",
        "\n",
        "loss_ax.legend(loc = 'upper left')\n",
        "acc_ax.legend(loc = 'lower left')\n",
        "\n",
        "plt.show()\n",
        "# 이미 학습은 의미가 없다는 결론이 나옴"
      ],
      "metadata": {
        "colab": {
          "base_uri": "https://localhost:8080/",
          "height": 449
        },
        "id": "bshpyH52ggwS",
        "outputId": "5bf82fd7-fa57-4bdb-ac61-b1e77f476243"
      },
      "execution_count": 10,
      "outputs": [
        {
          "output_type": "display_data",
          "data": {
            "text/plain": [
              "<Figure size 640x480 with 2 Axes>"
            ],
            "image/png": "[encoded data removed]"
          },
          "metadata": {}
        }
      ]
    },
    {
      "cell_type": "code",
      "source": [
        "# 모든 데이터를 학습용으로 사용\n",
        "for epoch in range(51):\n",
        "\n",
        "    model.reset_states()  # 중요! 매 에포크마다 1회부터 다시 훈련하므로 상태 초기화 필요\n",
        "\n",
        "    for i in range(len(xs)):\n",
        "\n",
        "      xss = xs[i].reshape(1, 1, 45)\n",
        "      yss - ys[i].reshape(1, 45)\n",
        "\n",
        "      loss, acc = model.train_on_batch(xss, yss) # 배치만큼 모델에 학습\n",
        "\n",
        "      batch_train_loss.append(loss)\n",
        "      batch_train_acc.append(acc)\n",
        "\n",
        "    train_loss.append(np.mean(batch_train_loss))\n",
        "    train_acc.append(np.mean(batch_train_acc))\n",
        "\n",
        "    print('epoch{0:4d}, acc {1:0.3f}, loss {2: 0.3f}'.format(epoch,\n",
        "                                                            np.mean(batch_train_acc),\n",
        "                                                            np.mean(batch_train_loss)\n",
        "                                                            ))\n",
        "\n"
      ],
      "metadata": {
        "colab": {
          "base_uri": "https://localhost:8080/"
        },
        "id": "mTiXpDcjx_As",
        "outputId": "9b1af61f-d3bd-40b6-e7b2-0b19747ca1ca"
      },
      "execution_count": 11,
      "outputs": [
        {
          "output_type": "stream",
          "name": "stdout",
          "text": [
            "epoch   0, acc 0.125, loss  0.017\n",
            "epoch   1, acc 0.134, loss  0.010\n",
            "epoch   2, acc 0.142, loss  0.007\n",
            "epoch   3, acc 0.151, loss  0.006\n",
            "epoch   4, acc 0.160, loss  0.005\n",
            "epoch   5, acc 0.168, loss  0.004\n",
            "epoch   6, acc 0.176, loss  0.004\n",
            "epoch   7, acc 0.186, loss  0.003\n",
            "epoch   8, acc 0.195, loss  0.003\n",
            "epoch   9, acc 0.204, loss  0.003\n",
            "epoch  10, acc 0.215, loss  0.002\n",
            "epoch  11, acc 0.226, loss  0.002\n",
            "epoch  12, acc 0.238, loss  0.002\n",
            "epoch  13, acc 0.250, loss  0.002\n",
            "epoch  14, acc 0.263, loss  0.002\n",
            "epoch  15, acc 0.276, loss  0.002\n",
            "epoch  16, acc 0.289, loss  0.002\n",
            "epoch  17, acc 0.301, loss  0.001\n",
            "epoch  18, acc 0.314, loss  0.001\n",
            "epoch  19, acc 0.326, loss  0.001\n",
            "epoch  20, acc 0.339, loss  0.001\n",
            "epoch  21, acc 0.351, loss  0.001\n",
            "epoch  22, acc 0.363, loss  0.001\n",
            "epoch  23, acc 0.374, loss  0.001\n",
            "epoch  24, acc 0.385, loss  0.001\n",
            "epoch  25, acc 0.396, loss  0.001\n",
            "epoch  26, acc 0.406, loss  0.001\n",
            "epoch  27, acc 0.415, loss  0.001\n",
            "epoch  28, acc 0.425, loss  0.001\n",
            "epoch  29, acc 0.434, loss  0.001\n",
            "epoch  30, acc 0.443, loss  0.001\n",
            "epoch  31, acc 0.451, loss  0.001\n",
            "epoch  32, acc 0.459, loss  0.001\n",
            "epoch  33, acc 0.467, loss  0.001\n",
            "epoch  34, acc 0.474, loss  0.001\n",
            "epoch  35, acc 0.482, loss  0.001\n",
            "epoch  36, acc 0.489, loss  0.001\n",
            "epoch  37, acc 0.495, loss  0.001\n",
            "epoch  38, acc 0.502, loss  0.001\n",
            "epoch  39, acc 0.508, loss  0.001\n",
            "epoch  40, acc 0.514, loss  0.001\n",
            "epoch  41, acc 0.520, loss  0.001\n",
            "epoch  42, acc 0.526, loss  0.001\n",
            "epoch  43, acc 0.531, loss  0.001\n",
            "epoch  44, acc 0.536, loss  0.001\n",
            "epoch  45, acc 0.541, loss  0.001\n",
            "epoch  46, acc 0.546, loss  0.001\n",
            "epoch  47, acc 0.551, loss  0.001\n",
            "epoch  48, acc 0.555, loss  0.001\n",
            "epoch  49, acc 0.560, loss  0.001\n",
            "epoch  50, acc 0.564, loss  0.001\n",
            "epoch  51, acc 0.568, loss  0.001\n",
            "epoch  52, acc 0.572, loss  0.001\n",
            "epoch  53, acc 0.576, loss  0.000\n",
            "epoch  54, acc 0.580, loss  0.000\n",
            "epoch  55, acc 0.584, loss  0.000\n",
            "epoch  56, acc 0.588, loss  0.000\n",
            "epoch  57, acc 0.591, loss  0.000\n",
            "epoch  58, acc 0.595, loss  0.000\n",
            "epoch  59, acc 0.598, loss  0.000\n",
            "epoch  60, acc 0.601, loss  0.000\n",
            "epoch  61, acc 0.605, loss  0.000\n",
            "epoch  62, acc 0.608, loss  0.000\n",
            "epoch  63, acc 0.611, loss  0.000\n",
            "epoch  64, acc 0.614, loss  0.000\n",
            "epoch  65, acc 0.617, loss  0.000\n",
            "epoch  66, acc 0.620, loss  0.000\n",
            "epoch  67, acc 0.623, loss  0.000\n",
            "epoch  68, acc 0.626, loss  0.000\n",
            "epoch  69, acc 0.628, loss  0.000\n",
            "epoch  70, acc 0.631, loss  0.000\n",
            "epoch  71, acc 0.634, loss  0.000\n",
            "epoch  72, acc 0.636, loss  0.000\n",
            "epoch  73, acc 0.639, loss  0.000\n",
            "epoch  74, acc 0.641, loss  0.000\n",
            "epoch  75, acc 0.643, loss  0.000\n",
            "epoch  76, acc 0.646, loss  0.000\n",
            "epoch  77, acc 0.648, loss  0.000\n",
            "epoch  78, acc 0.650, loss  0.000\n",
            "epoch  79, acc 0.653, loss  0.000\n",
            "epoch  80, acc 0.655, loss  0.000\n",
            "epoch  81, acc 0.657, loss  0.000\n",
            "epoch  82, acc 0.659, loss  0.000\n",
            "epoch  83, acc 0.661, loss  0.000\n",
            "epoch  84, acc 0.663, loss  0.000\n",
            "epoch  85, acc 0.665, loss  0.000\n",
            "epoch  86, acc 0.667, loss  0.000\n",
            "epoch  87, acc 0.668, loss  0.000\n",
            "epoch  88, acc 0.670, loss  0.000\n",
            "epoch  89, acc 0.672, loss  0.000\n",
            "epoch  90, acc 0.674, loss  0.000\n",
            "epoch  91, acc 0.675, loss  0.000\n",
            "epoch  92, acc 0.677, loss  0.000\n",
            "epoch  93, acc 0.679, loss  0.000\n",
            "epoch  94, acc 0.680, loss  0.000\n",
            "epoch  95, acc 0.682, loss  0.000\n",
            "epoch  96, acc 0.684, loss  0.000\n",
            "epoch  97, acc 0.685, loss  0.000\n",
            "epoch  98, acc 0.687, loss  0.000\n",
            "epoch  99, acc 0.688, loss  0.000\n"
          ]
        }
      ]
    },
    {
      "cell_type": "code",
      "source": [
        "# 다음회 예측\n",
        "\n",
        "print('receive numbers')\n",
        "\n",
        "xss = xs[-1].reshape(1, 1, 45)\n",
        "\n",
        "pred = model.predict_on_batch(xss)\n",
        "pred\n",
        "\n",
        "luck = list(map(o2n, pred))\n",
        "luck\n",
        "\n",
        "# list_number = []\n",
        "\n",
        "# for n in range(6):\n",
        "#   numbers =pred\n",
        "  # numbers.sort()\n",
        "  # print('{0} : {1}'.format(n, numbers))\n",
        "  # list_numbers.append(numbers)"
      ],
      "metadata": {
        "colab": {
          "base_uri": "https://localhost:8080/"
        },
        "id": "ekjo8MBdx--s",
        "outputId": "35e89ec2-4cd3-4f26-ff39-2f1d9ff832da"
      },
      "execution_count": 12,
      "outputs": [
        {
          "output_type": "stream",
          "name": "stdout",
          "text": [
            "receive numbers\n"
          ]
        },
        {
          "output_type": "execute_result",
          "data": {
            "text/plain": [
              "[[12, 14, 27, 33, 39, 44]]"
            ]
          },
          "metadata": {},
          "execution_count": 12
        }
      ]
    },
    {
      "cell_type": "code",
      "source": [],
      "metadata": {
        "id": "67xyP3Kf3WvN"
      },
      "execution_count": null,
      "outputs": []
    }
  ]
}