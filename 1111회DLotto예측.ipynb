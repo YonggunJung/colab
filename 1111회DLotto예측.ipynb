{
  "nbformat": 4,
  "nbformat_minor": 0,
  "metadata": {
    "colab": {
      "provenance": [],
      "gpuType": "T4",
      "authorship_tag": "ABX9TyO2HDSf7B4UHto2hmDPiNrU",
      "include_colab_link": true
    },
    "kernelspec": {
      "name": "python3",
      "display_name": "Python 3"
    },
    "language_info": {
      "name": "python"
    },
    "accelerator": "GPU"
  },
  "cells": [
    {
      "cell_type": "markdown",
      "metadata": {
        "id": "view-in-github",
        "colab_type": "text"
      },
      "source": [
        "<a href=\"https://colab.research.google.com/github/YonggunJung/colab/blob/main/1111%ED%9A%8CDLotto%EC%98%88%EC%B8%A1.ipynb\" target=\"_parent\"><img src=\"https://colab.research.google.com/assets/colab-badge.svg\" alt=\"Open In Colab\"/></a>"
      ]
    },
    {
      "cell_type": "code",
      "execution_count": 4,
      "metadata": {
        "colab": {
          "base_uri": "https://localhost:8080/"
        },
        "id": "EV0N-8-1wfGo",
        "outputId": "3d01008d-6960-45c3-ac36-9c18fbaa6520"
      },
      "outputs": [
        {
          "output_type": "stream",
          "name": "stdout",
          "text": [
            "Drive already mounted at /content/drive; to attempt to forcibly remount, call drive.mount(\"/content/drive\", force_remount=True).\n"
          ]
        }
      ],
      "source": [
        "from google.colab import drive\n",
        "drive.mount('/content/drive')"
      ]
    },
    {
      "cell_type": "code",
      "source": [
        "import pandas as pd\n",
        "import numpy as np\n",
        "import warnings\n",
        "warnings.filterwarnings('ignore')"
      ],
      "metadata": {
        "id": "6OK4eW92wov0"
      },
      "execution_count": 5,
      "outputs": []
    },
    {
      "cell_type": "code",
      "source": [
        "win = np.loadtxt('/content/drive/MyDrive/Colab Notebooks/로또/data/jlotto.csv', delimiter = ',')\n",
        "win"
      ],
      "metadata": {
        "colab": {
          "base_uri": "https://localhost:8080/"
        },
        "id": "227wJo0xYVaV",
        "outputId": "93f65931-908c-4973-89c8-b4f979281173"
      },
      "execution_count": 6,
      "outputs": [
        {
          "output_type": "execute_result",
          "data": {
            "text/plain": [
              "array([[ 4.,  7., 17., 18., 38., 44.],\n",
              "       [ 8., 12., 13., 29., 33., 42.],\n",
              "       [ 3.,  7., 14., 15., 22., 38.],\n",
              "       ...,\n",
              "       [ 7., 19., 26., 37., 39., 44.],\n",
              "       [10., 12., 13., 19., 33., 40.],\n",
              "       [ 3.,  7., 11., 20., 22., 41.]])"
            ]
          },
          "metadata": {},
          "execution_count": 6
        }
      ]
    },
    {
      "cell_type": "code",
      "source": [
        "xn = len(win)"
      ],
      "metadata": {
        "id": "GS0NAmQGw74-"
      },
      "execution_count": 7,
      "outputs": []
    },
    {
      "cell_type": "code",
      "source": [
        "# 숫자를 원핫 인코딩으로 변환\n",
        "def n2o(numbers):\n",
        "\n",
        "  oh = np.zeros(45)  # 45개의 빈 칸 만들기\n",
        "\n",
        "  for i in range(6):            # 6개의 당첨번호를 반복\n",
        "      oh[int(numbers[i])-1] = 1   # 번호는 1부터 시작하고 인덱스는 0부터 시작하니 1을 빼줌\n",
        "\n",
        "  return oh\n",
        "\n",
        "# 원핫 인코딩을 숫자로 변환\n",
        "def o2n(oh):\n",
        "\n",
        "  numbers = []\n",
        "\n",
        "  for i in range(len(oh)):\n",
        "    if oh[i] == 1:           # oh[i]이 1 이면 해당 번호를 출력\n",
        "      numbers.append(i+1)    # 인덱스 보다 숫자가 1크니까 1더해줌 출력\n",
        "\n",
        "  return numbers"
      ],
      "metadata": {
        "id": "gG4RnEQzhKPx"
      },
      "execution_count": 8,
      "outputs": []
    },
    {
      "cell_type": "code",
      "source": [
        "numbers = win[: , :]  # 이게 문제라서 못 하겠음ㅠ 데이터 프레임이 문제인가?\n",
        "                      # 데이터 프레임으로 안열고 넘파이 텍스트 파일로 가져오니 됨\n",
        "ohs = list(map(n2o, numbers))\n",
        "\n",
        "xs = ohs[0:xn -1]\n",
        "ys = ohs[1:xn]\n",
        "\n",
        "# 원핫 인코딩 확인\n",
        "print('ohs')\n",
        "print('x[0] :' + str(xs[0]))\n",
        "print('y[0] :' + str(ys[0]))\n",
        "\n",
        "# 번호 확인\n",
        "print('numbers')\n",
        "print('x[0] :' + str(o2n(xs[0])))\n",
        "print('y[0] :' + str(o2n(ys[0])))"
      ],
      "metadata": {
        "colab": {
          "base_uri": "https://localhost:8080/"
        },
        "id": "XCSHMDUUvRZf",
        "outputId": "10a81893-9099-4240-abd7-9fba8d564978"
      },
      "execution_count": 9,
      "outputs": [
        {
          "output_type": "stream",
          "name": "stdout",
          "text": [
            "ohs\n",
            "x[0] :[0. 0. 0. 1. 0. 0. 1. 0. 0. 0. 0. 0. 0. 0. 0. 0. 1. 1. 0. 0. 0. 0. 0. 0.\n",
            " 0. 0. 0. 0. 0. 0. 0. 0. 0. 0. 0. 0. 0. 1. 0. 0. 0. 0. 0. 1. 0.]\n",
            "y[0] :[0. 0. 0. 0. 0. 0. 0. 1. 0. 0. 0. 1. 1. 0. 0. 0. 0. 0. 0. 0. 0. 0. 0. 0.\n",
            " 0. 0. 0. 0. 1. 0. 0. 0. 1. 0. 0. 0. 0. 0. 0. 0. 0. 1. 0. 0. 0.]\n",
            "numbers\n",
            "x[0] :[4, 7, 17, 18, 38, 44]\n",
            "y[0] :[8, 12, 13, 29, 33, 42]\n"
          ]
        }
      ]
    },
    {
      "cell_type": "code",
      "source": [
        "train = (0, int(len(win)*0.6))\n",
        "val = (int(len(win)*0.6), int(len(win)*0.8))\n",
        "test = (int(len(win)*0.8), len(win))\n",
        "\n",
        "print('train : {0}, val : {1}, test : {2}'.format(train, val, test))"
      ],
      "metadata": {
        "colab": {
          "base_uri": "https://localhost:8080/"
        },
        "id": "8WuoR8jggg2_",
        "outputId": "f7d7bc63-f446-4cd4-f1d4-fab396d31e7d"
      },
      "execution_count": 10,
      "outputs": [
        {
          "output_type": "stream",
          "name": "stdout",
          "text": [
            "train : (0, 666), val : (666, 888), test : (888, 1110)\n"
          ]
        }
      ]
    },
    {
      "cell_type": "code",
      "source": [
        "import tensorflow as tf\n",
        "from tensorflow import keras\n",
        "from tensorflow.keras import layers\n",
        "from tensorflow.keras import models\n",
        "\n",
        "# 모델 정의\n",
        "model = keras.Sequential([\n",
        "    keras.layers.LSTM(128, batch_input_shape = (1, 1, 45),\n",
        "                      return_sequences = False,\n",
        "                      stateful = True),\n",
        "    keras.layers.Dense(45, activation = 'sigmoid')\n",
        "])\n",
        "\n",
        "# 모델 컴파일\n",
        "model.compile(loss = 'binary_crossentropy', optimizer = 'adam', metrics = ['accuracy'])"
      ],
      "metadata": {
        "id": "VNx80jYjgg0y"
      },
      "execution_count": 11,
      "outputs": []
    },
    {
      "cell_type": "code",
      "source": [
        "# 매 에포크마다 훈련과 검증의 손실 및 정확도를 기록하기 위한 변수\n",
        "train_loss = []\n",
        "train_acc = []\n",
        "val_loss = []\n",
        "val_acc = []\n",
        "\n",
        "# 최대 100번 에포크까지 수행\n",
        "for epoch in range(51):\n",
        "    model.reset_states()  # 중요! 매 에포크마다 1회부터 다시 훈련하므로 상태 초기화 필요\n",
        "\n",
        "    batch_train_loss = []\n",
        "    batch_train_acc = []\n",
        "\n",
        "    for i in range(train[0], train[1]):\n",
        "\n",
        "        xss = xs[i].reshape(1, 1, 45)\n",
        "        yss = ys[i].reshape(1, 45)\n",
        "\n",
        "        loss, acc = model.train_on_batch(xss, yss) # 배치만큼 모델에 학습\n",
        "\n",
        "        batch_train_loss.append(loss)\n",
        "        batch_train_acc.append(acc)\n",
        "\n",
        "    train_loss.append(np.mean(batch_train_loss))\n",
        "    train_acc.append(np.mean(batch_train_acc))\n",
        "\n",
        "    batch_val_loss = []\n",
        "    batch_val_acc = []\n",
        "\n",
        "    for i in range(val[0], val[1]):\n",
        "\n",
        "        xss = xs[i].reshape(1, 1, 45)\n",
        "        yss = ys[i].reshape(1, 45)\n",
        "\n",
        "        loss, acc = model.test_on_batch(xss, yss) # 배치만큼 모델에 입력하여 나온 결과를 정답과 비교함\n",
        "\n",
        "        batch_val_loss.append(loss)\n",
        "        batch_val_acc.append(acc)\n",
        "\n",
        "    val_loss.append(np.mean(batch_val_loss))\n",
        "    val_acc.append(np.mean(batch_val_acc))\n",
        "\n",
        "    print('epoch{0:4d}, acc {1:0.3f}, loss {2: 0.3f}, val_acc {3:0.3f}, val_loss {4:0.3f}'.format(epoch,\n",
        "                                                                                                  np.mean(batch_train_acc),\n",
        "                                                                                                  np.mean(batch_train_loss),\n",
        "                                                                                                  np.mean(batch_val_acc),\n",
        "                                                                                                  np.mean(batch_val_loss)))"
      ],
      "metadata": {
        "colab": {
          "base_uri": "https://localhost:8080/"
        },
        "id": "psqZd4_Nggyf",
        "outputId": "059c021c-fb77-466b-ae45-9cfcf05fcabb"
      },
      "execution_count": 12,
      "outputs": [
        {
          "output_type": "stream",
          "name": "stdout",
          "text": [
            "epoch   0, acc 0.018, loss  0.410, val_acc 0.000, val_loss 0.400\n",
            "epoch   1, acc 0.021, loss  0.397, val_acc 0.000, val_loss 0.399\n",
            "epoch   2, acc 0.026, loss  0.394, val_acc 0.005, val_loss 0.399\n",
            "epoch   3, acc 0.024, loss  0.392, val_acc 0.009, val_loss 0.399\n",
            "epoch   4, acc 0.032, loss  0.388, val_acc 0.009, val_loss 0.401\n",
            "epoch   5, acc 0.041, loss  0.384, val_acc 0.014, val_loss 0.403\n",
            "epoch   6, acc 0.053, loss  0.379, val_acc 0.014, val_loss 0.406\n",
            "epoch   7, acc 0.047, loss  0.373, val_acc 0.018, val_loss 0.410\n",
            "epoch   8, acc 0.047, loss  0.367, val_acc 0.023, val_loss 0.415\n",
            "epoch   9, acc 0.056, loss  0.361, val_acc 0.023, val_loss 0.420\n",
            "epoch  10, acc 0.056, loss  0.355, val_acc 0.023, val_loss 0.425\n",
            "epoch  11, acc 0.071, loss  0.348, val_acc 0.036, val_loss 0.429\n",
            "epoch  12, acc 0.080, loss  0.341, val_acc 0.041, val_loss 0.433\n",
            "epoch  13, acc 0.087, loss  0.334, val_acc 0.036, val_loss 0.437\n",
            "epoch  14, acc 0.086, loss  0.326, val_acc 0.036, val_loss 0.441\n",
            "epoch  15, acc 0.099, loss  0.318, val_acc 0.027, val_loss 0.446\n",
            "epoch  16, acc 0.096, loss  0.309, val_acc 0.027, val_loss 0.452\n",
            "epoch  17, acc 0.111, loss  0.299, val_acc 0.032, val_loss 0.458\n",
            "epoch  18, acc 0.114, loss  0.289, val_acc 0.027, val_loss 0.465\n",
            "epoch  19, acc 0.120, loss  0.279, val_acc 0.027, val_loss 0.473\n",
            "epoch  20, acc 0.117, loss  0.268, val_acc 0.027, val_loss 0.481\n",
            "epoch  21, acc 0.138, loss  0.257, val_acc 0.027, val_loss 0.489\n",
            "epoch  22, acc 0.147, loss  0.246, val_acc 0.027, val_loss 0.498\n",
            "epoch  23, acc 0.152, loss  0.235, val_acc 0.018, val_loss 0.508\n",
            "epoch  24, acc 0.152, loss  0.225, val_acc 0.023, val_loss 0.519\n",
            "epoch  25, acc 0.164, loss  0.214, val_acc 0.023, val_loss 0.530\n",
            "epoch  26, acc 0.164, loss  0.204, val_acc 0.023, val_loss 0.540\n",
            "epoch  27, acc 0.174, loss  0.194, val_acc 0.027, val_loss 0.550\n",
            "epoch  28, acc 0.161, loss  0.184, val_acc 0.023, val_loss 0.561\n",
            "epoch  29, acc 0.147, loss  0.174, val_acc 0.027, val_loss 0.568\n",
            "epoch  30, acc 0.161, loss  0.164, val_acc 0.041, val_loss 0.581\n",
            "epoch  31, acc 0.174, loss  0.155, val_acc 0.032, val_loss 0.593\n",
            "epoch  32, acc 0.173, loss  0.147, val_acc 0.027, val_loss 0.604\n",
            "epoch  33, acc 0.143, loss  0.140, val_acc 0.041, val_loss 0.616\n",
            "epoch  34, acc 0.150, loss  0.135, val_acc 0.036, val_loss 0.624\n",
            "epoch  35, acc 0.153, loss  0.128, val_acc 0.014, val_loss 0.639\n",
            "epoch  36, acc 0.167, loss  0.117, val_acc 0.027, val_loss 0.648\n",
            "epoch  37, acc 0.156, loss  0.112, val_acc 0.027, val_loss 0.660\n",
            "epoch  38, acc 0.141, loss  0.109, val_acc 0.032, val_loss 0.670\n",
            "epoch  39, acc 0.168, loss  0.100, val_acc 0.036, val_loss 0.685\n",
            "epoch  40, acc 0.168, loss  0.093, val_acc 0.032, val_loss 0.708\n",
            "epoch  41, acc 0.140, loss  0.088, val_acc 0.023, val_loss 0.707\n",
            "epoch  42, acc 0.150, loss  0.086, val_acc 0.032, val_loss 0.715\n",
            "epoch  43, acc 0.137, loss  0.080, val_acc 0.032, val_loss 0.748\n",
            "epoch  44, acc 0.161, loss  0.078, val_acc 0.032, val_loss 0.753\n",
            "epoch  45, acc 0.155, loss  0.071, val_acc 0.032, val_loss 0.773\n",
            "epoch  46, acc 0.153, loss  0.065, val_acc 0.027, val_loss 0.784\n",
            "epoch  47, acc 0.171, loss  0.062, val_acc 0.032, val_loss 0.799\n",
            "epoch  48, acc 0.179, loss  0.061, val_acc 0.027, val_loss 0.802\n",
            "epoch  49, acc 0.162, loss  0.057, val_acc 0.027, val_loss 0.808\n",
            "epoch  50, acc 0.152, loss  0.052, val_acc 0.027, val_loss 0.822\n"
          ]
        }
      ]
    },
    {
      "cell_type": "code",
      "source": [
        "%matplotlib inline\n",
        "import matplotlib.pyplot as plt\n",
        "\n",
        "fig, loss_ax = plt.subplots()\n",
        "\n",
        "acc_ax = loss_ax.twinx()\n",
        "\n",
        "loss_ax.plot(train_loss, 'y', label = 'train loss')\n",
        "loss_ax.plot(val_loss, 'r', label = 'val loss')\n",
        "\n",
        "acc_ax.plot(train_acc, 'b', label = 'train acc')\n",
        "acc_ax.plot(val_acc, 'g', label = 'val acc')\n",
        "\n",
        "loss_ax.set_xlabel('epoch')\n",
        "loss_ax.set_ylabel('epoch')\n",
        "acc_ax.set_ylabel('accracy')\n",
        "\n",
        "loss_ax.legend(loc = 'upper left')\n",
        "acc_ax.legend(loc = 'lower left')\n",
        "\n",
        "plt.show()\n",
        "# 이미 학습은 의미가 없다는 결론이 나옴"
      ],
      "metadata": {
        "colab": {
          "base_uri": "https://localhost:8080/",
          "height": 449
        },
        "id": "bshpyH52ggwS",
        "outputId": "8554f545-b75f-4aaa-d056-17a3bb007e6a"
      },
      "execution_count": 13,
      "outputs": [
        {
          "output_type": "display_data",
          "data": {
            "text/plain": [
              "<Figure size 640x480 with 2 Axes>"
            ],
            "image/png": "[encoded data removed]"
          },
          "metadata": {}
        }
      ]
    },
    {
      "cell_type": "code",
      "source": [
        "# 모든 데이터를 학습용으로 사용\n",
        "for epoch in range(51):\n",
        "\n",
        "    model.reset_states()  # 중요! 매 에포크마다 1회부터 다시 훈련하므로 상태 초기화 필요\n",
        "\n",
        "    for i in range(len(xs)):\n",
        "\n",
        "      xss = xs[i].reshape(1, 1, 45)\n",
        "      yss - ys[i].reshape(1, 45)\n",
        "\n",
        "      loss, acc = model.train_on_batch(xss, yss) # 배치만큼 모델에 학습\n",
        "\n",
        "      batch_train_loss.append(loss)\n",
        "      batch_train_acc.append(acc)\n",
        "\n",
        "    train_loss.append(np.mean(batch_train_loss))\n",
        "    train_acc.append(np.mean(batch_train_acc))\n",
        "\n",
        "    print('epoch{0:4d}, acc {1:0.3f}, loss {2: 0.3f}'.format(epoch,\n",
        "                                                            np.mean(batch_train_acc),\n",
        "                                                            np.mean(batch_train_loss)\n",
        "                                                            ))\n",
        "\n"
      ],
      "metadata": {
        "colab": {
          "base_uri": "https://localhost:8080/"
        },
        "id": "mTiXpDcjx_As",
        "outputId": "c6adb793-8343-4692-f6e0-f487f826e233"
      },
      "execution_count": 14,
      "outputs": [
        {
          "output_type": "stream",
          "name": "stdout",
          "text": [
            "epoch   0, acc 0.076, loss  0.030\n",
            "epoch   1, acc 0.059, loss  0.019\n",
            "epoch   2, acc 0.051, loss  0.014\n",
            "epoch   3, acc 0.046, loss  0.011\n",
            "epoch   4, acc 0.042, loss  0.009\n",
            "epoch   5, acc 0.041, loss  0.007\n",
            "epoch   6, acc 0.040, loss  0.006\n",
            "epoch   7, acc 0.039, loss  0.006\n",
            "epoch   8, acc 0.039, loss  0.005\n",
            "epoch   9, acc 0.038, loss  0.005\n",
            "epoch  10, acc 0.037, loss  0.004\n",
            "epoch  11, acc 0.037, loss  0.004\n",
            "epoch  12, acc 0.036, loss  0.004\n",
            "epoch  13, acc 0.035, loss  0.003\n",
            "epoch  14, acc 0.035, loss  0.003\n",
            "epoch  15, acc 0.035, loss  0.003\n",
            "epoch  16, acc 0.034, loss  0.003\n",
            "epoch  17, acc 0.033, loss  0.003\n",
            "epoch  18, acc 0.033, loss  0.003\n",
            "epoch  19, acc 0.032, loss  0.002\n",
            "epoch  20, acc 0.031, loss  0.002\n",
            "epoch  21, acc 0.030, loss  0.002\n",
            "epoch  22, acc 0.029, loss  0.002\n",
            "epoch  23, acc 0.028, loss  0.002\n",
            "epoch  24, acc 0.027, loss  0.002\n",
            "epoch  25, acc 0.026, loss  0.002\n",
            "epoch  26, acc 0.025, loss  0.002\n",
            "epoch  27, acc 0.025, loss  0.002\n",
            "epoch  28, acc 0.024, loss  0.002\n",
            "epoch  29, acc 0.023, loss  0.002\n",
            "epoch  30, acc 0.023, loss  0.002\n",
            "epoch  31, acc 0.022, loss  0.002\n",
            "epoch  32, acc 0.022, loss  0.001\n",
            "epoch  33, acc 0.021, loss  0.001\n",
            "epoch  34, acc 0.021, loss  0.001\n",
            "epoch  35, acc 0.020, loss  0.001\n",
            "epoch  36, acc 0.020, loss  0.001\n",
            "epoch  37, acc 0.019, loss  0.001\n",
            "epoch  38, acc 0.019, loss  0.001\n",
            "epoch  39, acc 0.018, loss  0.001\n",
            "epoch  40, acc 0.018, loss  0.001\n",
            "epoch  41, acc 0.018, loss  0.001\n",
            "epoch  42, acc 0.017, loss  0.001\n",
            "epoch  43, acc 0.017, loss  0.001\n",
            "epoch  44, acc 0.017, loss  0.001\n",
            "epoch  45, acc 0.017, loss  0.001\n",
            "epoch  46, acc 0.016, loss  0.001\n",
            "epoch  47, acc 0.016, loss  0.001\n",
            "epoch  48, acc 0.016, loss  0.001\n",
            "epoch  49, acc 0.016, loss  0.001\n",
            "epoch  50, acc 0.015, loss  0.001\n"
          ]
        }
      ]
    },
    {
      "cell_type": "code",
      "source": [
        "# 다음회 예측\n",
        "\n",
        "print('receive numbers')\n",
        "\n",
        "xss = xs[-1].reshape(1, 1, 45)\n",
        "\n",
        "pred = model.predict_on_batch(xss)\n",
        "pred\n",
        "\n",
        "luck = list(map(o2n, pred))\n",
        "luck\n",
        "\n",
        "# list_number = []\n",
        "\n",
        "# for n in range(6):\n",
        "#   numbers =pred\n",
        "  # numbers.sort()\n",
        "  # print('{0} : {1}'.format(n, numbers))\n",
        "  # list_numbers.append(numbers)"
      ],
      "metadata": {
        "colab": {
          "base_uri": "https://localhost:8080/"
        },
        "id": "ekjo8MBdx--s",
        "outputId": "46fc6fb9-303a-449c-a421-b3185cd2d67f"
      },
      "execution_count": 15,
      "outputs": [
        {
          "output_type": "stream",
          "name": "stdout",
          "text": [
            "receive numbers\n"
          ]
        },
        {
          "output_type": "execute_result",
          "data": {
            "text/plain": [
              "[[7, 12, 16, 34, 42, 45]]"
            ]
          },
          "metadata": {},
          "execution_count": 15
        }
      ]
    },
    {
      "cell_type": "code",
      "source": [],
      "metadata": {
        "id": "67xyP3Kf3WvN"
      },
      "execution_count": 15,
      "outputs": []
    }
  ]
}