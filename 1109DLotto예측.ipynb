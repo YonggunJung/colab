{
  "nbformat": 4,
  "nbformat_minor": 0,
  "metadata": {
    "colab": {
      "provenance": [],
      "gpuType": "T4",
      "authorship_tag": "ABX9TyO2HDSf7B4UHto2hmDPiNrU",
      "include_colab_link": true
    },
    "kernelspec": {
      "name": "python3",
      "display_name": "Python 3"
    },
    "language_info": {
      "name": "python"
    },
    "accelerator": "GPU"
  },
  "cells": [
    {
      "cell_type": "markdown",
      "metadata": {
        "id": "view-in-github",
        "colab_type": "text"
      },
      "source": [
        "<a href=\"https://colab.research.google.com/github/YonggunJung/colab/blob/main/1109DLotto%EC%98%88%EC%B8%A1.ipynb\" target=\"_parent\"><img src=\"https://colab.research.google.com/assets/colab-badge.svg\" alt=\"Open In Colab\"/></a>"
      ]
    },
    {
      "cell_type": "code",
      "execution_count": 1,
      "metadata": {
        "colab": {
          "base_uri": "https://localhost:8080/"
        },
        "id": "EV0N-8-1wfGo",
        "outputId": "e2986d56-169b-4eef-b032-3524313ac89c"
      },
      "outputs": [
        {
          "output_type": "stream",
          "name": "stdout",
          "text": [
            "Mounted at /content/drive\n"
          ]
        }
      ],
      "source": [
        "from google.colab import drive\n",
        "drive.mount('/content/drive')"
      ]
    },
    {
      "cell_type": "code",
      "source": [
        "import pandas as pd\n",
        "import numpy as np\n",
        "import warnings\n",
        "warnings.filterwarnings('ignore')"
      ],
      "metadata": {
        "id": "6OK4eW92wov0"
      },
      "execution_count": 2,
      "outputs": []
    },
    {
      "cell_type": "code",
      "source": [
        "win = np.loadtxt('/content/drive/MyDrive/Colab Notebooks/로또/data/jlotto.csv', delimiter = ',')\n",
        "win"
      ],
      "metadata": {
        "colab": {
          "base_uri": "https://localhost:8080/"
        },
        "id": "227wJo0xYVaV",
        "outputId": "46002b9e-57d9-408e-958b-809f9805f46c"
      },
      "execution_count": 3,
      "outputs": [
        {
          "output_type": "execute_result",
          "data": {
            "text/plain": [
              "array([[ 4.,  7., 17., 18., 38., 44.],\n",
              "       [ 8., 12., 13., 29., 33., 42.],\n",
              "       [ 3.,  7., 14., 15., 22., 38.],\n",
              "       ...,\n",
              "       [ 1.,  3.,  4., 29., 42., 45.],\n",
              "       [ 6., 14., 30., 31., 40., 41.],\n",
              "       [ 7., 19., 26., 37., 39., 44.]])"
            ]
          },
          "metadata": {},
          "execution_count": 3
        }
      ]
    },
    {
      "cell_type": "code",
      "source": [
        "xn = len(win)"
      ],
      "metadata": {
        "id": "GS0NAmQGw74-"
      },
      "execution_count": 4,
      "outputs": []
    },
    {
      "cell_type": "code",
      "source": [
        "# 숫자를 원핫 인코딩으로 변환\n",
        "def n2o(numbers):\n",
        "\n",
        "  oh = np.zeros(45)  # 45개의 빈 칸 만들기\n",
        "\n",
        "  for i in range(6):            # 6개의 당첨번호를 반복\n",
        "      oh[int(numbers[i])-1] = 1   # 번호는 1부터 시작하고 인덱스는 0부터 시작하니 1을 빼줌\n",
        "\n",
        "  return oh\n",
        "\n",
        "# 원핫 인코딩을 숫자로 변환\n",
        "def o2n(oh):\n",
        "\n",
        "  numbers = []\n",
        "\n",
        "  for i in range(len(oh)):\n",
        "    if oh[i] == 1:           # oh[i]이 1 이면 해당 번호를 출력\n",
        "      numbers.append(i+1)    # 인덱스 보다 숫자가 1크니까 1더해줌 출력\n",
        "\n",
        "  return numbers"
      ],
      "metadata": {
        "id": "gG4RnEQzhKPx"
      },
      "execution_count": 5,
      "outputs": []
    },
    {
      "cell_type": "code",
      "source": [
        "numbers = win[: , :]  # 이게 문제라서 못 하겠음ㅠ 데이터 프레임이 문제인가?\n",
        "                      # 데이터 프레임으로 안열고 넘파이 텍스트 파일로 가져오니 됨\n",
        "ohs = list(map(n2o, numbers))\n",
        "\n",
        "xs = ohs[0:xn -1]\n",
        "ys = ohs[1:xn]\n",
        "\n",
        "# 원핫 인코딩 확인\n",
        "print('ohs')\n",
        "print('x[0] :' + str(xs[0]))\n",
        "print('y[0] :' + str(ys[0]))\n",
        "\n",
        "# 번호 확인\n",
        "print('numbers')\n",
        "print('x[0] :' + str(o2n(xs[0])))\n",
        "print('y[0] :' + str(o2n(ys[0])))"
      ],
      "metadata": {
        "colab": {
          "base_uri": "https://localhost:8080/"
        },
        "id": "XCSHMDUUvRZf",
        "outputId": "5dba30d3-e61d-4eaf-e828-84b1c5164e70"
      },
      "execution_count": 6,
      "outputs": [
        {
          "output_type": "stream",
          "name": "stdout",
          "text": [
            "ohs\n",
            "x[0] :[0. 0. 0. 1. 0. 0. 1. 0. 0. 0. 0. 0. 0. 0. 0. 0. 1. 1. 0. 0. 0. 0. 0. 0.\n",
            " 0. 0. 0. 0. 0. 0. 0. 0. 0. 0. 0. 0. 0. 1. 0. 0. 0. 0. 0. 1. 0.]\n",
            "y[0] :[0. 0. 0. 0. 0. 0. 0. 1. 0. 0. 0. 1. 1. 0. 0. 0. 0. 0. 0. 0. 0. 0. 0. 0.\n",
            " 0. 0. 0. 0. 1. 0. 0. 0. 1. 0. 0. 0. 0. 0. 0. 0. 0. 1. 0. 0. 0.]\n",
            "numbers\n",
            "x[0] :[4, 7, 17, 18, 38, 44]\n",
            "y[0] :[8, 12, 13, 29, 33, 42]\n"
          ]
        }
      ]
    },
    {
      "cell_type": "code",
      "source": [
        "train = (0, int(len(win)*0.6))\n",
        "val = (int(len(win)*0.6), int(len(win)*0.8))\n",
        "test = (int(len(win)*0.8), len(win))\n",
        "\n",
        "print('train : {0}, val : {1}, test : {2}'.format(train, val, test))"
      ],
      "metadata": {
        "colab": {
          "base_uri": "https://localhost:8080/"
        },
        "id": "8WuoR8jggg2_",
        "outputId": "1a81be4d-e648-4def-d111-7ca26cb1555e"
      },
      "execution_count": 7,
      "outputs": [
        {
          "output_type": "stream",
          "name": "stdout",
          "text": [
            "train : (0, 664), val : (664, 886), test : (886, 1108)\n"
          ]
        }
      ]
    },
    {
      "cell_type": "code",
      "source": [
        "import tensorflow as tf\n",
        "from tensorflow import keras\n",
        "from tensorflow.keras import layers\n",
        "from tensorflow.keras import models\n",
        "\n",
        "# 모델 정의\n",
        "model = keras.Sequential([\n",
        "    keras.layers.LSTM(128, batch_input_shape = (1, 1, 45),\n",
        "                      return_sequences = False,\n",
        "                      stateful = True),\n",
        "    keras.layers.Dense(45, activation = 'sigmoid')\n",
        "])\n",
        "\n",
        "# 모델 컴파일\n",
        "model.compile(loss = 'binary_crossentropy', optimizer = 'adam', metrics = ['accuracy'])"
      ],
      "metadata": {
        "id": "VNx80jYjgg0y"
      },
      "execution_count": 8,
      "outputs": []
    },
    {
      "cell_type": "code",
      "source": [
        "# 매 에포크마다 훈련과 검증의 손실 및 정확도를 기록하기 위한 변수\n",
        "train_loss = []\n",
        "train_acc = []\n",
        "val_loss = []\n",
        "val_acc = []\n",
        "\n",
        "# 최대 100번 에포크까지 수행\n",
        "for epoch in range(51):\n",
        "    model.reset_states()  # 중요! 매 에포크마다 1회부터 다시 훈련하므로 상태 초기화 필요\n",
        "\n",
        "    batch_train_loss = []\n",
        "    batch_train_acc = []\n",
        "\n",
        "    for i in range(train[0], train[1]):\n",
        "\n",
        "        xss = xs[i].reshape(1, 1, 45)\n",
        "        yss = ys[i].reshape(1, 45)\n",
        "\n",
        "        loss, acc = model.train_on_batch(xss, yss) # 배치만큼 모델에 학습\n",
        "\n",
        "        batch_train_loss.append(loss)\n",
        "        batch_train_acc.append(acc)\n",
        "\n",
        "    train_loss.append(np.mean(batch_train_loss))\n",
        "    train_acc.append(np.mean(batch_train_acc))\n",
        "\n",
        "    batch_val_loss = []\n",
        "    batch_val_acc = []\n",
        "\n",
        "    for i in range(val[0], val[1]):\n",
        "\n",
        "        xss = xs[i].reshape(1, 1, 45)\n",
        "        yss = ys[i].reshape(1, 45)\n",
        "\n",
        "        loss, acc = model.test_on_batch(xss, yss) # 배치만큼 모델에 입력하여 나온 결과를 정답과 비교함\n",
        "\n",
        "        batch_val_loss.append(loss)\n",
        "        batch_val_acc.append(acc)\n",
        "\n",
        "    val_loss.append(np.mean(batch_val_loss))\n",
        "    val_acc.append(np.mean(batch_val_acc))\n",
        "\n",
        "    print('epoch{0:4d}, acc {1:0.3f}, loss {2: 0.3f}, val_acc {3:0.3f}, val_loss {4:0.3f}'.format(epoch,\n",
        "                                                                                                  np.mean(batch_train_acc),\n",
        "                                                                                                  np.mean(batch_train_loss),\n",
        "                                                                                                  np.mean(batch_val_acc),\n",
        "                                                                                                  np.mean(batch_val_loss)))"
      ],
      "metadata": {
        "colab": {
          "base_uri": "https://localhost:8080/"
        },
        "id": "psqZd4_Nggyf",
        "outputId": "74ee7f23-d3e0-4726-c006-98142baa76e2"
      },
      "execution_count": 9,
      "outputs": [
        {
          "output_type": "stream",
          "name": "stdout",
          "text": [
            "epoch   0, acc 0.018, loss  0.410, val_acc 0.000, val_loss 0.400\n",
            "epoch   1, acc 0.020, loss  0.397, val_acc 0.000, val_loss 0.399\n",
            "epoch   2, acc 0.027, loss  0.394, val_acc 0.009, val_loss 0.399\n",
            "epoch   3, acc 0.027, loss  0.391, val_acc 0.014, val_loss 0.399\n",
            "epoch   4, acc 0.036, loss  0.388, val_acc 0.018, val_loss 0.401\n",
            "epoch   5, acc 0.033, loss  0.382, val_acc 0.032, val_loss 0.404\n",
            "epoch   6, acc 0.047, loss  0.376, val_acc 0.032, val_loss 0.408\n",
            "epoch   7, acc 0.047, loss  0.370, val_acc 0.027, val_loss 0.412\n",
            "epoch   8, acc 0.051, loss  0.363, val_acc 0.027, val_loss 0.416\n",
            "epoch   9, acc 0.068, loss  0.356, val_acc 0.041, val_loss 0.421\n",
            "epoch  10, acc 0.071, loss  0.349, val_acc 0.027, val_loss 0.425\n",
            "epoch  11, acc 0.084, loss  0.341, val_acc 0.027, val_loss 0.430\n",
            "epoch  12, acc 0.095, loss  0.334, val_acc 0.023, val_loss 0.435\n",
            "epoch  13, acc 0.102, loss  0.326, val_acc 0.023, val_loss 0.441\n",
            "epoch  14, acc 0.102, loss  0.317, val_acc 0.018, val_loss 0.447\n",
            "epoch  15, acc 0.113, loss  0.308, val_acc 0.018, val_loss 0.452\n",
            "epoch  16, acc 0.122, loss  0.298, val_acc 0.018, val_loss 0.458\n",
            "epoch  17, acc 0.128, loss  0.287, val_acc 0.014, val_loss 0.465\n",
            "epoch  18, acc 0.133, loss  0.276, val_acc 0.018, val_loss 0.472\n",
            "epoch  19, acc 0.142, loss  0.265, val_acc 0.014, val_loss 0.480\n",
            "epoch  20, acc 0.139, loss  0.254, val_acc 0.014, val_loss 0.489\n",
            "epoch  21, acc 0.146, loss  0.243, val_acc 0.009, val_loss 0.498\n",
            "epoch  22, acc 0.139, loss  0.231, val_acc 0.014, val_loss 0.508\n",
            "epoch  23, acc 0.160, loss  0.220, val_acc 0.018, val_loss 0.518\n",
            "epoch  24, acc 0.164, loss  0.209, val_acc 0.018, val_loss 0.527\n",
            "epoch  25, acc 0.161, loss  0.198, val_acc 0.018, val_loss 0.539\n",
            "epoch  26, acc 0.164, loss  0.189, val_acc 0.014, val_loss 0.552\n",
            "epoch  27, acc 0.143, loss  0.180, val_acc 0.027, val_loss 0.564\n",
            "epoch  28, acc 0.160, loss  0.171, val_acc 0.027, val_loss 0.572\n",
            "epoch  29, acc 0.158, loss  0.163, val_acc 0.018, val_loss 0.584\n",
            "epoch  30, acc 0.155, loss  0.154, val_acc 0.018, val_loss 0.598\n",
            "epoch  31, acc 0.154, loss  0.150, val_acc 0.018, val_loss 0.606\n",
            "epoch  32, acc 0.151, loss  0.144, val_acc 0.027, val_loss 0.614\n",
            "epoch  33, acc 0.160, loss  0.135, val_acc 0.014, val_loss 0.626\n",
            "epoch  34, acc 0.178, loss  0.128, val_acc 0.032, val_loss 0.636\n",
            "epoch  35, acc 0.170, loss  0.121, val_acc 0.023, val_loss 0.644\n",
            "epoch  36, acc 0.145, loss  0.115, val_acc 0.018, val_loss 0.654\n",
            "epoch  37, acc 0.163, loss  0.108, val_acc 0.027, val_loss 0.659\n",
            "epoch  38, acc 0.184, loss  0.101, val_acc 0.014, val_loss 0.678\n",
            "epoch  39, acc 0.190, loss  0.091, val_acc 0.023, val_loss 0.685\n",
            "epoch  40, acc 0.155, loss  0.087, val_acc 0.023, val_loss 0.700\n",
            "epoch  41, acc 0.179, loss  0.079, val_acc 0.032, val_loss 0.718\n",
            "epoch  42, acc 0.190, loss  0.078, val_acc 0.023, val_loss 0.732\n",
            "epoch  43, acc 0.169, loss  0.079, val_acc 0.018, val_loss 0.733\n",
            "epoch  44, acc 0.193, loss  0.070, val_acc 0.018, val_loss 0.744\n",
            "epoch  45, acc 0.179, loss  0.063, val_acc 0.005, val_loss 0.760\n",
            "epoch  46, acc 0.178, loss  0.059, val_acc 0.018, val_loss 0.779\n",
            "epoch  47, acc 0.184, loss  0.057, val_acc 0.018, val_loss 0.804\n",
            "epoch  48, acc 0.172, loss  0.058, val_acc 0.014, val_loss 0.808\n",
            "epoch  49, acc 0.196, loss  0.056, val_acc 0.018, val_loss 0.810\n",
            "epoch  50, acc 0.173, loss  0.052, val_acc 0.014, val_loss 0.838\n"
          ]
        }
      ]
    },
    {
      "cell_type": "code",
      "source": [
        "%matplotlib inline\n",
        "import matplotlib.pyplot as plt\n",
        "\n",
        "fig, loss_ax = plt.subplots()\n",
        "\n",
        "acc_ax = loss_ax.twinx()\n",
        "\n",
        "loss_ax.plot(train_loss, 'y', label = 'train loss')\n",
        "loss_ax.plot(val_loss, 'r', label = 'val loss')\n",
        "\n",
        "acc_ax.plot(train_acc, 'b', label = 'train acc')\n",
        "acc_ax.plot(val_acc, 'g', label = 'val acc')\n",
        "\n",
        "loss_ax.set_xlabel('epoch')\n",
        "loss_ax.set_ylabel('epoch')\n",
        "acc_ax.set_ylabel('accracy')\n",
        "\n",
        "loss_ax.legend(loc = 'upper left')\n",
        "acc_ax.legend(loc = 'lower left')\n",
        "\n",
        "plt.show()\n",
        "# 이미 학습은 의미가 없다는 결론이 나옴"
      ],
      "metadata": {
        "colab": {
          "base_uri": "https://localhost:8080/",
          "height": 449
        },
        "id": "bshpyH52ggwS",
        "outputId": "bc478782-894d-4b6e-fc12-9e1a3154aa27"
      },
      "execution_count": 10,
      "outputs": [
        {
          "output_type": "display_data",
          "data": {
            "text/plain": [
              "<Figure size 640x480 with 2 Axes>"
            ],
            "image/png": "[encoded data removed]"
          },
          "metadata": {}
        }
      ]
    },
    {
      "cell_type": "code",
      "source": [
        "# 모든 데이터를 학습용으로 사용\n",
        "for epoch in range(51):\n",
        "\n",
        "    model.reset_states()  # 중요! 매 에포크마다 1회부터 다시 훈련하므로 상태 초기화 필요\n",
        "\n",
        "    for i in range(len(xs)):\n",
        "\n",
        "      xss = xs[i].reshape(1, 1, 45)\n",
        "      yss - ys[i].reshape(1, 45)\n",
        "\n",
        "      loss, acc = model.train_on_batch(xss, yss) # 배치만큼 모델에 학습\n",
        "\n",
        "      batch_train_loss.append(loss)\n",
        "      batch_train_acc.append(acc)\n",
        "\n",
        "    train_loss.append(np.mean(batch_train_loss))\n",
        "    train_acc.append(np.mean(batch_train_acc))\n",
        "\n",
        "    print('epoch{0:4d}, acc {1:0.3f}, loss {2: 0.3f}'.format(epoch,\n",
        "                                                            np.mean(batch_train_acc),\n",
        "                                                            np.mean(batch_train_loss)\n",
        "                                                            ))\n",
        "\n"
      ],
      "metadata": {
        "colab": {
          "base_uri": "https://localhost:8080/"
        },
        "id": "mTiXpDcjx_As",
        "outputId": "8c87c6d6-a1b5-47e0-8818-8c32e0c0ee25"
      },
      "execution_count": 11,
      "outputs": [
        {
          "output_type": "stream",
          "name": "stdout",
          "text": [
            "epoch   0, acc 0.141, loss  0.031\n",
            "epoch   1, acc 0.118, loss  0.019\n",
            "epoch   2, acc 0.108, loss  0.014\n",
            "epoch   3, acc 0.103, loss  0.011\n",
            "epoch   4, acc 0.101, loss  0.009\n",
            "epoch   5, acc 0.102, loss  0.008\n",
            "epoch   6, acc 0.105, loss  0.007\n",
            "epoch   7, acc 0.108, loss  0.006\n",
            "epoch   8, acc 0.112, loss  0.005\n",
            "epoch   9, acc 0.117, loss  0.005\n",
            "epoch  10, acc 0.123, loss  0.004\n",
            "epoch  11, acc 0.129, loss  0.004\n",
            "epoch  12, acc 0.134, loss  0.004\n",
            "epoch  13, acc 0.139, loss  0.003\n",
            "epoch  14, acc 0.143, loss  0.003\n",
            "epoch  15, acc 0.146, loss  0.003\n",
            "epoch  16, acc 0.150, loss  0.003\n",
            "epoch  17, acc 0.152, loss  0.003\n",
            "epoch  18, acc 0.154, loss  0.003\n",
            "epoch  19, acc 0.155, loss  0.002\n",
            "epoch  20, acc 0.155, loss  0.002\n",
            "epoch  21, acc 0.155, loss  0.002\n",
            "epoch  22, acc 0.155, loss  0.002\n",
            "epoch  23, acc 0.154, loss  0.002\n",
            "epoch  24, acc 0.153, loss  0.002\n",
            "epoch  25, acc 0.151, loss  0.002\n",
            "epoch  26, acc 0.150, loss  0.002\n",
            "epoch  27, acc 0.148, loss  0.002\n",
            "epoch  28, acc 0.147, loss  0.002\n",
            "epoch  29, acc 0.145, loss  0.002\n",
            "epoch  30, acc 0.144, loss  0.002\n",
            "epoch  31, acc 0.142, loss  0.002\n",
            "epoch  32, acc 0.141, loss  0.002\n",
            "epoch  33, acc 0.139, loss  0.001\n",
            "epoch  34, acc 0.138, loss  0.001\n",
            "epoch  35, acc 0.137, loss  0.001\n",
            "epoch  36, acc 0.135, loss  0.001\n",
            "epoch  37, acc 0.134, loss  0.001\n",
            "epoch  38, acc 0.132, loss  0.001\n",
            "epoch  39, acc 0.131, loss  0.001\n",
            "epoch  40, acc 0.129, loss  0.001\n",
            "epoch  41, acc 0.128, loss  0.001\n",
            "epoch  42, acc 0.127, loss  0.001\n",
            "epoch  43, acc 0.125, loss  0.001\n",
            "epoch  44, acc 0.124, loss  0.001\n",
            "epoch  45, acc 0.123, loss  0.001\n",
            "epoch  46, acc 0.122, loss  0.001\n",
            "epoch  47, acc 0.121, loss  0.001\n",
            "epoch  48, acc 0.120, loss  0.001\n",
            "epoch  49, acc 0.118, loss  0.001\n",
            "epoch  50, acc 0.117, loss  0.001\n"
          ]
        }
      ]
    },
    {
      "cell_type": "code",
      "source": [
        "# 다음회 예측\n",
        "\n",
        "print('receive numbers')\n",
        "\n",
        "xss = xs[-1].reshape(1, 1, 45)\n",
        "\n",
        "pred = model.predict_on_batch(xss)\n",
        "pred\n",
        "\n",
        "luck = list(map(o2n, pred))\n",
        "luck\n",
        "\n",
        "# list_number = []\n",
        "\n",
        "# for n in range(6):\n",
        "#   numbers =pred\n",
        "  # numbers.sort()\n",
        "  # print('{0} : {1}'.format(n, numbers))\n",
        "  # list_numbers.append(numbers)"
      ],
      "metadata": {
        "colab": {
          "base_uri": "https://localhost:8080/"
        },
        "id": "ekjo8MBdx--s",
        "outputId": "c3e2e46d-aa0a-4935-ec22-c325a76be1ce"
      },
      "execution_count": 12,
      "outputs": [
        {
          "output_type": "stream",
          "name": "stdout",
          "text": [
            "receive numbers\n"
          ]
        },
        {
          "output_type": "execute_result",
          "data": {
            "text/plain": [
              "[[14, 21, 22, 25, 30, 36]]"
            ]
          },
          "metadata": {},
          "execution_count": 12
        }
      ]
    },
    {
      "cell_type": "code",
      "source": [],
      "metadata": {
        "id": "67xyP3Kf3WvN"
      },
      "execution_count": 12,
      "outputs": []
    }
  ]
}