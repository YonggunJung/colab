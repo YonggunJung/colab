{
  "cells": [
    {
      "cell_type": "markdown",
      "metadata": {
        "id": "view-in-github",
        "colab_type": "text"
      },
      "source": [
        "<a href=\"https://colab.research.google.com/github/YonggunJung/colab/blob/main/1130DLotto.ipynb\" target=\"_parent\"><img src=\"https://colab.research.google.com/assets/colab-badge.svg\" alt=\"Open In Colab\"/></a>"
      ]
    },
    {
      "cell_type": "code",
      "execution_count": 1,
      "metadata": {
        "colab": {
          "base_uri": "https://localhost:8080/"
        },
        "id": "EV0N-8-1wfGo",
        "outputId": "b6778c74-8874-46ae-f8ef-697af46c6034"
      },
      "outputs": [
        {
          "output_type": "stream",
          "name": "stdout",
          "text": [
            "Mounted at /content/drive\n"
          ]
        }
      ],
      "source": [
        "from google.colab import drive\n",
        "drive.mount('/content/drive')"
      ]
    },
    {
      "cell_type": "code",
      "execution_count": 2,
      "metadata": {
        "id": "6OK4eW92wov0"
      },
      "outputs": [],
      "source": [
        "import pandas as pd\n",
        "import numpy as np\n",
        "import warnings\n",
        "warnings.filterwarnings('ignore')"
      ]
    },
    {
      "cell_type": "code",
      "execution_count": 3,
      "metadata": {
        "colab": {
          "base_uri": "https://localhost:8080/"
        },
        "id": "227wJo0xYVaV",
        "outputId": "d7814d92-d22d-4214-fc53-5c931caff730"
      },
      "outputs": [
        {
          "output_type": "execute_result",
          "data": {
            "text/plain": [
              "array([[ 4.,  7., 17., 18., 38., 44.],\n",
              "       [ 8., 12., 13., 29., 33., 42.],\n",
              "       [ 3.,  7., 14., 15., 22., 38.],\n",
              "       ...,\n",
              "       [10., 15., 24., 30., 31., 37.],\n",
              "       [ 1.,  5.,  8., 16., 28., 33.],\n",
              "       [ 5., 10., 11., 17., 28., 34.]])"
            ]
          },
          "metadata": {},
          "execution_count": 3
        }
      ],
      "source": [
        "win = np.loadtxt('/content/drive/MyDrive/Colab Notebooks/로또/data/jlotto.csv', delimiter = ',')\n",
        "win"
      ]
    },
    {
      "cell_type": "code",
      "execution_count": 4,
      "metadata": {
        "id": "GS0NAmQGw74-"
      },
      "outputs": [],
      "source": [
        "xn = len(win)"
      ]
    },
    {
      "cell_type": "code",
      "execution_count": 5,
      "metadata": {
        "id": "gG4RnEQzhKPx"
      },
      "outputs": [],
      "source": [
        "# 숫자를 원핫 인코딩으로 변환\n",
        "def n2o(numbers):\n",
        "\n",
        "  oh = np.zeros(45)  # 45개의 빈 칸 만들기\n",
        "\n",
        "  for i in range(6):            # 6개의 당첨번호를 반복\n",
        "      oh[int(numbers[i])-1] = 1   # 번호는 1부터 시작하고 인덱스는 0부터 시작하니 1을 빼줌\n",
        "\n",
        "  return oh\n",
        "\n",
        "# 원핫 인코딩을 숫자로 변환\n",
        "def o2n(oh):\n",
        "\n",
        "  numbers = []\n",
        "\n",
        "  for i in range(len(oh)):\n",
        "    if oh[i] == 1:           # oh[i]이 1 이면 해당 번호를 출력\n",
        "      numbers.append(i+1)    # 인덱스 보다 숫자가 1크니까 1더해줌 출력\n",
        "\n",
        "  return numbers"
      ]
    },
    {
      "cell_type": "code",
      "execution_count": 6,
      "metadata": {
        "colab": {
          "base_uri": "https://localhost:8080/"
        },
        "id": "XCSHMDUUvRZf",
        "outputId": "9ad8fccf-9f90-477c-8ffa-388b85bb08fe"
      },
      "outputs": [
        {
          "output_type": "stream",
          "name": "stdout",
          "text": [
            "ohs\n",
            "x[0] :[0. 0. 0. 1. 0. 0. 1. 0. 0. 0. 0. 0. 0. 0. 0. 0. 1. 1. 0. 0. 0. 0. 0. 0.\n",
            " 0. 0. 0. 0. 0. 0. 0. 0. 0. 0. 0. 0. 0. 1. 0. 0. 0. 0. 0. 1. 0.]\n",
            "y[0] :[0. 0. 0. 0. 0. 0. 0. 1. 0. 0. 0. 1. 1. 0. 0. 0. 0. 0. 0. 0. 0. 0. 0. 0.\n",
            " 0. 0. 0. 0. 1. 0. 0. 0. 1. 0. 0. 0. 0. 0. 0. 0. 0. 1. 0. 0. 0.]\n",
            "numbers\n",
            "x[0] :[4, 7, 17, 18, 38, 44]\n",
            "y[0] :[8, 12, 13, 29, 33, 42]\n"
          ]
        }
      ],
      "source": [
        "numbers = win[: , :]  # 이게 문제라서 못 하겠음ㅠ 데이터 프레임이 문제인가?\n",
        "                      # 데이터 프레임으로 안열고 넘파이 텍스트 파일로 가져오니 됨\n",
        "ohs = list(map(n2o, numbers))\n",
        "\n",
        "xs = ohs[0:xn -1]\n",
        "ys = ohs[1:xn]\n",
        "\n",
        "# 원핫 인코딩 확인\n",
        "print('ohs')\n",
        "print('x[0] :' + str(xs[0]))\n",
        "print('y[0] :' + str(ys[0]))\n",
        "\n",
        "# 번호 확인\n",
        "print('numbers')\n",
        "print('x[0] :' + str(o2n(xs[0])))\n",
        "print('y[0] :' + str(o2n(ys[0])))"
      ]
    },
    {
      "cell_type": "code",
      "execution_count": 7,
      "metadata": {
        "colab": {
          "base_uri": "https://localhost:8080/"
        },
        "id": "8WuoR8jggg2_",
        "outputId": "b1ac4070-da24-409a-d761-0252b69eba8d"
      },
      "outputs": [
        {
          "output_type": "stream",
          "name": "stdout",
          "text": [
            "train : (0, 677), val : (677, 903), test : (903, 1129)\n"
          ]
        }
      ],
      "source": [
        "train = (0, int(len(win)*0.6))\n",
        "val = (int(len(win)*0.6), int(len(win)*0.8))\n",
        "test = (int(len(win)*0.8), len(win))\n",
        "\n",
        "print('train : {0}, val : {1}, test : {2}'.format(train, val, test))"
      ]
    },
    {
      "cell_type": "code",
      "execution_count": 8,
      "metadata": {
        "id": "VNx80jYjgg0y"
      },
      "outputs": [],
      "source": [
        "import tensorflow as tf\n",
        "from tensorflow import keras\n",
        "from tensorflow.keras import layers\n",
        "from tensorflow.keras import models\n",
        "\n",
        "# 모델 정의\n",
        "model = keras.Sequential([\n",
        "    keras.layers.LSTM(128, batch_input_shape = (1, 1, 45),\n",
        "                      return_sequences = False,\n",
        "                      stateful = True),\n",
        "    keras.layers.Dense(45, activation = 'sigmoid')\n",
        "])\n",
        "\n",
        "# 모델 컴파일\n",
        "model.compile(loss = 'binary_crossentropy', optimizer = 'adam', metrics = ['accuracy'])"
      ]
    },
    {
      "cell_type": "code",
      "execution_count": 9,
      "metadata": {
        "colab": {
          "base_uri": "https://localhost:8080/"
        },
        "id": "psqZd4_Nggyf",
        "outputId": "d8e51f30-ee2c-4011-e54e-9331e1bbb8bf"
      },
      "outputs": [
        {
          "output_type": "stream",
          "name": "stdout",
          "text": [
            "epoch   0, acc 0.027, loss  0.411, val_acc 0.000, val_loss 0.400\n",
            "epoch   1, acc 0.019, loss  0.397, val_acc 0.000, val_loss 0.400\n",
            "epoch   2, acc 0.025, loss  0.394, val_acc 0.000, val_loss 0.400\n",
            "epoch   3, acc 0.025, loss  0.391, val_acc 0.000, val_loss 0.400\n",
            "epoch   4, acc 0.030, loss  0.387, val_acc 0.009, val_loss 0.402\n",
            "epoch   5, acc 0.040, loss  0.382, val_acc 0.027, val_loss 0.404\n",
            "epoch   6, acc 0.038, loss  0.377, val_acc 0.027, val_loss 0.408\n",
            "epoch   7, acc 0.043, loss  0.371, val_acc 0.022, val_loss 0.413\n",
            "epoch   8, acc 0.052, loss  0.365, val_acc 0.022, val_loss 0.417\n",
            "epoch   9, acc 0.061, loss  0.359, val_acc 0.031, val_loss 0.421\n",
            "epoch  10, acc 0.064, loss  0.353, val_acc 0.031, val_loss 0.425\n",
            "epoch  11, acc 0.059, loss  0.346, val_acc 0.022, val_loss 0.430\n",
            "epoch  12, acc 0.077, loss  0.338, val_acc 0.031, val_loss 0.436\n",
            "epoch  13, acc 0.075, loss  0.330, val_acc 0.027, val_loss 0.442\n",
            "epoch  14, acc 0.105, loss  0.321, val_acc 0.022, val_loss 0.448\n",
            "epoch  15, acc 0.112, loss  0.312, val_acc 0.027, val_loss 0.454\n",
            "epoch  16, acc 0.103, loss  0.302, val_acc 0.027, val_loss 0.460\n",
            "epoch  17, acc 0.112, loss  0.291, val_acc 0.027, val_loss 0.467\n",
            "epoch  18, acc 0.114, loss  0.281, val_acc 0.022, val_loss 0.475\n",
            "epoch  19, acc 0.109, loss  0.269, val_acc 0.027, val_loss 0.483\n",
            "epoch  20, acc 0.106, loss  0.256, val_acc 0.031, val_loss 0.492\n",
            "epoch  21, acc 0.121, loss  0.245, val_acc 0.031, val_loss 0.502\n",
            "epoch  22, acc 0.127, loss  0.233, val_acc 0.040, val_loss 0.512\n",
            "epoch  23, acc 0.133, loss  0.221, val_acc 0.040, val_loss 0.521\n",
            "epoch  24, acc 0.157, loss  0.210, val_acc 0.035, val_loss 0.534\n",
            "epoch  25, acc 0.151, loss  0.198, val_acc 0.031, val_loss 0.547\n",
            "epoch  26, acc 0.161, loss  0.188, val_acc 0.035, val_loss 0.557\n",
            "epoch  27, acc 0.140, loss  0.177, val_acc 0.031, val_loss 0.566\n",
            "epoch  28, acc 0.160, loss  0.167, val_acc 0.022, val_loss 0.578\n",
            "epoch  29, acc 0.165, loss  0.158, val_acc 0.022, val_loss 0.586\n",
            "epoch  30, acc 0.164, loss  0.155, val_acc 0.035, val_loss 0.598\n",
            "epoch  31, acc 0.160, loss  0.145, val_acc 0.035, val_loss 0.606\n",
            "epoch  32, acc 0.149, loss  0.136, val_acc 0.027, val_loss 0.621\n",
            "epoch  33, acc 0.171, loss  0.133, val_acc 0.035, val_loss 0.629\n",
            "epoch  34, acc 0.161, loss  0.123, val_acc 0.027, val_loss 0.650\n",
            "epoch  35, acc 0.167, loss  0.119, val_acc 0.031, val_loss 0.657\n",
            "epoch  36, acc 0.183, loss  0.115, val_acc 0.035, val_loss 0.664\n",
            "epoch  37, acc 0.137, loss  0.107, val_acc 0.035, val_loss 0.679\n",
            "epoch  38, acc 0.152, loss  0.102, val_acc 0.027, val_loss 0.691\n",
            "epoch  39, acc 0.174, loss  0.104, val_acc 0.027, val_loss 0.699\n",
            "epoch  40, acc 0.142, loss  0.094, val_acc 0.035, val_loss 0.705\n",
            "epoch  41, acc 0.137, loss  0.085, val_acc 0.031, val_loss 0.718\n",
            "epoch  42, acc 0.179, loss  0.087, val_acc 0.027, val_loss 0.735\n",
            "epoch  43, acc 0.146, loss  0.080, val_acc 0.018, val_loss 0.740\n",
            "epoch  44, acc 0.170, loss  0.074, val_acc 0.027, val_loss 0.753\n",
            "epoch  45, acc 0.151, loss  0.070, val_acc 0.027, val_loss 0.755\n",
            "epoch  46, acc 0.168, loss  0.064, val_acc 0.035, val_loss 0.770\n",
            "epoch  47, acc 0.168, loss  0.063, val_acc 0.027, val_loss 0.793\n",
            "epoch  48, acc 0.180, loss  0.061, val_acc 0.022, val_loss 0.791\n",
            "epoch  49, acc 0.157, loss  0.060, val_acc 0.018, val_loss 0.806\n",
            "epoch  50, acc 0.154, loss  0.053, val_acc 0.022, val_loss 0.821\n",
            "epoch  51, acc 0.164, loss  0.055, val_acc 0.004, val_loss 0.827\n",
            "epoch  52, acc 0.143, loss  0.053, val_acc 0.009, val_loss 0.838\n",
            "epoch  53, acc 0.149, loss  0.043, val_acc 0.027, val_loss 0.855\n",
            "epoch  54, acc 0.164, loss  0.041, val_acc 0.022, val_loss 0.871\n",
            "epoch  55, acc 0.164, loss  0.038, val_acc 0.018, val_loss 0.880\n",
            "epoch  56, acc 0.143, loss  0.038, val_acc 0.022, val_loss 0.888\n",
            "epoch  57, acc 0.136, loss  0.038, val_acc 0.027, val_loss 0.890\n",
            "epoch  58, acc 0.173, loss  0.040, val_acc 0.022, val_loss 0.912\n",
            "epoch  59, acc 0.174, loss  0.035, val_acc 0.009, val_loss 0.914\n"
          ]
        }
      ],
      "source": [
        "# 매 에포크마다 훈련과 검증의 손실 및 정확도를 기록하기 위한 변수\n",
        "train_loss = []\n",
        "train_acc = []\n",
        "val_loss = []\n",
        "val_acc = []\n",
        "\n",
        "# 최대 100번 에포크까지 수행\n",
        "for epoch in range(60):\n",
        "    model.reset_states()  # 중요! 매 에포크마다 1회부터 다시 훈련하므로 상태 초기화 필요\n",
        "\n",
        "    batch_train_loss = []\n",
        "    batch_train_acc = []\n",
        "\n",
        "    for i in range(train[0], train[1]):\n",
        "\n",
        "        xss = xs[i].reshape(1, 1, 45)\n",
        "        yss = ys[i].reshape(1, 45)\n",
        "\n",
        "        loss, acc = model.train_on_batch(xss, yss) # 배치만큼 모델에 학습\n",
        "\n",
        "        batch_train_loss.append(loss)\n",
        "        batch_train_acc.append(acc)\n",
        "\n",
        "    train_loss.append(np.mean(batch_train_loss))\n",
        "    train_acc.append(np.mean(batch_train_acc))\n",
        "\n",
        "    batch_val_loss = []\n",
        "    batch_val_acc = []\n",
        "\n",
        "    for i in range(val[0], val[1]):\n",
        "\n",
        "        xss = xs[i].reshape(1, 1, 45)\n",
        "        yss = ys[i].reshape(1, 45)\n",
        "\n",
        "        loss, acc = model.test_on_batch(xss, yss) # 배치만큼 모델에 입력하여 나온 결과를 정답과 비교함\n",
        "\n",
        "        batch_val_loss.append(loss)\n",
        "        batch_val_acc.append(acc)\n",
        "\n",
        "    val_loss.append(np.mean(batch_val_loss))\n",
        "    val_acc.append(np.mean(batch_val_acc))\n",
        "\n",
        "    print('epoch{0:4d}, acc {1:0.3f}, loss {2: 0.3f}, val_acc {3:0.3f}, val_loss {4:0.3f}'.format(epoch,\n",
        "                                                                                                  np.mean(batch_train_acc),\n",
        "                                                                                                  np.mean(batch_train_loss),\n",
        "                                                                                                  np.mean(batch_val_acc),\n",
        "                                                                                                  np.mean(batch_val_loss)))"
      ]
    },
    {
      "cell_type": "code",
      "execution_count": 10,
      "metadata": {
        "id": "bshpyH52ggwS",
        "colab": {
          "base_uri": "https://localhost:8080/",
          "height": 449
        },
        "outputId": "749f3880-566a-4075-ad34-2789383f6b4a"
      },
      "outputs": [
        {
          "output_type": "display_data",
          "data": {
            "text/plain": [
              "<Figure size 640x480 with 2 Axes>"
            ],
            "image/png": "[encoded data removed]"
          },
          "metadata": {}
        }
      ],
      "source": [
        "%matplotlib inline\n",
        "import matplotlib.pyplot as plt\n",
        "\n",
        "fig, loss_ax = plt.subplots()\n",
        "\n",
        "acc_ax = loss_ax.twinx()\n",
        "\n",
        "loss_ax.plot(train_loss, 'y', label = 'train loss')\n",
        "loss_ax.plot(val_loss, 'r', label = 'val loss')\n",
        "\n",
        "acc_ax.plot(train_acc, 'b', label = 'train acc')\n",
        "acc_ax.plot(val_acc, 'g', label = 'val acc')\n",
        "\n",
        "loss_ax.set_xlabel('epoch')\n",
        "loss_ax.set_ylabel('epoch')\n",
        "acc_ax.set_ylabel('accracy')\n",
        "\n",
        "loss_ax.legend(loc = 'upper left')\n",
        "acc_ax.legend(loc = 'lower left')\n",
        "\n",
        "plt.show()\n",
        "# 이미 학습은 의미가 없다는 결론이 나옴"
      ]
    },
    {
      "cell_type": "code",
      "execution_count": 11,
      "metadata": {
        "colab": {
          "base_uri": "https://localhost:8080/"
        },
        "id": "mTiXpDcjx_As",
        "outputId": "7ec477b7-2fc2-4461-d8e0-a0c1b4be62c2"
      },
      "outputs": [
        {
          "output_type": "stream",
          "name": "stdout",
          "text": [
            "epoch   0, acc 0.139, loss  0.025\n",
            "epoch   1, acc 0.130, loss  0.015\n",
            "epoch   2, acc 0.123, loss  0.011\n",
            "epoch   3, acc 0.116, loss  0.009\n",
            "epoch   4, acc 0.110, loss  0.007\n",
            "epoch   5, acc 0.105, loss  0.006\n",
            "epoch   6, acc 0.102, loss  0.005\n",
            "epoch   7, acc 0.099, loss  0.005\n",
            "epoch   8, acc 0.096, loss  0.004\n",
            "epoch   9, acc 0.095, loss  0.004\n",
            "epoch  10, acc 0.094, loss  0.003\n",
            "epoch  11, acc 0.093, loss  0.003\n",
            "epoch  12, acc 0.093, loss  0.003\n",
            "epoch  13, acc 0.093, loss  0.003\n",
            "epoch  14, acc 0.093, loss  0.003\n",
            "epoch  15, acc 0.094, loss  0.002\n",
            "epoch  16, acc 0.094, loss  0.002\n",
            "epoch  17, acc 0.093, loss  0.002\n",
            "epoch  18, acc 0.093, loss  0.002\n",
            "epoch  19, acc 0.092, loss  0.002\n",
            "epoch  20, acc 0.091, loss  0.002\n",
            "epoch  21, acc 0.090, loss  0.002\n",
            "epoch  22, acc 0.089, loss  0.002\n",
            "epoch  23, acc 0.088, loss  0.002\n",
            "epoch  24, acc 0.086, loss  0.002\n",
            "epoch  25, acc 0.085, loss  0.001\n",
            "epoch  26, acc 0.084, loss  0.001\n",
            "epoch  27, acc 0.083, loss  0.001\n",
            "epoch  28, acc 0.081, loss  0.001\n",
            "epoch  29, acc 0.080, loss  0.001\n",
            "epoch  30, acc 0.079, loss  0.001\n",
            "epoch  31, acc 0.078, loss  0.001\n",
            "epoch  32, acc 0.077, loss  0.001\n",
            "epoch  33, acc 0.076, loss  0.001\n",
            "epoch  34, acc 0.075, loss  0.001\n",
            "epoch  35, acc 0.074, loss  0.001\n",
            "epoch  36, acc 0.073, loss  0.001\n",
            "epoch  37, acc 0.072, loss  0.001\n",
            "epoch  38, acc 0.071, loss  0.001\n",
            "epoch  39, acc 0.070, loss  0.001\n",
            "epoch  40, acc 0.069, loss  0.001\n",
            "epoch  41, acc 0.068, loss  0.001\n",
            "epoch  42, acc 0.068, loss  0.001\n",
            "epoch  43, acc 0.067, loss  0.001\n",
            "epoch  44, acc 0.066, loss  0.001\n"
          ]
        }
      ],
      "source": [
        "# 모든 데이터를 학습용으로 사용\n",
        "for epoch in range(45):\n",
        "\n",
        "    model.reset_states()  # 중요! 매 에포크마다 1회부터 다시 훈련하므로 상태 초기화 필요\n",
        "\n",
        "    for i in range(len(xs)):\n",
        "\n",
        "      xss = xs[i].reshape(1, 1, 45)\n",
        "      yss - ys[i].reshape(1, 45)\n",
        "\n",
        "      loss, acc = model.train_on_batch(xss, yss) # 배치만큼 모델에 학습\n",
        "\n",
        "      batch_train_loss.append(loss)\n",
        "      batch_train_acc.append(acc)\n",
        "\n",
        "    train_loss.append(np.mean(batch_train_loss))\n",
        "    train_acc.append(np.mean(batch_train_acc))\n",
        "\n",
        "    print('epoch{0:4d}, acc {1:0.3f}, loss {2: 0.3f}'.format(epoch,\n",
        "                                                            np.mean(batch_train_acc),\n",
        "                                                            np.mean(batch_train_loss)\n",
        "                                                            ))\n",
        "\n"
      ]
    },
    {
      "cell_type": "code",
      "execution_count": 12,
      "metadata": {
        "colab": {
          "base_uri": "https://localhost:8080/"
        },
        "id": "ekjo8MBdx--s",
        "outputId": "e1c5fa53-cdae-439c-bbc9-2565a7360ee7"
      },
      "outputs": [
        {
          "output_type": "stream",
          "name": "stdout",
          "text": [
            "receive numbers\n"
          ]
        },
        {
          "output_type": "execute_result",
          "data": {
            "text/plain": [
              "[[13, 15, 27, 29, 34, 40]]"
            ]
          },
          "metadata": {},
          "execution_count": 12
        }
      ],
      "source": [
        "# 다음회 예측\n",
        "\n",
        "print('receive numbers')\n",
        "\n",
        "xss = xs[-1].reshape(1, 1, 45)\n",
        "\n",
        "pred = model.predict_on_batch(xss)\n",
        "pred\n",
        "\n",
        "luck = list(map(o2n, pred))\n",
        "luck\n",
        "\n",
        "# list_number = []\n",
        "\n",
        "# for n in range(6):\n",
        "#   numbers =pred\n",
        "  # numbers.sort()\n",
        "  # print('{0} : {1}'.format(n, numbers))\n",
        "  # list_numbers.append(numbers)"
      ]
    },
    {
      "cell_type": "code",
      "execution_count": 12,
      "metadata": {
        "id": "67xyP3Kf3WvN"
      },
      "outputs": [],
      "source": []
    }
  ],
  "metadata": {
    "accelerator": "GPU",
    "colab": {
      "gpuType": "T4",
      "provenance": [],
      "authorship_tag": "ABX9TyNl61053zvek3GWs9HQK2ix",
      "include_colab_link": true
    },
    "kernelspec": {
      "display_name": "Python 3",
      "name": "python3"
    },
    "language_info": {
      "name": "python"
    }
  },
  "nbformat": 4,
  "nbformat_minor": 0
}