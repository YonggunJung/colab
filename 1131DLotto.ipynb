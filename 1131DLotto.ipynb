{
  "cells": [
    {
      "cell_type": "markdown",
      "metadata": {
        "id": "view-in-github",
        "colab_type": "text"
      },
      "source": [
        "<a href=\"https://colab.research.google.com/github/YonggunJung/colab/blob/main/1131DLotto.ipynb\" target=\"_parent\"><img src=\"https://colab.research.google.com/assets/colab-badge.svg\" alt=\"Open In Colab\"/></a>"
      ]
    },
    {
      "cell_type": "code",
      "execution_count": 3,
      "metadata": {
        "colab": {
          "base_uri": "https://localhost:8080/"
        },
        "id": "EV0N-8-1wfGo",
        "outputId": "a76adeed-10b2-4b66-cbfb-bf920ff85eca"
      },
      "outputs": [
        {
          "output_type": "stream",
          "name": "stdout",
          "text": [
            "Drive already mounted at /content/drive; to attempt to forcibly remount, call drive.mount(\"/content/drive\", force_remount=True).\n"
          ]
        }
      ],
      "source": [
        "from google.colab import drive\n",
        "drive.mount('/content/drive')"
      ]
    },
    {
      "cell_type": "code",
      "execution_count": 4,
      "metadata": {
        "id": "6OK4eW92wov0"
      },
      "outputs": [],
      "source": [
        "import pandas as pd\n",
        "import numpy as np\n",
        "import warnings\n",
        "warnings.filterwarnings('ignore')"
      ]
    },
    {
      "cell_type": "code",
      "execution_count": 5,
      "metadata": {
        "colab": {
          "base_uri": "https://localhost:8080/"
        },
        "id": "227wJo0xYVaV",
        "outputId": "6036c415-7af2-48df-c87b-a8356965ae6b"
      },
      "outputs": [
        {
          "output_type": "execute_result",
          "data": {
            "text/plain": [
              "array([[ 4.,  7., 17., 18., 38., 44.],\n",
              "       [ 8., 12., 13., 29., 33., 42.],\n",
              "       [ 3.,  7., 14., 15., 22., 38.],\n",
              "       ...,\n",
              "       [ 1.,  5.,  8., 16., 28., 33.],\n",
              "       [ 5., 10., 11., 17., 28., 34.],\n",
              "       [15., 19., 21., 25., 27., 28.]])"
            ]
          },
          "metadata": {},
          "execution_count": 5
        }
      ],
      "source": [
        "win = np.loadtxt('/content/drive/MyDrive/Colab Notebooks/로또/data/jlotto.csv', delimiter = ',')\n",
        "win"
      ]
    },
    {
      "cell_type": "code",
      "execution_count": 6,
      "metadata": {
        "id": "GS0NAmQGw74-"
      },
      "outputs": [],
      "source": [
        "xn = len(win)"
      ]
    },
    {
      "cell_type": "code",
      "execution_count": 7,
      "metadata": {
        "id": "gG4RnEQzhKPx"
      },
      "outputs": [],
      "source": [
        "# 숫자를 원핫 인코딩으로 변환\n",
        "def n2o(numbers):\n",
        "\n",
        "  oh = np.zeros(45)  # 45개의 빈 칸 만들기\n",
        "\n",
        "  for i in range(6):            # 6개의 당첨번호를 반복\n",
        "      oh[int(numbers[i])-1] = 1   # 번호는 1부터 시작하고 인덱스는 0부터 시작하니 1을 빼줌\n",
        "\n",
        "  return oh\n",
        "\n",
        "# 원핫 인코딩을 숫자로 변환\n",
        "def o2n(oh):\n",
        "\n",
        "  numbers = []\n",
        "\n",
        "  for i in range(len(oh)):\n",
        "    if oh[i] == 1:           # oh[i]이 1 이면 해당 번호를 출력\n",
        "      numbers.append(i+1)    # 인덱스 보다 숫자가 1크니까 1더해줌 출력\n",
        "\n",
        "  return numbers"
      ]
    },
    {
      "cell_type": "code",
      "execution_count": 8,
      "metadata": {
        "colab": {
          "base_uri": "https://localhost:8080/"
        },
        "id": "XCSHMDUUvRZf",
        "outputId": "f0f84da0-ae85-4afa-9bac-9dd404f59fba"
      },
      "outputs": [
        {
          "output_type": "stream",
          "name": "stdout",
          "text": [
            "ohs\n",
            "x[0] :[0. 0. 0. 1. 0. 0. 1. 0. 0. 0. 0. 0. 0. 0. 0. 0. 1. 1. 0. 0. 0. 0. 0. 0.\n",
            " 0. 0. 0. 0. 0. 0. 0. 0. 0. 0. 0. 0. 0. 1. 0. 0. 0. 0. 0. 1. 0.]\n",
            "y[0] :[0. 0. 0. 0. 0. 0. 0. 1. 0. 0. 0. 1. 1. 0. 0. 0. 0. 0. 0. 0. 0. 0. 0. 0.\n",
            " 0. 0. 0. 0. 1. 0. 0. 0. 1. 0. 0. 0. 0. 0. 0. 0. 0. 1. 0. 0. 0.]\n",
            "numbers\n",
            "x[0] :[4, 7, 17, 18, 38, 44]\n",
            "y[0] :[8, 12, 13, 29, 33, 42]\n"
          ]
        }
      ],
      "source": [
        "numbers = win[: , :]  # 이게 문제라서 못 하겠음ㅠ 데이터 프레임이 문제인가?\n",
        "                      # 데이터 프레임으로 안열고 넘파이 텍스트 파일로 가져오니 됨\n",
        "ohs = list(map(n2o, numbers))\n",
        "\n",
        "xs = ohs[0:xn -1]\n",
        "ys = ohs[1:xn]\n",
        "\n",
        "# 원핫 인코딩 확인\n",
        "print('ohs')\n",
        "print('x[0] :' + str(xs[0]))\n",
        "print('y[0] :' + str(ys[0]))\n",
        "\n",
        "# 번호 확인\n",
        "print('numbers')\n",
        "print('x[0] :' + str(o2n(xs[0])))\n",
        "print('y[0] :' + str(o2n(ys[0])))"
      ]
    },
    {
      "cell_type": "code",
      "execution_count": 9,
      "metadata": {
        "colab": {
          "base_uri": "https://localhost:8080/"
        },
        "id": "8WuoR8jggg2_",
        "outputId": "6706de06-6b85-4700-f886-783d1c6843e5"
      },
      "outputs": [
        {
          "output_type": "stream",
          "name": "stdout",
          "text": [
            "train : (0, 678), val : (678, 904), test : (904, 1130)\n"
          ]
        }
      ],
      "source": [
        "train = (0, int(len(win)*0.6))\n",
        "val = (int(len(win)*0.6), int(len(win)*0.8))\n",
        "test = (int(len(win)*0.8), len(win))\n",
        "\n",
        "print('train : {0}, val : {1}, test : {2}'.format(train, val, test))"
      ]
    },
    {
      "cell_type": "code",
      "execution_count": 10,
      "metadata": {
        "id": "VNx80jYjgg0y"
      },
      "outputs": [],
      "source": [
        "import tensorflow as tf\n",
        "from tensorflow import keras\n",
        "from tensorflow.keras import layers\n",
        "from tensorflow.keras import models\n",
        "\n",
        "# 모델 정의\n",
        "model = keras.Sequential([\n",
        "    keras.layers.LSTM(128, batch_input_shape = (1, 1, 45),\n",
        "                      return_sequences = False,\n",
        "                      stateful = True),\n",
        "    keras.layers.Dense(45, activation = 'sigmoid')\n",
        "])\n",
        "\n",
        "# 모델 컴파일\n",
        "model.compile(loss = 'binary_crossentropy', optimizer = 'adam', metrics = ['accuracy'])"
      ]
    },
    {
      "cell_type": "code",
      "execution_count": 11,
      "metadata": {
        "colab": {
          "base_uri": "https://localhost:8080/"
        },
        "id": "psqZd4_Nggyf",
        "outputId": "4e9496d9-4849-4cb9-ec38-dabd93f5c6ec"
      },
      "outputs": [
        {
          "output_type": "stream",
          "name": "stdout",
          "text": [
            "epoch   0, acc 0.021, loss  0.410, val_acc 0.000, val_loss 0.400\n",
            "epoch   1, acc 0.025, loss  0.396, val_acc 0.000, val_loss 0.399\n",
            "epoch   2, acc 0.028, loss  0.394, val_acc 0.000, val_loss 0.399\n",
            "epoch   3, acc 0.027, loss  0.391, val_acc 0.004, val_loss 0.399\n",
            "epoch   4, acc 0.032, loss  0.388, val_acc 0.009, val_loss 0.400\n",
            "epoch   5, acc 0.043, loss  0.383, val_acc 0.022, val_loss 0.402\n",
            "epoch   6, acc 0.055, loss  0.378, val_acc 0.027, val_loss 0.405\n",
            "epoch   7, acc 0.062, loss  0.372, val_acc 0.035, val_loss 0.408\n",
            "epoch   8, acc 0.060, loss  0.366, val_acc 0.040, val_loss 0.412\n",
            "epoch   9, acc 0.063, loss  0.360, val_acc 0.044, val_loss 0.416\n",
            "epoch  10, acc 0.063, loss  0.353, val_acc 0.053, val_loss 0.419\n",
            "epoch  11, acc 0.074, loss  0.346, val_acc 0.049, val_loss 0.424\n",
            "epoch  12, acc 0.075, loss  0.339, val_acc 0.049, val_loss 0.428\n",
            "epoch  13, acc 0.090, loss  0.331, val_acc 0.035, val_loss 0.433\n",
            "epoch  14, acc 0.108, loss  0.322, val_acc 0.035, val_loss 0.439\n",
            "epoch  15, acc 0.114, loss  0.313, val_acc 0.049, val_loss 0.445\n",
            "epoch  16, acc 0.117, loss  0.303, val_acc 0.062, val_loss 0.451\n",
            "epoch  17, acc 0.130, loss  0.292, val_acc 0.066, val_loss 0.459\n",
            "epoch  18, acc 0.127, loss  0.282, val_acc 0.062, val_loss 0.468\n",
            "epoch  19, acc 0.143, loss  0.271, val_acc 0.049, val_loss 0.477\n",
            "epoch  20, acc 0.145, loss  0.260, val_acc 0.049, val_loss 0.485\n",
            "epoch  21, acc 0.161, loss  0.248, val_acc 0.062, val_loss 0.492\n",
            "epoch  22, acc 0.155, loss  0.237, val_acc 0.058, val_loss 0.500\n",
            "epoch  23, acc 0.153, loss  0.226, val_acc 0.058, val_loss 0.510\n",
            "epoch  24, acc 0.145, loss  0.214, val_acc 0.040, val_loss 0.521\n",
            "epoch  25, acc 0.156, loss  0.202, val_acc 0.035, val_loss 0.532\n",
            "epoch  26, acc 0.162, loss  0.191, val_acc 0.053, val_loss 0.541\n",
            "epoch  27, acc 0.143, loss  0.181, val_acc 0.053, val_loss 0.551\n",
            "epoch  28, acc 0.150, loss  0.170, val_acc 0.049, val_loss 0.564\n",
            "epoch  29, acc 0.146, loss  0.161, val_acc 0.035, val_loss 0.579\n",
            "epoch  30, acc 0.136, loss  0.157, val_acc 0.035, val_loss 0.594\n",
            "epoch  31, acc 0.155, loss  0.151, val_acc 0.049, val_loss 0.602\n",
            "epoch  32, acc 0.177, loss  0.140, val_acc 0.031, val_loss 0.617\n",
            "epoch  33, acc 0.145, loss  0.131, val_acc 0.044, val_loss 0.629\n",
            "epoch  34, acc 0.149, loss  0.127, val_acc 0.035, val_loss 0.634\n",
            "epoch  35, acc 0.152, loss  0.121, val_acc 0.035, val_loss 0.650\n",
            "epoch  36, acc 0.149, loss  0.118, val_acc 0.031, val_loss 0.660\n",
            "epoch  37, acc 0.142, loss  0.110, val_acc 0.022, val_loss 0.679\n",
            "epoch  38, acc 0.156, loss  0.103, val_acc 0.027, val_loss 0.686\n",
            "epoch  39, acc 0.131, loss  0.096, val_acc 0.035, val_loss 0.697\n",
            "epoch  40, acc 0.171, loss  0.092, val_acc 0.013, val_loss 0.714\n",
            "epoch  41, acc 0.158, loss  0.091, val_acc 0.018, val_loss 0.722\n",
            "epoch  42, acc 0.176, loss  0.088, val_acc 0.031, val_loss 0.734\n",
            "epoch  43, acc 0.165, loss  0.083, val_acc 0.018, val_loss 0.746\n",
            "epoch  44, acc 0.145, loss  0.073, val_acc 0.018, val_loss 0.758\n",
            "epoch  45, acc 0.165, loss  0.071, val_acc 0.022, val_loss 0.764\n",
            "epoch  46, acc 0.159, loss  0.064, val_acc 0.018, val_loss 0.789\n",
            "epoch  47, acc 0.187, loss  0.065, val_acc 0.018, val_loss 0.801\n",
            "epoch  48, acc 0.153, loss  0.066, val_acc 0.022, val_loss 0.803\n",
            "epoch  49, acc 0.146, loss  0.058, val_acc 0.022, val_loss 0.820\n",
            "epoch  50, acc 0.153, loss  0.052, val_acc 0.022, val_loss 0.835\n",
            "epoch  51, acc 0.162, loss  0.053, val_acc 0.027, val_loss 0.841\n",
            "epoch  52, acc 0.153, loss  0.049, val_acc 0.035, val_loss 0.863\n",
            "epoch  53, acc 0.145, loss  0.044, val_acc 0.022, val_loss 0.876\n",
            "epoch  54, acc 0.164, loss  0.045, val_acc 0.027, val_loss 0.874\n",
            "epoch  55, acc 0.176, loss  0.043, val_acc 0.031, val_loss 0.898\n",
            "epoch  56, acc 0.177, loss  0.043, val_acc 0.027, val_loss 0.896\n",
            "epoch  57, acc 0.156, loss  0.036, val_acc 0.027, val_loss 0.906\n",
            "epoch  58, acc 0.150, loss  0.035, val_acc 0.031, val_loss 0.917\n",
            "epoch  59, acc 0.159, loss  0.036, val_acc 0.031, val_loss 0.921\n"
          ]
        }
      ],
      "source": [
        "# 매 에포크마다 훈련과 검증의 손실 및 정확도를 기록하기 위한 변수\n",
        "train_loss = []\n",
        "train_acc = []\n",
        "val_loss = []\n",
        "val_acc = []\n",
        "\n",
        "# 최대 100번 에포크까지 수행\n",
        "for epoch in range(60):\n",
        "    model.reset_states()  # 중요! 매 에포크마다 1회부터 다시 훈련하므로 상태 초기화 필요\n",
        "\n",
        "    batch_train_loss = []\n",
        "    batch_train_acc = []\n",
        "\n",
        "    for i in range(train[0], train[1]):\n",
        "\n",
        "        xss = xs[i].reshape(1, 1, 45)\n",
        "        yss = ys[i].reshape(1, 45)\n",
        "\n",
        "        loss, acc = model.train_on_batch(xss, yss) # 배치만큼 모델에 학습\n",
        "\n",
        "        batch_train_loss.append(loss)\n",
        "        batch_train_acc.append(acc)\n",
        "\n",
        "    train_loss.append(np.mean(batch_train_loss))\n",
        "    train_acc.append(np.mean(batch_train_acc))\n",
        "\n",
        "    batch_val_loss = []\n",
        "    batch_val_acc = []\n",
        "\n",
        "    for i in range(val[0], val[1]):\n",
        "\n",
        "        xss = xs[i].reshape(1, 1, 45)\n",
        "        yss = ys[i].reshape(1, 45)\n",
        "\n",
        "        loss, acc = model.test_on_batch(xss, yss) # 배치만큼 모델에 입력하여 나온 결과를 정답과 비교함\n",
        "\n",
        "        batch_val_loss.append(loss)\n",
        "        batch_val_acc.append(acc)\n",
        "\n",
        "    val_loss.append(np.mean(batch_val_loss))\n",
        "    val_acc.append(np.mean(batch_val_acc))\n",
        "\n",
        "    print('epoch{0:4d}, acc {1:0.3f}, loss {2: 0.3f}, val_acc {3:0.3f}, val_loss {4:0.3f}'.format(epoch,\n",
        "                                                                                                  np.mean(batch_train_acc),\n",
        "                                                                                                  np.mean(batch_train_loss),\n",
        "                                                                                                  np.mean(batch_val_acc),\n",
        "                                                                                                  np.mean(batch_val_loss)))"
      ]
    },
    {
      "cell_type": "code",
      "execution_count": 12,
      "metadata": {
        "id": "bshpyH52ggwS",
        "colab": {
          "base_uri": "https://localhost:8080/",
          "height": 449
        },
        "outputId": "2259dace-0406-43f3-e2fe-b9d9350d84da"
      },
      "outputs": [
        {
          "output_type": "display_data",
          "data": {
            "text/plain": [
              "<Figure size 640x480 with 2 Axes>"
            ],
            "image/png": "[encoded data removed]"
          },
          "metadata": {}
        }
      ],
      "source": [
        "%matplotlib inline\n",
        "import matplotlib.pyplot as plt\n",
        "\n",
        "fig, loss_ax = plt.subplots()\n",
        "\n",
        "acc_ax = loss_ax.twinx()\n",
        "\n",
        "loss_ax.plot(train_loss, 'y', label = 'train loss')\n",
        "loss_ax.plot(val_loss, 'r', label = 'val loss')\n",
        "\n",
        "acc_ax.plot(train_acc, 'b', label = 'train acc')\n",
        "acc_ax.plot(val_acc, 'g', label = 'val acc')\n",
        "\n",
        "loss_ax.set_xlabel('epoch')\n",
        "loss_ax.set_ylabel('epoch')\n",
        "acc_ax.set_ylabel('accracy')\n",
        "\n",
        "loss_ax.legend(loc = 'upper left')\n",
        "acc_ax.legend(loc = 'lower left')\n",
        "\n",
        "plt.show()\n",
        "# 이미 학습은 의미가 없다는 결론이 나옴"
      ]
    },
    {
      "cell_type": "code",
      "execution_count": 13,
      "metadata": {
        "colab": {
          "base_uri": "https://localhost:8080/"
        },
        "id": "mTiXpDcjx_As",
        "outputId": "7f794f59-f728-42df-8829-516c28130a15"
      },
      "outputs": [
        {
          "output_type": "stream",
          "name": "stdout",
          "text": [
            "epoch   0, acc 0.163, loss  0.026\n",
            "epoch   1, acc 0.171, loss  0.016\n",
            "epoch   2, acc 0.174, loss  0.012\n",
            "epoch   3, acc 0.176, loss  0.009\n",
            "epoch   4, acc 0.173, loss  0.008\n",
            "epoch   5, acc 0.166, loss  0.006\n",
            "epoch   6, acc 0.159, loss  0.006\n",
            "epoch   7, acc 0.152, loss  0.005\n",
            "epoch   8, acc 0.145, loss  0.004\n",
            "epoch   9, acc 0.137, loss  0.004\n",
            "epoch  10, acc 0.130, loss  0.004\n",
            "epoch  11, acc 0.123, loss  0.003\n",
            "epoch  12, acc 0.117, loss  0.003\n",
            "epoch  13, acc 0.111, loss  0.003\n",
            "epoch  14, acc 0.106, loss  0.003\n",
            "epoch  15, acc 0.102, loss  0.003\n",
            "epoch  16, acc 0.098, loss  0.002\n",
            "epoch  17, acc 0.095, loss  0.002\n",
            "epoch  18, acc 0.092, loss  0.002\n",
            "epoch  19, acc 0.089, loss  0.002\n",
            "epoch  20, acc 0.086, loss  0.002\n",
            "epoch  21, acc 0.083, loss  0.002\n",
            "epoch  22, acc 0.081, loss  0.002\n",
            "epoch  23, acc 0.079, loss  0.002\n",
            "epoch  24, acc 0.076, loss  0.002\n",
            "epoch  25, acc 0.074, loss  0.002\n",
            "epoch  26, acc 0.072, loss  0.002\n",
            "epoch  27, acc 0.070, loss  0.001\n",
            "epoch  28, acc 0.068, loss  0.001\n",
            "epoch  29, acc 0.066, loss  0.001\n",
            "epoch  30, acc 0.065, loss  0.001\n",
            "epoch  31, acc 0.063, loss  0.001\n",
            "epoch  32, acc 0.061, loss  0.001\n",
            "epoch  33, acc 0.060, loss  0.001\n",
            "epoch  34, acc 0.059, loss  0.001\n",
            "epoch  35, acc 0.057, loss  0.001\n",
            "epoch  36, acc 0.056, loss  0.001\n",
            "epoch  37, acc 0.055, loss  0.001\n",
            "epoch  38, acc 0.054, loss  0.001\n",
            "epoch  39, acc 0.052, loss  0.001\n",
            "epoch  40, acc 0.051, loss  0.001\n",
            "epoch  41, acc 0.050, loss  0.001\n",
            "epoch  42, acc 0.049, loss  0.001\n",
            "epoch  43, acc 0.048, loss  0.001\n",
            "epoch  44, acc 0.047, loss  0.001\n"
          ]
        }
      ],
      "source": [
        "# 모든 데이터를 학습용으로 사용\n",
        "for epoch in range(45):\n",
        "\n",
        "    model.reset_states()  # 중요! 매 에포크마다 1회부터 다시 훈련하므로 상태 초기화 필요\n",
        "\n",
        "    for i in range(len(xs)):\n",
        "\n",
        "      xss = xs[i].reshape(1, 1, 45)\n",
        "      yss - ys[i].reshape(1, 45)\n",
        "\n",
        "      loss, acc = model.train_on_batch(xss, yss) # 배치만큼 모델에 학습\n",
        "\n",
        "      batch_train_loss.append(loss)\n",
        "      batch_train_acc.append(acc)\n",
        "\n",
        "    train_loss.append(np.mean(batch_train_loss))\n",
        "    train_acc.append(np.mean(batch_train_acc))\n",
        "\n",
        "    print('epoch{0:4d}, acc {1:0.3f}, loss {2: 0.3f}'.format(epoch,\n",
        "                                                            np.mean(batch_train_acc),\n",
        "                                                            np.mean(batch_train_loss)\n",
        "                                                            ))\n",
        "\n"
      ]
    },
    {
      "cell_type": "code",
      "execution_count": 14,
      "metadata": {
        "colab": {
          "base_uri": "https://localhost:8080/"
        },
        "id": "ekjo8MBdx--s",
        "outputId": "c6f31568-26a0-485c-b823-c23267e08a05"
      },
      "outputs": [
        {
          "output_type": "stream",
          "name": "stdout",
          "text": [
            "receive numbers\n"
          ]
        },
        {
          "output_type": "execute_result",
          "data": {
            "text/plain": [
              "[[14, 21, 23, 32, 40, 45]]"
            ]
          },
          "metadata": {},
          "execution_count": 14
        }
      ],
      "source": [
        "# 다음회 예측\n",
        "\n",
        "print('receive numbers')\n",
        "\n",
        "xss = xs[-1].reshape(1, 1, 45)\n",
        "\n",
        "pred = model.predict_on_batch(xss)\n",
        "pred\n",
        "\n",
        "luck = list(map(o2n, pred))\n",
        "luck\n",
        "\n",
        "# list_number = []\n",
        "\n",
        "# for n in range(6):\n",
        "#   numbers =pred\n",
        "  # numbers.sort()\n",
        "  # print('{0} : {1}'.format(n, numbers))\n",
        "  # list_numbers.append(numbers)"
      ]
    },
    {
      "cell_type": "code",
      "execution_count": 14,
      "metadata": {
        "id": "67xyP3Kf3WvN"
      },
      "outputs": [],
      "source": []
    }
  ],
  "metadata": {
    "accelerator": "GPU",
    "colab": {
      "gpuType": "T4",
      "provenance": [],
      "authorship_tag": "ABX9TyNl61053zvek3GWs9HQK2ix",
      "include_colab_link": true
    },
    "kernelspec": {
      "display_name": "Python 3",
      "name": "python3"
    },
    "language_info": {
      "name": "python"
    }
  },
  "nbformat": 4,
  "nbformat_minor": 0
}