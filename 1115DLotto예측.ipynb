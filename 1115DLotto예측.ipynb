{
  "cells": [
    {
      "cell_type": "markdown",
      "metadata": {
        "id": "view-in-github",
        "colab_type": "text"
      },
      "source": [
        "<a href=\"https://colab.research.google.com/github/YonggunJung/colab/blob/main/1115DLotto%EC%98%88%EC%B8%A1.ipynb\" target=\"_parent\"><img src=\"https://colab.research.google.com/assets/colab-badge.svg\" alt=\"Open In Colab\"/></a>"
      ]
    },
    {
      "cell_type": "code",
      "execution_count": 1,
      "metadata": {
        "colab": {
          "base_uri": "https://localhost:8080/"
        },
        "id": "EV0N-8-1wfGo",
        "outputId": "ab7ebb72-4b7a-4022-8e90-a596fae5e4a4"
      },
      "outputs": [
        {
          "output_type": "stream",
          "name": "stdout",
          "text": [
            "Mounted at /content/drive\n"
          ]
        }
      ],
      "source": [
        "from google.colab import drive\n",
        "drive.mount('/content/drive')"
      ]
    },
    {
      "cell_type": "code",
      "execution_count": 2,
      "metadata": {
        "id": "6OK4eW92wov0"
      },
      "outputs": [],
      "source": [
        "import pandas as pd\n",
        "import numpy as np\n",
        "import warnings\n",
        "warnings.filterwarnings('ignore')"
      ]
    },
    {
      "cell_type": "code",
      "execution_count": 3,
      "metadata": {
        "colab": {
          "base_uri": "https://localhost:8080/"
        },
        "id": "227wJo0xYVaV",
        "outputId": "492156cb-4231-4a76-8419-b10dc599fad3"
      },
      "outputs": [
        {
          "output_type": "execute_result",
          "data": {
            "text/plain": [
              "array([[ 4.,  7., 17., 18., 38., 44.],\n",
              "       [ 8., 12., 13., 29., 33., 42.],\n",
              "       [ 3.,  7., 14., 15., 22., 38.],\n",
              "       ...,\n",
              "       [16., 20., 26., 36., 42., 44.],\n",
              "       [11., 13., 20., 21., 32., 44.],\n",
              "       [10., 16., 19., 32., 33., 38.]])"
            ]
          },
          "metadata": {},
          "execution_count": 3
        }
      ],
      "source": [
        "win = np.loadtxt('/content/drive/MyDrive/Colab Notebooks/로또/data/jlotto.csv', delimiter = ',')\n",
        "win"
      ]
    },
    {
      "cell_type": "code",
      "execution_count": 4,
      "metadata": {
        "id": "GS0NAmQGw74-"
      },
      "outputs": [],
      "source": [
        "xn = len(win)"
      ]
    },
    {
      "cell_type": "code",
      "execution_count": 5,
      "metadata": {
        "id": "gG4RnEQzhKPx"
      },
      "outputs": [],
      "source": [
        "# 숫자를 원핫 인코딩으로 변환\n",
        "def n2o(numbers):\n",
        "\n",
        "  oh = np.zeros(45)  # 45개의 빈 칸 만들기\n",
        "\n",
        "  for i in range(6):            # 6개의 당첨번호를 반복\n",
        "      oh[int(numbers[i])-1] = 1   # 번호는 1부터 시작하고 인덱스는 0부터 시작하니 1을 빼줌\n",
        "\n",
        "  return oh\n",
        "\n",
        "# 원핫 인코딩을 숫자로 변환\n",
        "def o2n(oh):\n",
        "\n",
        "  numbers = []\n",
        "\n",
        "  for i in range(len(oh)):\n",
        "    if oh[i] == 1:           # oh[i]이 1 이면 해당 번호를 출력\n",
        "      numbers.append(i+1)    # 인덱스 보다 숫자가 1크니까 1더해줌 출력\n",
        "\n",
        "  return numbers"
      ]
    },
    {
      "cell_type": "code",
      "execution_count": 6,
      "metadata": {
        "colab": {
          "base_uri": "https://localhost:8080/"
        },
        "id": "XCSHMDUUvRZf",
        "outputId": "416069e7-f76d-4691-c245-f8accaee8ea2"
      },
      "outputs": [
        {
          "output_type": "stream",
          "name": "stdout",
          "text": [
            "ohs\n",
            "x[0] :[0. 0. 0. 1. 0. 0. 1. 0. 0. 0. 0. 0. 0. 0. 0. 0. 1. 1. 0. 0. 0. 0. 0. 0.\n",
            " 0. 0. 0. 0. 0. 0. 0. 0. 0. 0. 0. 0. 0. 1. 0. 0. 0. 0. 0. 1. 0.]\n",
            "y[0] :[0. 0. 0. 0. 0. 0. 0. 1. 0. 0. 0. 1. 1. 0. 0. 0. 0. 0. 0. 0. 0. 0. 0. 0.\n",
            " 0. 0. 0. 0. 1. 0. 0. 0. 1. 0. 0. 0. 0. 0. 0. 0. 0. 1. 0. 0. 0.]\n",
            "numbers\n",
            "x[0] :[4, 7, 17, 18, 38, 44]\n",
            "y[0] :[8, 12, 13, 29, 33, 42]\n"
          ]
        }
      ],
      "source": [
        "numbers = win[: , :]  # 이게 문제라서 못 하겠음ㅠ 데이터 프레임이 문제인가?\n",
        "                      # 데이터 프레임으로 안열고 넘파이 텍스트 파일로 가져오니 됨\n",
        "ohs = list(map(n2o, numbers))\n",
        "\n",
        "xs = ohs[0:xn -1]\n",
        "ys = ohs[1:xn]\n",
        "\n",
        "# 원핫 인코딩 확인\n",
        "print('ohs')\n",
        "print('x[0] :' + str(xs[0]))\n",
        "print('y[0] :' + str(ys[0]))\n",
        "\n",
        "# 번호 확인\n",
        "print('numbers')\n",
        "print('x[0] :' + str(o2n(xs[0])))\n",
        "print('y[0] :' + str(o2n(ys[0])))"
      ]
    },
    {
      "cell_type": "code",
      "execution_count": 7,
      "metadata": {
        "colab": {
          "base_uri": "https://localhost:8080/"
        },
        "id": "8WuoR8jggg2_",
        "outputId": "ba805b9b-d20d-4f80-b868-1596dc10d5d8"
      },
      "outputs": [
        {
          "output_type": "stream",
          "name": "stdout",
          "text": [
            "train : (0, 668), val : (668, 891), test : (891, 1114)\n"
          ]
        }
      ],
      "source": [
        "train = (0, int(len(win)*0.6))\n",
        "val = (int(len(win)*0.6), int(len(win)*0.8))\n",
        "test = (int(len(win)*0.8), len(win))\n",
        "\n",
        "print('train : {0}, val : {1}, test : {2}'.format(train, val, test))"
      ]
    },
    {
      "cell_type": "code",
      "execution_count": 8,
      "metadata": {
        "id": "VNx80jYjgg0y"
      },
      "outputs": [],
      "source": [
        "import tensorflow as tf\n",
        "from tensorflow import keras\n",
        "from tensorflow.keras import layers\n",
        "from tensorflow.keras import models\n",
        "\n",
        "# 모델 정의\n",
        "model = keras.Sequential([\n",
        "    keras.layers.LSTM(128, batch_input_shape = (1, 1, 45),\n",
        "                      return_sequences = False,\n",
        "                      stateful = True),\n",
        "    keras.layers.Dense(45, activation = 'sigmoid')\n",
        "])\n",
        "\n",
        "# 모델 컴파일\n",
        "model.compile(loss = 'binary_crossentropy', optimizer = 'adam', metrics = ['accuracy'])"
      ]
    },
    {
      "cell_type": "code",
      "execution_count": 9,
      "metadata": {
        "colab": {
          "base_uri": "https://localhost:8080/"
        },
        "id": "psqZd4_Nggyf",
        "outputId": "bf24593f-ef9d-45d8-8d0b-b524de897f3b"
      },
      "outputs": [
        {
          "output_type": "stream",
          "name": "stdout",
          "text": [
            "epoch   0, acc 0.021, loss  0.410, val_acc 0.000, val_loss 0.401\n",
            "epoch   1, acc 0.022, loss  0.396, val_acc 0.000, val_loss 0.400\n",
            "epoch   2, acc 0.024, loss  0.394, val_acc 0.000, val_loss 0.399\n",
            "epoch   3, acc 0.024, loss  0.392, val_acc 0.000, val_loss 0.400\n",
            "epoch   4, acc 0.031, loss  0.389, val_acc 0.004, val_loss 0.401\n",
            "epoch   5, acc 0.037, loss  0.384, val_acc 0.013, val_loss 0.403\n",
            "epoch   6, acc 0.045, loss  0.378, val_acc 0.027, val_loss 0.407\n",
            "epoch   7, acc 0.063, loss  0.371, val_acc 0.036, val_loss 0.411\n",
            "epoch   8, acc 0.072, loss  0.364, val_acc 0.036, val_loss 0.415\n",
            "epoch   9, acc 0.082, loss  0.357, val_acc 0.031, val_loss 0.419\n",
            "epoch  10, acc 0.091, loss  0.351, val_acc 0.031, val_loss 0.423\n",
            "epoch  11, acc 0.081, loss  0.344, val_acc 0.031, val_loss 0.427\n",
            "epoch  12, acc 0.082, loss  0.337, val_acc 0.027, val_loss 0.431\n",
            "epoch  13, acc 0.091, loss  0.329, val_acc 0.022, val_loss 0.435\n",
            "epoch  14, acc 0.093, loss  0.321, val_acc 0.022, val_loss 0.440\n",
            "epoch  15, acc 0.100, loss  0.312, val_acc 0.022, val_loss 0.445\n",
            "epoch  16, acc 0.108, loss  0.302, val_acc 0.027, val_loss 0.452\n",
            "epoch  17, acc 0.102, loss  0.291, val_acc 0.022, val_loss 0.459\n",
            "epoch  18, acc 0.109, loss  0.280, val_acc 0.036, val_loss 0.466\n",
            "epoch  19, acc 0.123, loss  0.268, val_acc 0.036, val_loss 0.475\n",
            "epoch  20, acc 0.124, loss  0.257, val_acc 0.031, val_loss 0.484\n",
            "epoch  21, acc 0.138, loss  0.246, val_acc 0.036, val_loss 0.496\n",
            "epoch  22, acc 0.135, loss  0.235, val_acc 0.036, val_loss 0.508\n",
            "epoch  23, acc 0.141, loss  0.225, val_acc 0.040, val_loss 0.520\n",
            "epoch  24, acc 0.144, loss  0.214, val_acc 0.045, val_loss 0.529\n",
            "epoch  25, acc 0.147, loss  0.203, val_acc 0.036, val_loss 0.539\n",
            "epoch  26, acc 0.150, loss  0.193, val_acc 0.040, val_loss 0.550\n",
            "epoch  27, acc 0.151, loss  0.184, val_acc 0.036, val_loss 0.557\n",
            "epoch  28, acc 0.142, loss  0.177, val_acc 0.031, val_loss 0.569\n",
            "epoch  29, acc 0.153, loss  0.169, val_acc 0.036, val_loss 0.584\n",
            "epoch  30, acc 0.162, loss  0.163, val_acc 0.036, val_loss 0.590\n",
            "epoch  31, acc 0.174, loss  0.153, val_acc 0.018, val_loss 0.602\n",
            "epoch  32, acc 0.153, loss  0.150, val_acc 0.027, val_loss 0.610\n",
            "epoch  33, acc 0.153, loss  0.141, val_acc 0.013, val_loss 0.620\n",
            "epoch  34, acc 0.141, loss  0.133, val_acc 0.022, val_loss 0.633\n",
            "epoch  35, acc 0.142, loss  0.127, val_acc 0.018, val_loss 0.647\n",
            "epoch  36, acc 0.160, loss  0.121, val_acc 0.027, val_loss 0.654\n",
            "epoch  37, acc 0.157, loss  0.113, val_acc 0.009, val_loss 0.669\n",
            "epoch  38, acc 0.159, loss  0.108, val_acc 0.040, val_loss 0.682\n",
            "epoch  39, acc 0.153, loss  0.104, val_acc 0.009, val_loss 0.685\n",
            "epoch  40, acc 0.153, loss  0.099, val_acc 0.022, val_loss 0.702\n",
            "epoch  41, acc 0.148, loss  0.094, val_acc 0.031, val_loss 0.719\n",
            "epoch  42, acc 0.159, loss  0.089, val_acc 0.027, val_loss 0.724\n",
            "epoch  43, acc 0.153, loss  0.088, val_acc 0.018, val_loss 0.738\n",
            "epoch  44, acc 0.162, loss  0.084, val_acc 0.027, val_loss 0.749\n",
            "epoch  45, acc 0.160, loss  0.081, val_acc 0.027, val_loss 0.758\n",
            "epoch  46, acc 0.141, loss  0.070, val_acc 0.031, val_loss 0.763\n",
            "epoch  47, acc 0.144, loss  0.069, val_acc 0.009, val_loss 0.780\n",
            "epoch  48, acc 0.163, loss  0.065, val_acc 0.022, val_loss 0.804\n",
            "epoch  49, acc 0.177, loss  0.069, val_acc 0.013, val_loss 0.805\n",
            "epoch  50, acc 0.157, loss  0.059, val_acc 0.018, val_loss 0.820\n"
          ]
        }
      ],
      "source": [
        "# 매 에포크마다 훈련과 검증의 손실 및 정확도를 기록하기 위한 변수\n",
        "train_loss = []\n",
        "train_acc = []\n",
        "val_loss = []\n",
        "val_acc = []\n",
        "\n",
        "# 최대 100번 에포크까지 수행\n",
        "for epoch in range(51):\n",
        "    model.reset_states()  # 중요! 매 에포크마다 1회부터 다시 훈련하므로 상태 초기화 필요\n",
        "\n",
        "    batch_train_loss = []\n",
        "    batch_train_acc = []\n",
        "\n",
        "    for i in range(train[0], train[1]):\n",
        "\n",
        "        xss = xs[i].reshape(1, 1, 45)\n",
        "        yss = ys[i].reshape(1, 45)\n",
        "\n",
        "        loss, acc = model.train_on_batch(xss, yss) # 배치만큼 모델에 학습\n",
        "\n",
        "        batch_train_loss.append(loss)\n",
        "        batch_train_acc.append(acc)\n",
        "\n",
        "    train_loss.append(np.mean(batch_train_loss))\n",
        "    train_acc.append(np.mean(batch_train_acc))\n",
        "\n",
        "    batch_val_loss = []\n",
        "    batch_val_acc = []\n",
        "\n",
        "    for i in range(val[0], val[1]):\n",
        "\n",
        "        xss = xs[i].reshape(1, 1, 45)\n",
        "        yss = ys[i].reshape(1, 45)\n",
        "\n",
        "        loss, acc = model.test_on_batch(xss, yss) # 배치만큼 모델에 입력하여 나온 결과를 정답과 비교함\n",
        "\n",
        "        batch_val_loss.append(loss)\n",
        "        batch_val_acc.append(acc)\n",
        "\n",
        "    val_loss.append(np.mean(batch_val_loss))\n",
        "    val_acc.append(np.mean(batch_val_acc))\n",
        "\n",
        "    print('epoch{0:4d}, acc {1:0.3f}, loss {2: 0.3f}, val_acc {3:0.3f}, val_loss {4:0.3f}'.format(epoch,\n",
        "                                                                                                  np.mean(batch_train_acc),\n",
        "                                                                                                  np.mean(batch_train_loss),\n",
        "                                                                                                  np.mean(batch_val_acc),\n",
        "                                                                                                  np.mean(batch_val_loss)))"
      ]
    },
    {
      "cell_type": "code",
      "execution_count": 10,
      "metadata": {
        "id": "bshpyH52ggwS",
        "colab": {
          "base_uri": "https://localhost:8080/",
          "height": 449
        },
        "outputId": "51ca6cc2-ae9c-4d9c-d2f8-a609a1ce6ee1"
      },
      "outputs": [
        {
          "output_type": "display_data",
          "data": {
            "text/plain": [
              "<Figure size 640x480 with 2 Axes>"
            ],
            "image/png": "[encoded data removed]"
          },
          "metadata": {}
        }
      ],
      "source": [
        "%matplotlib inline\n",
        "import matplotlib.pyplot as plt\n",
        "\n",
        "fig, loss_ax = plt.subplots()\n",
        "\n",
        "acc_ax = loss_ax.twinx()\n",
        "\n",
        "loss_ax.plot(train_loss, 'y', label = 'train loss')\n",
        "loss_ax.plot(val_loss, 'r', label = 'val loss')\n",
        "\n",
        "acc_ax.plot(train_acc, 'b', label = 'train acc')\n",
        "acc_ax.plot(val_acc, 'g', label = 'val acc')\n",
        "\n",
        "loss_ax.set_xlabel('epoch')\n",
        "loss_ax.set_ylabel('epoch')\n",
        "acc_ax.set_ylabel('accracy')\n",
        "\n",
        "loss_ax.legend(loc = 'upper left')\n",
        "acc_ax.legend(loc = 'lower left')\n",
        "\n",
        "plt.show()\n",
        "# 이미 학습은 의미가 없다는 결론이 나옴"
      ]
    },
    {
      "cell_type": "code",
      "execution_count": 11,
      "metadata": {
        "colab": {
          "base_uri": "https://localhost:8080/"
        },
        "id": "mTiXpDcjx_As",
        "outputId": "40ed8b80-0836-49c5-ad1d-fee689d24fce"
      },
      "outputs": [
        {
          "output_type": "stream",
          "name": "stdout",
          "text": [
            "epoch   0, acc 0.122, loss  0.032\n",
            "epoch   1, acc 0.115, loss  0.020\n",
            "epoch   2, acc 0.107, loss  0.015\n",
            "epoch   3, acc 0.099, loss  0.011\n",
            "epoch   4, acc 0.093, loss  0.009\n",
            "epoch   5, acc 0.089, loss  0.008\n",
            "epoch   6, acc 0.087, loss  0.007\n",
            "epoch   7, acc 0.083, loss  0.006\n",
            "epoch   8, acc 0.080, loss  0.006\n",
            "epoch   9, acc 0.078, loss  0.005\n",
            "epoch  10, acc 0.075, loss  0.005\n",
            "epoch  11, acc 0.072, loss  0.004\n",
            "epoch  12, acc 0.070, loss  0.004\n",
            "epoch  13, acc 0.068, loss  0.004\n",
            "epoch  14, acc 0.067, loss  0.003\n",
            "epoch  15, acc 0.066, loss  0.003\n",
            "epoch  16, acc 0.065, loss  0.003\n",
            "epoch  17, acc 0.065, loss  0.003\n",
            "epoch  18, acc 0.064, loss  0.003\n",
            "epoch  19, acc 0.064, loss  0.003\n",
            "epoch  20, acc 0.064, loss  0.002\n",
            "epoch  21, acc 0.064, loss  0.002\n",
            "epoch  22, acc 0.063, loss  0.002\n",
            "epoch  23, acc 0.063, loss  0.002\n",
            "epoch  24, acc 0.063, loss  0.002\n",
            "epoch  25, acc 0.062, loss  0.002\n",
            "epoch  26, acc 0.062, loss  0.002\n",
            "epoch  27, acc 0.062, loss  0.002\n",
            "epoch  28, acc 0.061, loss  0.002\n",
            "epoch  29, acc 0.061, loss  0.002\n",
            "epoch  30, acc 0.061, loss  0.002\n",
            "epoch  31, acc 0.060, loss  0.002\n",
            "epoch  32, acc 0.060, loss  0.002\n",
            "epoch  33, acc 0.060, loss  0.002\n",
            "epoch  34, acc 0.060, loss  0.001\n",
            "epoch  35, acc 0.059, loss  0.001\n",
            "epoch  36, acc 0.059, loss  0.001\n",
            "epoch  37, acc 0.059, loss  0.001\n",
            "epoch  38, acc 0.059, loss  0.001\n",
            "epoch  39, acc 0.058, loss  0.001\n",
            "epoch  40, acc 0.058, loss  0.001\n",
            "epoch  41, acc 0.058, loss  0.001\n",
            "epoch  42, acc 0.058, loss  0.001\n",
            "epoch  43, acc 0.058, loss  0.001\n",
            "epoch  44, acc 0.058, loss  0.001\n"
          ]
        }
      ],
      "source": [
        "# 모든 데이터를 학습용으로 사용\n",
        "for epoch in range(45):\n",
        "\n",
        "    model.reset_states()  # 중요! 매 에포크마다 1회부터 다시 훈련하므로 상태 초기화 필요\n",
        "\n",
        "    for i in range(len(xs)):\n",
        "\n",
        "      xss = xs[i].reshape(1, 1, 45)\n",
        "      yss - ys[i].reshape(1, 45)\n",
        "\n",
        "      loss, acc = model.train_on_batch(xss, yss) # 배치만큼 모델에 학습\n",
        "\n",
        "      batch_train_loss.append(loss)\n",
        "      batch_train_acc.append(acc)\n",
        "\n",
        "    train_loss.append(np.mean(batch_train_loss))\n",
        "    train_acc.append(np.mean(batch_train_acc))\n",
        "\n",
        "    print('epoch{0:4d}, acc {1:0.3f}, loss {2: 0.3f}'.format(epoch,\n",
        "                                                            np.mean(batch_train_acc),\n",
        "                                                            np.mean(batch_train_loss)\n",
        "                                                            ))\n",
        "\n"
      ]
    },
    {
      "cell_type": "code",
      "execution_count": 12,
      "metadata": {
        "colab": {
          "base_uri": "https://localhost:8080/"
        },
        "id": "ekjo8MBdx--s",
        "outputId": "8198440f-a01a-4880-c6dd-42e4f1a83240"
      },
      "outputs": [
        {
          "output_type": "stream",
          "name": "stdout",
          "text": [
            "receive numbers\n"
          ]
        },
        {
          "output_type": "execute_result",
          "data": {
            "text/plain": [
              "[[15, 20, 23, 26, 39, 44]]"
            ]
          },
          "metadata": {},
          "execution_count": 12
        }
      ],
      "source": [
        "# 다음회 예측\n",
        "\n",
        "print('receive numbers')\n",
        "\n",
        "xss = xs[-1].reshape(1, 1, 45)\n",
        "\n",
        "pred = model.predict_on_batch(xss)\n",
        "pred\n",
        "\n",
        "luck = list(map(o2n, pred))\n",
        "luck\n",
        "\n",
        "# list_number = []\n",
        "\n",
        "# for n in range(6):\n",
        "#   numbers =pred\n",
        "  # numbers.sort()\n",
        "  # print('{0} : {1}'.format(n, numbers))\n",
        "  # list_numbers.append(numbers)"
      ]
    },
    {
      "cell_type": "code",
      "execution_count": 12,
      "metadata": {
        "id": "67xyP3Kf3WvN"
      },
      "outputs": [],
      "source": []
    }
  ],
  "metadata": {
    "accelerator": "GPU",
    "colab": {
      "gpuType": "T4",
      "provenance": [],
      "authorship_tag": "ABX9TyPG3pYp+3LV1Igul0hw7UPt",
      "include_colab_link": true
    },
    "kernelspec": {
      "display_name": "Python 3",
      "name": "python3"
    },
    "language_info": {
      "name": "python"
    }
  },
  "nbformat": 4,
  "nbformat_minor": 0
}