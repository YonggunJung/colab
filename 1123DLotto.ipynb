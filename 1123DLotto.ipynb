{
  "cells": [
    {
      "cell_type": "markdown",
      "metadata": {
        "id": "view-in-github",
        "colab_type": "text"
      },
      "source": [
        "<a href=\"https://colab.research.google.com/github/YonggunJung/colab/blob/main/1123DLotto.ipynb\" target=\"_parent\"><img src=\"https://colab.research.google.com/assets/colab-badge.svg\" alt=\"Open In Colab\"/></a>"
      ]
    },
    {
      "cell_type": "code",
      "execution_count": 1,
      "metadata": {
        "colab": {
          "base_uri": "https://localhost:8080/"
        },
        "id": "EV0N-8-1wfGo",
        "outputId": "7e7eea2a-be07-493e-dfde-f98e66a29961"
      },
      "outputs": [
        {
          "output_type": "stream",
          "name": "stdout",
          "text": [
            "Mounted at /content/drive\n"
          ]
        }
      ],
      "source": [
        "from google.colab import drive\n",
        "drive.mount('/content/drive')"
      ]
    },
    {
      "cell_type": "code",
      "execution_count": 2,
      "metadata": {
        "id": "6OK4eW92wov0"
      },
      "outputs": [],
      "source": [
        "import pandas as pd\n",
        "import numpy as np\n",
        "import warnings\n",
        "warnings.filterwarnings('ignore')"
      ]
    },
    {
      "cell_type": "code",
      "execution_count": 3,
      "metadata": {
        "colab": {
          "base_uri": "https://localhost:8080/"
        },
        "id": "227wJo0xYVaV",
        "outputId": "9b7e764b-5da4-4679-d53f-62aaa440099a"
      },
      "outputs": [
        {
          "output_type": "execute_result",
          "data": {
            "text/plain": [
              "array([[ 4.,  7., 17., 18., 38., 44.],\n",
              "       [ 8., 12., 13., 29., 33., 42.],\n",
              "       [ 3.,  7., 14., 15., 22., 38.],\n",
              "       ...,\n",
              "       [ 2., 19., 26., 31., 38., 41.],\n",
              "       [ 6., 24., 31., 32., 38., 44.],\n",
              "       [ 3.,  6., 21., 30., 34., 35.]])"
            ]
          },
          "metadata": {},
          "execution_count": 3
        }
      ],
      "source": [
        "win = np.loadtxt('/content/drive/MyDrive/Colab Notebooks/로또/data/jlotto.csv', delimiter = ',')\n",
        "win"
      ]
    },
    {
      "cell_type": "code",
      "execution_count": 4,
      "metadata": {
        "id": "GS0NAmQGw74-"
      },
      "outputs": [],
      "source": [
        "xn = len(win)"
      ]
    },
    {
      "cell_type": "code",
      "execution_count": 5,
      "metadata": {
        "id": "gG4RnEQzhKPx"
      },
      "outputs": [],
      "source": [
        "# 숫자를 원핫 인코딩으로 변환\n",
        "def n2o(numbers):\n",
        "\n",
        "  oh = np.zeros(45)  # 45개의 빈 칸 만들기\n",
        "\n",
        "  for i in range(6):            # 6개의 당첨번호를 반복\n",
        "      oh[int(numbers[i])-1] = 1   # 번호는 1부터 시작하고 인덱스는 0부터 시작하니 1을 빼줌\n",
        "\n",
        "  return oh\n",
        "\n",
        "# 원핫 인코딩을 숫자로 변환\n",
        "def o2n(oh):\n",
        "\n",
        "  numbers = []\n",
        "\n",
        "  for i in range(len(oh)):\n",
        "    if oh[i] == 1:           # oh[i]이 1 이면 해당 번호를 출력\n",
        "      numbers.append(i+1)    # 인덱스 보다 숫자가 1크니까 1더해줌 출력\n",
        "\n",
        "  return numbers"
      ]
    },
    {
      "cell_type": "code",
      "execution_count": 6,
      "metadata": {
        "colab": {
          "base_uri": "https://localhost:8080/"
        },
        "id": "XCSHMDUUvRZf",
        "outputId": "4818c33b-48f8-4333-fd5e-924826e5b44d"
      },
      "outputs": [
        {
          "output_type": "stream",
          "name": "stdout",
          "text": [
            "ohs\n",
            "x[0] :[0. 0. 0. 1. 0. 0. 1. 0. 0. 0. 0. 0. 0. 0. 0. 0. 1. 1. 0. 0. 0. 0. 0. 0.\n",
            " 0. 0. 0. 0. 0. 0. 0. 0. 0. 0. 0. 0. 0. 1. 0. 0. 0. 0. 0. 1. 0.]\n",
            "y[0] :[0. 0. 0. 0. 0. 0. 0. 1. 0. 0. 0. 1. 1. 0. 0. 0. 0. 0. 0. 0. 0. 0. 0. 0.\n",
            " 0. 0. 0. 0. 1. 0. 0. 0. 1. 0. 0. 0. 0. 0. 0. 0. 0. 1. 0. 0. 0.]\n",
            "numbers\n",
            "x[0] :[4, 7, 17, 18, 38, 44]\n",
            "y[0] :[8, 12, 13, 29, 33, 42]\n"
          ]
        }
      ],
      "source": [
        "numbers = win[: , :]  # 이게 문제라서 못 하겠음ㅠ 데이터 프레임이 문제인가?\n",
        "                      # 데이터 프레임으로 안열고 넘파이 텍스트 파일로 가져오니 됨\n",
        "ohs = list(map(n2o, numbers))\n",
        "\n",
        "xs = ohs[0:xn -1]\n",
        "ys = ohs[1:xn]\n",
        "\n",
        "# 원핫 인코딩 확인\n",
        "print('ohs')\n",
        "print('x[0] :' + str(xs[0]))\n",
        "print('y[0] :' + str(ys[0]))\n",
        "\n",
        "# 번호 확인\n",
        "print('numbers')\n",
        "print('x[0] :' + str(o2n(xs[0])))\n",
        "print('y[0] :' + str(o2n(ys[0])))"
      ]
    },
    {
      "cell_type": "code",
      "execution_count": 7,
      "metadata": {
        "colab": {
          "base_uri": "https://localhost:8080/"
        },
        "id": "8WuoR8jggg2_",
        "outputId": "0745b9b6-dd25-4522-b8c3-62f251eab6c2"
      },
      "outputs": [
        {
          "output_type": "stream",
          "name": "stdout",
          "text": [
            "train : (0, 673), val : (673, 897), test : (897, 1122)\n"
          ]
        }
      ],
      "source": [
        "train = (0, int(len(win)*0.6))\n",
        "val = (int(len(win)*0.6), int(len(win)*0.8))\n",
        "test = (int(len(win)*0.8), len(win))\n",
        "\n",
        "print('train : {0}, val : {1}, test : {2}'.format(train, val, test))"
      ]
    },
    {
      "cell_type": "code",
      "execution_count": 8,
      "metadata": {
        "id": "VNx80jYjgg0y"
      },
      "outputs": [],
      "source": [
        "import tensorflow as tf\n",
        "from tensorflow import keras\n",
        "from tensorflow.keras import layers\n",
        "from tensorflow.keras import models\n",
        "\n",
        "# 모델 정의\n",
        "model = keras.Sequential([\n",
        "    keras.layers.LSTM(128, batch_input_shape = (1, 1, 45),\n",
        "                      return_sequences = False,\n",
        "                      stateful = True),\n",
        "    keras.layers.Dense(45, activation = 'sigmoid')\n",
        "])\n",
        "\n",
        "# 모델 컴파일\n",
        "model.compile(loss = 'binary_crossentropy', optimizer = 'adam', metrics = ['accuracy'])"
      ]
    },
    {
      "cell_type": "code",
      "execution_count": 9,
      "metadata": {
        "colab": {
          "base_uri": "https://localhost:8080/"
        },
        "id": "psqZd4_Nggyf",
        "outputId": "c7c9558f-dcd4-471b-e1fd-d3cf35add7e7"
      },
      "outputs": [
        {
          "output_type": "stream",
          "name": "stdout",
          "text": [
            "epoch   0, acc 0.019, loss  0.409, val_acc 0.000, val_loss 0.401\n",
            "epoch   1, acc 0.018, loss  0.396, val_acc 0.000, val_loss 0.399\n",
            "epoch   2, acc 0.016, loss  0.394, val_acc 0.000, val_loss 0.399\n",
            "epoch   3, acc 0.018, loss  0.391, val_acc 0.004, val_loss 0.399\n",
            "epoch   4, acc 0.031, loss  0.387, val_acc 0.013, val_loss 0.402\n",
            "epoch   5, acc 0.034, loss  0.381, val_acc 0.013, val_loss 0.406\n",
            "epoch   6, acc 0.052, loss  0.374, val_acc 0.018, val_loss 0.412\n",
            "epoch   7, acc 0.058, loss  0.366, val_acc 0.027, val_loss 0.417\n",
            "epoch   8, acc 0.059, loss  0.359, val_acc 0.022, val_loss 0.422\n",
            "epoch   9, acc 0.068, loss  0.352, val_acc 0.022, val_loss 0.426\n",
            "epoch  10, acc 0.077, loss  0.344, val_acc 0.022, val_loss 0.431\n",
            "epoch  11, acc 0.089, loss  0.336, val_acc 0.022, val_loss 0.436\n",
            "epoch  12, acc 0.103, loss  0.327, val_acc 0.027, val_loss 0.443\n",
            "epoch  13, acc 0.108, loss  0.318, val_acc 0.022, val_loss 0.450\n",
            "epoch  14, acc 0.119, loss  0.308, val_acc 0.018, val_loss 0.457\n",
            "epoch  15, acc 0.126, loss  0.298, val_acc 0.022, val_loss 0.464\n",
            "epoch  16, acc 0.131, loss  0.286, val_acc 0.022, val_loss 0.472\n",
            "epoch  17, acc 0.137, loss  0.275, val_acc 0.027, val_loss 0.480\n",
            "epoch  18, acc 0.134, loss  0.264, val_acc 0.018, val_loss 0.488\n",
            "epoch  19, acc 0.144, loss  0.252, val_acc 0.022, val_loss 0.497\n",
            "epoch  20, acc 0.143, loss  0.240, val_acc 0.027, val_loss 0.506\n",
            "epoch  21, acc 0.149, loss  0.228, val_acc 0.022, val_loss 0.516\n",
            "epoch  22, acc 0.155, loss  0.216, val_acc 0.031, val_loss 0.527\n",
            "epoch  23, acc 0.158, loss  0.205, val_acc 0.031, val_loss 0.537\n",
            "epoch  24, acc 0.153, loss  0.194, val_acc 0.036, val_loss 0.547\n",
            "epoch  25, acc 0.156, loss  0.183, val_acc 0.031, val_loss 0.559\n",
            "epoch  26, acc 0.158, loss  0.175, val_acc 0.040, val_loss 0.571\n",
            "epoch  27, acc 0.147, loss  0.166, val_acc 0.040, val_loss 0.582\n",
            "epoch  28, acc 0.155, loss  0.157, val_acc 0.040, val_loss 0.596\n",
            "epoch  29, acc 0.163, loss  0.146, val_acc 0.045, val_loss 0.608\n",
            "epoch  30, acc 0.150, loss  0.140, val_acc 0.045, val_loss 0.624\n",
            "epoch  31, acc 0.141, loss  0.136, val_acc 0.045, val_loss 0.630\n",
            "epoch  32, acc 0.153, loss  0.122, val_acc 0.018, val_loss 0.654\n",
            "epoch  33, acc 0.158, loss  0.122, val_acc 0.031, val_loss 0.661\n",
            "epoch  34, acc 0.160, loss  0.120, val_acc 0.040, val_loss 0.665\n",
            "epoch  35, acc 0.144, loss  0.110, val_acc 0.018, val_loss 0.684\n",
            "epoch  36, acc 0.163, loss  0.104, val_acc 0.027, val_loss 0.691\n",
            "epoch  37, acc 0.193, loss  0.096, val_acc 0.027, val_loss 0.702\n",
            "epoch  38, acc 0.169, loss  0.096, val_acc 0.022, val_loss 0.717\n",
            "epoch  39, acc 0.163, loss  0.086, val_acc 0.045, val_loss 0.721\n",
            "epoch  40, acc 0.190, loss  0.086, val_acc 0.022, val_loss 0.727\n",
            "epoch  41, acc 0.175, loss  0.078, val_acc 0.031, val_loss 0.756\n",
            "epoch  42, acc 0.155, loss  0.078, val_acc 0.018, val_loss 0.753\n",
            "epoch  43, acc 0.156, loss  0.072, val_acc 0.027, val_loss 0.769\n",
            "epoch  44, acc 0.140, loss  0.065, val_acc 0.031, val_loss 0.778\n",
            "epoch  45, acc 0.156, loss  0.068, val_acc 0.036, val_loss 0.781\n",
            "epoch  46, acc 0.160, loss  0.064, val_acc 0.031, val_loss 0.796\n",
            "epoch  47, acc 0.162, loss  0.063, val_acc 0.022, val_loss 0.802\n",
            "epoch  48, acc 0.155, loss  0.058, val_acc 0.027, val_loss 0.808\n",
            "epoch  49, acc 0.138, loss  0.052, val_acc 0.031, val_loss 0.816\n",
            "epoch  50, acc 0.184, loss  0.048, val_acc 0.018, val_loss 0.840\n",
            "epoch  51, acc 0.172, loss  0.043, val_acc 0.018, val_loss 0.851\n",
            "epoch  52, acc 0.146, loss  0.043, val_acc 0.022, val_loss 0.870\n",
            "epoch  53, acc 0.160, loss  0.046, val_acc 0.022, val_loss 0.872\n",
            "epoch  54, acc 0.125, loss  0.045, val_acc 0.036, val_loss 0.886\n",
            "epoch  55, acc 0.144, loss  0.042, val_acc 0.022, val_loss 0.890\n",
            "epoch  56, acc 0.150, loss  0.036, val_acc 0.013, val_loss 0.902\n",
            "epoch  57, acc 0.132, loss  0.035, val_acc 0.031, val_loss 0.917\n",
            "epoch  58, acc 0.159, loss  0.028, val_acc 0.022, val_loss 0.923\n",
            "epoch  59, acc 0.159, loss  0.029, val_acc 0.022, val_loss 0.952\n"
          ]
        }
      ],
      "source": [
        "# 매 에포크마다 훈련과 검증의 손실 및 정확도를 기록하기 위한 변수\n",
        "train_loss = []\n",
        "train_acc = []\n",
        "val_loss = []\n",
        "val_acc = []\n",
        "\n",
        "# 최대 100번 에포크까지 수행\n",
        "for epoch in range(60):\n",
        "    model.reset_states()  # 중요! 매 에포크마다 1회부터 다시 훈련하므로 상태 초기화 필요\n",
        "\n",
        "    batch_train_loss = []\n",
        "    batch_train_acc = []\n",
        "\n",
        "    for i in range(train[0], train[1]):\n",
        "\n",
        "        xss = xs[i].reshape(1, 1, 45)\n",
        "        yss = ys[i].reshape(1, 45)\n",
        "\n",
        "        loss, acc = model.train_on_batch(xss, yss) # 배치만큼 모델에 학습\n",
        "\n",
        "        batch_train_loss.append(loss)\n",
        "        batch_train_acc.append(acc)\n",
        "\n",
        "    train_loss.append(np.mean(batch_train_loss))\n",
        "    train_acc.append(np.mean(batch_train_acc))\n",
        "\n",
        "    batch_val_loss = []\n",
        "    batch_val_acc = []\n",
        "\n",
        "    for i in range(val[0], val[1]):\n",
        "\n",
        "        xss = xs[i].reshape(1, 1, 45)\n",
        "        yss = ys[i].reshape(1, 45)\n",
        "\n",
        "        loss, acc = model.test_on_batch(xss, yss) # 배치만큼 모델에 입력하여 나온 결과를 정답과 비교함\n",
        "\n",
        "        batch_val_loss.append(loss)\n",
        "        batch_val_acc.append(acc)\n",
        "\n",
        "    val_loss.append(np.mean(batch_val_loss))\n",
        "    val_acc.append(np.mean(batch_val_acc))\n",
        "\n",
        "    print('epoch{0:4d}, acc {1:0.3f}, loss {2: 0.3f}, val_acc {3:0.3f}, val_loss {4:0.3f}'.format(epoch,\n",
        "                                                                                                  np.mean(batch_train_acc),\n",
        "                                                                                                  np.mean(batch_train_loss),\n",
        "                                                                                                  np.mean(batch_val_acc),\n",
        "                                                                                                  np.mean(batch_val_loss)))"
      ]
    },
    {
      "cell_type": "code",
      "execution_count": 10,
      "metadata": {
        "id": "bshpyH52ggwS",
        "colab": {
          "base_uri": "https://localhost:8080/",
          "height": 450
        },
        "outputId": "1a6c34f4-733e-4a9d-e032-77ceb6f84446"
      },
      "outputs": [
        {
          "output_type": "display_data",
          "data": {
            "text/plain": [
              "<Figure size 640x480 with 2 Axes>"
            ],
            "image/png": "[encoded data removed]"
          },
          "metadata": {}
        }
      ],
      "source": [
        "%matplotlib inline\n",
        "import matplotlib.pyplot as plt\n",
        "\n",
        "fig, loss_ax = plt.subplots()\n",
        "\n",
        "acc_ax = loss_ax.twinx()\n",
        "\n",
        "loss_ax.plot(train_loss, 'y', label = 'train loss')\n",
        "loss_ax.plot(val_loss, 'r', label = 'val loss')\n",
        "\n",
        "acc_ax.plot(train_acc, 'b', label = 'train acc')\n",
        "acc_ax.plot(val_acc, 'g', label = 'val acc')\n",
        "\n",
        "loss_ax.set_xlabel('epoch')\n",
        "loss_ax.set_ylabel('epoch')\n",
        "acc_ax.set_ylabel('accracy')\n",
        "\n",
        "loss_ax.legend(loc = 'upper left')\n",
        "acc_ax.legend(loc = 'lower left')\n",
        "\n",
        "plt.show()\n",
        "# 이미 학습은 의미가 없다는 결론이 나옴"
      ]
    },
    {
      "cell_type": "code",
      "execution_count": 11,
      "metadata": {
        "colab": {
          "base_uri": "https://localhost:8080/"
        },
        "id": "mTiXpDcjx_As",
        "outputId": "a33850c2-4b66-40da-e1ec-b6897dafc80c"
      },
      "outputs": [
        {
          "output_type": "stream",
          "name": "stdout",
          "text": [
            "epoch   0, acc 0.139, loss  0.022\n",
            "epoch   1, acc 0.143, loss  0.014\n",
            "epoch   2, acc 0.139, loss  0.010\n",
            "epoch   3, acc 0.134, loss  0.008\n",
            "epoch   4, acc 0.127, loss  0.006\n",
            "epoch   5, acc 0.121, loss  0.005\n",
            "epoch   6, acc 0.115, loss  0.005\n",
            "epoch   7, acc 0.108, loss  0.004\n",
            "epoch   8, acc 0.102, loss  0.004\n",
            "epoch   9, acc 0.097, loss  0.003\n",
            "epoch  10, acc 0.093, loss  0.003\n",
            "epoch  11, acc 0.089, loss  0.003\n",
            "epoch  12, acc 0.085, loss  0.003\n",
            "epoch  13, acc 0.082, loss  0.002\n",
            "epoch  14, acc 0.080, loss  0.002\n",
            "epoch  15, acc 0.078, loss  0.002\n",
            "epoch  16, acc 0.076, loss  0.002\n",
            "epoch  17, acc 0.075, loss  0.002\n",
            "epoch  18, acc 0.073, loss  0.002\n",
            "epoch  19, acc 0.072, loss  0.002\n",
            "epoch  20, acc 0.071, loss  0.002\n",
            "epoch  21, acc 0.069, loss  0.002\n",
            "epoch  22, acc 0.068, loss  0.002\n",
            "epoch  23, acc 0.066, loss  0.001\n",
            "epoch  24, acc 0.065, loss  0.001\n",
            "epoch  25, acc 0.064, loss  0.001\n",
            "epoch  26, acc 0.062, loss  0.001\n",
            "epoch  27, acc 0.061, loss  0.001\n",
            "epoch  28, acc 0.060, loss  0.001\n",
            "epoch  29, acc 0.059, loss  0.001\n",
            "epoch  30, acc 0.058, loss  0.001\n",
            "epoch  31, acc 0.057, loss  0.001\n",
            "epoch  32, acc 0.056, loss  0.001\n",
            "epoch  33, acc 0.055, loss  0.001\n",
            "epoch  34, acc 0.054, loss  0.001\n",
            "epoch  35, acc 0.054, loss  0.001\n",
            "epoch  36, acc 0.053, loss  0.001\n",
            "epoch  37, acc 0.052, loss  0.001\n",
            "epoch  38, acc 0.051, loss  0.001\n",
            "epoch  39, acc 0.051, loss  0.001\n",
            "epoch  40, acc 0.050, loss  0.001\n",
            "epoch  41, acc 0.049, loss  0.001\n",
            "epoch  42, acc 0.049, loss  0.001\n",
            "epoch  43, acc 0.048, loss  0.001\n",
            "epoch  44, acc 0.048, loss  0.001\n"
          ]
        }
      ],
      "source": [
        "# 모든 데이터를 학습용으로 사용\n",
        "for epoch in range(45):\n",
        "\n",
        "    model.reset_states()  # 중요! 매 에포크마다 1회부터 다시 훈련하므로 상태 초기화 필요\n",
        "\n",
        "    for i in range(len(xs)):\n",
        "\n",
        "      xss = xs[i].reshape(1, 1, 45)\n",
        "      yss - ys[i].reshape(1, 45)\n",
        "\n",
        "      loss, acc = model.train_on_batch(xss, yss) # 배치만큼 모델에 학습\n",
        "\n",
        "      batch_train_loss.append(loss)\n",
        "      batch_train_acc.append(acc)\n",
        "\n",
        "    train_loss.append(np.mean(batch_train_loss))\n",
        "    train_acc.append(np.mean(batch_train_acc))\n",
        "\n",
        "    print('epoch{0:4d}, acc {1:0.3f}, loss {2: 0.3f}'.format(epoch,\n",
        "                                                            np.mean(batch_train_acc),\n",
        "                                                            np.mean(batch_train_loss)\n",
        "                                                            ))\n",
        "\n"
      ]
    },
    {
      "cell_type": "code",
      "execution_count": 12,
      "metadata": {
        "colab": {
          "base_uri": "https://localhost:8080/"
        },
        "id": "ekjo8MBdx--s",
        "outputId": "6cc9cec7-9a6f-4a84-9092-000e7cdc3796"
      },
      "outputs": [
        {
          "output_type": "stream",
          "name": "stdout",
          "text": [
            "receive numbers\n"
          ]
        },
        {
          "output_type": "execute_result",
          "data": {
            "text/plain": [
              "[[19, 24, 27, 30, 31, 34]]"
            ]
          },
          "metadata": {},
          "execution_count": 12
        }
      ],
      "source": [
        "# 다음회 예측\n",
        "\n",
        "print('receive numbers')\n",
        "\n",
        "xss = xs[-1].reshape(1, 1, 45)\n",
        "\n",
        "pred = model.predict_on_batch(xss)\n",
        "pred\n",
        "\n",
        "luck = list(map(o2n, pred))\n",
        "luck\n",
        "\n",
        "# list_number = []\n",
        "\n",
        "# for n in range(6):\n",
        "#   numbers =pred\n",
        "  # numbers.sort()\n",
        "  # print('{0} : {1}'.format(n, numbers))\n",
        "  # list_numbers.append(numbers)"
      ]
    },
    {
      "cell_type": "code",
      "execution_count": 12,
      "metadata": {
        "id": "67xyP3Kf3WvN"
      },
      "outputs": [],
      "source": []
    }
  ],
  "metadata": {
    "accelerator": "GPU",
    "colab": {
      "gpuType": "T4",
      "provenance": [],
      "authorship_tag": "ABX9TyNl61053zvek3GWs9HQK2ix",
      "include_colab_link": true
    },
    "kernelspec": {
      "display_name": "Python 3",
      "name": "python3"
    },
    "language_info": {
      "name": "python"
    }
  },
  "nbformat": 4,
  "nbformat_minor": 0
}