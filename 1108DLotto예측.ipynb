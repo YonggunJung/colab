{
  "nbformat": 4,
  "nbformat_minor": 0,
  "metadata": {
    "colab": {
      "provenance": [],
      "gpuType": "T4",
      "authorship_tag": "ABX9TyO2HDSf7B4UHto2hmDPiNrU",
      "include_colab_link": true
    },
    "kernelspec": {
      "name": "python3",
      "display_name": "Python 3"
    },
    "language_info": {
      "name": "python"
    },
    "accelerator": "GPU"
  },
  "cells": [
    {
      "cell_type": "markdown",
      "metadata": {
        "id": "view-in-github",
        "colab_type": "text"
      },
      "source": [
        "<a href=\"https://colab.research.google.com/github/YonggunJung/colab/blob/main/1108DLotto%EC%98%88%EC%B8%A1.ipynb\" target=\"_parent\"><img src=\"https://colab.research.google.com/assets/colab-badge.svg\" alt=\"Open In Colab\"/></a>"
      ]
    },
    {
      "cell_type": "code",
      "execution_count": 1,
      "metadata": {
        "colab": {
          "base_uri": "https://localhost:8080/"
        },
        "id": "EV0N-8-1wfGo",
        "outputId": "4f2aa5a4-7ca9-4bec-ec5e-864b1c0fa4fb"
      },
      "outputs": [
        {
          "output_type": "stream",
          "name": "stdout",
          "text": [
            "Mounted at /content/drive\n"
          ]
        }
      ],
      "source": [
        "from google.colab import drive\n",
        "drive.mount('/content/drive')"
      ]
    },
    {
      "cell_type": "code",
      "source": [
        "import pandas as pd\n",
        "import numpy as np\n",
        "import warnings\n",
        "warnings.filterwarnings('ignore')"
      ],
      "metadata": {
        "id": "6OK4eW92wov0"
      },
      "execution_count": 2,
      "outputs": []
    },
    {
      "cell_type": "code",
      "source": [
        "win = np.loadtxt('/content/drive/MyDrive/Colab Notebooks/로또/data/jlotto.csv', delimiter = ',')\n",
        "win"
      ],
      "metadata": {
        "colab": {
          "base_uri": "https://localhost:8080/"
        },
        "id": "227wJo0xYVaV",
        "outputId": "1eb90d05-5e90-4fdc-9593-43c524c849a1"
      },
      "execution_count": 3,
      "outputs": [
        {
          "output_type": "execute_result",
          "data": {
            "text/plain": [
              "array([[ 4.,  7., 17., 18., 38., 44.],\n",
              "       [ 8., 12., 13., 29., 33., 42.],\n",
              "       [ 3.,  7., 14., 15., 22., 38.],\n",
              "       ...,\n",
              "       [ 6., 16., 34., 37., 39., 40.],\n",
              "       [ 1.,  3.,  4., 29., 42., 45.],\n",
              "       [ 6., 14., 30., 31., 40., 41.]])"
            ]
          },
          "metadata": {},
          "execution_count": 3
        }
      ]
    },
    {
      "cell_type": "code",
      "source": [
        "xn = len(win)"
      ],
      "metadata": {
        "id": "GS0NAmQGw74-"
      },
      "execution_count": 4,
      "outputs": []
    },
    {
      "cell_type": "code",
      "source": [
        "# 숫자를 원핫 인코딩으로 변환\n",
        "def n2o(numbers):\n",
        "\n",
        "  oh = np.zeros(45)  # 45개의 빈 칸 만들기\n",
        "\n",
        "  for i in range(6):            # 6개의 당첨번호를 반복\n",
        "      oh[int(numbers[i])-1] = 1   # 번호는 1부터 시작하고 인덱스는 0부터 시작하니 1을 빼줌\n",
        "\n",
        "  return oh\n",
        "\n",
        "# 원핫 인코딩을 숫자로 변환\n",
        "def o2n(oh):\n",
        "\n",
        "  numbers = []\n",
        "\n",
        "  for i in range(len(oh)):\n",
        "    if oh[i] == 1:           # oh[i]이 1 이면 해당 번호를 출력\n",
        "      numbers.append(i+1)    # 인덱스 보다 숫자가 1크니까 1더해줌 출력\n",
        "\n",
        "  return numbers"
      ],
      "metadata": {
        "id": "gG4RnEQzhKPx"
      },
      "execution_count": 5,
      "outputs": []
    },
    {
      "cell_type": "code",
      "source": [
        "numbers = win[: , :]  # 이게 문제라서 못 하겠음ㅠ 데이터 프레임이 문제인가?\n",
        "                      # 데이터 프레임으로 안열고 넘파이 텍스트 파일로 가져오니 됨\n",
        "ohs = list(map(n2o, numbers))\n",
        "\n",
        "xs = ohs[0:xn -1]\n",
        "ys = ohs[1:xn]\n",
        "\n",
        "# 원핫 인코딩 확인\n",
        "print('ohs')\n",
        "print('x[0] :' + str(xs[0]))\n",
        "print('y[0] :' + str(ys[0]))\n",
        "\n",
        "# 번호 확인\n",
        "print('numbers')\n",
        "print('x[0] :' + str(o2n(xs[0])))\n",
        "print('y[0] :' + str(o2n(ys[0])))"
      ],
      "metadata": {
        "colab": {
          "base_uri": "https://localhost:8080/"
        },
        "id": "XCSHMDUUvRZf",
        "outputId": "1d91a63f-7c5b-447d-9e5a-da03ee4fea94"
      },
      "execution_count": 6,
      "outputs": [
        {
          "output_type": "stream",
          "name": "stdout",
          "text": [
            "ohs\n",
            "x[0] :[0. 0. 0. 1. 0. 0. 1. 0. 0. 0. 0. 0. 0. 0. 0. 0. 1. 1. 0. 0. 0. 0. 0. 0.\n",
            " 0. 0. 0. 0. 0. 0. 0. 0. 0. 0. 0. 0. 0. 1. 0. 0. 0. 0. 0. 1. 0.]\n",
            "y[0] :[0. 0. 0. 0. 0. 0. 0. 1. 0. 0. 0. 1. 1. 0. 0. 0. 0. 0. 0. 0. 0. 0. 0. 0.\n",
            " 0. 0. 0. 0. 1. 0. 0. 0. 1. 0. 0. 0. 0. 0. 0. 0. 0. 1. 0. 0. 0.]\n",
            "numbers\n",
            "x[0] :[4, 7, 17, 18, 38, 44]\n",
            "y[0] :[8, 12, 13, 29, 33, 42]\n"
          ]
        }
      ]
    },
    {
      "cell_type": "code",
      "source": [
        "train = (0, int(len(win)*0.6))\n",
        "val = (int(len(win)*0.6), int(len(win)*0.8))\n",
        "test = (int(len(win)*0.8), len(win))\n",
        "\n",
        "print('train : {0}, val : {1}, test : {2}'.format(train, val, test))"
      ],
      "metadata": {
        "colab": {
          "base_uri": "https://localhost:8080/"
        },
        "id": "8WuoR8jggg2_",
        "outputId": "5de42265-1c88-4a06-d277-eac4803f2496"
      },
      "execution_count": 7,
      "outputs": [
        {
          "output_type": "stream",
          "name": "stdout",
          "text": [
            "train : (0, 664), val : (664, 885), test : (885, 1107)\n"
          ]
        }
      ]
    },
    {
      "cell_type": "code",
      "source": [
        "import tensorflow as tf\n",
        "from tensorflow import keras\n",
        "from tensorflow.keras import layers\n",
        "from tensorflow.keras import models\n",
        "\n",
        "# 모델 정의\n",
        "model = keras.Sequential([\n",
        "    keras.layers.LSTM(128, batch_input_shape = (1, 1, 45),\n",
        "                      return_sequences = False,\n",
        "                      stateful = True),\n",
        "    keras.layers.Dense(45, activation = 'sigmoid')\n",
        "])\n",
        "\n",
        "# 모델 컴파일\n",
        "model.compile(loss = 'binary_crossentropy', optimizer = 'adam', metrics = ['accuracy'])"
      ],
      "metadata": {
        "id": "VNx80jYjgg0y"
      },
      "execution_count": 8,
      "outputs": []
    },
    {
      "cell_type": "code",
      "source": [
        "# 매 에포크마다 훈련과 검증의 손실 및 정확도를 기록하기 위한 변수\n",
        "train_loss = []\n",
        "train_acc = []\n",
        "val_loss = []\n",
        "val_acc = []\n",
        "\n",
        "# 최대 100번 에포크까지 수행\n",
        "for epoch in range(51):\n",
        "    model.reset_states()  # 중요! 매 에포크마다 1회부터 다시 훈련하므로 상태 초기화 필요\n",
        "\n",
        "    batch_train_loss = []\n",
        "    batch_train_acc = []\n",
        "\n",
        "    for i in range(train[0], train[1]):\n",
        "\n",
        "        xss = xs[i].reshape(1, 1, 45)\n",
        "        yss = ys[i].reshape(1, 45)\n",
        "\n",
        "        loss, acc = model.train_on_batch(xss, yss) # 배치만큼 모델에 학습\n",
        "\n",
        "        batch_train_loss.append(loss)\n",
        "        batch_train_acc.append(acc)\n",
        "\n",
        "    train_loss.append(np.mean(batch_train_loss))\n",
        "    train_acc.append(np.mean(batch_train_acc))\n",
        "\n",
        "    batch_val_loss = []\n",
        "    batch_val_acc = []\n",
        "\n",
        "    for i in range(val[0], val[1]):\n",
        "\n",
        "        xss = xs[i].reshape(1, 1, 45)\n",
        "        yss = ys[i].reshape(1, 45)\n",
        "\n",
        "        loss, acc = model.test_on_batch(xss, yss) # 배치만큼 모델에 입력하여 나온 결과를 정답과 비교함\n",
        "\n",
        "        batch_val_loss.append(loss)\n",
        "        batch_val_acc.append(acc)\n",
        "\n",
        "    val_loss.append(np.mean(batch_val_loss))\n",
        "    val_acc.append(np.mean(batch_val_acc))\n",
        "\n",
        "    print('epoch{0:4d}, acc {1:0.3f}, loss {2: 0.3f}, val_acc {3:0.3f}, val_loss {4:0.3f}'.format(epoch,\n",
        "                                                                                                  np.mean(batch_train_acc),\n",
        "                                                                                                  np.mean(batch_train_loss),\n",
        "                                                                                                  np.mean(batch_val_acc),\n",
        "                                                                                                  np.mean(batch_val_loss)))"
      ],
      "metadata": {
        "colab": {
          "base_uri": "https://localhost:8080/"
        },
        "id": "psqZd4_Nggyf",
        "outputId": "61356456-4d1f-407e-bca7-303ec9a2ae07"
      },
      "execution_count": 9,
      "outputs": [
        {
          "output_type": "stream",
          "name": "stdout",
          "text": [
            "epoch   0, acc 0.014, loss  0.410, val_acc 0.000, val_loss 0.400\n",
            "epoch   1, acc 0.017, loss  0.396, val_acc 0.000, val_loss 0.399\n",
            "epoch   2, acc 0.020, loss  0.394, val_acc 0.005, val_loss 0.400\n",
            "epoch   3, acc 0.029, loss  0.391, val_acc 0.009, val_loss 0.400\n",
            "epoch   4, acc 0.036, loss  0.387, val_acc 0.014, val_loss 0.401\n",
            "epoch   5, acc 0.048, loss  0.382, val_acc 0.023, val_loss 0.405\n",
            "epoch   6, acc 0.048, loss  0.376, val_acc 0.027, val_loss 0.410\n",
            "epoch   7, acc 0.063, loss  0.370, val_acc 0.032, val_loss 0.414\n",
            "epoch   8, acc 0.063, loss  0.364, val_acc 0.032, val_loss 0.418\n",
            "epoch   9, acc 0.062, loss  0.358, val_acc 0.032, val_loss 0.422\n",
            "epoch  10, acc 0.069, loss  0.351, val_acc 0.036, val_loss 0.427\n",
            "epoch  11, acc 0.071, loss  0.344, val_acc 0.032, val_loss 0.432\n",
            "epoch  12, acc 0.081, loss  0.337, val_acc 0.032, val_loss 0.438\n",
            "epoch  13, acc 0.095, loss  0.329, val_acc 0.032, val_loss 0.443\n",
            "epoch  14, acc 0.114, loss  0.320, val_acc 0.032, val_loss 0.449\n",
            "epoch  15, acc 0.123, loss  0.311, val_acc 0.027, val_loss 0.455\n",
            "epoch  16, acc 0.125, loss  0.302, val_acc 0.027, val_loss 0.462\n",
            "epoch  17, acc 0.134, loss  0.292, val_acc 0.027, val_loss 0.469\n",
            "epoch  18, acc 0.152, loss  0.281, val_acc 0.032, val_loss 0.477\n",
            "epoch  19, acc 0.160, loss  0.270, val_acc 0.032, val_loss 0.485\n",
            "epoch  20, acc 0.163, loss  0.259, val_acc 0.036, val_loss 0.493\n",
            "epoch  21, acc 0.178, loss  0.248, val_acc 0.027, val_loss 0.502\n",
            "epoch  22, acc 0.161, loss  0.236, val_acc 0.027, val_loss 0.511\n",
            "epoch  23, acc 0.173, loss  0.225, val_acc 0.018, val_loss 0.523\n",
            "epoch  24, acc 0.172, loss  0.214, val_acc 0.018, val_loss 0.534\n",
            "epoch  25, acc 0.170, loss  0.203, val_acc 0.018, val_loss 0.540\n",
            "epoch  26, acc 0.185, loss  0.193, val_acc 0.032, val_loss 0.549\n",
            "epoch  27, acc 0.191, loss  0.184, val_acc 0.032, val_loss 0.557\n",
            "epoch  28, acc 0.191, loss  0.175, val_acc 0.027, val_loss 0.567\n",
            "epoch  29, acc 0.191, loss  0.167, val_acc 0.027, val_loss 0.576\n",
            "epoch  30, acc 0.199, loss  0.159, val_acc 0.027, val_loss 0.591\n",
            "epoch  31, acc 0.191, loss  0.153, val_acc 0.018, val_loss 0.605\n",
            "epoch  32, acc 0.184, loss  0.147, val_acc 0.018, val_loss 0.607\n",
            "epoch  33, acc 0.170, loss  0.137, val_acc 0.018, val_loss 0.623\n",
            "epoch  34, acc 0.185, loss  0.127, val_acc 0.014, val_loss 0.637\n",
            "epoch  35, acc 0.178, loss  0.119, val_acc 0.014, val_loss 0.653\n",
            "epoch  36, acc 0.175, loss  0.113, val_acc 0.014, val_loss 0.670\n",
            "epoch  37, acc 0.191, loss  0.109, val_acc 0.014, val_loss 0.683\n",
            "epoch  38, acc 0.175, loss  0.103, val_acc 0.018, val_loss 0.693\n",
            "epoch  39, acc 0.179, loss  0.097, val_acc 0.005, val_loss 0.704\n",
            "epoch  40, acc 0.166, loss  0.096, val_acc 0.018, val_loss 0.710\n",
            "epoch  41, acc 0.170, loss  0.089, val_acc 0.009, val_loss 0.728\n",
            "epoch  42, acc 0.172, loss  0.084, val_acc 0.023, val_loss 0.733\n",
            "epoch  43, acc 0.161, loss  0.077, val_acc 0.014, val_loss 0.750\n",
            "epoch  44, acc 0.164, loss  0.074, val_acc 0.027, val_loss 0.750\n",
            "epoch  45, acc 0.190, loss  0.072, val_acc 0.018, val_loss 0.764\n",
            "epoch  46, acc 0.143, loss  0.071, val_acc 0.009, val_loss 0.778\n",
            "epoch  47, acc 0.173, loss  0.059, val_acc 0.014, val_loss 0.795\n",
            "epoch  48, acc 0.167, loss  0.053, val_acc 0.018, val_loss 0.809\n",
            "epoch  49, acc 0.160, loss  0.055, val_acc 0.018, val_loss 0.819\n",
            "epoch  50, acc 0.161, loss  0.052, val_acc 0.018, val_loss 0.832\n"
          ]
        }
      ]
    },
    {
      "cell_type": "code",
      "source": [
        "%matplotlib inline\n",
        "import matplotlib.pyplot as plt\n",
        "\n",
        "fig, loss_ax = plt.subplots()\n",
        "\n",
        "acc_ax = loss_ax.twinx()\n",
        "\n",
        "loss_ax.plot(train_loss, 'y', label = 'train loss')\n",
        "loss_ax.plot(val_loss, 'r', label = 'val loss')\n",
        "\n",
        "acc_ax.plot(train_acc, 'b', label = 'train acc')\n",
        "acc_ax.plot(val_acc, 'g', label = 'val acc')\n",
        "\n",
        "loss_ax.set_xlabel('epoch')\n",
        "loss_ax.set_ylabel('epoch')\n",
        "acc_ax.set_ylabel('accracy')\n",
        "\n",
        "loss_ax.legend(loc = 'upper left')\n",
        "acc_ax.legend(loc = 'lower left')\n",
        "\n",
        "plt.show()\n",
        "# 이미 학습은 의미가 없다는 결론이 나옴"
      ],
      "metadata": {
        "colab": {
          "base_uri": "https://localhost:8080/",
          "height": 449
        },
        "id": "bshpyH52ggwS",
        "outputId": "921f9982-8584-4184-c4f3-4fb6b3aac7a4"
      },
      "execution_count": 10,
      "outputs": [
        {
          "output_type": "display_data",
          "data": {
            "text/plain": [
              "<Figure size 640x480 with 2 Axes>"
            ],
            "image/png": "[encoded data removed]"
          },
          "metadata": {}
        }
      ]
    },
    {
      "cell_type": "code",
      "source": [
        "# 모든 데이터를 학습용으로 사용\n",
        "for epoch in range(51):\n",
        "\n",
        "    model.reset_states()  # 중요! 매 에포크마다 1회부터 다시 훈련하므로 상태 초기화 필요\n",
        "\n",
        "    for i in range(len(xs)):\n",
        "\n",
        "      xss = xs[i].reshape(1, 1, 45)\n",
        "      yss - ys[i].reshape(1, 45)\n",
        "\n",
        "      loss, acc = model.train_on_batch(xss, yss) # 배치만큼 모델에 학습\n",
        "\n",
        "      batch_train_loss.append(loss)\n",
        "      batch_train_acc.append(acc)\n",
        "\n",
        "    train_loss.append(np.mean(batch_train_loss))\n",
        "    train_acc.append(np.mean(batch_train_acc))\n",
        "\n",
        "    print('epoch{0:4d}, acc {1:0.3f}, loss {2: 0.3f}'.format(epoch,\n",
        "                                                            np.mean(batch_train_acc),\n",
        "                                                            np.mean(batch_train_loss)\n",
        "                                                            ))\n",
        "\n"
      ],
      "metadata": {
        "colab": {
          "base_uri": "https://localhost:8080/"
        },
        "id": "mTiXpDcjx_As",
        "outputId": "1585f1f4-d436-4498-af61-1431afc7de09"
      },
      "execution_count": 11,
      "outputs": [
        {
          "output_type": "stream",
          "name": "stdout",
          "text": [
            "epoch   0, acc 0.176, loss  0.030\n",
            "epoch   1, acc 0.158, loss  0.019\n",
            "epoch   2, acc 0.146, loss  0.014\n",
            "epoch   3, acc 0.134, loss  0.011\n",
            "epoch   4, acc 0.125, loss  0.009\n",
            "epoch   5, acc 0.120, loss  0.007\n",
            "epoch   6, acc 0.116, loss  0.006\n",
            "epoch   7, acc 0.115, loss  0.006\n",
            "epoch   8, acc 0.115, loss  0.005\n",
            "epoch   9, acc 0.117, loss  0.005\n",
            "epoch  10, acc 0.120, loss  0.004\n",
            "epoch  11, acc 0.124, loss  0.004\n",
            "epoch  12, acc 0.130, loss  0.004\n",
            "epoch  13, acc 0.135, loss  0.003\n",
            "epoch  14, acc 0.141, loss  0.003\n",
            "epoch  15, acc 0.145, loss  0.003\n",
            "epoch  16, acc 0.148, loss  0.003\n",
            "epoch  17, acc 0.150, loss  0.003\n",
            "epoch  18, acc 0.151, loss  0.002\n",
            "epoch  19, acc 0.152, loss  0.002\n",
            "epoch  20, acc 0.153, loss  0.002\n",
            "epoch  21, acc 0.153, loss  0.002\n",
            "epoch  22, acc 0.153, loss  0.002\n",
            "epoch  23, acc 0.153, loss  0.002\n",
            "epoch  24, acc 0.152, loss  0.002\n",
            "epoch  25, acc 0.152, loss  0.002\n",
            "epoch  26, acc 0.151, loss  0.002\n",
            "epoch  27, acc 0.150, loss  0.002\n",
            "epoch  28, acc 0.150, loss  0.002\n",
            "epoch  29, acc 0.149, loss  0.002\n",
            "epoch  30, acc 0.149, loss  0.002\n",
            "epoch  31, acc 0.148, loss  0.001\n",
            "epoch  32, acc 0.147, loss  0.001\n",
            "epoch  33, acc 0.147, loss  0.001\n",
            "epoch  34, acc 0.146, loss  0.001\n",
            "epoch  35, acc 0.146, loss  0.001\n",
            "epoch  36, acc 0.145, loss  0.001\n",
            "epoch  37, acc 0.144, loss  0.001\n",
            "epoch  38, acc 0.144, loss  0.001\n",
            "epoch  39, acc 0.143, loss  0.001\n",
            "epoch  40, acc 0.143, loss  0.001\n",
            "epoch  41, acc 0.142, loss  0.001\n",
            "epoch  42, acc 0.142, loss  0.001\n",
            "epoch  43, acc 0.141, loss  0.001\n",
            "epoch  44, acc 0.141, loss  0.001\n",
            "epoch  45, acc 0.141, loss  0.001\n",
            "epoch  46, acc 0.140, loss  0.001\n",
            "epoch  47, acc 0.140, loss  0.001\n",
            "epoch  48, acc 0.139, loss  0.001\n",
            "epoch  49, acc 0.139, loss  0.001\n",
            "epoch  50, acc 0.139, loss  0.001\n"
          ]
        }
      ]
    },
    {
      "cell_type": "code",
      "source": [
        "# 다음회 예측\n",
        "\n",
        "print('receive numbers')\n",
        "\n",
        "xss = xs[-1].reshape(1, 1, 45)\n",
        "\n",
        "pred = model.predict_on_batch(xss)\n",
        "pred\n",
        "\n",
        "luck = list(map(o2n, pred))\n",
        "luck\n",
        "\n",
        "# list_number = []\n",
        "\n",
        "# for n in range(6):\n",
        "#   numbers =pred\n",
        "  # numbers.sort()\n",
        "  # print('{0} : {1}'.format(n, numbers))\n",
        "  # list_numbers.append(numbers)"
      ],
      "metadata": {
        "colab": {
          "base_uri": "https://localhost:8080/"
        },
        "id": "ekjo8MBdx--s",
        "outputId": "f47b26ea-a1b7-414c-d437-050dfda21fdb"
      },
      "execution_count": 12,
      "outputs": [
        {
          "output_type": "stream",
          "name": "stdout",
          "text": [
            "receive numbers\n"
          ]
        },
        {
          "output_type": "execute_result",
          "data": {
            "text/plain": [
              "[[5, 6, 13, 14, 17, 20]]"
            ]
          },
          "metadata": {},
          "execution_count": 12
        }
      ]
    },
    {
      "cell_type": "code",
      "source": [],
      "metadata": {
        "id": "67xyP3Kf3WvN"
      },
      "execution_count": 12,
      "outputs": []
    }
  ]
}