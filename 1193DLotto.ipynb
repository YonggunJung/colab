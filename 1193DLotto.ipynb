{
  "cells": [
    {
      "cell_type": "markdown",
      "metadata": {
        "id": "view-in-github",
        "colab_type": "text"
      },
      "source": [
        "<a href=\"https://colab.research.google.com/github/YonggunJung/colab/blob/main/1193DLotto.ipynb\" target=\"_parent\"><img src=\"https://colab.research.google.com/assets/colab-badge.svg\" alt=\"Open In Colab\"/></a>"
      ]
    },
    {
      "cell_type": "code",
      "execution_count": 1,
      "metadata": {
        "colab": {
          "base_uri": "https://localhost:8080/"
        },
        "id": "EV0N-8-1wfGo",
        "outputId": "03b215cd-5a29-4d0d-f2ad-5bf551bc0607"
      },
      "outputs": [
        {
          "output_type": "stream",
          "name": "stdout",
          "text": [
            "Mounted at /content/drive\n"
          ]
        }
      ],
      "source": [
        "from google.colab import drive\n",
        "drive.mount('/content/drive')"
      ]
    },
    {
      "cell_type": "code",
      "execution_count": 2,
      "metadata": {
        "id": "6OK4eW92wov0"
      },
      "outputs": [],
      "source": [
        "import pandas as pd\n",
        "import numpy as np\n",
        "import warnings\n",
        "warnings.filterwarnings('ignore')"
      ]
    },
    {
      "cell_type": "code",
      "execution_count": 3,
      "metadata": {
        "colab": {
          "base_uri": "https://localhost:8080/"
        },
        "id": "227wJo0xYVaV",
        "outputId": "4fb2b3d5-1158-4f2c-dada-44e209967214"
      },
      "outputs": [
        {
          "output_type": "execute_result",
          "data": {
            "text/plain": [
              "array([[ 4.,  7., 17., 18., 38., 44.],\n",
              "       [ 8., 12., 13., 29., 33., 42.],\n",
              "       [ 3.,  7., 14., 15., 22., 38.],\n",
              "       ...,\n",
              "       [ 7.,  9., 19., 23., 26., 45.],\n",
              "       [ 1.,  4., 11., 12., 20., 41.],\n",
              "       [10., 16., 23., 36., 39., 40.]])"
            ]
          },
          "metadata": {},
          "execution_count": 3
        }
      ],
      "source": [
        "win = np.loadtxt('/content/drive/MyDrive/Colab Notebooks/로또/data/jlotto.csv', delimiter = ',')\n",
        "win"
      ]
    },
    {
      "cell_type": "code",
      "execution_count": 4,
      "metadata": {
        "id": "GS0NAmQGw74-"
      },
      "outputs": [],
      "source": [
        "xn = len(win)"
      ]
    },
    {
      "cell_type": "code",
      "execution_count": 5,
      "metadata": {
        "id": "gG4RnEQzhKPx"
      },
      "outputs": [],
      "source": [
        "# 숫자를 원핫 인코딩으로 변환\n",
        "def n2o(numbers):\n",
        "\n",
        "  oh = np.zeros(45)  # 45개의 빈 칸 만들기\n",
        "\n",
        "  for i in range(6):            # 6개의 당첨번호를 반복\n",
        "      oh[int(numbers[i])-1] = 1   # 번호는 1부터 시작하고 인덱스는 0부터 시작하니 1을 빼줌\n",
        "\n",
        "  return oh\n",
        "\n",
        "# 원핫 인코딩을 숫자로 변환\n",
        "def o2n(oh):\n",
        "\n",
        "  numbers = []\n",
        "\n",
        "  for i in range(len(oh)):\n",
        "    if oh[i] == 1:           # oh[i]이 1 이면 해당 번호를 출력\n",
        "      numbers.append(i+1)    # 인덱스 보다 숫자가 1크니까 1더해줌 출력\n",
        "\n",
        "  return numbers"
      ]
    },
    {
      "cell_type": "code",
      "execution_count": 6,
      "metadata": {
        "colab": {
          "base_uri": "https://localhost:8080/"
        },
        "id": "XCSHMDUUvRZf",
        "outputId": "5bc904f3-6929-44f4-e014-81c71c5581b9"
      },
      "outputs": [
        {
          "output_type": "stream",
          "name": "stdout",
          "text": [
            "ohs\n",
            "x[0] :[0. 0. 0. 1. 0. 0. 1. 0. 0. 0. 0. 0. 0. 0. 0. 0. 1. 1. 0. 0. 0. 0. 0. 0.\n",
            " 0. 0. 0. 0. 0. 0. 0. 0. 0. 0. 0. 0. 0. 1. 0. 0. 0. 0. 0. 1. 0.]\n",
            "y[0] :[0. 0. 0. 0. 0. 0. 0. 1. 0. 0. 0. 1. 1. 0. 0. 0. 0. 0. 0. 0. 0. 0. 0. 0.\n",
            " 0. 0. 0. 0. 1. 0. 0. 0. 1. 0. 0. 0. 0. 0. 0. 0. 0. 1. 0. 0. 0.]\n",
            "x[마지막] :[1. 0. 0. 1. 0. 0. 0. 0. 0. 0. 1. 1. 0. 0. 0. 0. 0. 0. 0. 1. 0. 0. 0. 0.\n",
            " 0. 0. 0. 0. 0. 0. 0. 0. 0. 0. 0. 0. 0. 0. 0. 0. 1. 0. 0. 0. 0.]\n",
            "y[마지막] :[0. 0. 0. 0. 0. 0. 0. 0. 0. 1. 0. 0. 0. 0. 0. 1. 0. 0. 0. 0. 0. 0. 1. 0.\n",
            " 0. 0. 0. 0. 0. 0. 0. 0. 0. 0. 0. 1. 0. 0. 1. 1. 0. 0. 0. 0. 0.]\n",
            "numbers\n",
            "x[0] :[4, 7, 17, 18, 38, 44]\n",
            "y[0] :[8, 12, 13, 29, 33, 42]\n",
            "x[마지막] :[1, 4, 11, 12, 20, 41]\n",
            "y[마지막] :[10, 16, 23, 36, 39, 40]\n"
          ]
        }
      ],
      "source": [
        "numbers = win[: , :]  # 이게 문제라서 못 하겠음ㅠ 데이터 프레임이 문제인가?\n",
        "                      # 데이터 프레임으로 안열고 넘파이 텍스트 파일로 가져오니 됨\n",
        "ohs = list(map(n2o, numbers))\n",
        "\n",
        "xs = ohs[0:xn -1]\n",
        "ys = ohs[1:xn]\n",
        "\n",
        "# 원핫 인코딩 확인\n",
        "print('ohs')\n",
        "print('x[0] :' + str(xs[0]))\n",
        "print('y[0] :' + str(ys[0]))\n",
        "print('x[마지막] :' + str(xs[-1]))\n",
        "print('y[마지막] :' + str(ys[-1]))\n",
        "\n",
        "# 번호 확인\n",
        "print('numbers')\n",
        "print('x[0] :' + str(o2n(xs[0])))\n",
        "print('y[0] :' + str(o2n(ys[0])))\n",
        "print('x[마지막] :' + str(o2n(xs[-1])))\n",
        "print('y[마지막] :' + str(o2n(ys[-1])))"
      ]
    },
    {
      "cell_type": "code",
      "execution_count": 7,
      "metadata": {
        "colab": {
          "base_uri": "https://localhost:8080/"
        },
        "id": "8WuoR8jggg2_",
        "outputId": "16fb22ab-5b92-472c-ab05-890e642f0908"
      },
      "outputs": [
        {
          "output_type": "stream",
          "name": "stdout",
          "text": [
            "train : (0, 715), val : (715, 953), test : (953, 1192)\n"
          ]
        }
      ],
      "source": [
        "train = (0, int(len(win)*0.6))\n",
        "val = (int(len(win)*0.6), int(len(win)*0.8))\n",
        "test = (int(len(win)*0.8), len(win))\n",
        "\n",
        "print('train : {0}, val : {1}, test : {2}'.format(train, val, test))"
      ]
    },
    {
      "cell_type": "code",
      "execution_count": 8,
      "metadata": {
        "id": "VNx80jYjgg0y"
      },
      "outputs": [],
      "source": [
        "import tensorflow as tf\n",
        "from tensorflow import keras\n",
        "from tensorflow.keras import layers\n",
        "from tensorflow.keras import models\n",
        "\n",
        "# 모델 정의\n",
        "model = keras.Sequential([\n",
        "    keras.Input(batch_shape=(1, 1, 45)),   # ✅ 입력 형태는 여기서 정의\n",
        "    layers.LSTM(128,\n",
        "                return_sequences=False,\n",
        "                stateful=True),\n",
        "    layers.Dense(45, activation='sigmoid')\n",
        "])\n",
        "\n",
        "# 모델 컴파일\n",
        "model.compile(loss='binary_crossentropy', optimizer='adam', metrics=['accuracy'])\n"
      ]
    },
    {
      "cell_type": "code",
      "execution_count": 9,
      "metadata": {
        "colab": {
          "base_uri": "https://localhost:8080/"
        },
        "id": "psqZd4_Nggyf",
        "outputId": "30a6b45e-de3a-4852-a0fb-9101e41d246c"
      },
      "outputs": [
        {
          "output_type": "stream",
          "name": "stdout",
          "text": [
            "epoch   0, acc 0.020, loss  0.445, val_acc 0.021, val_loss 0.408\n",
            "epoch   1, acc 0.018, loss  0.405, val_acc 0.017, val_loss 0.403\n",
            "epoch   2, acc 0.016, loss  0.401, val_acc 0.017, val_loss 0.400\n",
            "epoch   3, acc 0.017, loss  0.399, val_acc 0.019, val_loss 0.398\n",
            "epoch   4, acc 0.019, loss  0.398, val_acc 0.020, val_loss 0.397\n",
            "epoch   5, acc 0.022, loss  0.396, val_acc 0.023, val_loss 0.395\n",
            "epoch   6, acc 0.025, loss  0.395, val_acc 0.027, val_loss 0.394\n",
            "epoch   7, acc 0.028, loss  0.393, val_acc 0.030, val_loss 0.392\n",
            "epoch   8, acc 0.031, loss  0.391, val_acc 0.033, val_loss 0.390\n",
            "epoch   9, acc 0.034, loss  0.390, val_acc 0.036, val_loss 0.389\n",
            "epoch  10, acc 0.037, loss  0.388, val_acc 0.039, val_loss 0.387\n",
            "epoch  11, acc 0.040, loss  0.386, val_acc 0.042, val_loss 0.385\n",
            "epoch  12, acc 0.042, loss  0.384, val_acc 0.044, val_loss 0.383\n",
            "epoch  13, acc 0.045, loss  0.382, val_acc 0.047, val_loss 0.381\n",
            "epoch  14, acc 0.048, loss  0.380, val_acc 0.050, val_loss 0.379\n",
            "epoch  15, acc 0.051, loss  0.378, val_acc 0.052, val_loss 0.377\n",
            "epoch  16, acc 0.054, loss  0.375, val_acc 0.055, val_loss 0.374\n",
            "epoch  17, acc 0.057, loss  0.373, val_acc 0.058, val_loss 0.372\n",
            "epoch  18, acc 0.059, loss  0.371, val_acc 0.060, val_loss 0.369\n",
            "epoch  19, acc 0.062, loss  0.368, val_acc 0.064, val_loss 0.367\n",
            "epoch  20, acc 0.065, loss  0.365, val_acc 0.066, val_loss 0.364\n",
            "epoch  21, acc 0.068, loss  0.363, val_acc 0.069, val_loss 0.362\n",
            "epoch  22, acc 0.071, loss  0.360, val_acc 0.072, val_loss 0.359\n",
            "epoch  23, acc 0.074, loss  0.357, val_acc 0.075, val_loss 0.356\n",
            "epoch  24, acc 0.076, loss  0.355, val_acc 0.078, val_loss 0.353\n",
            "epoch  25, acc 0.079, loss  0.352, val_acc 0.080, val_loss 0.350\n",
            "epoch  26, acc 0.081, loss  0.349, val_acc 0.082, val_loss 0.348\n",
            "epoch  27, acc 0.083, loss  0.346, val_acc 0.084, val_loss 0.345\n",
            "epoch  28, acc 0.085, loss  0.344, val_acc 0.086, val_loss 0.343\n",
            "epoch  29, acc 0.087, loss  0.341, val_acc 0.088, val_loss 0.340\n",
            "epoch  30, acc 0.089, loss  0.339, val_acc 0.090, val_loss 0.338\n",
            "epoch  31, acc 0.091, loss  0.337, val_acc 0.092, val_loss 0.335\n",
            "epoch  32, acc 0.093, loss  0.334, val_acc 0.094, val_loss 0.333\n",
            "epoch  33, acc 0.094, loss  0.332, val_acc 0.095, val_loss 0.331\n",
            "epoch  34, acc 0.096, loss  0.330, val_acc 0.096, val_loss 0.329\n",
            "epoch  35, acc 0.097, loss  0.328, val_acc 0.098, val_loss 0.327\n",
            "epoch  36, acc 0.098, loss  0.326, val_acc 0.099, val_loss 0.325\n",
            "epoch  37, acc 0.099, loss  0.324, val_acc 0.100, val_loss 0.323\n",
            "epoch  38, acc 0.100, loss  0.322, val_acc 0.101, val_loss 0.321\n",
            "epoch  39, acc 0.101, loss  0.320, val_acc 0.102, val_loss 0.319\n",
            "epoch  40, acc 0.102, loss  0.318, val_acc 0.103, val_loss 0.318\n",
            "epoch  41, acc 0.104, loss  0.317, val_acc 0.104, val_loss 0.316\n",
            "epoch  42, acc 0.104, loss  0.315, val_acc 0.104, val_loss 0.314\n",
            "epoch  43, acc 0.105, loss  0.314, val_acc 0.105, val_loss 0.313\n",
            "epoch  44, acc 0.105, loss  0.312, val_acc 0.106, val_loss 0.311\n"
          ]
        }
      ],
      "source": [
        "# 매 에포크마다 훈련과 검증의 손실 및 정확도를 기록하기 위한 변수\n",
        "train_loss = []\n",
        "train_acc = []\n",
        "val_loss = []\n",
        "val_acc = []\n",
        "\n",
        "# 최대 100번 에포크까지 수행\n",
        "for epoch in range(45):\n",
        "    # model.reset_states()  ❌ (삭제)\n",
        "    # 대신 개별 LSTM 레이어 상태 초기화\n",
        "    for layer in model.layers:\n",
        "        if hasattr(layer, 'reset_states'):\n",
        "            layer.reset_states()\n",
        "\n",
        "    batch_train_loss = []\n",
        "    batch_train_acc = []\n",
        "\n",
        "    for i in range(train[0], train[1]):\n",
        "\n",
        "        xss = xs[i].reshape(1, 1, 45)\n",
        "        yss = ys[i].reshape(1, 45)\n",
        "\n",
        "        loss, acc = model.train_on_batch(xss, yss) # 배치만큼 모델에 학습\n",
        "\n",
        "        batch_train_loss.append(loss)\n",
        "        batch_train_acc.append(acc)\n",
        "\n",
        "    train_loss.append(np.mean(batch_train_loss))\n",
        "    train_acc.append(np.mean(batch_train_acc))\n",
        "\n",
        "    batch_val_loss = []\n",
        "    batch_val_acc = []\n",
        "\n",
        "    for i in range(val[0], val[1]):\n",
        "\n",
        "        xss = xs[i].reshape(1, 1, 45)\n",
        "        yss = ys[i].reshape(1, 45)\n",
        "\n",
        "        loss, acc = model.test_on_batch(xss, yss) # 배치만큼 모델에 입력하여 나온 결과를 정답과 비교함\n",
        "\n",
        "        batch_val_loss.append(loss)\n",
        "        batch_val_acc.append(acc)\n",
        "\n",
        "    val_loss.append(np.mean(batch_val_loss))\n",
        "    val_acc.append(np.mean(batch_val_acc))\n",
        "\n",
        "    print('epoch{0:4d}, acc {1:0.3f}, loss {2: 0.3f}, val_acc {3:0.3f}, val_loss {4:0.3f}'.format(epoch,\n",
        "                                                                                                  np.mean(batch_train_acc),\n",
        "                                                                                                  np.mean(batch_train_loss),\n",
        "                                                                                                  np.mean(batch_val_acc),\n",
        "                                                                                                  np.mean(batch_val_loss)))"
      ]
    },
    {
      "cell_type": "code",
      "execution_count": 10,
      "metadata": {
        "colab": {
          "base_uri": "https://localhost:8080/",
          "height": 449
        },
        "id": "bshpyH52ggwS",
        "outputId": "c60b0996-83b7-4bf2-e976-992f9eef957d"
      },
      "outputs": [
        {
          "output_type": "display_data",
          "data": {
            "text/plain": [
              "<Figure size 640x480 with 2 Axes>"
            ],
            "image/png": "[encoded data removed]"
          },
          "metadata": {}
        }
      ],
      "source": [
        "%matplotlib inline\n",
        "import matplotlib.pyplot as plt\n",
        "\n",
        "fig, loss_ax = plt.subplots()\n",
        "\n",
        "acc_ax = loss_ax.twinx()\n",
        "\n",
        "loss_ax.plot(train_loss, 'y', label = 'train loss')\n",
        "loss_ax.plot(val_loss, 'r', label = 'val loss')\n",
        "\n",
        "acc_ax.plot(train_acc, 'b', label = 'train acc')\n",
        "acc_ax.plot(val_acc, 'g', label = 'val acc')\n",
        "\n",
        "loss_ax.set_xlabel('epoch')\n",
        "loss_ax.set_ylabel('epoch')\n",
        "acc_ax.set_ylabel('accracy')\n",
        "\n",
        "loss_ax.legend(loc = 'upper left')\n",
        "acc_ax.legend(loc = 'lower left')\n",
        "\n",
        "plt.show()\n",
        "# 이미 학습은 의미가 없다는 결론이 나옴"
      ]
    },
    {
      "cell_type": "code",
      "execution_count": 11,
      "metadata": {
        "colab": {
          "base_uri": "https://localhost:8080/"
        },
        "id": "mTiXpDcjx_As",
        "outputId": "1d608a4e-9363-42cb-8d12-15eae007c568"
      },
      "outputs": [
        {
          "output_type": "stream",
          "name": "stdout",
          "text": [
            "epoch   0, acc 0.109, loss 0.309\n",
            "epoch   1, acc 0.117, loss 0.301\n",
            "epoch   2, acc 0.124, loss 0.293\n",
            "epoch   3, acc 0.133, loss 0.285\n",
            "epoch   4, acc 0.144, loss 0.278\n",
            "epoch   5, acc 0.156, loss 0.272\n",
            "epoch   6, acc 0.168, loss 0.265\n",
            "epoch   7, acc 0.180, loss 0.259\n",
            "epoch   8, acc 0.192, loss 0.253\n",
            "epoch   9, acc 0.205, loss 0.248\n",
            "epoch  10, acc 0.217, loss 0.242\n",
            "epoch  11, acc 0.229, loss 0.237\n",
            "epoch  12, acc 0.243, loss 0.232\n",
            "epoch  13, acc 0.257, loss 0.228\n",
            "epoch  14, acc 0.272, loss 0.223\n",
            "epoch  15, acc 0.286, loss 0.219\n",
            "epoch  16, acc 0.299, loss 0.215\n",
            "epoch  17, acc 0.312, loss 0.211\n",
            "epoch  18, acc 0.325, loss 0.207\n",
            "epoch  19, acc 0.337, loss 0.203\n",
            "epoch  20, acc 0.349, loss 0.200\n",
            "epoch  21, acc 0.360, loss 0.196\n",
            "epoch  22, acc 0.371, loss 0.193\n",
            "epoch  23, acc 0.382, loss 0.190\n",
            "epoch  24, acc 0.392, loss 0.186\n",
            "epoch  25, acc 0.402, loss 0.183\n",
            "epoch  26, acc 0.411, loss 0.180\n",
            "epoch  27, acc 0.420, loss 0.178\n",
            "epoch  28, acc 0.429, loss 0.175\n",
            "epoch  29, acc 0.438, loss 0.172\n",
            "epoch  30, acc 0.447, loss 0.170\n",
            "epoch  31, acc 0.455, loss 0.167\n",
            "epoch  32, acc 0.463, loss 0.165\n",
            "epoch  33, acc 0.470, loss 0.162\n",
            "epoch  34, acc 0.478, loss 0.160\n",
            "epoch  35, acc 0.485, loss 0.158\n",
            "epoch  36, acc 0.492, loss 0.156\n",
            "epoch  37, acc 0.499, loss 0.153\n",
            "epoch  38, acc 0.506, loss 0.151\n",
            "epoch  39, acc 0.512, loss 0.149\n",
            "epoch  40, acc 0.519, loss 0.147\n",
            "epoch  41, acc 0.525, loss 0.145\n",
            "epoch  42, acc 0.531, loss 0.144\n",
            "epoch  43, acc 0.537, loss 0.142\n",
            "epoch  44, acc 0.543, loss 0.140\n"
          ]
        }
      ],
      "source": [
        "# 모든 데이터를 학습용으로 사용\n",
        "for epoch in range(45):\n",
        "\n",
        "    # LSTM 레이어의 상태 초기화\n",
        "    for layer in model.layers:\n",
        "        if hasattr(layer, \"reset_states\"):\n",
        "            layer.reset_states()\n",
        "\n",
        "    batch_train_loss = []\n",
        "    batch_train_acc = []\n",
        "\n",
        "    for i in range(len(xs)):\n",
        "        xss = xs[i].reshape(1, 1, 45)\n",
        "        yss - ys[i].reshape(1, 45)\n",
        "\n",
        "        loss, acc = model.train_on_batch(xss, yss)  # 배치 학습\n",
        "\n",
        "        batch_train_loss.append(loss)\n",
        "        batch_train_acc.append(acc)\n",
        "\n",
        "    train_loss.append(np.mean(batch_train_loss))\n",
        "    train_acc.append(np.mean(batch_train_acc))\n",
        "\n",
        "    print(\"epoch{0:4d}, acc {1:0.3f}, loss {2:0.3f}\".format(\n",
        "        epoch,\n",
        "        np.mean(batch_train_acc),\n",
        "        np.mean(batch_train_loss)\n",
        "    ))\n"
      ]
    },
    {
      "cell_type": "code",
      "execution_count": 12,
      "metadata": {
        "colab": {
          "base_uri": "https://localhost:8080/"
        },
        "id": "ekjo8MBdx--s",
        "outputId": "777cc5c9-831e-453e-809b-aebc011a8e98"
      },
      "outputs": [
        {
          "output_type": "stream",
          "name": "stdout",
          "text": [
            "2025-10-05\n",
            "receive numbers\n"
          ]
        },
        {
          "output_type": "execute_result",
          "data": {
            "text/plain": [
              "[[3, 17, 23, 34, 41, 45]]"
            ]
          },
          "metadata": {},
          "execution_count": 12
        }
      ],
      "source": [
        "from datetime import date\n",
        "\n",
        "# 다음회 예측\n",
        "\n",
        "xss = xs[-1].reshape(1, 1, 45)\n",
        "\n",
        "pred = model.predict_on_batch(xss)\n",
        "pred\n",
        "\n",
        "print(date.today())\n",
        "print('receive numbers')\n",
        "len(ohs)\n",
        "\n",
        "luck = list(map(o2n, pred))\n",
        "luck\n",
        "\n",
        "# list_number = []\n",
        "\n",
        "# for n in range(6):\n",
        "#   numbers =pred\n",
        "  # numbers.sort()\n",
        "  # print('{0} : {1}'.format(n, numbers))\n",
        "  # list_numbers.append(numbers)"
      ]
    },
    {
      "cell_type": "code",
      "execution_count": 13,
      "metadata": {
        "id": "67xyP3Kf3WvN"
      },
      "outputs": [],
      "source": [
        "# 100번 돌리나 35번 돌리나 결과는 똑같다."
      ]
    }
  ],
  "metadata": {
    "accelerator": "GPU",
    "colab": {
      "gpuType": "T4",
      "provenance": [],
      "authorship_tag": "ABX9TyOKXbQQL4fq0NaztnOaBnEU",
      "include_colab_link": true
    },
    "kernelspec": {
      "display_name": "Python 3",
      "name": "python3"
    },
    "language_info": {
      "name": "python"
    }
  },
  "nbformat": 4,
  "nbformat_minor": 0
}