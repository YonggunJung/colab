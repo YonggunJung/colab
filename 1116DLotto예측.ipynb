{
  "cells": [
    {
      "cell_type": "markdown",
      "metadata": {
        "id": "view-in-github",
        "colab_type": "text"
      },
      "source": [
        "<a href=\"https://colab.research.google.com/github/YonggunJung/colab/blob/main/1116DLotto%EC%98%88%EC%B8%A1.ipynb\" target=\"_parent\"><img src=\"https://colab.research.google.com/assets/colab-badge.svg\" alt=\"Open In Colab\"/></a>"
      ]
    },
    {
      "cell_type": "code",
      "execution_count": 1,
      "metadata": {
        "colab": {
          "base_uri": "https://localhost:8080/"
        },
        "id": "EV0N-8-1wfGo",
        "outputId": "1891bba8-8048-4941-dec6-9f5b05039bbc"
      },
      "outputs": [
        {
          "output_type": "stream",
          "name": "stdout",
          "text": [
            "Mounted at /content/drive\n"
          ]
        }
      ],
      "source": [
        "from google.colab import drive\n",
        "drive.mount('/content/drive')"
      ]
    },
    {
      "cell_type": "code",
      "execution_count": 2,
      "metadata": {
        "id": "6OK4eW92wov0"
      },
      "outputs": [],
      "source": [
        "import pandas as pd\n",
        "import numpy as np\n",
        "import warnings\n",
        "warnings.filterwarnings('ignore')"
      ]
    },
    {
      "cell_type": "code",
      "execution_count": 3,
      "metadata": {
        "colab": {
          "base_uri": "https://localhost:8080/"
        },
        "id": "227wJo0xYVaV",
        "outputId": "83a8cab3-16c1-46e5-f9bc-fde525604d3b"
      },
      "outputs": [
        {
          "output_type": "execute_result",
          "data": {
            "text/plain": [
              "array([[ 4.,  7., 17., 18., 38., 44.],\n",
              "       [ 8., 12., 13., 29., 33., 42.],\n",
              "       [ 3.,  7., 14., 15., 22., 38.],\n",
              "       ...,\n",
              "       [11., 13., 20., 21., 32., 44.],\n",
              "       [10., 16., 19., 32., 33., 38.],\n",
              "       [ 7., 12., 23., 32., 34., 36.]])"
            ]
          },
          "metadata": {},
          "execution_count": 3
        }
      ],
      "source": [
        "win = np.loadtxt('/content/drive/MyDrive/Colab Notebooks/로또/data/jlotto.csv', delimiter = ',')\n",
        "win"
      ]
    },
    {
      "cell_type": "code",
      "execution_count": 4,
      "metadata": {
        "id": "GS0NAmQGw74-"
      },
      "outputs": [],
      "source": [
        "xn = len(win)"
      ]
    },
    {
      "cell_type": "code",
      "execution_count": 5,
      "metadata": {
        "id": "gG4RnEQzhKPx"
      },
      "outputs": [],
      "source": [
        "# 숫자를 원핫 인코딩으로 변환\n",
        "def n2o(numbers):\n",
        "\n",
        "  oh = np.zeros(45)  # 45개의 빈 칸 만들기\n",
        "\n",
        "  for i in range(6):            # 6개의 당첨번호를 반복\n",
        "      oh[int(numbers[i])-1] = 1   # 번호는 1부터 시작하고 인덱스는 0부터 시작하니 1을 빼줌\n",
        "\n",
        "  return oh\n",
        "\n",
        "# 원핫 인코딩을 숫자로 변환\n",
        "def o2n(oh):\n",
        "\n",
        "  numbers = []\n",
        "\n",
        "  for i in range(len(oh)):\n",
        "    if oh[i] == 1:           # oh[i]이 1 이면 해당 번호를 출력\n",
        "      numbers.append(i+1)    # 인덱스 보다 숫자가 1크니까 1더해줌 출력\n",
        "\n",
        "  return numbers"
      ]
    },
    {
      "cell_type": "code",
      "execution_count": 6,
      "metadata": {
        "colab": {
          "base_uri": "https://localhost:8080/"
        },
        "id": "XCSHMDUUvRZf",
        "outputId": "f19ef047-37c9-44fb-c3c1-55c90bac1f0f"
      },
      "outputs": [
        {
          "output_type": "stream",
          "name": "stdout",
          "text": [
            "ohs\n",
            "x[0] :[0. 0. 0. 1. 0. 0. 1. 0. 0. 0. 0. 0. 0. 0. 0. 0. 1. 1. 0. 0. 0. 0. 0. 0.\n",
            " 0. 0. 0. 0. 0. 0. 0. 0. 0. 0. 0. 0. 0. 1. 0. 0. 0. 0. 0. 1. 0.]\n",
            "y[0] :[0. 0. 0. 0. 0. 0. 0. 1. 0. 0. 0. 1. 1. 0. 0. 0. 0. 0. 0. 0. 0. 0. 0. 0.\n",
            " 0. 0. 0. 0. 1. 0. 0. 0. 1. 0. 0. 0. 0. 0. 0. 0. 0. 1. 0. 0. 0.]\n",
            "numbers\n",
            "x[0] :[4, 7, 17, 18, 38, 44]\n",
            "y[0] :[8, 12, 13, 29, 33, 42]\n"
          ]
        }
      ],
      "source": [
        "numbers = win[: , :]  # 이게 문제라서 못 하겠음ㅠ 데이터 프레임이 문제인가?\n",
        "                      # 데이터 프레임으로 안열고 넘파이 텍스트 파일로 가져오니 됨\n",
        "ohs = list(map(n2o, numbers))\n",
        "\n",
        "xs = ohs[0:xn -1]\n",
        "ys = ohs[1:xn]\n",
        "\n",
        "# 원핫 인코딩 확인\n",
        "print('ohs')\n",
        "print('x[0] :' + str(xs[0]))\n",
        "print('y[0] :' + str(ys[0]))\n",
        "\n",
        "# 번호 확인\n",
        "print('numbers')\n",
        "print('x[0] :' + str(o2n(xs[0])))\n",
        "print('y[0] :' + str(o2n(ys[0])))"
      ]
    },
    {
      "cell_type": "code",
      "execution_count": 7,
      "metadata": {
        "colab": {
          "base_uri": "https://localhost:8080/"
        },
        "id": "8WuoR8jggg2_",
        "outputId": "307b9f18-1069-4929-e368-bce2d624936b"
      },
      "outputs": [
        {
          "output_type": "stream",
          "name": "stdout",
          "text": [
            "train : (0, 669), val : (669, 892), test : (892, 1115)\n"
          ]
        }
      ],
      "source": [
        "train = (0, int(len(win)*0.6))\n",
        "val = (int(len(win)*0.6), int(len(win)*0.8))\n",
        "test = (int(len(win)*0.8), len(win))\n",
        "\n",
        "print('train : {0}, val : {1}, test : {2}'.format(train, val, test))"
      ]
    },
    {
      "cell_type": "code",
      "execution_count": 8,
      "metadata": {
        "id": "VNx80jYjgg0y"
      },
      "outputs": [],
      "source": [
        "import tensorflow as tf\n",
        "from tensorflow import keras\n",
        "from tensorflow.keras import layers\n",
        "from tensorflow.keras import models\n",
        "\n",
        "# 모델 정의\n",
        "model = keras.Sequential([\n",
        "    keras.layers.LSTM(128, batch_input_shape = (1, 1, 45),\n",
        "                      return_sequences = False,\n",
        "                      stateful = True),\n",
        "    keras.layers.Dense(45, activation = 'sigmoid')\n",
        "])\n",
        "\n",
        "# 모델 컴파일\n",
        "model.compile(loss = 'binary_crossentropy', optimizer = 'adam', metrics = ['accuracy'])"
      ]
    },
    {
      "cell_type": "code",
      "execution_count": 9,
      "metadata": {
        "colab": {
          "base_uri": "https://localhost:8080/"
        },
        "id": "psqZd4_Nggyf",
        "outputId": "e06fada0-893b-4d0c-a89b-5b239b492cf6"
      },
      "outputs": [
        {
          "output_type": "stream",
          "name": "stdout",
          "text": [
            "epoch   0, acc 0.018, loss  0.410, val_acc 0.000, val_loss 0.400\n",
            "epoch   1, acc 0.019, loss  0.396, val_acc 0.000, val_loss 0.399\n",
            "epoch   2, acc 0.021, loss  0.394, val_acc 0.004, val_loss 0.399\n",
            "epoch   3, acc 0.027, loss  0.391, val_acc 0.004, val_loss 0.400\n",
            "epoch   4, acc 0.031, loss  0.388, val_acc 0.004, val_loss 0.402\n",
            "epoch   5, acc 0.046, loss  0.382, val_acc 0.013, val_loss 0.405\n",
            "epoch   6, acc 0.046, loss  0.376, val_acc 0.027, val_loss 0.410\n",
            "epoch   7, acc 0.052, loss  0.370, val_acc 0.022, val_loss 0.414\n",
            "epoch   8, acc 0.063, loss  0.363, val_acc 0.022, val_loss 0.418\n",
            "epoch   9, acc 0.066, loss  0.355, val_acc 0.031, val_loss 0.423\n",
            "epoch  10, acc 0.072, loss  0.348, val_acc 0.036, val_loss 0.427\n",
            "epoch  11, acc 0.079, loss  0.340, val_acc 0.036, val_loss 0.432\n",
            "epoch  12, acc 0.091, loss  0.332, val_acc 0.031, val_loss 0.437\n",
            "epoch  13, acc 0.103, loss  0.324, val_acc 0.027, val_loss 0.442\n",
            "epoch  14, acc 0.108, loss  0.314, val_acc 0.027, val_loss 0.447\n",
            "epoch  15, acc 0.117, loss  0.304, val_acc 0.036, val_loss 0.453\n",
            "epoch  16, acc 0.133, loss  0.294, val_acc 0.027, val_loss 0.460\n",
            "epoch  17, acc 0.135, loss  0.283, val_acc 0.031, val_loss 0.468\n",
            "epoch  18, acc 0.141, loss  0.272, val_acc 0.036, val_loss 0.476\n",
            "epoch  19, acc 0.139, loss  0.260, val_acc 0.036, val_loss 0.486\n",
            "epoch  20, acc 0.141, loss  0.249, val_acc 0.031, val_loss 0.495\n",
            "epoch  21, acc 0.139, loss  0.237, val_acc 0.027, val_loss 0.505\n",
            "epoch  22, acc 0.139, loss  0.225, val_acc 0.027, val_loss 0.516\n",
            "epoch  23, acc 0.151, loss  0.213, val_acc 0.027, val_loss 0.526\n",
            "epoch  24, acc 0.155, loss  0.202, val_acc 0.018, val_loss 0.533\n",
            "epoch  25, acc 0.152, loss  0.191, val_acc 0.009, val_loss 0.544\n",
            "epoch  26, acc 0.152, loss  0.181, val_acc 0.009, val_loss 0.555\n",
            "epoch  27, acc 0.172, loss  0.171, val_acc 0.009, val_loss 0.568\n",
            "epoch  28, acc 0.170, loss  0.161, val_acc 0.018, val_loss 0.582\n",
            "epoch  29, acc 0.178, loss  0.153, val_acc 0.018, val_loss 0.594\n",
            "epoch  30, acc 0.148, loss  0.146, val_acc 0.013, val_loss 0.604\n",
            "epoch  31, acc 0.152, loss  0.138, val_acc 0.013, val_loss 0.613\n",
            "epoch  32, acc 0.155, loss  0.130, val_acc 0.013, val_loss 0.622\n",
            "epoch  33, acc 0.148, loss  0.125, val_acc 0.018, val_loss 0.634\n",
            "epoch  34, acc 0.154, loss  0.121, val_acc 0.018, val_loss 0.648\n",
            "epoch  35, acc 0.146, loss  0.113, val_acc 0.018, val_loss 0.658\n",
            "epoch  36, acc 0.141, loss  0.106, val_acc 0.027, val_loss 0.674\n",
            "epoch  37, acc 0.155, loss  0.096, val_acc 0.013, val_loss 0.691\n",
            "epoch  38, acc 0.157, loss  0.094, val_acc 0.013, val_loss 0.698\n",
            "epoch  39, acc 0.157, loss  0.090, val_acc 0.013, val_loss 0.713\n",
            "epoch  40, acc 0.167, loss  0.085, val_acc 0.004, val_loss 0.726\n",
            "epoch  41, acc 0.170, loss  0.081, val_acc 0.004, val_loss 0.737\n",
            "epoch  42, acc 0.155, loss  0.075, val_acc 0.022, val_loss 0.745\n",
            "epoch  43, acc 0.160, loss  0.071, val_acc 0.004, val_loss 0.745\n",
            "epoch  44, acc 0.185, loss  0.068, val_acc 0.027, val_loss 0.771\n",
            "epoch  45, acc 0.155, loss  0.065, val_acc 0.009, val_loss 0.795\n",
            "epoch  46, acc 0.163, loss  0.064, val_acc 0.013, val_loss 0.789\n",
            "epoch  47, acc 0.157, loss  0.060, val_acc 0.013, val_loss 0.802\n",
            "epoch  48, acc 0.149, loss  0.058, val_acc 0.009, val_loss 0.824\n",
            "epoch  49, acc 0.160, loss  0.054, val_acc 0.018, val_loss 0.824\n",
            "epoch  50, acc 0.161, loss  0.052, val_acc 0.018, val_loss 0.835\n"
          ]
        }
      ],
      "source": [
        "# 매 에포크마다 훈련과 검증의 손실 및 정확도를 기록하기 위한 변수\n",
        "train_loss = []\n",
        "train_acc = []\n",
        "val_loss = []\n",
        "val_acc = []\n",
        "\n",
        "# 최대 100번 에포크까지 수행\n",
        "for epoch in range(51):\n",
        "    model.reset_states()  # 중요! 매 에포크마다 1회부터 다시 훈련하므로 상태 초기화 필요\n",
        "\n",
        "    batch_train_loss = []\n",
        "    batch_train_acc = []\n",
        "\n",
        "    for i in range(train[0], train[1]):\n",
        "\n",
        "        xss = xs[i].reshape(1, 1, 45)\n",
        "        yss = ys[i].reshape(1, 45)\n",
        "\n",
        "        loss, acc = model.train_on_batch(xss, yss) # 배치만큼 모델에 학습\n",
        "\n",
        "        batch_train_loss.append(loss)\n",
        "        batch_train_acc.append(acc)\n",
        "\n",
        "    train_loss.append(np.mean(batch_train_loss))\n",
        "    train_acc.append(np.mean(batch_train_acc))\n",
        "\n",
        "    batch_val_loss = []\n",
        "    batch_val_acc = []\n",
        "\n",
        "    for i in range(val[0], val[1]):\n",
        "\n",
        "        xss = xs[i].reshape(1, 1, 45)\n",
        "        yss = ys[i].reshape(1, 45)\n",
        "\n",
        "        loss, acc = model.test_on_batch(xss, yss) # 배치만큼 모델에 입력하여 나온 결과를 정답과 비교함\n",
        "\n",
        "        batch_val_loss.append(loss)\n",
        "        batch_val_acc.append(acc)\n",
        "\n",
        "    val_loss.append(np.mean(batch_val_loss))\n",
        "    val_acc.append(np.mean(batch_val_acc))\n",
        "\n",
        "    print('epoch{0:4d}, acc {1:0.3f}, loss {2: 0.3f}, val_acc {3:0.3f}, val_loss {4:0.3f}'.format(epoch,\n",
        "                                                                                                  np.mean(batch_train_acc),\n",
        "                                                                                                  np.mean(batch_train_loss),\n",
        "                                                                                                  np.mean(batch_val_acc),\n",
        "                                                                                                  np.mean(batch_val_loss)))"
      ]
    },
    {
      "cell_type": "code",
      "execution_count": 10,
      "metadata": {
        "id": "bshpyH52ggwS",
        "colab": {
          "base_uri": "https://localhost:8080/",
          "height": 449
        },
        "outputId": "04dcf450-8df2-456a-9786-5155282398a3"
      },
      "outputs": [
        {
          "output_type": "display_data",
          "data": {
            "text/plain": [
              "<Figure size 640x480 with 2 Axes>"
            ],
            "image/png": "[encoded data removed]"
          },
          "metadata": {}
        }
      ],
      "source": [
        "%matplotlib inline\n",
        "import matplotlib.pyplot as plt\n",
        "\n",
        "fig, loss_ax = plt.subplots()\n",
        "\n",
        "acc_ax = loss_ax.twinx()\n",
        "\n",
        "loss_ax.plot(train_loss, 'y', label = 'train loss')\n",
        "loss_ax.plot(val_loss, 'r', label = 'val loss')\n",
        "\n",
        "acc_ax.plot(train_acc, 'b', label = 'train acc')\n",
        "acc_ax.plot(val_acc, 'g', label = 'val acc')\n",
        "\n",
        "loss_ax.set_xlabel('epoch')\n",
        "loss_ax.set_ylabel('epoch')\n",
        "acc_ax.set_ylabel('accracy')\n",
        "\n",
        "loss_ax.legend(loc = 'upper left')\n",
        "acc_ax.legend(loc = 'lower left')\n",
        "\n",
        "plt.show()\n",
        "# 이미 학습은 의미가 없다는 결론이 나옴"
      ]
    },
    {
      "cell_type": "code",
      "execution_count": 11,
      "metadata": {
        "colab": {
          "base_uri": "https://localhost:8080/"
        },
        "id": "mTiXpDcjx_As",
        "outputId": "2307d57b-c408-475b-e4cf-2a752a11ab71"
      },
      "outputs": [
        {
          "output_type": "stream",
          "name": "stdout",
          "text": [
            "epoch   0, acc 0.107, loss  0.030\n",
            "epoch   1, acc 0.108, loss  0.019\n",
            "epoch   2, acc 0.122, loss  0.014\n",
            "epoch   3, acc 0.138, loss  0.011\n",
            "epoch   4, acc 0.151, loss  0.009\n",
            "epoch   5, acc 0.161, loss  0.007\n",
            "epoch   6, acc 0.169, loss  0.006\n",
            "epoch   7, acc 0.176, loss  0.006\n",
            "epoch   8, acc 0.181, loss  0.005\n",
            "epoch   9, acc 0.185, loss  0.005\n",
            "epoch  10, acc 0.188, loss  0.004\n",
            "epoch  11, acc 0.190, loss  0.004\n",
            "epoch  12, acc 0.192, loss  0.004\n",
            "epoch  13, acc 0.193, loss  0.003\n",
            "epoch  14, acc 0.194, loss  0.003\n",
            "epoch  15, acc 0.194, loss  0.003\n",
            "epoch  16, acc 0.193, loss  0.003\n",
            "epoch  17, acc 0.191, loss  0.003\n",
            "epoch  18, acc 0.189, loss  0.003\n",
            "epoch  19, acc 0.186, loss  0.002\n",
            "epoch  20, acc 0.183, loss  0.002\n",
            "epoch  21, acc 0.180, loss  0.002\n",
            "epoch  22, acc 0.177, loss  0.002\n",
            "epoch  23, acc 0.174, loss  0.002\n",
            "epoch  24, acc 0.170, loss  0.002\n",
            "epoch  25, acc 0.167, loss  0.002\n",
            "epoch  26, acc 0.163, loss  0.002\n",
            "epoch  27, acc 0.160, loss  0.002\n",
            "epoch  28, acc 0.156, loss  0.002\n",
            "epoch  29, acc 0.153, loss  0.002\n",
            "epoch  30, acc 0.150, loss  0.002\n",
            "epoch  31, acc 0.147, loss  0.002\n",
            "epoch  32, acc 0.144, loss  0.001\n",
            "epoch  33, acc 0.141, loss  0.001\n",
            "epoch  34, acc 0.139, loss  0.001\n",
            "epoch  35, acc 0.136, loss  0.001\n",
            "epoch  36, acc 0.134, loss  0.001\n",
            "epoch  37, acc 0.132, loss  0.001\n",
            "epoch  38, acc 0.129, loss  0.001\n",
            "epoch  39, acc 0.127, loss  0.001\n",
            "epoch  40, acc 0.125, loss  0.001\n",
            "epoch  41, acc 0.123, loss  0.001\n",
            "epoch  42, acc 0.121, loss  0.001\n",
            "epoch  43, acc 0.119, loss  0.001\n",
            "epoch  44, acc 0.118, loss  0.001\n"
          ]
        }
      ],
      "source": [
        "# 모든 데이터를 학습용으로 사용\n",
        "for epoch in range(45):\n",
        "\n",
        "    model.reset_states()  # 중요! 매 에포크마다 1회부터 다시 훈련하므로 상태 초기화 필요\n",
        "\n",
        "    for i in range(len(xs)):\n",
        "\n",
        "      xss = xs[i].reshape(1, 1, 45)\n",
        "      yss - ys[i].reshape(1, 45)\n",
        "\n",
        "      loss, acc = model.train_on_batch(xss, yss) # 배치만큼 모델에 학습\n",
        "\n",
        "      batch_train_loss.append(loss)\n",
        "      batch_train_acc.append(acc)\n",
        "\n",
        "    train_loss.append(np.mean(batch_train_loss))\n",
        "    train_acc.append(np.mean(batch_train_acc))\n",
        "\n",
        "    print('epoch{0:4d}, acc {1:0.3f}, loss {2: 0.3f}'.format(epoch,\n",
        "                                                            np.mean(batch_train_acc),\n",
        "                                                            np.mean(batch_train_loss)\n",
        "                                                            ))\n",
        "\n"
      ]
    },
    {
      "cell_type": "code",
      "execution_count": 12,
      "metadata": {
        "colab": {
          "base_uri": "https://localhost:8080/"
        },
        "id": "ekjo8MBdx--s",
        "outputId": "fe4b133e-4221-4e51-8ebe-16c66a838df5"
      },
      "outputs": [
        {
          "output_type": "stream",
          "name": "stdout",
          "text": [
            "receive numbers\n"
          ]
        },
        {
          "output_type": "execute_result",
          "data": {
            "text/plain": [
              "[[6, 14, 18, 26, 36, 39]]"
            ]
          },
          "metadata": {},
          "execution_count": 12
        }
      ],
      "source": [
        "# 다음회 예측\n",
        "\n",
        "print('receive numbers')\n",
        "\n",
        "xss = xs[-1].reshape(1, 1, 45)\n",
        "\n",
        "pred = model.predict_on_batch(xss)\n",
        "pred\n",
        "\n",
        "luck = list(map(o2n, pred))\n",
        "luck\n",
        "\n",
        "# list_number = []\n",
        "\n",
        "# for n in range(6):\n",
        "#   numbers =pred\n",
        "  # numbers.sort()\n",
        "  # print('{0} : {1}'.format(n, numbers))\n",
        "  # list_numbers.append(numbers)"
      ]
    },
    {
      "cell_type": "code",
      "execution_count": 12,
      "metadata": {
        "id": "67xyP3Kf3WvN"
      },
      "outputs": [],
      "source": []
    }
  ],
  "metadata": {
    "accelerator": "GPU",
    "colab": {
      "gpuType": "T4",
      "provenance": [],
      "authorship_tag": "ABX9TyPG3pYp+3LV1Igul0hw7UPt",
      "include_colab_link": true
    },
    "kernelspec": {
      "display_name": "Python 3",
      "name": "python3"
    },
    "language_info": {
      "name": "python"
    }
  },
  "nbformat": 4,
  "nbformat_minor": 0
}