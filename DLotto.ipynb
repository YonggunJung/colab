{
  "cells": [
    {
      "cell_type": "markdown",
      "metadata": {
        "id": "view-in-github",
        "colab_type": "text"
      },
      "source": [
        "<a href=\"https://colab.research.google.com/github/YonggunJung/colab/blob/main/DLotto.ipynb\" target=\"_parent\"><img src=\"https://colab.research.google.com/assets/colab-badge.svg\" alt=\"Open In Colab\"/></a>"
      ]
    },
    {
      "cell_type": "code",
      "execution_count": 2,
      "metadata": {
        "colab": {
          "base_uri": "https://localhost:8080/"
        },
        "id": "EV0N-8-1wfGo",
        "outputId": "65e5ea59-ab6e-4367-c287-a4deba498e29"
      },
      "outputs": [
        {
          "output_type": "stream",
          "name": "stdout",
          "text": [
            "Mounted at /content/drive\n"
          ]
        }
      ],
      "source": [
        "from google.colab import drive\n",
        "drive.mount('/content/drive')"
      ]
    },
    {
      "cell_type": "code",
      "execution_count": 3,
      "metadata": {
        "id": "6OK4eW92wov0"
      },
      "outputs": [],
      "source": [
        "import pandas as pd\n",
        "import numpy as np\n",
        "import warnings\n",
        "warnings.filterwarnings('ignore')"
      ]
    },
    {
      "cell_type": "code",
      "execution_count": 4,
      "metadata": {
        "colab": {
          "base_uri": "https://localhost:8080/"
        },
        "id": "227wJo0xYVaV",
        "outputId": "fdc4519e-a580-4fc1-be20-b73cc146f9a5"
      },
      "outputs": [
        {
          "output_type": "execute_result",
          "data": {
            "text/plain": [
              "array([[ 4.,  7., 17., 18., 38., 44.],\n",
              "       [ 8., 12., 13., 29., 33., 42.],\n",
              "       [ 3.,  7., 14., 15., 22., 38.],\n",
              "       ...,\n",
              "       [ 3.,  6., 21., 30., 34., 35.],\n",
              "       [13., 19., 21., 24., 34., 35.],\n",
              "       [ 3.,  8., 17., 30., 33., 34.]])"
            ]
          },
          "metadata": {},
          "execution_count": 4
        }
      ],
      "source": [
        "win = np.loadtxt('/content/drive/MyDrive/Colab Notebooks/로또/data/jlotto.csv', delimiter = ',')\n",
        "win"
      ]
    },
    {
      "cell_type": "code",
      "execution_count": 5,
      "metadata": {
        "id": "GS0NAmQGw74-"
      },
      "outputs": [],
      "source": [
        "xn = len(win)"
      ]
    },
    {
      "cell_type": "code",
      "execution_count": 6,
      "metadata": {
        "id": "gG4RnEQzhKPx"
      },
      "outputs": [],
      "source": [
        "# 숫자를 원핫 인코딩으로 변환\n",
        "def n2o(numbers):\n",
        "\n",
        "  oh = np.zeros(45)  # 45개의 빈 칸 만들기\n",
        "\n",
        "  for i in range(6):            # 6개의 당첨번호를 반복\n",
        "      oh[int(numbers[i])-1] = 1   # 번호는 1부터 시작하고 인덱스는 0부터 시작하니 1을 빼줌\n",
        "\n",
        "  return oh\n",
        "\n",
        "# 원핫 인코딩을 숫자로 변환\n",
        "def o2n(oh):\n",
        "\n",
        "  numbers = []\n",
        "\n",
        "  for i in range(len(oh)):\n",
        "    if oh[i] == 1:           # oh[i]이 1 이면 해당 번호를 출력\n",
        "      numbers.append(i+1)    # 인덱스 보다 숫자가 1크니까 1더해줌 출력\n",
        "\n",
        "  return numbers"
      ]
    },
    {
      "cell_type": "code",
      "execution_count": 7,
      "metadata": {
        "colab": {
          "base_uri": "https://localhost:8080/"
        },
        "id": "XCSHMDUUvRZf",
        "outputId": "bebb086f-c784-4b1b-8c65-e2ec6f69faa3"
      },
      "outputs": [
        {
          "output_type": "stream",
          "name": "stdout",
          "text": [
            "ohs\n",
            "x[0] :[0. 0. 0. 1. 0. 0. 1. 0. 0. 0. 0. 0. 0. 0. 0. 0. 1. 1. 0. 0. 0. 0. 0. 0.\n",
            " 0. 0. 0. 0. 0. 0. 0. 0. 0. 0. 0. 0. 0. 1. 0. 0. 0. 0. 0. 1. 0.]\n",
            "y[0] :[0. 0. 0. 0. 0. 0. 0. 1. 0. 0. 0. 1. 1. 0. 0. 0. 0. 0. 0. 0. 0. 0. 0. 0.\n",
            " 0. 0. 0. 0. 1. 0. 0. 0. 1. 0. 0. 0. 0. 0. 0. 0. 0. 1. 0. 0. 0.]\n",
            "numbers\n",
            "x[0] :[4, 7, 17, 18, 38, 44]\n",
            "y[0] :[8, 12, 13, 29, 33, 42]\n"
          ]
        }
      ],
      "source": [
        "numbers = win[: , :]  # 이게 문제라서 못 하겠음ㅠ 데이터 프레임이 문제인가?\n",
        "                      # 데이터 프레임으로 안열고 넘파이 텍스트 파일로 가져오니 됨\n",
        "ohs = list(map(n2o, numbers))\n",
        "\n",
        "xs = ohs[0:xn -1]\n",
        "ys = ohs[1:xn]\n",
        "\n",
        "# 원핫 인코딩 확인\n",
        "print('ohs')\n",
        "print('x[0] :' + str(xs[0]))\n",
        "print('y[0] :' + str(ys[0]))\n",
        "\n",
        "# 번호 확인\n",
        "print('numbers')\n",
        "print('x[0] :' + str(o2n(xs[0])))\n",
        "print('y[0] :' + str(o2n(ys[0])))"
      ]
    },
    {
      "cell_type": "code",
      "execution_count": 8,
      "metadata": {
        "colab": {
          "base_uri": "https://localhost:8080/"
        },
        "id": "8WuoR8jggg2_",
        "outputId": "501d962b-305d-45eb-b824-7a374c999124"
      },
      "outputs": [
        {
          "output_type": "stream",
          "name": "stdout",
          "text": [
            "train : (0, 674), val : (674, 899), test : (899, 1124)\n"
          ]
        }
      ],
      "source": [
        "train = (0, int(len(win)*0.6))\n",
        "val = (int(len(win)*0.6), int(len(win)*0.8))\n",
        "test = (int(len(win)*0.8), len(win))\n",
        "\n",
        "print('train : {0}, val : {1}, test : {2}'.format(train, val, test))"
      ]
    },
    {
      "cell_type": "code",
      "execution_count": 9,
      "metadata": {
        "id": "VNx80jYjgg0y"
      },
      "outputs": [],
      "source": [
        "import tensorflow as tf\n",
        "from tensorflow import keras\n",
        "from tensorflow.keras import layers\n",
        "from tensorflow.keras import models\n",
        "\n",
        "# 모델 정의\n",
        "model = keras.Sequential([\n",
        "    keras.layers.LSTM(128, batch_input_shape = (1, 1, 45),\n",
        "                      return_sequences = False,\n",
        "                      stateful = True),\n",
        "    keras.layers.Dense(45, activation = 'sigmoid')\n",
        "])\n",
        "\n",
        "# 모델 컴파일\n",
        "model.compile(loss = 'binary_crossentropy', optimizer = 'adam', metrics = ['accuracy'])"
      ]
    },
    {
      "cell_type": "code",
      "execution_count": 10,
      "metadata": {
        "colab": {
          "base_uri": "https://localhost:8080/"
        },
        "id": "psqZd4_Nggyf",
        "outputId": "f5f9bbc9-7a78-46fa-ff0c-83ba44f4f46f"
      },
      "outputs": [
        {
          "output_type": "stream",
          "name": "stdout",
          "text": [
            "epoch   0, acc 0.031, loss  0.409, val_acc 0.000, val_loss 0.401\n",
            "epoch   1, acc 0.030, loss  0.396, val_acc 0.000, val_loss 0.400\n",
            "epoch   2, acc 0.025, loss  0.394, val_acc 0.000, val_loss 0.400\n",
            "epoch   3, acc 0.024, loss  0.391, val_acc 0.000, val_loss 0.401\n",
            "epoch   4, acc 0.030, loss  0.387, val_acc 0.009, val_loss 0.403\n",
            "epoch   5, acc 0.042, loss  0.381, val_acc 0.004, val_loss 0.407\n",
            "epoch   6, acc 0.056, loss  0.375, val_acc 0.013, val_loss 0.410\n",
            "epoch   7, acc 0.059, loss  0.369, val_acc 0.018, val_loss 0.414\n",
            "epoch   8, acc 0.065, loss  0.363, val_acc 0.018, val_loss 0.417\n",
            "epoch   9, acc 0.067, loss  0.357, val_acc 0.018, val_loss 0.421\n",
            "epoch  10, acc 0.073, loss  0.350, val_acc 0.018, val_loss 0.425\n",
            "epoch  11, acc 0.079, loss  0.343, val_acc 0.022, val_loss 0.430\n",
            "epoch  12, acc 0.086, loss  0.336, val_acc 0.027, val_loss 0.434\n",
            "epoch  13, acc 0.096, loss  0.327, val_acc 0.036, val_loss 0.440\n",
            "epoch  14, acc 0.114, loss  0.319, val_acc 0.040, val_loss 0.446\n",
            "epoch  15, acc 0.128, loss  0.309, val_acc 0.027, val_loss 0.453\n",
            "epoch  16, acc 0.135, loss  0.299, val_acc 0.031, val_loss 0.460\n",
            "epoch  17, acc 0.142, loss  0.288, val_acc 0.031, val_loss 0.467\n",
            "epoch  18, acc 0.139, loss  0.277, val_acc 0.031, val_loss 0.475\n",
            "epoch  19, acc 0.151, loss  0.266, val_acc 0.036, val_loss 0.483\n",
            "epoch  20, acc 0.157, loss  0.255, val_acc 0.027, val_loss 0.492\n",
            "epoch  21, acc 0.154, loss  0.243, val_acc 0.031, val_loss 0.502\n",
            "epoch  22, acc 0.157, loss  0.231, val_acc 0.031, val_loss 0.513\n",
            "epoch  23, acc 0.163, loss  0.220, val_acc 0.027, val_loss 0.525\n",
            "epoch  24, acc 0.154, loss  0.210, val_acc 0.027, val_loss 0.538\n",
            "epoch  25, acc 0.162, loss  0.199, val_acc 0.031, val_loss 0.551\n",
            "epoch  26, acc 0.165, loss  0.189, val_acc 0.027, val_loss 0.564\n",
            "epoch  27, acc 0.169, loss  0.179, val_acc 0.031, val_loss 0.579\n",
            "epoch  28, acc 0.162, loss  0.170, val_acc 0.031, val_loss 0.593\n",
            "epoch  29, acc 0.157, loss  0.160, val_acc 0.027, val_loss 0.609\n",
            "epoch  30, acc 0.142, loss  0.152, val_acc 0.027, val_loss 0.620\n",
            "epoch  31, acc 0.166, loss  0.144, val_acc 0.022, val_loss 0.628\n",
            "epoch  32, acc 0.180, loss  0.139, val_acc 0.031, val_loss 0.640\n",
            "epoch  33, acc 0.175, loss  0.131, val_acc 0.031, val_loss 0.652\n",
            "epoch  34, acc 0.182, loss  0.127, val_acc 0.031, val_loss 0.663\n",
            "epoch  35, acc 0.177, loss  0.117, val_acc 0.027, val_loss 0.681\n",
            "epoch  36, acc 0.180, loss  0.111, val_acc 0.018, val_loss 0.689\n",
            "epoch  37, acc 0.188, loss  0.105, val_acc 0.027, val_loss 0.703\n",
            "epoch  38, acc 0.171, loss  0.102, val_acc 0.013, val_loss 0.711\n",
            "epoch  39, acc 0.190, loss  0.099, val_acc 0.022, val_loss 0.722\n",
            "epoch  40, acc 0.159, loss  0.089, val_acc 0.018, val_loss 0.741\n",
            "epoch  41, acc 0.157, loss  0.085, val_acc 0.022, val_loss 0.746\n",
            "epoch  42, acc 0.154, loss  0.078, val_acc 0.027, val_loss 0.762\n",
            "epoch  43, acc 0.153, loss  0.079, val_acc 0.027, val_loss 0.759\n",
            "epoch  44, acc 0.163, loss  0.075, val_acc 0.027, val_loss 0.777\n",
            "epoch  45, acc 0.148, loss  0.068, val_acc 0.022, val_loss 0.786\n",
            "epoch  46, acc 0.148, loss  0.067, val_acc 0.018, val_loss 0.798\n",
            "epoch  47, acc 0.159, loss  0.064, val_acc 0.018, val_loss 0.806\n",
            "epoch  48, acc 0.150, loss  0.059, val_acc 0.018, val_loss 0.818\n",
            "epoch  49, acc 0.156, loss  0.060, val_acc 0.022, val_loss 0.829\n",
            "epoch  50, acc 0.147, loss  0.056, val_acc 0.022, val_loss 0.840\n",
            "epoch  51, acc 0.144, loss  0.051, val_acc 0.027, val_loss 0.851\n",
            "epoch  52, acc 0.153, loss  0.049, val_acc 0.027, val_loss 0.878\n",
            "epoch  53, acc 0.134, loss  0.047, val_acc 0.027, val_loss 0.879\n",
            "epoch  54, acc 0.150, loss  0.046, val_acc 0.022, val_loss 0.883\n",
            "epoch  55, acc 0.175, loss  0.040, val_acc 0.022, val_loss 0.901\n",
            "epoch  56, acc 0.175, loss  0.040, val_acc 0.013, val_loss 0.902\n",
            "epoch  57, acc 0.159, loss  0.035, val_acc 0.027, val_loss 0.922\n",
            "epoch  58, acc 0.153, loss  0.033, val_acc 0.022, val_loss 0.940\n",
            "epoch  59, acc 0.187, loss  0.034, val_acc 0.027, val_loss 0.945\n"
          ]
        }
      ],
      "source": [
        "# 매 에포크마다 훈련과 검증의 손실 및 정확도를 기록하기 위한 변수\n",
        "train_loss = []\n",
        "train_acc = []\n",
        "val_loss = []\n",
        "val_acc = []\n",
        "\n",
        "# 최대 100번 에포크까지 수행\n",
        "for epoch in range(60):\n",
        "    model.reset_states()  # 중요! 매 에포크마다 1회부터 다시 훈련하므로 상태 초기화 필요\n",
        "\n",
        "    batch_train_loss = []\n",
        "    batch_train_acc = []\n",
        "\n",
        "    for i in range(train[0], train[1]):\n",
        "\n",
        "        xss = xs[i].reshape(1, 1, 45)\n",
        "        yss = ys[i].reshape(1, 45)\n",
        "\n",
        "        loss, acc = model.train_on_batch(xss, yss) # 배치만큼 모델에 학습\n",
        "\n",
        "        batch_train_loss.append(loss)\n",
        "        batch_train_acc.append(acc)\n",
        "\n",
        "    train_loss.append(np.mean(batch_train_loss))\n",
        "    train_acc.append(np.mean(batch_train_acc))\n",
        "\n",
        "    batch_val_loss = []\n",
        "    batch_val_acc = []\n",
        "\n",
        "    for i in range(val[0], val[1]):\n",
        "\n",
        "        xss = xs[i].reshape(1, 1, 45)\n",
        "        yss = ys[i].reshape(1, 45)\n",
        "\n",
        "        loss, acc = model.test_on_batch(xss, yss) # 배치만큼 모델에 입력하여 나온 결과를 정답과 비교함\n",
        "\n",
        "        batch_val_loss.append(loss)\n",
        "        batch_val_acc.append(acc)\n",
        "\n",
        "    val_loss.append(np.mean(batch_val_loss))\n",
        "    val_acc.append(np.mean(batch_val_acc))\n",
        "\n",
        "    print('epoch{0:4d}, acc {1:0.3f}, loss {2: 0.3f}, val_acc {3:0.3f}, val_loss {4:0.3f}'.format(epoch,\n",
        "                                                                                                  np.mean(batch_train_acc),\n",
        "                                                                                                  np.mean(batch_train_loss),\n",
        "                                                                                                  np.mean(batch_val_acc),\n",
        "                                                                                                  np.mean(batch_val_loss)))"
      ]
    },
    {
      "cell_type": "code",
      "execution_count": 11,
      "metadata": {
        "id": "bshpyH52ggwS",
        "colab": {
          "base_uri": "https://localhost:8080/",
          "height": 449
        },
        "outputId": "3c3c5b4b-770f-4d2b-f45b-5c2727d4d92a"
      },
      "outputs": [
        {
          "output_type": "display_data",
          "data": {
            "text/plain": [
              "<Figure size 640x480 with 2 Axes>"
            ],
            "image/png": "[encoded data removed]"
          },
          "metadata": {}
        }
      ],
      "source": [
        "%matplotlib inline\n",
        "import matplotlib.pyplot as plt\n",
        "\n",
        "fig, loss_ax = plt.subplots()\n",
        "\n",
        "acc_ax = loss_ax.twinx()\n",
        "\n",
        "loss_ax.plot(train_loss, 'y', label = 'train loss')\n",
        "loss_ax.plot(val_loss, 'r', label = 'val loss')\n",
        "\n",
        "acc_ax.plot(train_acc, 'b', label = 'train acc')\n",
        "acc_ax.plot(val_acc, 'g', label = 'val acc')\n",
        "\n",
        "loss_ax.set_xlabel('epoch')\n",
        "loss_ax.set_ylabel('epoch')\n",
        "acc_ax.set_ylabel('accracy')\n",
        "\n",
        "loss_ax.legend(loc = 'upper left')\n",
        "acc_ax.legend(loc = 'lower left')\n",
        "\n",
        "plt.show()\n",
        "# 이미 학습은 의미가 없다는 결론이 나옴"
      ]
    },
    {
      "cell_type": "code",
      "execution_count": 12,
      "metadata": {
        "colab": {
          "base_uri": "https://localhost:8080/"
        },
        "id": "mTiXpDcjx_As",
        "outputId": "f3480e3d-8be3-404b-c415-81894de06659"
      },
      "outputs": [
        {
          "output_type": "stream",
          "name": "stdout",
          "text": [
            "epoch   0, acc 0.248, loss  0.024\n",
            "epoch   1, acc 0.247, loss  0.015\n",
            "epoch   2, acc 0.237, loss  0.011\n",
            "epoch   3, acc 0.227, loss  0.009\n",
            "epoch   4, acc 0.217, loss  0.007\n",
            "epoch   5, acc 0.208, loss  0.006\n",
            "epoch   6, acc 0.198, loss  0.005\n",
            "epoch   7, acc 0.189, loss  0.005\n",
            "epoch   8, acc 0.183, loss  0.004\n",
            "epoch   9, acc 0.178, loss  0.004\n",
            "epoch  10, acc 0.174, loss  0.003\n",
            "epoch  11, acc 0.171, loss  0.003\n",
            "epoch  12, acc 0.168, loss  0.003\n",
            "epoch  13, acc 0.167, loss  0.003\n",
            "epoch  14, acc 0.166, loss  0.003\n",
            "epoch  15, acc 0.165, loss  0.002\n",
            "epoch  16, acc 0.165, loss  0.002\n",
            "epoch  17, acc 0.165, loss  0.002\n",
            "epoch  18, acc 0.166, loss  0.002\n",
            "epoch  19, acc 0.166, loss  0.002\n",
            "epoch  20, acc 0.167, loss  0.002\n",
            "epoch  21, acc 0.167, loss  0.002\n",
            "epoch  22, acc 0.167, loss  0.002\n",
            "epoch  23, acc 0.168, loss  0.002\n",
            "epoch  24, acc 0.168, loss  0.002\n",
            "epoch  25, acc 0.168, loss  0.001\n",
            "epoch  26, acc 0.168, loss  0.001\n",
            "epoch  27, acc 0.169, loss  0.001\n",
            "epoch  28, acc 0.169, loss  0.001\n",
            "epoch  29, acc 0.169, loss  0.001\n",
            "epoch  30, acc 0.169, loss  0.001\n",
            "epoch  31, acc 0.169, loss  0.001\n",
            "epoch  32, acc 0.170, loss  0.001\n",
            "epoch  33, acc 0.170, loss  0.001\n",
            "epoch  34, acc 0.170, loss  0.001\n",
            "epoch  35, acc 0.170, loss  0.001\n",
            "epoch  36, acc 0.170, loss  0.001\n",
            "epoch  37, acc 0.170, loss  0.001\n",
            "epoch  38, acc 0.170, loss  0.001\n",
            "epoch  39, acc 0.170, loss  0.001\n",
            "epoch  40, acc 0.170, loss  0.001\n",
            "epoch  41, acc 0.170, loss  0.001\n",
            "epoch  42, acc 0.170, loss  0.001\n",
            "epoch  43, acc 0.170, loss  0.001\n",
            "epoch  44, acc 0.170, loss  0.001\n"
          ]
        }
      ],
      "source": [
        "# 모든 데이터를 학습용으로 사용\n",
        "for epoch in range(45):\n",
        "\n",
        "    model.reset_states()  # 중요! 매 에포크마다 1회부터 다시 훈련하므로 상태 초기화 필요\n",
        "\n",
        "    for i in range(len(xs)):\n",
        "\n",
        "      xss = xs[i].reshape(1, 1, 45)\n",
        "      yss - ys[i].reshape(1, 45)\n",
        "\n",
        "      loss, acc = model.train_on_batch(xss, yss) # 배치만큼 모델에 학습\n",
        "\n",
        "      batch_train_loss.append(loss)\n",
        "      batch_train_acc.append(acc)\n",
        "\n",
        "    train_loss.append(np.mean(batch_train_loss))\n",
        "    train_acc.append(np.mean(batch_train_acc))\n",
        "\n",
        "    print('epoch{0:4d}, acc {1:0.3f}, loss {2: 0.3f}'.format(epoch,\n",
        "                                                            np.mean(batch_train_acc),\n",
        "                                                            np.mean(batch_train_loss)\n",
        "                                                            ))\n",
        "\n"
      ]
    },
    {
      "cell_type": "code",
      "execution_count": 13,
      "metadata": {
        "colab": {
          "base_uri": "https://localhost:8080/"
        },
        "id": "ekjo8MBdx--s",
        "outputId": "a4ba0c8a-4e71-48be-dc9a-481d75d4f870"
      },
      "outputs": [
        {
          "output_type": "stream",
          "name": "stdout",
          "text": [
            "receive numbers\n"
          ]
        },
        {
          "output_type": "execute_result",
          "data": {
            "text/plain": [
              "[[4, 10, 14, 19, 21, 45]]"
            ]
          },
          "metadata": {},
          "execution_count": 13
        }
      ],
      "source": [
        "# 다음회 예측\n",
        "\n",
        "print('receive numbers')\n",
        "\n",
        "xss = xs[-1].reshape(1, 1, 45)\n",
        "\n",
        "pred = model.predict_on_batch(xss)\n",
        "pred\n",
        "\n",
        "luck = list(map(o2n, pred))\n",
        "luck\n",
        "\n",
        "# list_number = []\n",
        "\n",
        "# for n in range(6):\n",
        "#   numbers =pred\n",
        "  # numbers.sort()\n",
        "  # print('{0} : {1}'.format(n, numbers))\n",
        "  # list_numbers.append(numbers)"
      ]
    },
    {
      "cell_type": "code",
      "execution_count": 13,
      "metadata": {
        "id": "67xyP3Kf3WvN"
      },
      "outputs": [],
      "source": []
    }
  ],
  "metadata": {
    "accelerator": "GPU",
    "colab": {
      "gpuType": "T4",
      "provenance": [],
      "authorship_tag": "ABX9TyNl61053zvek3GWs9HQK2ix",
      "include_colab_link": true
    },
    "kernelspec": {
      "display_name": "Python 3",
      "name": "python3"
    },
    "language_info": {
      "name": "python"
    }
  },
  "nbformat": 4,
  "nbformat_minor": 0
}