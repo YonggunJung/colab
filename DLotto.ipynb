{
  "nbformat": 4,
  "nbformat_minor": 0,
  "metadata": {
    "colab": {
      "provenance": [],
      "gpuType": "T4",
      "authorship_tag": "ABX9TyOa8+ev40v8greHHsnZ+XnR",
      "include_colab_link": true
    },
    "kernelspec": {
      "name": "python3",
      "display_name": "Python 3"
    },
    "language_info": {
      "name": "python"
    },
    "accelerator": "GPU"
  },
  "cells": [
    {
      "cell_type": "markdown",
      "metadata": {
        "id": "view-in-github",
        "colab_type": "text"
      },
      "source": [
        "<a href=\"https://colab.research.google.com/github/YonggunJung/colab/blob/main/DLotto.ipynb\" target=\"_parent\"><img src=\"https://colab.research.google.com/assets/colab-badge.svg\" alt=\"Open In Colab\"/></a>"
      ]
    },
    {
      "cell_type": "code",
      "execution_count": null,
      "metadata": {
        "colab": {
          "base_uri": "https://localhost:8080/"
        },
        "id": "EV0N-8-1wfGo",
        "outputId": "2910bafa-ef55-4a13-a46a-d426f8fc0846"
      },
      "outputs": [
        {
          "output_type": "stream",
          "name": "stdout",
          "text": [
            "Mounted at /content/drive\n"
          ]
        }
      ],
      "source": [
        "from google.colab import drive\n",
        "drive.mount('/content/drive')"
      ]
    },
    {
      "cell_type": "code",
      "source": [
        "import pandas as pd\n",
        "import numpy as np\n",
        "import warnings\n",
        "warnings.filterwarnings('ignore')"
      ],
      "metadata": {
        "id": "6OK4eW92wov0"
      },
      "execution_count": null,
      "outputs": []
    },
    {
      "cell_type": "code",
      "source": [
        "win = np.loadtxt('/content/drive/MyDrive/Colab Notebooks/로또/data/jlotto.csv', delimiter = ',')\n",
        "win"
      ],
      "metadata": {
        "colab": {
          "base_uri": "https://localhost:8080/"
        },
        "id": "227wJo0xYVaV",
        "outputId": "ebea0436-fd21-48c7-cfe3-3b8ec8ca1d2c"
      },
      "execution_count": null,
      "outputs": [
        {
          "output_type": "execute_result",
          "data": {
            "text/plain": [
              "array([[ 4.,  7., 17., 18., 38., 44.],\n",
              "       [ 8., 12., 13., 29., 33., 42.],\n",
              "       [ 3.,  7., 14., 15., 22., 38.],\n",
              "       ...,\n",
              "       [ 6.,  7., 13., 28., 36., 42.],\n",
              "       [13., 14., 22., 26., 37., 38.],\n",
              "       [10., 12., 29., 31., 40., 44.]])"
            ]
          },
          "metadata": {},
          "execution_count": 3
        }
      ]
    },
    {
      "cell_type": "code",
      "source": [
        "xn = len(win)"
      ],
      "metadata": {
        "id": "GS0NAmQGw74-"
      },
      "execution_count": null,
      "outputs": []
    },
    {
      "cell_type": "code",
      "source": [
        "# 숫자를 원핫 인코딩으로 변환\n",
        "def n2o(numbers):\n",
        "\n",
        "  oh = np.zeros(45)  # 45개의 빈 칸 만들기\n",
        "\n",
        "  for i in range(6):            # 6개의 당첨번호를 반복\n",
        "      oh[int(numbers[i])-1] = 1   # 번호는 1부터 시작하고 인덱스는 0부터 시작하니 1을 빼줌\n",
        "\n",
        "  return oh\n",
        "\n",
        "# 원핫 인코딩을 숫자로 변환\n",
        "def o2n(oh):\n",
        "\n",
        "  numbers = []\n",
        "\n",
        "  for i in range(len(oh)):\n",
        "    if oh[i] == 1:           # oh[i]이 1 이면 해당 번호를 출력\n",
        "      numbers.append(i+1)    # 인덱스 보다 숫자가 1크니까 1더해줌 출력\n",
        "\n",
        "  return numbers"
      ],
      "metadata": {
        "id": "gG4RnEQzhKPx"
      },
      "execution_count": null,
      "outputs": []
    },
    {
      "cell_type": "code",
      "source": [
        "numbers = win[: , :]  # 이게 문제라서 못 하겠음ㅠ 데이터 프레임이 문제인가?\n",
        "                      # 데이터 프레임으로 안열고 넘파이 텍스트 파일로 가져오니 됨\n",
        "ohs = list(map(n2o, numbers))\n",
        "\n",
        "xs = ohs[0:xn -1]\n",
        "ys = ohs[1:xn]\n",
        "\n",
        "# 원핫 인코딩 확인\n",
        "print('ohs')\n",
        "print('x[0] :' + str(xs[0]))\n",
        "print('y[0] :' + str(ys[0]))\n",
        "\n",
        "# 번호 확인\n",
        "print('numbers')\n",
        "print('x[0] :' + str(o2n(xs[0])))\n",
        "print('y[0] :' + str(o2n(ys[0])))"
      ],
      "metadata": {
        "colab": {
          "base_uri": "https://localhost:8080/"
        },
        "id": "XCSHMDUUvRZf",
        "outputId": "4ee7698b-684e-4c0c-8c11-373bcc9c7b6f"
      },
      "execution_count": null,
      "outputs": [
        {
          "output_type": "stream",
          "name": "stdout",
          "text": [
            "ohs\n",
            "x[0] :[0. 0. 0. 1. 0. 0. 1. 0. 0. 0. 0. 0. 0. 0. 0. 0. 1. 1. 0. 0. 0. 0. 0. 0.\n",
            " 0. 0. 0. 0. 0. 0. 0. 0. 0. 0. 0. 0. 0. 1. 0. 0. 0. 0. 0. 1. 0.]\n",
            "y[0] :[0. 0. 0. 0. 0. 0. 0. 1. 0. 0. 0. 1. 1. 0. 0. 0. 0. 0. 0. 0. 0. 0. 0. 0.\n",
            " 0. 0. 0. 0. 1. 0. 0. 0. 1. 0. 0. 0. 0. 0. 0. 0. 0. 1. 0. 0. 0.]\n",
            "numbers\n",
            "x[0] :[4, 7, 17, 18, 38, 44]\n",
            "y[0] :[8, 12, 13, 29, 33, 42]\n"
          ]
        }
      ]
    },
    {
      "cell_type": "code",
      "source": [
        "train = (0, int(len(win)*0.6))\n",
        "val = (int(len(win)*0.6), int(len(win)*0.8))\n",
        "test = (int(len(win)*0.8), len(win))\n",
        "\n",
        "print('train : {0}, val : {1}, test : {2}'.format(train, val, test))"
      ],
      "metadata": {
        "colab": {
          "base_uri": "https://localhost:8080/"
        },
        "id": "8WuoR8jggg2_",
        "outputId": "cc643b74-987e-4331-aafe-537344e6b0e3"
      },
      "execution_count": null,
      "outputs": [
        {
          "output_type": "stream",
          "name": "stdout",
          "text": [
            "train : (0, 661), val : (661, 882), test : (882, 1103)\n"
          ]
        }
      ]
    },
    {
      "cell_type": "code",
      "source": [
        "import tensorflow as tf\n",
        "from tensorflow import keras\n",
        "from tensorflow.keras import layers\n",
        "from tensorflow.keras import models\n",
        "\n",
        "# 모델 정의\n",
        "model = keras.Sequential([\n",
        "    keras.layers.LSTM(128, batch_input_shape = (1, 1, 45),\n",
        "                      return_sequences = False,\n",
        "                      stateful = True),\n",
        "    keras.layers.Dense(45, activation = 'sigmoid')\n",
        "])\n",
        "\n",
        "# 모델 컴파일\n",
        "model.compile(loss = 'binary_crossentropy', optimizer = 'adam', metrics = ['accuracy'])"
      ],
      "metadata": {
        "id": "VNx80jYjgg0y"
      },
      "execution_count": null,
      "outputs": []
    },
    {
      "cell_type": "code",
      "source": [
        "# 매 에포크마다 훈련과 검증의 손실 및 정확도를 기록하기 위한 변수\n",
        "train_loss = []\n",
        "train_acc = []\n",
        "val_loss = []\n",
        "val_acc = []\n",
        "\n",
        "# 최대 100번 에포크까지 수행\n",
        "for epoch in range(100):\n",
        "    model.reset_states()  # 중요! 매 에포크마다 1회부터 다시 훈련하므로 상태 초기화 필요\n",
        "\n",
        "    batch_train_loss = []\n",
        "    batch_train_acc = []\n",
        "\n",
        "    for i in range(train[0], train[1]):\n",
        "\n",
        "        xss = xs[i].reshape(1, 1, 45)\n",
        "        yss = ys[i].reshape(1, 45)\n",
        "\n",
        "        loss, acc = model.train_on_batch(xss, yss) # 배치만큼 모델에 학습\n",
        "\n",
        "        batch_train_loss.append(loss)\n",
        "        batch_train_acc.append(acc)\n",
        "\n",
        "    train_loss.append(np.mean(batch_train_loss))\n",
        "    train_acc.append(np.mean(batch_train_acc))\n",
        "\n",
        "    batch_val_loss = []\n",
        "    batch_val_acc = []\n",
        "\n",
        "    for i in range(val[0], val[1]):\n",
        "\n",
        "        xss = xs[i].reshape(1, 1, 45)\n",
        "        yss = ys[i].reshape(1, 45)\n",
        "\n",
        "        loss, acc = model.test_on_batch(xss, yss) # 배치만큼 모델에 입력하여 나온 결과를 정답과 비교함\n",
        "\n",
        "        batch_val_loss.append(loss)\n",
        "        batch_val_acc.append(acc)\n",
        "\n",
        "    val_loss.append(np.mean(batch_val_loss))\n",
        "    val_acc.append(np.mean(batch_val_acc))\n",
        "\n",
        "    print('epoch{0:4d}, acc {1:0.3f}, loss {2: 0.3f}, val_acc {3:0.3f}, val_loss {4:0.3f}'.format(epoch,\n",
        "                                                                                                  np.mean(batch_train_acc),\n",
        "                                                                                                  np.mean(batch_train_loss),\n",
        "                                                                                                  np.mean(batch_val_acc),\n",
        "                                                                                                  np.mean(batch_val_loss)))"
      ],
      "metadata": {
        "colab": {
          "base_uri": "https://localhost:8080/"
        },
        "id": "psqZd4_Nggyf",
        "outputId": "b17003ab-26f0-458e-ffd3-a6d649d04b22"
      },
      "execution_count": null,
      "outputs": [
        {
          "output_type": "stream",
          "name": "stdout",
          "text": [
            "epoch   0, acc 0.026, loss  0.411, val_acc 0.000, val_loss 0.400\n",
            "epoch   1, acc 0.021, loss  0.396, val_acc 0.000, val_loss 0.399\n",
            "epoch   2, acc 0.021, loss  0.394, val_acc 0.000, val_loss 0.399\n",
            "epoch   3, acc 0.035, loss  0.391, val_acc 0.005, val_loss 0.399\n",
            "epoch   4, acc 0.038, loss  0.388, val_acc 0.018, val_loss 0.401\n",
            "epoch   5, acc 0.044, loss  0.383, val_acc 0.023, val_loss 0.403\n",
            "epoch   6, acc 0.050, loss  0.377, val_acc 0.032, val_loss 0.407\n",
            "epoch   7, acc 0.061, loss  0.370, val_acc 0.036, val_loss 0.410\n",
            "epoch   8, acc 0.071, loss  0.364, val_acc 0.045, val_loss 0.414\n",
            "epoch   9, acc 0.076, loss  0.357, val_acc 0.045, val_loss 0.419\n",
            "epoch  10, acc 0.082, loss  0.350, val_acc 0.045, val_loss 0.423\n",
            "epoch  11, acc 0.088, loss  0.343, val_acc 0.041, val_loss 0.429\n",
            "epoch  12, acc 0.100, loss  0.335, val_acc 0.041, val_loss 0.434\n",
            "epoch  13, acc 0.112, loss  0.327, val_acc 0.041, val_loss 0.439\n",
            "epoch  14, acc 0.118, loss  0.318, val_acc 0.032, val_loss 0.445\n",
            "epoch  15, acc 0.126, loss  0.308, val_acc 0.032, val_loss 0.451\n",
            "epoch  16, acc 0.130, loss  0.298, val_acc 0.032, val_loss 0.457\n",
            "epoch  17, acc 0.138, loss  0.287, val_acc 0.032, val_loss 0.463\n",
            "epoch  18, acc 0.144, loss  0.276, val_acc 0.027, val_loss 0.470\n",
            "epoch  19, acc 0.151, loss  0.265, val_acc 0.018, val_loss 0.478\n",
            "epoch  20, acc 0.157, loss  0.253, val_acc 0.018, val_loss 0.486\n",
            "epoch  21, acc 0.148, loss  0.241, val_acc 0.018, val_loss 0.495\n",
            "epoch  22, acc 0.162, loss  0.229, val_acc 0.014, val_loss 0.504\n",
            "epoch  23, acc 0.165, loss  0.217, val_acc 0.018, val_loss 0.514\n",
            "epoch  24, acc 0.156, loss  0.206, val_acc 0.023, val_loss 0.523\n",
            "epoch  25, acc 0.150, loss  0.195, val_acc 0.018, val_loss 0.532\n",
            "epoch  26, acc 0.163, loss  0.185, val_acc 0.014, val_loss 0.546\n",
            "epoch  27, acc 0.156, loss  0.177, val_acc 0.014, val_loss 0.558\n",
            "epoch  28, acc 0.169, loss  0.170, val_acc 0.027, val_loss 0.571\n",
            "epoch  29, acc 0.148, loss  0.160, val_acc 0.027, val_loss 0.581\n",
            "epoch  30, acc 0.156, loss  0.153, val_acc 0.018, val_loss 0.594\n",
            "epoch  31, acc 0.156, loss  0.146, val_acc 0.027, val_loss 0.602\n",
            "epoch  32, acc 0.156, loss  0.139, val_acc 0.027, val_loss 0.610\n",
            "epoch  33, acc 0.148, loss  0.131, val_acc 0.018, val_loss 0.620\n",
            "epoch  34, acc 0.157, loss  0.126, val_acc 0.014, val_loss 0.632\n",
            "epoch  35, acc 0.144, loss  0.117, val_acc 0.018, val_loss 0.641\n",
            "epoch  36, acc 0.157, loss  0.115, val_acc 0.027, val_loss 0.660\n",
            "epoch  37, acc 0.154, loss  0.107, val_acc 0.023, val_loss 0.661\n",
            "epoch  38, acc 0.159, loss  0.101, val_acc 0.018, val_loss 0.677\n",
            "epoch  39, acc 0.166, loss  0.095, val_acc 0.027, val_loss 0.689\n",
            "epoch  40, acc 0.171, loss  0.091, val_acc 0.023, val_loss 0.703\n",
            "epoch  41, acc 0.166, loss  0.084, val_acc 0.027, val_loss 0.724\n",
            "epoch  42, acc 0.177, loss  0.078, val_acc 0.023, val_loss 0.735\n",
            "epoch  43, acc 0.182, loss  0.074, val_acc 0.014, val_loss 0.744\n",
            "epoch  44, acc 0.179, loss  0.075, val_acc 0.023, val_loss 0.751\n",
            "epoch  45, acc 0.154, loss  0.074, val_acc 0.018, val_loss 0.761\n",
            "epoch  46, acc 0.194, loss  0.069, val_acc 0.014, val_loss 0.776\n",
            "epoch  47, acc 0.166, loss  0.061, val_acc 0.009, val_loss 0.780\n",
            "epoch  48, acc 0.163, loss  0.060, val_acc 0.018, val_loss 0.795\n",
            "epoch  49, acc 0.189, loss  0.057, val_acc 0.018, val_loss 0.812\n",
            "epoch  50, acc 0.168, loss  0.051, val_acc 0.018, val_loss 0.830\n",
            "epoch  51, acc 0.177, loss  0.049, val_acc 0.018, val_loss 0.836\n",
            "epoch  52, acc 0.171, loss  0.050, val_acc 0.018, val_loss 0.849\n",
            "epoch  53, acc 0.179, loss  0.049, val_acc 0.018, val_loss 0.856\n",
            "epoch  54, acc 0.163, loss  0.048, val_acc 0.018, val_loss 0.858\n",
            "epoch  55, acc 0.192, loss  0.047, val_acc 0.032, val_loss 0.864\n",
            "epoch  56, acc 0.171, loss  0.042, val_acc 0.014, val_loss 0.884\n",
            "epoch  57, acc 0.197, loss  0.038, val_acc 0.014, val_loss 0.890\n",
            "epoch  58, acc 0.179, loss  0.034, val_acc 0.027, val_loss 0.913\n",
            "epoch  59, acc 0.182, loss  0.032, val_acc 0.018, val_loss 0.923\n",
            "epoch  60, acc 0.163, loss  0.031, val_acc 0.027, val_loss 0.938\n",
            "epoch  61, acc 0.163, loss  0.031, val_acc 0.023, val_loss 0.943\n",
            "epoch  62, acc 0.165, loss  0.032, val_acc 0.032, val_loss 0.956\n",
            "epoch  63, acc 0.153, loss  0.033, val_acc 0.014, val_loss 0.974\n",
            "epoch  64, acc 0.160, loss  0.031, val_acc 0.014, val_loss 0.977\n",
            "epoch  65, acc 0.144, loss  0.024, val_acc 0.005, val_loss 0.986\n",
            "epoch  66, acc 0.172, loss  0.023, val_acc 0.027, val_loss 1.004\n",
            "epoch  67, acc 0.177, loss  0.025, val_acc 0.023, val_loss 1.008\n",
            "epoch  68, acc 0.157, loss  0.027, val_acc 0.014, val_loss 0.997\n",
            "epoch  69, acc 0.141, loss  0.022, val_acc 0.005, val_loss 1.007\n",
            "epoch  70, acc 0.166, loss  0.021, val_acc 0.009, val_loss 1.026\n",
            "epoch  71, acc 0.151, loss  0.020, val_acc 0.032, val_loss 1.038\n",
            "epoch  72, acc 0.165, loss  0.022, val_acc 0.009, val_loss 1.044\n",
            "epoch  73, acc 0.174, loss  0.018, val_acc 0.018, val_loss 1.066\n",
            "epoch  74, acc 0.180, loss  0.019, val_acc 0.014, val_loss 1.076\n",
            "epoch  75, acc 0.165, loss  0.020, val_acc 0.027, val_loss 1.081\n",
            "epoch  76, acc 0.162, loss  0.017, val_acc 0.018, val_loss 1.078\n",
            "epoch  77, acc 0.175, loss  0.013, val_acc 0.018, val_loss 1.091\n",
            "epoch  78, acc 0.175, loss  0.011, val_acc 0.014, val_loss 1.106\n",
            "epoch  79, acc 0.169, loss  0.014, val_acc 0.023, val_loss 1.105\n",
            "epoch  80, acc 0.159, loss  0.018, val_acc 0.018, val_loss 1.115\n",
            "epoch  81, acc 0.162, loss  0.016, val_acc 0.014, val_loss 1.122\n",
            "epoch  82, acc 0.171, loss  0.011, val_acc 0.018, val_loss 1.139\n",
            "epoch  83, acc 0.160, loss  0.010, val_acc 0.018, val_loss 1.146\n",
            "epoch  84, acc 0.160, loss  0.010, val_acc 0.014, val_loss 1.165\n",
            "epoch  85, acc 0.166, loss  0.010, val_acc 0.036, val_loss 1.160\n",
            "epoch  86, acc 0.156, loss  0.013, val_acc 0.014, val_loss 1.174\n",
            "epoch  87, acc 0.157, loss  0.017, val_acc 0.027, val_loss 1.158\n",
            "epoch  88, acc 0.175, loss  0.015, val_acc 0.018, val_loss 1.169\n",
            "epoch  89, acc 0.153, loss  0.010, val_acc 0.027, val_loss 1.189\n",
            "epoch  90, acc 0.183, loss  0.008, val_acc 0.018, val_loss 1.192\n",
            "epoch  91, acc 0.171, loss  0.008, val_acc 0.014, val_loss 1.205\n",
            "epoch  92, acc 0.156, loss  0.008, val_acc 0.023, val_loss 1.231\n",
            "epoch  93, acc 0.148, loss  0.007, val_acc 0.023, val_loss 1.237\n",
            "epoch  94, acc 0.182, loss  0.018, val_acc 0.018, val_loss 1.204\n",
            "epoch  95, acc 0.175, loss  0.019, val_acc 0.032, val_loss 1.230\n",
            "epoch  96, acc 0.177, loss  0.011, val_acc 0.032, val_loss 1.256\n",
            "epoch  97, acc 0.186, loss  0.009, val_acc 0.059, val_loss 1.260\n",
            "epoch  98, acc 0.194, loss  0.007, val_acc 0.014, val_loss 1.251\n",
            "epoch  99, acc 0.166, loss  0.005, val_acc 0.027, val_loss 1.259\n"
          ]
        }
      ]
    },
    {
      "cell_type": "code",
      "source": [
        "%matplotlib inline\n",
        "import matplotlib.pyplot as plt\n",
        "\n",
        "fig, loss_ax = plt.subplots()\n",
        "\n",
        "acc_ax = loss_ax.twinx()\n",
        "\n",
        "loss_ax.plot(train_loss, 'y', label = 'train loss')\n",
        "loss_ax.plot(val_loss, 'r', label = 'val loss')\n",
        "\n",
        "acc_ax.plot(train_acc, 'b', label = 'train acc')\n",
        "acc_ax.plot(val_acc, 'g', label = 'val acc')\n",
        "\n",
        "loss_ax.set_xlabel('epoch')\n",
        "loss_ax.set_ylabel('epoch')\n",
        "acc_ax.set_ylabel('accracy')\n",
        "\n",
        "loss_ax.legend(loc = 'upper left')\n",
        "acc_ax.legend(loc = 'lower left')\n",
        "\n",
        "plt.show()\n",
        "# 이미 학습은 의미가 없다는 결론이 나옴"
      ],
      "metadata": {
        "colab": {
          "base_uri": "https://localhost:8080/",
          "height": 449
        },
        "id": "bshpyH52ggwS",
        "outputId": "9bcea94b-433a-48c7-8664-94276b156f17"
      },
      "execution_count": null,
      "outputs": [
        {
          "output_type": "display_data",
          "data": {
            "text/plain": [
              "<Figure size 640x480 with 2 Axes>"
            ],
            "image/png": "[encoded data removed]"
          },
          "metadata": {}
        }
      ]
    },
    {
      "cell_type": "code",
      "source": [
        "# 모든 데이터를 학습용으로 사용\n",
        "for epoch in range(100):\n",
        "\n",
        "    model.reset_states()  # 중요! 매 에포크마다 1회부터 다시 훈련하므로 상태 초기화 필요\n",
        "\n",
        "    for i in range(len(xs)):\n",
        "\n",
        "      xss = xs[i].reshape(1, 1, 45)\n",
        "      yss - ys[i].reshape(1, 45)\n",
        "\n",
        "      loss, acc = model.train_on_batch(xss, yss) # 배치만큼 모델에 학습\n",
        "\n",
        "      batch_train_loss.append(loss)\n",
        "      batch_train_acc.append(acc)\n",
        "\n",
        "    train_loss.append(np.mean(batch_train_loss))\n",
        "    train_acc.append(np.mean(batch_train_acc))\n",
        "\n",
        "    print('epoch{0:4d}, acc {1:0.3f}, loss {2: 0.3f}'.format(epoch,\n",
        "                                                            np.mean(batch_train_acc),\n",
        "                                                            np.mean(batch_train_loss)\n",
        "                                                            ))\n",
        "\n"
      ],
      "metadata": {
        "colab": {
          "base_uri": "https://localhost:8080/"
        },
        "id": "mTiXpDcjx_As",
        "outputId": "ce5dcd24-d94d-4b6a-bf10-4359658a75a8"
      },
      "execution_count": null,
      "outputs": [
        {
          "output_type": "stream",
          "name": "stdout",
          "text": [
            "epoch   0, acc 0.091, loss  0.017\n",
            "epoch   1, acc 0.077, loss  0.011\n",
            "epoch   2, acc 0.075, loss  0.008\n",
            "epoch   3, acc 0.075, loss  0.006\n",
            "epoch   4, acc 0.075, loss  0.005\n",
            "epoch   5, acc 0.076, loss  0.004\n",
            "epoch   6, acc 0.077, loss  0.004\n",
            "epoch   7, acc 0.079, loss  0.003\n",
            "epoch   8, acc 0.081, loss  0.003\n",
            "epoch   9, acc 0.082, loss  0.003\n",
            "epoch  10, acc 0.084, loss  0.002\n",
            "epoch  11, acc 0.086, loss  0.002\n",
            "epoch  12, acc 0.087, loss  0.002\n",
            "epoch  13, acc 0.089, loss  0.002\n",
            "epoch  14, acc 0.091, loss  0.002\n",
            "epoch  15, acc 0.092, loss  0.002\n",
            "epoch  16, acc 0.094, loss  0.002\n",
            "epoch  17, acc 0.096, loss  0.002\n",
            "epoch  18, acc 0.098, loss  0.001\n",
            "epoch  19, acc 0.099, loss  0.001\n",
            "epoch  20, acc 0.101, loss  0.001\n",
            "epoch  21, acc 0.103, loss  0.001\n",
            "epoch  22, acc 0.105, loss  0.001\n",
            "epoch  23, acc 0.106, loss  0.001\n",
            "epoch  24, acc 0.108, loss  0.001\n",
            "epoch  25, acc 0.109, loss  0.001\n",
            "epoch  26, acc 0.111, loss  0.001\n",
            "epoch  27, acc 0.112, loss  0.001\n",
            "epoch  28, acc 0.113, loss  0.001\n",
            "epoch  29, acc 0.114, loss  0.001\n",
            "epoch  30, acc 0.116, loss  0.001\n",
            "epoch  31, acc 0.117, loss  0.001\n",
            "epoch  32, acc 0.118, loss  0.001\n",
            "epoch  33, acc 0.119, loss  0.001\n",
            "epoch  34, acc 0.120, loss  0.001\n",
            "epoch  35, acc 0.121, loss  0.001\n",
            "epoch  36, acc 0.122, loss  0.001\n",
            "epoch  37, acc 0.123, loss  0.001\n",
            "epoch  38, acc 0.124, loss  0.001\n",
            "epoch  39, acc 0.125, loss  0.001\n",
            "epoch  40, acc 0.126, loss  0.001\n",
            "epoch  41, acc 0.127, loss  0.001\n",
            "epoch  42, acc 0.128, loss  0.001\n",
            "epoch  43, acc 0.129, loss  0.001\n",
            "epoch  44, acc 0.130, loss  0.001\n",
            "epoch  45, acc 0.130, loss  0.001\n",
            "epoch  46, acc 0.131, loss  0.001\n",
            "epoch  47, acc 0.132, loss  0.001\n",
            "epoch  48, acc 0.133, loss  0.001\n",
            "epoch  49, acc 0.134, loss  0.001\n",
            "epoch  50, acc 0.134, loss  0.001\n",
            "epoch  51, acc 0.135, loss  0.001\n",
            "epoch  52, acc 0.136, loss  0.001\n",
            "epoch  53, acc 0.136, loss  0.001\n",
            "epoch  54, acc 0.137, loss  0.001\n",
            "epoch  55, acc 0.137, loss  0.001\n",
            "epoch  56, acc 0.138, loss  0.000\n",
            "epoch  57, acc 0.139, loss  0.000\n",
            "epoch  58, acc 0.139, loss  0.000\n",
            "epoch  59, acc 0.140, loss  0.000\n",
            "epoch  60, acc 0.140, loss  0.000\n",
            "epoch  61, acc 0.141, loss  0.000\n",
            "epoch  62, acc 0.141, loss  0.000\n",
            "epoch  63, acc 0.142, loss  0.000\n",
            "epoch  64, acc 0.142, loss  0.000\n",
            "epoch  65, acc 0.142, loss  0.000\n",
            "epoch  66, acc 0.143, loss  0.000\n",
            "epoch  67, acc 0.143, loss  0.000\n",
            "epoch  68, acc 0.144, loss  0.000\n",
            "epoch  69, acc 0.144, loss  0.000\n",
            "epoch  70, acc 0.144, loss  0.000\n",
            "epoch  71, acc 0.145, loss  0.000\n",
            "epoch  72, acc 0.145, loss  0.000\n",
            "epoch  73, acc 0.145, loss  0.000\n",
            "epoch  74, acc 0.146, loss  0.000\n",
            "epoch  75, acc 0.146, loss  0.000\n",
            "epoch  76, acc 0.146, loss  0.000\n",
            "epoch  77, acc 0.147, loss  0.000\n",
            "epoch  78, acc 0.147, loss  0.000\n",
            "epoch  79, acc 0.147, loss  0.000\n",
            "epoch  80, acc 0.148, loss  0.000\n",
            "epoch  81, acc 0.148, loss  0.000\n",
            "epoch  82, acc 0.148, loss  0.000\n",
            "epoch  83, acc 0.148, loss  0.000\n",
            "epoch  84, acc 0.149, loss  0.000\n",
            "epoch  85, acc 0.149, loss  0.000\n",
            "epoch  86, acc 0.149, loss  0.000\n",
            "epoch  87, acc 0.149, loss  0.000\n",
            "epoch  88, acc 0.149, loss  0.000\n",
            "epoch  89, acc 0.150, loss  0.000\n",
            "epoch  90, acc 0.150, loss  0.000\n",
            "epoch  91, acc 0.150, loss  0.000\n",
            "epoch  92, acc 0.150, loss  0.000\n",
            "epoch  93, acc 0.150, loss  0.000\n",
            "epoch  94, acc 0.151, loss  0.000\n",
            "epoch  95, acc 0.151, loss  0.000\n",
            "epoch  96, acc 0.151, loss  0.000\n",
            "epoch  97, acc 0.151, loss  0.000\n",
            "epoch  98, acc 0.151, loss  0.000\n",
            "epoch  99, acc 0.151, loss  0.000\n"
          ]
        }
      ]
    },
    {
      "cell_type": "code",
      "source": [
        "# 다음회 예측\n",
        "\n",
        "print('receive numbers')\n",
        "\n",
        "xss = xs[-1].reshape(1, 1, 45)\n",
        "\n",
        "pred = model.predict_on_batch(xss)\n",
        "pred\n",
        "\n",
        "luck = list(map(o2n, pred))\n",
        "luck\n",
        "\n",
        "# list_number = []\n",
        "\n",
        "# for n in range(6):\n",
        "#   numbers =pred\n",
        "  # numbers.sort()\n",
        "  # print('{0} : {1}'.format(n, numbers))\n",
        "  # list_numbers.append(numbers)"
      ],
      "metadata": {
        "colab": {
          "base_uri": "https://localhost:8080/"
        },
        "id": "ekjo8MBdx--s",
        "outputId": "5c2a6e4b-bf83-4ad2-b665-81813cb59c29"
      },
      "execution_count": null,
      "outputs": [
        {
          "output_type": "stream",
          "name": "stdout",
          "text": [
            "receive numbers\n"
          ]
        },
        {
          "output_type": "execute_result",
          "data": {
            "text/plain": [
              "[[1, 3, 11, 24, 30, 32]]"
            ]
          },
          "metadata": {},
          "execution_count": 12
        }
      ]
    },
    {
      "cell_type": "code",
      "source": [],
      "metadata": {
        "id": "Y3ZHLuBjx-8d"
      },
      "execution_count": null,
      "outputs": []
    },
    {
      "cell_type": "code",
      "source": [
        "# df = pd.read_csv('/content/drive/MyDrive/Colab Notebooks/로또/data/lotto.csv')\n",
        "# df"
      ],
      "metadata": {
        "id": "w6N6WZgKxSXM"
      },
      "execution_count": null,
      "outputs": []
    },
    {
      "cell_type": "code",
      "source": [
        "# Xtrain = df.drop(['일', '이', '삼', '사','오', '육'], axis = 1)\n",
        "# Xtrain"
      ],
      "metadata": {
        "id": "yxsbpziKxTw1"
      },
      "execution_count": null,
      "outputs": []
    },
    {
      "cell_type": "code",
      "source": [
        "# Xtest = Xtrain.iloc[Xtrain.index[-1]]\n",
        "# Xtest"
      ],
      "metadata": {
        "id": "PrvYqJMRxZQC"
      },
      "execution_count": null,
      "outputs": []
    },
    {
      "cell_type": "code",
      "source": [
        "# Xtrain.drop(Xtrain.index[-1], inplace = True)\n",
        "# Xtrain"
      ],
      "metadata": {
        "id": "8plVgh_hxagK"
      },
      "execution_count": null,
      "outputs": []
    },
    {
      "cell_type": "code",
      "source": [
        "# ytrain = df.drop(['1', '2', '3', '4','5', '6'], axis = 1)\n",
        "# ytrain"
      ],
      "metadata": {
        "id": "RetrWI1lxba7"
      },
      "execution_count": null,
      "outputs": []
    },
    {
      "cell_type": "code",
      "source": [
        "# ytrain.dropna(inplace = True)\n",
        "# ytrain"
      ],
      "metadata": {
        "id": "-NjK5_ovxdJL"
      },
      "execution_count": null,
      "outputs": []
    },
    {
      "cell_type": "code",
      "source": [
        "# ytrain =ytrain.astype(int)\n",
        "# ytrain"
      ],
      "metadata": {
        "id": "-6951Kn_xfGz"
      },
      "execution_count": null,
      "outputs": []
    },
    {
      "cell_type": "code",
      "source": [
        "from pandas import get_dummies\n",
        "\n",
        "Xtrain = pd.get_dummies(Xtrain)\n",
        "Xtest = pd.get_dummies(Xtest)\n",
        "Xtest"
      ],
      "metadata": {
        "id": "9_ochlODxgP7",
        "colab": {
          "base_uri": "https://localhost:8080/",
          "height": 258
        },
        "outputId": "0db233c6-34a5-48ae-839d-def7207c335a"
      },
      "execution_count": null,
      "outputs": [
        {
          "output_type": "error",
          "ename": "NameError",
          "evalue": "name 'Xtrain' is not defined",
          "traceback": [
            "\u001b[0;31m---------------------------------------------------------------------------\u001b[0m",
            "\u001b[0;31mNameError\u001b[0m                                 Traceback (most recent call last)",
            "\u001b[0;32m<ipython-input-20-37eafb0c7ffc>\u001b[0m in \u001b[0;36m<cell line: 3>\u001b[0;34m()\u001b[0m\n\u001b[1;32m      1\u001b[0m \u001b[0;32mfrom\u001b[0m \u001b[0mpandas\u001b[0m \u001b[0;32mimport\u001b[0m \u001b[0mget_dummies\u001b[0m\u001b[0;34m\u001b[0m\u001b[0;34m\u001b[0m\u001b[0m\n\u001b[1;32m      2\u001b[0m \u001b[0;34m\u001b[0m\u001b[0m\n\u001b[0;32m----> 3\u001b[0;31m \u001b[0mXtrain\u001b[0m \u001b[0;34m=\u001b[0m \u001b[0mpd\u001b[0m\u001b[0;34m.\u001b[0m\u001b[0mget_dummies\u001b[0m\u001b[0;34m(\u001b[0m\u001b[0mXtrain\u001b[0m\u001b[0;34m)\u001b[0m\u001b[0;34m\u001b[0m\u001b[0;34m\u001b[0m\u001b[0m\n\u001b[0m\u001b[1;32m      4\u001b[0m \u001b[0mXtest\u001b[0m \u001b[0;34m=\u001b[0m \u001b[0mpd\u001b[0m\u001b[0;34m.\u001b[0m\u001b[0mget_dummies\u001b[0m\u001b[0;34m(\u001b[0m\u001b[0mXtest\u001b[0m\u001b[0;34m)\u001b[0m\u001b[0;34m\u001b[0m\u001b[0;34m\u001b[0m\u001b[0m\n\u001b[1;32m      5\u001b[0m \u001b[0mXtest\u001b[0m\u001b[0;34m\u001b[0m\u001b[0;34m\u001b[0m\u001b[0m\n",
            "\u001b[0;31mNameError\u001b[0m: name 'Xtrain' is not defined"
          ]
        }
      ]
    },
    {
      "cell_type": "code",
      "source": [
        "import tensorflow as tf\n",
        "from tensorflow.keras.models import Sequential\n",
        "from tensorflow.keras.layers import Dense\n",
        "from tensorflow.keras.layers import Activation\n",
        "\n",
        "# 신경망 설계\n",
        "# 신경망 모델을 관리하는 객체 생성\n",
        "# 여기에 층을 쌓는다\n",
        "model = Sequential()\n",
        "\n",
        "# Dense : 선형 회귀를 수행하는 layer\n",
        "# 첫번재 숫자는 은닉층의 노드의 개수\n",
        "model.add(Dense(30, input_dim = 17))\n",
        "model.add(Activation('relu'))\n",
        "\n",
        "# 마지막에 설정한 레이어는 무조건 출력층\n",
        "# Dense의 1은 출력 데이터의 종류 수가 됨\n",
        "model.add(Dense(1))\n",
        "model.add(Activation('softmax'))"
      ],
      "metadata": {
        "id": "d-z_F5Wzxicz"
      },
      "execution_count": null,
      "outputs": []
    },
    {
      "cell_type": "code",
      "source": [
        "# 신경망 모델 컴파일\n",
        "# loss : 학습시 수행하는 평가때 사용할 손실 함수(오차를 보는 함수)\n",
        "# 2진 분류 : binary _corssentropy\n",
        "# 회귀 : mean_squared_error\n",
        "\n",
        "# opimizer : loss에서 설정한 함수를 통해 구한 손실 값을 기반으로 신경망 보델을\n",
        "# adam\n",
        "# otimizer : loss에서 설정한 함수를 통해 구한 손실값을 기반으로 신경망 모델을 보정하는 함수\n",
        "\n",
        "# metrics : 추가로 평가하고자 하는 평가 기준 설정\n",
        "# 분류인 경우에만 사용하고 정도화를 추가 적으로 보기 위해 설정\n",
        "# metrict : 추가로 평가하고자 하는 평가 기준 설정\n",
        "model.compile(loss = 'categorical', optimizer = 'adam', metrics = ['accuracy'])\n",
        "model.summary()"
      ],
      "metadata": {
        "id": "XZ8KcJ8dynPL"
      },
      "execution_count": null,
      "outputs": []
    },
    {
      "cell_type": "code",
      "source": [
        "#학습\n",
        "# epochs : 학습 횟수. 너무 많으면 과적합됨.\n",
        "# 무조건 많이 줘라 나중에 중단 가능\n",
        "# batch_size : 메모리에 한번에 올릴 데이터의 양(행의 개수) 적게 주면 메모리에 여우가 있지만 오래걸림\n",
        "# 무조건 많이 넣어주고 오류나면 낮춤\n",
        "model.fit(Xtrain, ytrain, epochs = 30, batch_size = 10)"
      ],
      "metadata": {
        "id": "j3WjfROhzDXO"
      },
      "execution_count": null,
      "outputs": []
    },
    {
      "cell_type": "code",
      "source": [],
      "metadata": {
        "id": "puBf31UMzIOC"
      },
      "execution_count": null,
      "outputs": []
    }
  ]
}