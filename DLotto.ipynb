{
  "nbformat": 4,
  "nbformat_minor": 0,
  "metadata": {
    "colab": {
      "provenance": [],
      "gpuType": "T4",
      "authorship_tag": "ABX9TyPYoF2+LZ33MS8ZBq7BT/dQ",
      "include_colab_link": true
    },
    "kernelspec": {
      "name": "python3",
      "display_name": "Python 3"
    },
    "language_info": {
      "name": "python"
    },
    "accelerator": "GPU"
  },
  "cells": [
    {
      "cell_type": "markdown",
      "metadata": {
        "id": "view-in-github",
        "colab_type": "text"
      },
      "source": [
        "<a href=\"https://colab.research.google.com/github/YonggunJung/colab/blob/main/DLotto.ipynb\" target=\"_parent\"><img src=\"https://colab.research.google.com/assets/colab-badge.svg\" alt=\"Open In Colab\"/></a>"
      ]
    },
    {
      "cell_type": "code",
      "execution_count": 1,
      "metadata": {
        "colab": {
          "base_uri": "https://localhost:8080/"
        },
        "id": "EV0N-8-1wfGo",
        "outputId": "046e815a-f556-40ad-f705-1f4fe349b186"
      },
      "outputs": [
        {
          "output_type": "stream",
          "name": "stdout",
          "text": [
            "Mounted at /content/drive\n"
          ]
        }
      ],
      "source": [
        "from google.colab import drive\n",
        "drive.mount('/content/drive')"
      ]
    },
    {
      "cell_type": "code",
      "source": [
        "import pandas as pd\n",
        "import numpy as np\n",
        "import warnings\n",
        "warnings.filterwarnings('ignore')"
      ],
      "metadata": {
        "id": "6OK4eW92wov0"
      },
      "execution_count": 2,
      "outputs": []
    },
    {
      "cell_type": "code",
      "source": [
        "win = np.loadtxt('/content/drive/MyDrive/Colab Notebooks/로또/data/jlotto.csv', delimiter = ',')\n",
        "win"
      ],
      "metadata": {
        "colab": {
          "base_uri": "https://localhost:8080/"
        },
        "id": "227wJo0xYVaV",
        "outputId": "7e476a17-aca4-4ba9-a16f-a4db27677963"
      },
      "execution_count": 3,
      "outputs": [
        {
          "output_type": "execute_result",
          "data": {
            "text/plain": [
              "array([[ 4.,  7., 17., ..., 29., 33., 42.],\n",
              "       [ 8., 12., 13., ..., 15., 22., 38.],\n",
              "       [ 3.,  7., 14., ..., 32., 34., 42.],\n",
              "       ...,\n",
              "       [ 3., 20., 28., ..., 30., 31., 43.],\n",
              "       [17., 26., 29., ..., 28., 36., 42.],\n",
              "       [ 6.,  7., 13., ..., 26., 37., 38.]])"
            ]
          },
          "metadata": {},
          "execution_count": 3
        }
      ]
    },
    {
      "cell_type": "code",
      "source": [
        "xn = len(win)"
      ],
      "metadata": {
        "id": "GS0NAmQGw74-"
      },
      "execution_count": 4,
      "outputs": []
    },
    {
      "cell_type": "code",
      "source": [
        "# 숫자를 원핫 인코딩으로 변환\n",
        "def n2o(numbers):\n",
        "\n",
        "  oh = np.zeros(45)  # 45개의 빈 칸 만들기\n",
        "\n",
        "  for i in range(6):            # 6개의 당첨번호를 반복\n",
        "      oh[int(numbers[i])-1] = 1   # 번호는 1부터 시작하고 인덱스는 0부터 시작하니 1을 빼줌\n",
        "\n",
        "  return oh\n",
        "\n",
        "# 원핫 인코딩을 숫자로 변환\n",
        "def o2n(oh):\n",
        "\n",
        "  numbers = []\n",
        "\n",
        "  for i in range(len(oh)):\n",
        "    if oh[i] == 1:           # oh[i]이 1 이면 해당 번호를 출력\n",
        "      numbers.append(i+1)    # 인덱스 보다 숫자가 1크니까 1더해줌 출력\n",
        "\n",
        "  return numbers"
      ],
      "metadata": {
        "id": "gG4RnEQzhKPx"
      },
      "execution_count": 5,
      "outputs": []
    },
    {
      "cell_type": "code",
      "source": [
        "numbers = win[: , :]  # 이게 문제라서 못 하겠음ㅠ 데이터 프레임이 문제인가?\n",
        "ohs = list(map(n2o, numbers))\n",
        "\n",
        "xs = ohs[0:xn -1]\n",
        "ys = ohs[1:xn]\n",
        "\n",
        "# 원핫 인코딩 확인\n",
        "print('ohs')\n",
        "print('x[0] :' + str(xs[0]))\n",
        "print('y[0] :' + str(ys[0]))\n",
        "\n",
        "# 번호 확인\n",
        "print('numbers')\n",
        "print('x[0] :' + str(o2n(xs[0])))\n",
        "print('y[0] :' + str(o2n(ys[0])))"
      ],
      "metadata": {
        "colab": {
          "base_uri": "https://localhost:8080/"
        },
        "id": "XCSHMDUUvRZf",
        "outputId": "b51548c3-de42-4e71-ea21-5855aa989048"
      },
      "execution_count": 6,
      "outputs": [
        {
          "output_type": "stream",
          "name": "stdout",
          "text": [
            "ohs\n",
            "x[0] :[0. 0. 0. 1. 0. 0. 1. 0. 0. 0. 0. 0. 0. 0. 0. 0. 1. 1. 0. 0. 0. 0. 0. 0.\n",
            " 0. 0. 0. 0. 0. 0. 0. 0. 0. 0. 0. 0. 0. 1. 0. 0. 0. 0. 0. 1. 0.]\n",
            "y[0] :[0. 0. 0. 0. 0. 0. 0. 1. 0. 0. 0. 1. 1. 0. 0. 0. 0. 0. 0. 0. 0. 0. 0. 0.\n",
            " 0. 0. 0. 0. 1. 0. 0. 0. 1. 0. 0. 0. 0. 0. 0. 0. 0. 1. 0. 0. 0.]\n",
            "numbers\n",
            "x[0] :[4, 7, 17, 18, 38, 44]\n",
            "y[0] :[8, 12, 13, 29, 33, 42]\n"
          ]
        }
      ]
    },
    {
      "cell_type": "code",
      "source": [
        "train = (0, int(len(win)*0.6))\n",
        "val = (int(len(win)*0.6), int(len(win)*0.8))\n",
        "test = (int(len(win)*0.), len(win))\n",
        "\n",
        "print('train : {0}, val : {1}, test : {2}'.format(train, val, test))"
      ],
      "metadata": {
        "colab": {
          "base_uri": "https://localhost:8080/"
        },
        "id": "8WuoR8jggg2_",
        "outputId": "59de3f06-4e0f-4ca2-bb84-c96c3096deba"
      },
      "execution_count": 7,
      "outputs": [
        {
          "output_type": "stream",
          "name": "stdout",
          "text": [
            "train : (0, 660), val : (660, 880), test : (0, 1101)\n"
          ]
        }
      ]
    },
    {
      "cell_type": "code",
      "source": [
        "import tensorflow as tf\n",
        "from tensorflow import keras\n",
        "from tensorflow.keras import layers\n",
        "from tensorflow.keras import models\n",
        "\n",
        "# 모델 정의\n",
        "model = keras.Sequential([\n",
        "    keras.layers.LSTM(128, batch_input_shape = (1, 1, 45),\n",
        "                      return_sequences = False,\n",
        "                      stateful = True),\n",
        "    keras.layers.Dense(45, activation = 'sigmoid')\n",
        "])\n",
        "\n",
        "# 모델 컴파일\n",
        "model.compile(loss = 'binary_crossentropy', optimizer = 'adam', metrics = ['accuracy'])"
      ],
      "metadata": {
        "id": "VNx80jYjgg0y"
      },
      "execution_count": 8,
      "outputs": []
    },
    {
      "cell_type": "code",
      "source": [
        "# 매 에포크마다 훈련과 검증의 손실 및 정확도를 기록하기 위한 변수\n",
        "train_loss = []\n",
        "train_acc = []\n",
        "val_loss = []\n",
        "val_acc = []\n",
        "\n",
        "# 최대 100번 에포크까지 수행\n",
        "for epoch in range(100):\n",
        "    model.reset_states()  # 중요! 매 에포크마다 1회부터 다시 훈련하므로 상태 초기화 필요\n",
        "\n",
        "    batch_train_loss = []\n",
        "    batch_train_acc = []\n",
        "\n",
        "    for i in range(train[0], train[1]):\n",
        "\n",
        "        xss = xs[i].reshape(1, 1, 45)\n",
        "        yss = ys[i].reshape(1, 45)\n",
        "\n",
        "        loss, acc = model.train_on_batch(xss, yss) # 배치만큼 모델에 학습\n",
        "\n",
        "        batch_train_loss.append(loss)\n",
        "        batch_train_acc.append(acc)\n",
        "\n",
        "    train_loss.append(np.mean(batch_train_loss))\n",
        "    train_acc.append(np.mean(batch_train_acc))\n",
        "\n",
        "    batch_val_loss = []\n",
        "    batch_val_acc = []\n",
        "\n",
        "    for i in range(val[0], val[1]):\n",
        "\n",
        "        xss = xs[i].reshape(1, 1, 45)\n",
        "        yss = ys[i].reshape(1, 45)\n",
        "\n",
        "        loss, acc = model.test_on_batch(xss, yss) # 배치만큼 모델에 입력하여 나온 결과를 정답과 비교함\n",
        "\n",
        "        batch_val_loss.append(loss)\n",
        "        batch_val_acc.append(acc)\n",
        "\n",
        "    val_loss.append(np.mean(batch_val_loss))\n",
        "    val_acc.append(np.mean(batch_val_acc))\n",
        "\n",
        "    print('epoch{0:4d}, acc {1:0.3f}, loss {2: 0.3f}, val_acc {3:0.3f}, val_loss {4:0.3f}'.format(epoch,\n",
        "                                                                                                  np.mean(batch_train_acc),\n",
        "                                                                                                  np.mean(batch_train_loss),\n",
        "                                                                                                  np.mean(batch_val_acc),\n",
        "                                                                                                  np.mean(batch_val_loss)))"
      ],
      "metadata": {
        "colab": {
          "base_uri": "https://localhost:8080/"
        },
        "id": "psqZd4_Nggyf",
        "outputId": "78513ee2-3de9-46cd-d9ab-7639e6273954"
      },
      "execution_count": 9,
      "outputs": [
        {
          "output_type": "stream",
          "name": "stdout",
          "text": [
            "epoch   0, acc 0.018, loss  0.410, val_acc 0.000, val_loss 0.401\n",
            "epoch   1, acc 0.021, loss  0.396, val_acc 0.000, val_loss 0.400\n",
            "epoch   2, acc 0.027, loss  0.394, val_acc 0.000, val_loss 0.400\n",
            "epoch   3, acc 0.032, loss  0.391, val_acc 0.009, val_loss 0.401\n",
            "epoch   4, acc 0.038, loss  0.387, val_acc 0.014, val_loss 0.403\n",
            "epoch   5, acc 0.053, loss  0.381, val_acc 0.036, val_loss 0.407\n",
            "epoch   6, acc 0.064, loss  0.375, val_acc 0.032, val_loss 0.412\n",
            "epoch   7, acc 0.070, loss  0.368, val_acc 0.027, val_loss 0.417\n",
            "epoch   8, acc 0.071, loss  0.361, val_acc 0.023, val_loss 0.422\n",
            "epoch   9, acc 0.071, loss  0.354, val_acc 0.027, val_loss 0.427\n",
            "epoch  10, acc 0.074, loss  0.346, val_acc 0.027, val_loss 0.432\n",
            "epoch  11, acc 0.079, loss  0.338, val_acc 0.027, val_loss 0.437\n",
            "epoch  12, acc 0.095, loss  0.330, val_acc 0.032, val_loss 0.442\n",
            "epoch  13, acc 0.103, loss  0.321, val_acc 0.036, val_loss 0.448\n",
            "epoch  14, acc 0.109, loss  0.311, val_acc 0.036, val_loss 0.454\n",
            "epoch  15, acc 0.112, loss  0.301, val_acc 0.036, val_loss 0.460\n",
            "epoch  16, acc 0.124, loss  0.290, val_acc 0.036, val_loss 0.468\n",
            "epoch  17, acc 0.133, loss  0.279, val_acc 0.027, val_loss 0.475\n",
            "epoch  18, acc 0.148, loss  0.269, val_acc 0.027, val_loss 0.483\n",
            "epoch  19, acc 0.167, loss  0.258, val_acc 0.027, val_loss 0.492\n",
            "epoch  20, acc 0.186, loss  0.246, val_acc 0.036, val_loss 0.501\n",
            "epoch  21, acc 0.194, loss  0.234, val_acc 0.041, val_loss 0.511\n",
            "epoch  22, acc 0.189, loss  0.223, val_acc 0.036, val_loss 0.523\n",
            "epoch  23, acc 0.174, loss  0.212, val_acc 0.032, val_loss 0.535\n",
            "epoch  24, acc 0.176, loss  0.202, val_acc 0.041, val_loss 0.546\n",
            "epoch  25, acc 0.171, loss  0.193, val_acc 0.041, val_loss 0.558\n",
            "epoch  26, acc 0.173, loss  0.183, val_acc 0.045, val_loss 0.569\n",
            "epoch  27, acc 0.168, loss  0.171, val_acc 0.050, val_loss 0.581\n",
            "epoch  28, acc 0.165, loss  0.163, val_acc 0.036, val_loss 0.594\n",
            "epoch  29, acc 0.188, loss  0.155, val_acc 0.032, val_loss 0.607\n",
            "epoch  30, acc 0.168, loss  0.149, val_acc 0.036, val_loss 0.616\n",
            "epoch  31, acc 0.194, loss  0.143, val_acc 0.036, val_loss 0.628\n",
            "epoch  32, acc 0.171, loss  0.133, val_acc 0.023, val_loss 0.635\n",
            "epoch  33, acc 0.171, loss  0.125, val_acc 0.027, val_loss 0.646\n",
            "epoch  34, acc 0.180, loss  0.118, val_acc 0.023, val_loss 0.661\n",
            "epoch  35, acc 0.165, loss  0.116, val_acc 0.036, val_loss 0.671\n",
            "epoch  36, acc 0.162, loss  0.103, val_acc 0.014, val_loss 0.683\n",
            "epoch  37, acc 0.174, loss  0.103, val_acc 0.023, val_loss 0.687\n",
            "epoch  38, acc 0.171, loss  0.099, val_acc 0.032, val_loss 0.700\n",
            "epoch  39, acc 0.155, loss  0.091, val_acc 0.032, val_loss 0.707\n",
            "epoch  40, acc 0.147, loss  0.091, val_acc 0.027, val_loss 0.730\n",
            "epoch  41, acc 0.161, loss  0.080, val_acc 0.023, val_loss 0.737\n",
            "epoch  42, acc 0.173, loss  0.080, val_acc 0.018, val_loss 0.754\n",
            "epoch  43, acc 0.164, loss  0.077, val_acc 0.032, val_loss 0.765\n",
            "epoch  44, acc 0.161, loss  0.071, val_acc 0.036, val_loss 0.780\n",
            "epoch  45, acc 0.156, loss  0.065, val_acc 0.032, val_loss 0.791\n",
            "epoch  46, acc 0.168, loss  0.062, val_acc 0.027, val_loss 0.795\n",
            "epoch  47, acc 0.185, loss  0.065, val_acc 0.041, val_loss 0.804\n",
            "epoch  48, acc 0.168, loss  0.059, val_acc 0.014, val_loss 0.835\n",
            "epoch  49, acc 0.165, loss  0.057, val_acc 0.018, val_loss 0.833\n",
            "epoch  50, acc 0.156, loss  0.053, val_acc 0.023, val_loss 0.854\n",
            "epoch  51, acc 0.159, loss  0.047, val_acc 0.018, val_loss 0.853\n",
            "epoch  52, acc 0.162, loss  0.045, val_acc 0.045, val_loss 0.859\n",
            "epoch  53, acc 0.153, loss  0.042, val_acc 0.023, val_loss 0.884\n",
            "epoch  54, acc 0.150, loss  0.042, val_acc 0.023, val_loss 0.890\n",
            "epoch  55, acc 0.147, loss  0.039, val_acc 0.018, val_loss 0.885\n",
            "epoch  56, acc 0.171, loss  0.037, val_acc 0.027, val_loss 0.914\n",
            "epoch  57, acc 0.191, loss  0.035, val_acc 0.036, val_loss 0.929\n",
            "epoch  58, acc 0.152, loss  0.038, val_acc 0.036, val_loss 0.926\n",
            "epoch  59, acc 0.192, loss  0.033, val_acc 0.018, val_loss 0.939\n",
            "epoch  60, acc 0.189, loss  0.030, val_acc 0.027, val_loss 0.953\n",
            "epoch  61, acc 0.179, loss  0.027, val_acc 0.023, val_loss 0.972\n",
            "epoch  62, acc 0.189, loss  0.023, val_acc 0.027, val_loss 0.988\n",
            "epoch  63, acc 0.153, loss  0.022, val_acc 0.055, val_loss 0.994\n",
            "epoch  64, acc 0.180, loss  0.026, val_acc 0.055, val_loss 0.992\n",
            "epoch  65, acc 0.145, loss  0.028, val_acc 0.036, val_loss 1.012\n",
            "epoch  66, acc 0.180, loss  0.023, val_acc 0.032, val_loss 1.020\n",
            "epoch  67, acc 0.185, loss  0.019, val_acc 0.027, val_loss 1.035\n",
            "epoch  68, acc 0.179, loss  0.020, val_acc 0.027, val_loss 1.040\n",
            "epoch  69, acc 0.176, loss  0.020, val_acc 0.032, val_loss 1.063\n",
            "epoch  70, acc 0.180, loss  0.020, val_acc 0.032, val_loss 1.062\n",
            "epoch  71, acc 0.162, loss  0.021, val_acc 0.032, val_loss 1.082\n",
            "epoch  72, acc 0.162, loss  0.021, val_acc 0.041, val_loss 1.089\n",
            "epoch  73, acc 0.165, loss  0.018, val_acc 0.027, val_loss 1.092\n",
            "epoch  74, acc 0.153, loss  0.015, val_acc 0.027, val_loss 1.108\n",
            "epoch  75, acc 0.165, loss  0.014, val_acc 0.023, val_loss 1.102\n",
            "epoch  76, acc 0.167, loss  0.014, val_acc 0.027, val_loss 1.120\n",
            "epoch  77, acc 0.182, loss  0.015, val_acc 0.027, val_loss 1.120\n",
            "epoch  78, acc 0.176, loss  0.017, val_acc 0.041, val_loss 1.140\n",
            "epoch  79, acc 0.161, loss  0.012, val_acc 0.041, val_loss 1.155\n",
            "epoch  80, acc 0.186, loss  0.011, val_acc 0.050, val_loss 1.134\n",
            "epoch  81, acc 0.188, loss  0.012, val_acc 0.045, val_loss 1.149\n",
            "epoch  82, acc 0.186, loss  0.015, val_acc 0.032, val_loss 1.159\n",
            "epoch  83, acc 0.179, loss  0.023, val_acc 0.023, val_loss 1.158\n",
            "epoch  84, acc 0.180, loss  0.017, val_acc 0.027, val_loss 1.163\n",
            "epoch  85, acc 0.182, loss  0.010, val_acc 0.027, val_loss 1.182\n",
            "epoch  86, acc 0.185, loss  0.006, val_acc 0.023, val_loss 1.223\n",
            "epoch  87, acc 0.180, loss  0.006, val_acc 0.023, val_loss 1.230\n",
            "epoch  88, acc 0.167, loss  0.006, val_acc 0.027, val_loss 1.228\n",
            "epoch  89, acc 0.177, loss  0.007, val_acc 0.027, val_loss 1.218\n",
            "epoch  90, acc 0.162, loss  0.028, val_acc 0.023, val_loss 1.182\n",
            "epoch  91, acc 0.180, loss  0.027, val_acc 0.027, val_loss 1.203\n",
            "epoch  92, acc 0.164, loss  0.013, val_acc 0.041, val_loss 1.197\n",
            "epoch  93, acc 0.195, loss  0.008, val_acc 0.036, val_loss 1.208\n",
            "epoch  94, acc 0.165, loss  0.005, val_acc 0.041, val_loss 1.249\n",
            "epoch  95, acc 0.164, loss  0.003, val_acc 0.041, val_loss 1.278\n",
            "epoch  96, acc 0.173, loss  0.003, val_acc 0.023, val_loss 1.271\n",
            "epoch  97, acc 0.182, loss  0.002, val_acc 0.027, val_loss 1.282\n",
            "epoch  98, acc 0.164, loss  0.002, val_acc 0.032, val_loss 1.311\n",
            "epoch  99, acc 0.180, loss  0.002, val_acc 0.023, val_loss 1.306\n"
          ]
        }
      ]
    },
    {
      "cell_type": "code",
      "source": [
        "%matplotlib inline\n",
        "import matplotlib.pyplot as plt\n",
        "\n",
        "fig, loss_ax = plt.subplots()\n",
        "\n",
        "acc_ax = loss_ax.twinx()\n",
        "\n",
        "loss_ax.plot(train_loss, 'y', label = 'train loss')\n",
        "loss_ax.plot(val_loss, 'r', label = 'val loss')\n",
        "\n",
        "acc_ax.plot(train_acc, 'b', label = 'train acc')\n",
        "acc_ax.plot(val_acc, 'g', label = 'val acc')\n",
        "\n",
        "loss_ax.set_xlabel('epoch')\n",
        "loss_ax.set_ylabel('epoch')\n",
        "acc_ax.set_ylabel('accracy')\n",
        "\n",
        "loss_ax.legend(loc = 'upper left')\n",
        "acc_ax.legend(loc = 'lower left')\n",
        "\n",
        "plt.show()\n",
        "# 이미 학습은 의미가 없다는 결론이 나옴"
      ],
      "metadata": {
        "colab": {
          "base_uri": "https://localhost:8080/",
          "height": 449
        },
        "id": "bshpyH52ggwS",
        "outputId": "eb1402db-6dc5-4093-ad10-9301f69a716c"
      },
      "execution_count": 11,
      "outputs": [
        {
          "output_type": "display_data",
          "data": {
            "text/plain": [
              "<Figure size 640x480 with 2 Axes>"
            ],
            "image/png": "[encoded data removed]"
          },
          "metadata": {}
        }
      ]
    },
    {
      "cell_type": "code",
      "source": [
        "# 모든 데이터를 학습용으로 사용\n",
        "for epoch in range(100):\n",
        "\n",
        "    model.reset_states()  # 중요! 매 에포크마다 1회부터 다시 훈련하므로 상태 초기화 필요\n",
        "\n",
        "    for i in range(len(xs)):\n",
        "\n",
        "      xss = xs[i].reshape(1, 1, 45)\n",
        "      yss - ys[i].reshape(1, 45)\n",
        "\n",
        "      loss, acc = model.train_on_batch(xss, yss) # 배치만큼 모델에 학습\n",
        "\n",
        "      batch_train_loss.append(loss)\n",
        "      batch_train_acc.append(acc)\n",
        "\n",
        "    train_loss.append(np.mean(batch_train_loss))\n",
        "    train_acc.append(np.mean(batch_train_acc))\n",
        "\n",
        "    print('epoch{0:4d}, acc {1:0.3f}, loss {2: 0.3f}'.format(epoch,\n",
        "                                                            np.mean(batch_train_acc),\n",
        "                                                            np.mean(batch_train_loss)\n",
        "                                                            ))\n",
        "\n",
        ""
      ],
      "metadata": {
        "colab": {
          "base_uri": "https://localhost:8080/"
        },
        "id": "mTiXpDcjx_As",
        "outputId": "cb564654-5e3a-428d-9a7c-e74d7334e491"
      },
      "execution_count": 12,
      "outputs": [
        {
          "output_type": "stream",
          "name": "stdout",
          "text": [
            "epoch   0, acc 0.382, loss  0.016\n",
            "epoch   1, acc 0.488, loss  0.010\n",
            "epoch   2, acc 0.541, loss  0.008\n",
            "epoch   3, acc 0.574, loss  0.006\n",
            "epoch   4, acc 0.599, loss  0.005\n",
            "epoch   5, acc 0.622, loss  0.004\n",
            "epoch   6, acc 0.642, loss  0.004\n",
            "epoch   7, acc 0.660, loss  0.003\n",
            "epoch   8, acc 0.676, loss  0.003\n",
            "epoch   9, acc 0.690, loss  0.003\n",
            "epoch  10, acc 0.702, loss  0.002\n",
            "epoch  11, acc 0.713, loss  0.002\n",
            "epoch  12, acc 0.723, loss  0.002\n",
            "epoch  13, acc 0.732, loss  0.002\n",
            "epoch  14, acc 0.740, loss  0.002\n",
            "epoch  15, acc 0.747, loss  0.002\n",
            "epoch  16, acc 0.753, loss  0.002\n",
            "epoch  17, acc 0.758, loss  0.001\n",
            "epoch  18, acc 0.763, loss  0.001\n",
            "epoch  19, acc 0.767, loss  0.001\n",
            "epoch  20, acc 0.770, loss  0.001\n",
            "epoch  21, acc 0.773, loss  0.001\n",
            "epoch  22, acc 0.776, loss  0.001\n",
            "epoch  23, acc 0.778, loss  0.001\n",
            "epoch  24, acc 0.780, loss  0.001\n",
            "epoch  25, acc 0.782, loss  0.001\n",
            "epoch  26, acc 0.784, loss  0.001\n",
            "epoch  27, acc 0.786, loss  0.001\n",
            "epoch  28, acc 0.787, loss  0.001\n",
            "epoch  29, acc 0.789, loss  0.001\n",
            "epoch  30, acc 0.790, loss  0.001\n",
            "epoch  31, acc 0.791, loss  0.001\n",
            "epoch  32, acc 0.792, loss  0.001\n",
            "epoch  33, acc 0.793, loss  0.001\n",
            "epoch  34, acc 0.794, loss  0.001\n",
            "epoch  35, acc 0.795, loss  0.001\n",
            "epoch  36, acc 0.795, loss  0.001\n",
            "epoch  37, acc 0.796, loss  0.001\n",
            "epoch  38, acc 0.797, loss  0.001\n",
            "epoch  39, acc 0.797, loss  0.001\n",
            "epoch  40, acc 0.798, loss  0.001\n",
            "epoch  41, acc 0.798, loss  0.001\n",
            "epoch  42, acc 0.799, loss  0.001\n",
            "epoch  43, acc 0.799, loss  0.001\n",
            "epoch  44, acc 0.800, loss  0.001\n",
            "epoch  45, acc 0.800, loss  0.001\n",
            "epoch  46, acc 0.801, loss  0.001\n",
            "epoch  47, acc 0.801, loss  0.001\n",
            "epoch  48, acc 0.801, loss  0.001\n",
            "epoch  49, acc 0.802, loss  0.001\n",
            "epoch  50, acc 0.802, loss  0.001\n",
            "epoch  51, acc 0.802, loss  0.001\n",
            "epoch  52, acc 0.802, loss  0.001\n",
            "epoch  53, acc 0.802, loss  0.000\n",
            "epoch  54, acc 0.803, loss  0.000\n",
            "epoch  55, acc 0.803, loss  0.000\n",
            "epoch  56, acc 0.803, loss  0.000\n",
            "epoch  57, acc 0.803, loss  0.000\n",
            "epoch  58, acc 0.803, loss  0.000\n",
            "epoch  59, acc 0.803, loss  0.000\n",
            "epoch  60, acc 0.803, loss  0.000\n",
            "epoch  61, acc 0.803, loss  0.000\n",
            "epoch  62, acc 0.803, loss  0.000\n",
            "epoch  63, acc 0.803, loss  0.000\n",
            "epoch  64, acc 0.803, loss  0.000\n",
            "epoch  65, acc 0.803, loss  0.000\n",
            "epoch  66, acc 0.803, loss  0.000\n",
            "epoch  67, acc 0.803, loss  0.000\n",
            "epoch  68, acc 0.803, loss  0.000\n",
            "epoch  69, acc 0.803, loss  0.000\n",
            "epoch  70, acc 0.802, loss  0.000\n",
            "epoch  71, acc 0.802, loss  0.000\n",
            "epoch  72, acc 0.802, loss  0.000\n",
            "epoch  73, acc 0.802, loss  0.000\n",
            "epoch  74, acc 0.802, loss  0.000\n",
            "epoch  75, acc 0.802, loss  0.000\n",
            "epoch  76, acc 0.801, loss  0.000\n",
            "epoch  77, acc 0.801, loss  0.000\n",
            "epoch  78, acc 0.801, loss  0.000\n",
            "epoch  79, acc 0.801, loss  0.000\n",
            "epoch  80, acc 0.801, loss  0.000\n",
            "epoch  81, acc 0.800, loss  0.000\n",
            "epoch  82, acc 0.800, loss  0.000\n",
            "epoch  83, acc 0.800, loss  0.000\n",
            "epoch  84, acc 0.800, loss  0.000\n",
            "epoch  85, acc 0.799, loss  0.000\n",
            "epoch  86, acc 0.799, loss  0.000\n",
            "epoch  87, acc 0.799, loss  0.000\n",
            "epoch  88, acc 0.799, loss  0.000\n",
            "epoch  89, acc 0.798, loss  0.000\n",
            "epoch  90, acc 0.798, loss  0.000\n",
            "epoch  91, acc 0.798, loss  0.000\n",
            "epoch  92, acc 0.798, loss  0.000\n",
            "epoch  93, acc 0.798, loss  0.000\n",
            "epoch  94, acc 0.797, loss  0.000\n",
            "epoch  95, acc 0.797, loss  0.000\n",
            "epoch  96, acc 0.797, loss  0.000\n",
            "epoch  97, acc 0.797, loss  0.000\n",
            "epoch  98, acc 0.797, loss  0.000\n",
            "epoch  99, acc 0.796, loss  0.000\n"
          ]
        }
      ]
    },
    {
      "cell_type": "code",
      "source": [
        "# 다음회 예측\n",
        "\n",
        "print('receive numbers')\n",
        "\n",
        "xss = xs[-1].reshape(1, 1, 45)\n",
        "\n",
        "pred = model.predict_on_batch(xss)\n",
        "pred\n",
        "\n",
        "luck = list(map(o2n, pred))\n",
        "luck\n",
        "\n",
        "# list_number = []\n",
        "\n",
        "# for n in range(6):\n",
        "#   numbers =pred\n",
        "  # numbers.sort()\n",
        "  # print('{0} : {1}'.format(n, numbers))\n",
        "  # list_numbers.append(numbers)"
      ],
      "metadata": {
        "colab": {
          "base_uri": "https://localhost:8080/"
        },
        "id": "ekjo8MBdx--s",
        "outputId": "7b69b2f0-1821-448c-8f06-6c5f2de8adb5"
      },
      "execution_count": 18,
      "outputs": [
        {
          "output_type": "stream",
          "name": "stdout",
          "text": [
            "receive numbers\n"
          ]
        },
        {
          "output_type": "execute_result",
          "data": {
            "text/plain": [
              "[[1, 3, 21, 29, 35, 37]]"
            ]
          },
          "metadata": {},
          "execution_count": 18
        }
      ]
    },
    {
      "cell_type": "code",
      "source": [],
      "metadata": {
        "id": "Y3ZHLuBjx-8d"
      },
      "execution_count": null,
      "outputs": []
    },
    {
      "cell_type": "code",
      "source": [
        "# df = pd.read_csv('/content/drive/MyDrive/Colab Notebooks/로또/data/lotto.csv')\n",
        "# df"
      ],
      "metadata": {
        "id": "w6N6WZgKxSXM"
      },
      "execution_count": null,
      "outputs": []
    },
    {
      "cell_type": "code",
      "source": [
        "# Xtrain = df.drop(['일', '이', '삼', '사','오', '육'], axis = 1)\n",
        "# Xtrain"
      ],
      "metadata": {
        "id": "yxsbpziKxTw1"
      },
      "execution_count": null,
      "outputs": []
    },
    {
      "cell_type": "code",
      "source": [
        "# Xtest = Xtrain.iloc[Xtrain.index[-1]]\n",
        "# Xtest"
      ],
      "metadata": {
        "id": "PrvYqJMRxZQC"
      },
      "execution_count": null,
      "outputs": []
    },
    {
      "cell_type": "code",
      "source": [
        "# Xtrain.drop(Xtrain.index[-1], inplace = True)\n",
        "# Xtrain"
      ],
      "metadata": {
        "id": "8plVgh_hxagK"
      },
      "execution_count": null,
      "outputs": []
    },
    {
      "cell_type": "code",
      "source": [
        "# ytrain = df.drop(['1', '2', '3', '4','5', '6'], axis = 1)\n",
        "# ytrain"
      ],
      "metadata": {
        "id": "RetrWI1lxba7"
      },
      "execution_count": null,
      "outputs": []
    },
    {
      "cell_type": "code",
      "source": [
        "# ytrain.dropna(inplace = True)\n",
        "# ytrain"
      ],
      "metadata": {
        "id": "-NjK5_ovxdJL"
      },
      "execution_count": null,
      "outputs": []
    },
    {
      "cell_type": "code",
      "source": [
        "# ytrain =ytrain.astype(int)\n",
        "# ytrain"
      ],
      "metadata": {
        "id": "-6951Kn_xfGz"
      },
      "execution_count": null,
      "outputs": []
    },
    {
      "cell_type": "code",
      "source": [
        "from pandas import get_dummies\n",
        "\n",
        "Xtrain = pd.get_dummies(Xtrain)\n",
        "Xtest = pd.get_dummies(Xtest)\n",
        "Xtest"
      ],
      "metadata": {
        "id": "9_ochlODxgP7"
      },
      "execution_count": null,
      "outputs": []
    },
    {
      "cell_type": "code",
      "source": [
        "import tensorflow as tf\n",
        "from tensorflow.keras.models import Sequential\n",
        "from tensorflow.keras.layers import Dense\n",
        "from tensorflow.keras.layers import Activation\n",
        "\n",
        "# 신경망 설계\n",
        "# 신경망 모델을 관리하는 객체 생성\n",
        "# 여기에 층을 쌓는다\n",
        "model = Sequential()\n",
        "\n",
        "# Dense : 선형 회귀를 수행하는 layer\n",
        "# 첫번재 숫자는 은닉층의 노드의 개수\n",
        "model.add(Dense(30, input_dim = 17))\n",
        "model.add(Activation('relu'))\n",
        "\n",
        "# 마지막에 설정한 레이어는 무조건 출력층\n",
        "# Dense의 1은 출력 데이터의 종류 수가 됨\n",
        "model.add(Dense(1))\n",
        "model.add(Activation('softmax'))"
      ],
      "metadata": {
        "id": "d-z_F5Wzxicz"
      },
      "execution_count": null,
      "outputs": []
    },
    {
      "cell_type": "code",
      "source": [
        "# 신경망 모델 컴파일\n",
        "# loss : 학습시 수행하는 평가때 사용할 손실 함수(오차를 보는 함수)\n",
        "# 2진 분류 : binary _corssentropy\n",
        "# 회귀 : mean_squared_error\n",
        "\n",
        "# opimizer : loss에서 설정한 함수를 통해 구한 손실 값을 기반으로 신경망 보델을\n",
        "# adam\n",
        "# otimizer : loss에서 설정한 함수를 통해 구한 손실값을 기반으로 신경망 모델을 보정하는 함수\n",
        "\n",
        "# metrics : 추가로 평가하고자 하는 평가 기준 설정\n",
        "# 분류인 경우에만 사용하고 정도화를 추가 적으로 보기 위해 설정\n",
        "# metrict : 추가로 평가하고자 하는 평가 기준 설정\n",
        "model.compile(loss = 'categorical', optimizer = 'adam', metrics = ['accuracy'])\n",
        "model.summary()"
      ],
      "metadata": {
        "id": "XZ8KcJ8dynPL"
      },
      "execution_count": null,
      "outputs": []
    },
    {
      "cell_type": "code",
      "source": [
        "#학습\n",
        "# epochs : 학습 횟수. 너무 많으면 과적합됨.\n",
        "# 무조건 많이 줘라 나중에 중단 가능\n",
        "# batch_size : 메모리에 한번에 올릴 데이터의 양(행의 개수) 적게 주면 메모리에 여우가 있지만 오래걸림\n",
        "# 무조건 많이 넣어주고 오류나면 낮춤\n",
        "model.fit(Xtrain, ytrain, epochs = 30, batch_size = 10)"
      ],
      "metadata": {
        "id": "j3WjfROhzDXO"
      },
      "execution_count": null,
      "outputs": []
    },
    {
      "cell_type": "code",
      "source": [],
      "metadata": {
        "id": "puBf31UMzIOC"
      },
      "execution_count": null,
      "outputs": []
    }
  ]
}